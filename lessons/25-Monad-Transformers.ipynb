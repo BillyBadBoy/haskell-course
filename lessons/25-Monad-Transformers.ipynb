{
 "cells": [
  {
   "cell_type": "markdown",
   "metadata": {},
   "source": [
    "# Monad transformers"
   ]
  },
  {
   "cell_type": "markdown",
   "metadata": {},
   "source": [
    "## Outline\n",
    "\n",
    "* Incentive for the Monad transformers\n",
    "\n",
    "* The MonadIO type class\n",
    "\n",
    "* Monad Transformers\n",
    "  * StateT \n",
    "\n",
    "  * WriterT\n",
    "\n",
    "  * ReaderT\n",
    "\n",
    "  * MaybeT\n",
    "\n",
    "  * EitherT and ExceptT\n",
    "\n",
    "In this lesson, we will learn about Monad transformers and how you can use them. First we show the incentive for Monad transformers where we solve a problem with the help of the MonadIO type class and explain it. Then we explain the monad transformer contept and introduce various Monad transformers. For each one we show a practical example that solves a problem. "
   ]
  },
  {
   "cell_type": "markdown",
   "metadata": {},
   "source": [
    "## Incentive for Monad transformers"
   ]
  },
  {
   "cell_type": "markdown",
   "metadata": {},
   "source": [
    "In the homework of the State monad lesson we learned how you can implement the Tic-Tac-Toe game with using the State monad. \n",
    "\n",
    "A curious student might ask how to implement this game with the State monads by geting the input from the user instead of the random funtion.\n",
    "\n",
    "Or in other words, is it possible to perform IO actions within a user defined State monad? The answer is yes."
   ]
  },
  {
   "cell_type": "markdown",
   "metadata": {},
   "source": [
    "With the knowledge that we have so far we can create a custom State monad that we will call `StateIO`.\n",
    "\n",
    "The idea is that the result of the `runState` function will have to be wrapped in IO.\n",
    "\n",
    "Below is the code that implements our costum `StateIO` state monad that returns the result in IO context."
   ]
  },
  {
   "cell_type": "code",
   "execution_count": null,
   "metadata": {},
   "outputs": [],
   "source": [
    "{-# LANGUAGE MultiParamTypeClasses #-}\n",
    "{-# LANGUAGE FlexibleInstances #-} \n",
    "\n",
    "import Control.Monad.Trans\n",
    "import Control.Monad (ap, liftM)\n",
    "import Control.Monad.State.Class (MonadState(get, put))\n",
    "\n",
    "newtype StateIO s a = StateIO {runStateIO :: s -> IO (a, s)}\n",
    "\n",
    "instance Functor (StateIO s) where\n",
    "    fmap = liftM\n",
    "\n",
    "instance Applicative (StateIO s) where\n",
    "    pure = return\n",
    "    (<*>) = ap\n",
    "\n",
    "instance Monad (StateIO s) where\n",
    "    return a = StateIO $ \\s -> return (a, s)\n",
    "    n >>= k = StateIO $ \\s -> do (a, s') <- runStateIO n s\n",
    "                                 runStateIO (k a) s'\n",
    "\n",
    "instance MonadState s (StateIO s) where\n",
    "    get = StateIO $ \\st -> return (st,st)\n",
    "    put st = StateIO $ const $ return ((),st)"
   ]
  },
  {
   "cell_type": "markdown",
   "metadata": {},
   "source": [
    "We see that the `StateIO` type is defined similar as the `State` type just that it returns `IO (a,s)` instead of `(a,s)`.\n",
    "\n",
    "But if we try now and create a state IO monad and try to perform some IO action in it, the code will not work."
   ]
  },
  {
   "cell_type": "code",
   "execution_count": null,
   "metadata": {},
   "outputs": [],
   "source": [
    "data Choice = Empty | X | O deriving (Eq, Show)\n",
    "type Board = [Choice]\n",
    "\n",
    "getUserMove :: StateIO Board ()\n",
    "getUserMove = do\n",
    "    board <- get\n",
    "    putStrLn \"Make your move X player (1-9):\" -- causes compilation error\n",
    "    choice <- getLine -- also causes compilation error\n",
    "    let validMove = length choice == 1 && all (`elem` \"123456789\") choice\n",
    "    if validMove\n",
    "    then do\n",
    "        let newBoar = [mv |ind <- [1..9], let mv = if ind == read choice then X else Empty]\n",
    "        put newBoar  \n",
    "    else do\n",
    "        putStrLn \"Not a valid choice. Make new one.\" -- also causes compilation error\n",
    "        getUserMove\n",
    "    return ()\n",
    "\n",
    "main :: IO ()\n",
    "main = do\n",
    "    let board = [Empty | boardInd <- [1..9]]\n",
    "    (_, newBoard) <- runStateIO getUserMove board\n",
    "    putStrLn $ \"New Board is: \" ++ show newBoard\n",
    "\n",
    "main"
   ]
  },
  {
   "cell_type": "markdown",
   "metadata": {},
   "source": [
    "The reason for this is how the bind operator for the `StateIO` is defined. \n",
    "```haskell\n",
    "(>>=) :: StateIO s a -> (a -> StateIO s b) -> StateIO s b\n",
    "```"
   ]
  },
  {
   "cell_type": "markdown",
   "metadata": {},
   "source": [
    "It can not take in a non `StateIO` variable variable or a function that wouldn't return a `StateIO` variable. \n",
    "\n",
    "The `print` function returns only `IO ()` and not `StateIO () a`, so the bind operator can not be applied to it."
   ]
  },
  {
   "cell_type": "markdown",
   "metadata": {},
   "source": [
    "The solution to this is defining a function that takes an IO action and lifts it to a `StateIO` monad."
   ]
  },
  {
   "cell_type": "code",
   "execution_count": null,
   "metadata": {},
   "outputs": [],
   "source": [
    "liftIOtoStateIO :: IO a -> StateIO s a\n",
    "liftIOtoStateIO io = StateIO $ \\st -> do x <- io\n",
    "                                         return (x, st)"
   ]
  },
  {
   "cell_type": "markdown",
   "metadata": {},
   "source": [
    "Now we can write again our code and it will compile correctly."
   ]
  },
  {
   "cell_type": "code",
   "execution_count": null,
   "metadata": {},
   "outputs": [],
   "source": [
    "data Choice = Empty | X | O deriving (Eq, Show)\n",
    "type Board = [Choice]\n",
    "\n",
    "getUserMove :: StateIO Board ()\n",
    "getUserMove = do\n",
    "    board <- get\n",
    "    liftIOtoStateIO $ putStrLn \"Make your move X player (1-9):\"\n",
    "    choice <- liftIOtoStateIO getLine \n",
    "    let validMove = length choice == 1 && all (`elem` \"123456789\") choice\n",
    "    if validMove\n",
    "    then do\n",
    "        let newBoar = [mv |ind <- [1..9], let mv = if ind == read choice then X else Empty]\n",
    "        put newBoar  \n",
    "    else do\n",
    "        liftIOtoStateIO $ putStrLn \"Not a valid choice. Make new one.\"\n",
    "        getUserMove\n",
    "    return ()\n",
    "\n",
    "main :: IO ()\n",
    "main = do\n",
    "    let board = [Empty | boardInd <- [1..9]]\n",
    "    (_, newBoard) <- runStateIO getUserMove board\n",
    "    putStrLn $ \"New Board is: \" ++ show newBoard\n",
    "\n",
    "main"
   ]
  },
  {
   "cell_type": "markdown",
   "metadata": {},
   "source": [
    "We created now a State monad that works in IO context and found a way how to perform IO actions inside of such a monad. \n",
    "\n",
    "Of course you could do the same and create a State monad that returns the result in a Maybe context or as a list of tuples."
   ]
  },
  {
   "cell_type": "markdown",
   "metadata": {},
   "source": [
    "Such transformations make code more practical. For this reason Haskell provides build in solutions for them."
   ]
  },
  {
   "cell_type": "markdown",
   "metadata": {},
   "source": [
    "## The MonadIO type class"
   ]
  },
  {
   "cell_type": "markdown",
   "metadata": {},
   "source": [
    "Because lifting a type wraped inside IO to another monad is very usefull, Haskell handles this with the `MonadIO` type class.\n",
    "\n",
    "It defines the `liftIO` function that generalizes the type signature of our `liftIOtoStateIO` function.\n",
    "```haskell\n",
    "class Monad m => MonadIO m where\n",
    "    liftIO :: IO a -> m a \n",
    "```"
   ]
  },
  {
   "cell_type": "markdown",
   "metadata": {},
   "source": [
    "The `MonadIO` type class is defined in the **Control.Monad.IO.Class** module which is part of the **base** package.\n",
    "\n",
    "So insted of defining a custom function for lifting we can import this module and create an instance of `MonadIO` for the `StateIO s` type."
   ]
  },
  {
   "cell_type": "code",
   "execution_count": null,
   "metadata": {},
   "outputs": [],
   "source": [
    "import Control.Monad.IO.Class\n",
    "\n",
    "instance MonadIO (StateIO s) where\n",
    "    liftIO io = StateIO $ \\st -> do x <- io\n",
    "                                    return (x, st)\n",
    "\n",
    "getUserMove :: StateIO Board ()\n",
    "getUserMove = do\n",
    "    board <- get\n",
    "    liftIO $ putStrLn \"Make your move X player (1-9):\"\n",
    "    choice <- liftIO getLine \n",
    "    let validMove = length choice == 1 && all (`elem` \"123456789\") choice\n",
    "    if validMove\n",
    "    then do\n",
    "        let newBoar = [mv |ind <- [1..9], let mv = if ind == read choice then X else Empty]\n",
    "        put newBoar  \n",
    "    else do\n",
    "        liftIO $ putStrLn \"Not a valid choice. Make new one.\"\n",
    "        getUserMove\n",
    "    return ()"
   ]
  },
  {
   "cell_type": "markdown",
   "metadata": {},
   "source": [
    "## Monad transformers"
   ]
  },
  {
   "cell_type": "markdown",
   "metadata": {},
   "source": [
    "We ask ourselfs now how to generalize wrapping the result of the State monad function into a monadic context.\n",
    "\n",
    "When trying to wrap an existing monad into another monad we call the function that does this a **monad transformer**."
   ]
  },
  {
   "cell_type": "markdown",
   "metadata": {},
   "source": [
    "This can be done not just for the State and the IO Monad, but all possible monad combinations can be handled with Monad transformers.\n",
    "\n",
    "From [Haskell wikibook](https://en.wikibooks.org/wiki/Haskell/Monad_transformers): Monad transformers are special types that allow us to roll two monads into a single one that shares the behavior of both. "
   ]
  },
  {
   "cell_type": "markdown",
   "metadata": {},
   "source": [
    "There are many transformers already defined in various modules. We will cover here the following transformers:\n",
    "- State monad transformer `StateT`\n",
    "\n",
    "- Writer monad transformer `WriterT`\n",
    "\n",
    "- Reader monad transformer `ReaderT`\n",
    "\n",
    "- Maybe monad transformer `MaybeT`\n",
    "\n",
    "- Either monad transformer `EitherT`"
   ]
  },
  {
   "cell_type": "markdown",
   "metadata": {},
   "source": [
    "## StateT monad transformer"
   ]
  },
  {
   "cell_type": "markdown",
   "metadata": {},
   "source": [
    "The `StateT` monad transformer is provided in the **Control.Monad.Trans.State** module that comes with the **transformers** package.\n",
    "\n",
    "As said in the State monad lesson also here you can append to the module name **.Lazy** or **.Strict** to get the apropriate version."
   ]
  },
  {
   "cell_type": "markdown",
   "metadata": {},
   "source": [
    "The `StateT` tpye is defined similar as the `State` type: \n",
    "```haskell\n",
    "newtype StateT s m a = StateT { runStateT :: s -> m (a,s) }\n",
    "```"
   ]
  },
  {
   "cell_type": "markdown",
   "metadata": {},
   "source": [
    "The monad instance for the `StateT s m` transformer type is:\n",
    "```haskell\n",
    "instance Monad m => Monad (StateT s m) where\n",
    "    return a = StateT $ \\ s -> return (a, s)\n",
    "    m >>= k  = StateT $ \\ s -> do\n",
    "        ~(a, s') <- runStateT m s\n",
    "        runStateT (k a) s'\n",
    "```"
   ]
  },
  {
   "cell_type": "markdown",
   "metadata": {},
   "source": [
    "Here the `~` operator in the above expression means ... TODO "
   ]
  },
  {
   "cell_type": "markdown",
   "metadata": {},
   "source": [
    "We see the difference to the basic `State` type is that the result of the `runStateT` function is wrapper in a monadic context."
   ]
  },
  {
   "cell_type": "markdown",
   "metadata": {},
   "source": [
    "Also we can now understand the official Haskell definition of the `State` monad:\n",
    "```haskell\n",
    "type State s = StateT s Identity\n",
    "```\n",
    "We see the `State` monad is defined in terms of the `StateT` monad transformer."
   ]
  },
  {
   "cell_type": "markdown",
   "metadata": {},
   "source": [
    "Here the monadic context is the `Identity` type, which is only an identity wrapper for a variable of type `a`:\n",
    "```haskell\n",
    "newtype Identity a = Identity { runIdentity :: a }\n",
    "```"
   ]
  },
  {
   "cell_type": "markdown",
   "metadata": {},
   "source": [
    "This means that we do not perform and transformation with the `StateT` monad and get the basic `State` monad in return."
   ]
  },
  {
   "cell_type": "markdown",
   "metadata": {},
   "source": [
    "When defining an Functor and Applicative instance for this type we also need to add the appropriate type constraints.\n",
    "```haskell\n",
    "instance (Functor m) => Functor (StateT s m) where\n",
    "    fmap = liftM \n",
    "\n",
    "instance (Functor m, Monad m) => Applicative (StateT s m) where\n",
    "    pure = return\n",
    "    (<*>) = ap\n",
    "```"
   ]
  },
  {
   "cell_type": "markdown",
   "metadata": {},
   "source": [
    "### Helper functions"
   ]
  },
  {
   "cell_type": "markdown",
   "metadata": {},
   "source": [
    "The helper functions `runStateT`, `evalStateT`, `execStateT` are defined similar as their pairs for the `State` moand.\n",
    "\n",
    "They just return the result wraped in a monad context. The later two take in the more generalized `StateT` type:\n",
    "```haskell\n",
    "evalStateT :: Monad m => StateT s m a -> s -> m a\n",
    "execStateT :: Monad m => StateT s m a -> s -> m s \n",
    "```"
   ]
  },
  {
   "cell_type": "markdown",
   "metadata": {},
   "source": [
    "The other functions that we presented in the State monad lesson are all actually defined in terms of the `StateT` monad. "
   ]
  },
  {
   "cell_type": "markdown",
   "metadata": {},
   "source": [
    "Here are their actual type signatures:\n",
    "```haskell\n",
    "get :: Monad m => StateT s m s \n",
    "put :: Monad m => s -> StateT s m () \n",
    "modify :: Monad m => (s -> s) -> StateT s m ()\n",
    "gets :: Monad m => (s -> a) -> StateT s m a \n",
    "```"
   ]
  },
  {
   "cell_type": "markdown",
   "metadata": {},
   "source": [
    "We see they work similar as described in the State monad lesson, just that they use the `StateT` type instead of the `State` type."
   ]
  },
  {
   "cell_type": "markdown",
   "metadata": {},
   "source": [
    "### Example"
   ]
  },
  {
   "cell_type": "markdown",
   "metadata": {},
   "source": [
    "Now we can re-write the initial code example with the `StateIO` monad by using the `StateT` monad transformer instead.\n",
    "\n",
    "We parameterize the `StateT` with the `IO ()` type since we want to perform IO actions and do not return any result."
   ]
  },
  {
   "cell_type": "code",
   "execution_count": null,
   "metadata": {},
   "outputs": [],
   "source": [
    "import Control.Monad.Trans.State.Lazy ( StateT(runStateT), get, put )\n",
    "import Control.Monad.IO.Class ( MonadIO(liftIO) )\n",
    "\n",
    "data Choice = Empty | X | O deriving (Eq, Show)\n",
    "type Board = [Choice]\n",
    "\n",
    "getUserMove :: StateT Board IO ()\n",
    "getUserMove = do\n",
    "    board <- get\n",
    "    liftIO $ putStrLn \"Make your move X player (1-9):\"\n",
    "    choice <- liftIO getLine \n",
    "    let validMove = length choice == 1 && all (`elem` \"123456789\") choice\n",
    "    if validMove\n",
    "    then do\n",
    "        let newBoar = [mv |ind <- [1..9], let mv = if ind == read choice then X else Empty]\n",
    "        put newBoar  \n",
    "    else do\n",
    "        liftIO $ putStrLn \"Not a valid choice. Make new one.\"\n",
    "        getUserMove\n",
    "    return ()\n",
    "\n",
    "main :: IO ()\n",
    "main = do\n",
    "    let board = [Empty | boardInd <- [1..9]]\n",
    "    (_, newBoard) <- runStateT getUserMove board\n",
    "    putStrLn $ \"New Board is: \" ++ show newBoard"
   ]
  },
  {
   "cell_type": "markdown",
   "metadata": {},
   "source": [
    "We see there is not need to define any custom `State` monad and make instances for it, when we use the `StateT` monad with the `IO` context.\n",
    "\n",
    "Another benifit is we do not have to declare an `MonadIO` instance for `StateT` because it allready has it declared in the module that defines it."
   ]
  },
  {
   "cell_type": "markdown",
   "metadata": {},
   "source": [
    "In the example above we used the `IO` type as a monadic wrapper for the result of the `runStateT` function. \n",
    "\n",
    "But we can use any other type instead of `IO` or `Identitiy`, that has a monad instance. "
   ]
  },
  {
   "cell_type": "markdown",
   "metadata": {},
   "source": [
    "## WriterT monad transformer"
   ]
  },
  {
   "cell_type": "markdown",
   "metadata": {},
   "source": [
    "The `WriterT` monad transformer is provided in the **Control.Monad.Trans.Writer** module, that comes with the **transformers** package."
   ]
  },
  {
   "cell_type": "markdown",
   "metadata": {},
   "source": [
    "As said in the Writer monad lesson also here you can append to the module name **.Lazy** or **.Strict** to get the apropriate version. "
   ]
  },
  {
   "cell_type": "markdown",
   "metadata": {},
   "source": [
    "The `WriterT` type is defined similar as the `Writer` type:\n",
    "```haskell\n",
    "newtype WriterT w m a = WriterT { runWriterT :: m (a, w) }\n",
    "```"
   ]
  },
  {
   "cell_type": "markdown",
   "metadata": {},
   "source": [
    "The monad instance for the `WriterT w m` transformer type is:\n",
    "```haskell\n",
    "instance (Monad m) => Monad (WriterT w m) where\n",
    "    return a = WriterT $ \\ w -> return (a, w)\n",
    "    m >>= k = WriterT $ \\ w -> do\n",
    "        (a, w') <- runWriterT m w\n",
    "        runWriterT (k a) w'\n",
    "```"
   ]
  },
  {
   "cell_type": "markdown",
   "metadata": {},
   "source": [
    "We see the difference to the basic `Writer` type is also here that the result of the `runWriterT` function is wrapper in a monadic context."
   ]
  },
  {
   "cell_type": "markdown",
   "metadata": {},
   "source": [
    "We can now also understand the official Haskell definition of the `Writer` monad:\n",
    "```haskell\n",
    "type Writer w = WriterT w Identity\n",
    "```\n",
    "We see the `Writer` monad is defined in terms of the `WriterT` monad transformer."
   ]
  },
  {
   "cell_type": "markdown",
   "metadata": {},
   "source": [
    "Same as for the `State` monad, the monadic context is the `Identity` monad that we explained before.\n",
    "\n",
    "Also here this means that we do not perform and transformation with the `WriterT` monad and get the basic `Writer` monad in return."
   ]
  },
  {
   "cell_type": "markdown",
   "metadata": {},
   "source": [
    "Similar as for the `StateT` monad when defining Functor and Applicative instances we need to add the appropriate type constraint.\n",
    "```haskell\n",
    "instance (Functor m) => Functor (WriterT w m) where\n",
    "    fmap = liftM \n",
    "\n",
    "instance (Functor m, Monad m) => Applicative (WriterT w m) where\n",
    "    pure = return\n",
    "    (<*>) = ap\n",
    "```"
   ]
  },
  {
   "cell_type": "markdown",
   "metadata": {},
   "source": [
    "### Helper functions"
   ]
  },
  {
   "cell_type": "markdown",
   "metadata": {},
   "source": [
    "The helper functions `runWriterT` and `execWriterT` are defined similar as their pairs for the `Writer` moand.\n",
    "\n",
    "They just returns the result wraped in a monad context. The `execWriterT` function takes in the more generalized `WriterT` type:\n",
    "```haskell\n",
    "execWriterT :: Monad m => WriterT w m a -> m w  \n",
    "```"
   ]
  },
  {
   "cell_type": "markdown",
   "metadata": {},
   "source": [
    "The other functions that we presented in the Writer monad lesson are all actually defined in terms of the `WriterT` monad."
   ]
  },
  {
   "cell_type": "markdown",
   "metadata": {},
   "source": [
    "Here are their actual type signatures:\n",
    "```haskell\n",
    "tell :: Monad m => w -> WriterT w m () \n",
    "listen :: Monad m => WriterT w m a -> WriterT w m (a, w) \n",
    "pass :: Monad m => WriterT w m (a, w -> w) -> WriterT w m a \n",
    "listens :: Monad m => (w -> b) -> WriterT w m a -> WriterT w m (a, b) \n",
    "censor :: Monad m => (w -> w) -> WriterT w m a -> WriterT w m a \n",
    "```"
   ]
  },
  {
   "cell_type": "markdown",
   "metadata": {},
   "source": [
    "We see they work similar as described in the Writer monad lesson, just that they use  the `WriterT` type instead of the `Writer` type."
   ]
  },
  {
   "cell_type": "markdown",
   "metadata": {},
   "source": [
    "### Example"
   ]
  },
  {
   "cell_type": "markdown",
   "metadata": {},
   "source": [
    "Let us rewrite our homework example from lesson 12, where we had to write a program that prints out a directory tree structure.\n",
    "\n",
    "We simplify the task such that only file paths of every folder and file relative to the current directory are printed out."
   ]
  },
  {
   "cell_type": "markdown",
   "metadata": {},
   "source": [
    "We can use now a `WriterT` monad transformer parameterized by `[String] IO ()`. "
   ]
  },
  {
   "cell_type": "code",
   "execution_count": null,
   "metadata": {},
   "outputs": [],
   "source": [
    "import System.Directory (listDirectory, doesFileExist)\n",
    "import Control.Monad.Trans.Writer.CPS (WriterT, execWriterT, tell) \n",
    "import Control.Monad.IO.Class (MonadIO(liftIO))\n",
    "import Control.Monad (forM_)\n",
    "\n",
    "printDirectoryTree :: IO ()\n",
    "printDirectoryTree = do \n",
    "    putStrLn \".\"\n",
    "    structure <- execWriterT (returnStructure \".\")\n",
    "    mapM_ print structure\n",
    "\n",
    "returnStructure :: FilePath -> WriterT [String] IO ()\n",
    "returnStructure filePath = do\n",
    "    contents <- liftIO $ listDirectory filePath\n",
    "    forM_ contents $ \\fileName -> do\n",
    "        let newFilePath = filePath ++ \"/\" ++ fileName\n",
    "        isFile <- liftIO $ doesFileExist newFilePath\n",
    "        if isFile\n",
    "        then do\n",
    "            tell [newFilePath]\n",
    "            return ()\n",
    "        else do \n",
    "            tell [newFilePath]\n",
    "            _ <- returnStructure newFilePath\n",
    "            return ()"
   ]
  },
  {
   "cell_type": "markdown",
   "metadata": {},
   "source": [
    "Here we note that the type signature for the `returnStructure` function from the homework solution of lesson 11:\n",
    "```haskell\n",
    "returnStructure :: FilePath -> IO [IO DirectoryStructure]\n",
    "```\n",
    "gets simplified to:\n",
    "```haskell\n",
    "returnStructure :: FilePath -> WriterT [String] IO ()\n",
    "```\n",
    "and there is no need to define a custom data type as `DirectoryStructure`."
   ]
  },
  {
   "cell_type": "markdown",
   "metadata": {},
   "source": [
    "## ReaderT monad transformer"
   ]
  },
  {
   "cell_type": "markdown",
   "metadata": {},
   "source": [
    "The `ReaderT` monad transformer is provided in the **Control.Monad.Trans.Reader** module, that comes with the **transformers** package."
   ]
  },
  {
   "cell_type": "markdown",
   "metadata": {},
   "source": [
    "The `ReaderT` tpye is defined similar as the `Reader` type: \n",
    "```haskell\n",
    "newtype ReaderT r m a = ReaderT { runReaderT :: r -> m a }\n",
    "```"
   ]
  },
  {
   "cell_type": "markdown",
   "metadata": {},
   "source": [
    "The monad instance for the `ReaderT r m` transformer type is: \n",
    "```haskell\n",
    "instance (Monad m) => Monad (ReaderT r m) where\n",
    "    return   = lift . return\n",
    "    m >>= k  = ReaderT $ \\ r -> do\n",
    "        a <- runReaderT m r\n",
    "        runReaderT (k a) r \n",
    "```"
   ]
  },
  {
   "cell_type": "markdown",
   "metadata": {},
   "source": [
    "Same as for `StateT` and `WriterT` we see the difference to the basic `Reader` type is that the result of the `runReaderT` function is wrapper in a monadic context."
   ]
  },
  {
   "cell_type": "markdown",
   "metadata": {},
   "source": [
    "Also here we can now understand the official Haskell definition of the `Reader` monad:\n",
    "```haskell\n",
    "type Reader r = ReaderT r Identity\n",
    "```\n",
    "We see the `Reader` monad is defined in terms of the `ReaderT` monad transformer."
   ]
  },
  {
   "cell_type": "markdown",
   "metadata": {},
   "source": [
    "Same as for the `State` and `Writer` monad, the monadic context is the `Identity` monad that we explained before.\n",
    "\n",
    "This means that we do not perform and transformation with the `ReaderT` monad and get the basic `Reader` monad in return."
   ]
  },
  {
   "cell_type": "markdown",
   "metadata": {},
   "source": [
    "Also similar as for the `StateT` and `WriterT` monad when defining Functor and Applicative instances we need to add the appropriate type constraint.\n",
    "```haskell\n",
    "instance (Functor m) => Functor (ReaderT r m) where\n",
    "    fmap = liftM \n",
    "\n",
    "instance (Applicative m) => Applicative (ReaderT r m) where\n",
    "    pure = return\n",
    "    (<*>) = ap\n",
    "```"
   ]
  },
  {
   "cell_type": "markdown",
   "metadata": {},
   "source": [
    "### Helper functions"
   ]
  },
  {
   "cell_type": "markdown",
   "metadata": {},
   "source": [
    "The helper functions that we presented in the Reader monad lesson are all actually defined in terms of the `ReaderT` monad."
   ]
  },
  {
   "cell_type": "markdown",
   "metadata": {},
   "source": [
    "Here are their actual type signatures:\n",
    "```haskell\n",
    "ask :: Monad m => ReaderT r m r \n",
    "local :: Monad m => (r -> r) -> ReaderT r m a -> ReaderT r m a \n",
    "asks :: Monad m => (r -> a) -> ReaderT r m a \n",
    "```"
   ]
  },
  {
   "cell_type": "markdown",
   "metadata": {},
   "source": [
    "We see they work similar as described in the Reader monad lesson, just that they use  the `ReaderT` type instead of the `Reader` type."
   ]
  },
  {
   "cell_type": "markdown",
   "metadata": {},
   "source": [
    "### Example"
   ]
  },
  {
   "cell_type": "markdown",
   "metadata": {},
   "source": [
    "Let us look again at the initial example from the Reader monad lesso where we wrote 4 system variable to a file.\n",
    "\n",
    "By using now a `ReaderT` monad parameterized with a `IO` monad we can write to a file inside the `func1` to `func4`."
   ]
  },
  {
   "cell_type": "code",
   "execution_count": null,
   "metadata": {},
   "outputs": [],
   "source": [
    "import Data.Maybe (fromMaybe)\n",
    "import System.Environment (lookupEnv)\n",
    "import qualified Data.Map as Map\n",
    "import Maybes (fromJust)\n",
    "import Control.Monad.Trans.Reader (ReaderT(runReaderT), ask)\n",
    "import System.IO (hClose, openFile, hPutStrLn, IOMode(AppendMode)) \n",
    "import Control.Monad.IO.Class (MonadIO(liftIO))\n",
    "\n",
    "type Key = String\n",
    "type Message = String\n",
    "type Configuration = String\n",
    "newtype Environment = Environment\n",
    "    { parameters :: Map.Map Key Configuration }\n",
    "\n",
    "loadEnv :: IO Environment\n",
    "loadEnv = do\n",
    "  p1 <- lookupEnv \"PATH\"\n",
    "  p2 <- lookupEnv \"SHELL\"\n",
    "  p3 <- lookupEnv \"HOSTNAME\"\n",
    "  p4 <- lookupEnv \"HOME\"\n",
    "  return $ Environment $ Map.fromList \n",
    "    [ (\"PATH\", fromMaybe \"\" p1)\n",
    "    , (\"SHELL\", fromMaybe \"\" p2)\n",
    "    , (\"HOSTNAME\", fromMaybe \"\" p3)\n",
    "    , (\"HOME\", fromMaybe \"\" p4)]\n",
    "\n",
    "processEnv :: ReaderT Environment IO Message\n",
    "processEnv = do\n",
    "    conf1 <- func1\n",
    "    conf2 <- func2\n",
    "    conf3 <- func3\n",
    "    conf4 <- func4\n",
    "    let message = conf1 ++ \"\\n\\n\" ++\n",
    "                  conf2 ++ \"\\n\\n\" ++\n",
    "                  conf3 ++ \"\\n\\n\" ++\n",
    "                  conf4 ++ \"\\n\\n\"\n",
    "    return message\n",
    "\n",
    "func1 :: ReaderT Environment IO Configuration\n",
    "func1 = do\n",
    "    env <- ask\n",
    "    let parameter = fromJust $ Map.lookup \"PATH\" $ parameters env\n",
    "        content = \"System path includes: \\n\" ++ parameter \n",
    "    liftIO $ addToConfFile content\n",
    "    return content\n",
    "\n",
    "func2 :: ReaderT Environment IO Configuration\n",
    "func2 = do\n",
    "    env <- ask\n",
    "    let parameter = fromJust $ Map.lookup \"SHELL\" $ parameters env\n",
    "        content = \"Shell used is: \\n\" ++ parameter\n",
    "    liftIO $ addToConfFile content \n",
    "    return content\n",
    "\n",
    "func3 :: ReaderT Environment IO Configuration\n",
    "func3 = do\n",
    "    env <- ask\n",
    "    let parameter = fromJust $ Map.lookup \"HOSTNAME\" $ parameters env\n",
    "        content = \"Hostname is: \\n\" ++ parameter\n",
    "    liftIO $ addToConfFile content \n",
    "    return content\n",
    "\n",
    "func4 :: ReaderT Environment IO Configuration\n",
    "func4 = do\n",
    "    env <- ask\n",
    "    let parameter = fromJust $ Map.lookup \"HOME\" $ parameters env\n",
    "        content = \"Current home directory is: \\n\" ++ parameter\n",
    "    liftIO $ addToConfFile content \n",
    "    return content\n",
    "\n",
    "addToConfFile :: Configuration -> IO ()\n",
    "addToConfFile confText = do\n",
    "    confFile <- openFile \"./conf.txt\" AppendMode\n",
    "    hPutStrLn confFile confText\n",
    "    hClose confFile\n",
    "\n",
    "main :: IO ()\n",
    "main = do\n",
    "    env <- loadEnv\n",
    "    message <- runReaderT processEnv env\n",
    "    putStr \"Written following configuration to file conf.txt:\\n\\n\"\n",
    "    putStr message\n",
    "    \n",
    "main"
   ]
  },
  {
   "cell_type": "markdown",
   "metadata": {},
   "source": [
    "The benefit of this approach is that we could in-between the writing steps also read from the conf.txt file and use this data if neccessary.  "
   ]
  },
  {
   "cell_type": "markdown",
   "metadata": {},
   "source": [
    "## MaybeT monad transformer"
   ]
  },
  {
   "cell_type": "markdown",
   "metadata": {},
   "source": [
    "The `MaybeT` monad transformer is provided in the **Control.Monad.Trans.Maybe** module, that comes with the **transformers** package."
   ]
  },
  {
   "cell_type": "markdown",
   "metadata": {},
   "source": [
    "The `MaybeT` tpye is defined similar as the `ReaderT`, `WriterT` and `StateT` types: \n",
    "```haskell\n",
    "newtype MaybeT m a = MaybeT { runMaybeT :: m (Maybe a) }\n",
    "```"
   ]
  },
  {
   "cell_type": "markdown",
   "metadata": {},
   "source": [
    "The monad instance for the `MaybeT m` transformer type is: \n",
    "```haskell\n",
    "instance (Monad m) => Monad (MaybeT m) where\n",
    "    return = MaybeT . return . Just\n",
    "    x >>= f = MaybeT $ do\n",
    "        v <- runMaybeT x\n",
    "        case v of\n",
    "            Nothing -> return Nothing\n",
    "            Just y  -> runMaybeT (f y)\n",
    "```"
   ]
  },
  {
   "cell_type": "markdown",
   "metadata": {},
   "source": [
    "We see the difference to the basic `Maybe` type is that the value of the `runMaybeT` variable is wrapper in a monadic context. "
   ]
  },
  {
   "cell_type": "markdown",
   "metadata": {},
   "source": [
    "Same as for the other types when defining Functor and Applicative instances we need to add the appropriate type constraint.\n",
    "```haskell\n",
    "instance (Functor m) => Functor (MaybeT m) where\n",
    "    fmap f = mapMaybeT (fmap (fmap f))\n",
    "\n",
    "instance (Functor m, Monad m) => Applicative (MaybeT m) where\n",
    "    pure = MaybeT . return . Just\n",
    "    mf <*> mx = MaybeT $ do\n",
    "        mb_f <- runMaybeT mf\n",
    "        case mb_f of\n",
    "            Nothing -> return Nothing\n",
    "            Just f  -> do\n",
    "                mb_x <- runMaybeT mx\n",
    "                case mb_x of\n",
    "                    Nothing -> return Nothing\n",
    "                    Just x  -> return (Just (f x))\n",
    "```"
   ]
  },
  {
   "cell_type": "markdown",
   "metadata": {},
   "source": [
    "### Helper functions"
   ]
  },
  {
   "cell_type": "markdown",
   "metadata": {},
   "source": [
    "There are three transformation functions provided in the module that contains the `MaybeT` type. "
   ]
  },
  {
   "cell_type": "markdown",
   "metadata": {},
   "source": [
    "The first one is the `hoistMaybe` function:\n",
    "```haskell\n",
    "hoistMaybe :: Applicative m => Maybe b -> MaybeT m b \n",
    "hoistMaybe = MaybeT . pure\n",
    "```"
   ]
  },
  {
   "cell_type": "markdown",
   "metadata": {},
   "source": [
    "It takes in a `Mabe` type and returns a `MaybeT` type in the specified monadic context `m`. "
   ]
  },
  {
   "cell_type": "markdown",
   "metadata": {},
   "source": [
    "The second on is the `maybeToExceptT` function.\n",
    "```haskell\n",
    "maybeToExceptT :: (Functor m) => e -> MaybeT m a -> ExceptT e m a\n",
    "maybeToExceptT e (MaybeT m) = ExceptT $ fmap (maybe (Left e) Right) m\n",
    "```"
   ]
  },
  {
   "cell_type": "markdown",
   "metadata": {},
   "source": [
    "It convert a `MaybeT` valie to a `ExceptT` value, with a default exception value  parameterized by the same monadic context. \n",
    "\n",
    "We will talk about the `ExecptT` monad transformer at the end of this lesson. "
   ]
  },
  {
   "cell_type": "markdown",
   "metadata": {},
   "source": [
    "The third is the `exceptToMaybeT` function.\n",
    "```haskell\n",
    "exceptToMaybeT :: (Functor m) => ExceptT e m a -> MaybeT m a\n",
    "exceptToMaybeT (ExceptT m) = MaybeT $ fmap (either (const Nothing) Just) m\n",
    "```"
   ]
  },
  {
   "cell_type": "markdown",
   "metadata": {},
   "source": [
    "It converts a `ExecptT` value to a `MaybeT` value parameterized by the same monadic context."
   ]
  },
  {
   "cell_type": "markdown",
   "metadata": {},
   "source": [
    "### Example"
   ]
  },
  {
   "cell_type": "markdown",
   "metadata": {},
   "source": [
    "Bellow is a program take from the [Monday Morning Haskell](https://mmhaskell.com/monads/transformers) webpage.\n",
    "\n",
    "It asks the user for a username, email and password to create a used account. Then it performs some checks on it and lets the user know if the data is OK.  "
   ]
  },
  {
   "cell_type": "code",
   "execution_count": null,
   "metadata": {},
   "outputs": [],
   "source": [
    "import Control.Monad.Trans.Maybe ( MaybeT(..) )\n",
    "import Data.Char ( isLower, isUpper ) \n",
    "\n",
    "readUserName :: MaybeT IO String\n",
    "readUserName = MaybeT $ do\n",
    "  putStrLn \"Please enter your Username!\"\n",
    "  str <- getLine\n",
    "  if length str > 5\n",
    "    then return $ Just str\n",
    "    else return Nothing\n",
    "\n",
    "readEmail :: MaybeT IO String\n",
    "readEmail = MaybeT $ do\n",
    "  putStrLn \"Please enter your Email!\"\n",
    "  str <- getLine\n",
    "  if '@' `elem` str\n",
    "    then return $ Just str\n",
    "    else return Nothing\n",
    "\n",
    "readPassword :: MaybeT IO String\n",
    "readPassword = MaybeT $ do\n",
    "  putStrLn \"Please enter your Password!\"\n",
    "  str <- getLine\n",
    "  if length str < 8 || null (filter isUpper str) || null (filter isLower str)\n",
    "    then return Nothing\n",
    "    else return $ Just str\n",
    "\n",
    "main :: IO ()\n",
    "main = do\n",
    "  maybeCreds <- runMaybeT $ do\n",
    "    usr <- readUserName\n",
    "    email <- readEmail\n",
    "    pass <- readPassword\n",
    "    return (usr, email, pass)\n",
    "  case maybeCreds of\n",
    "    Nothing -> putStrLn \"Invalid data for creating an account.\"\n",
    "    Just (u, e, p) -> do\n",
    "        putStrLn \"The following data will be used for your account: \"\n",
    "        putStrLn $ \"Username: \" ++ show u\n",
    "        putStrLn $ \"Email: \" ++ show e\n",
    "        putStrLn $ \"Password: \" ++ show p"
   ]
  },
  {
   "cell_type": "markdown",
   "metadata": {},
   "source": [
    "We see that when we parameterize the `MaybeT` transformer with the `IO` context we can use IO actions inside this monad without the need of the `liftIO` function. "
   ]
  },
  {
   "cell_type": "markdown",
   "metadata": {},
   "source": [
    "## EitherT and ExecptT monad transformers"
   ]
  },
  {
   "cell_type": "markdown",
   "metadata": {},
   "source": [
    "The `EitherT` monad transformer is provided in the **Control.Monad.Trans.Either** module, that comes with the **transformers** package."
   ]
  },
  {
   "cell_type": "markdown",
   "metadata": {},
   "source": [
    "The `EitherT` tpye is defined same as the `ExceptT` type: \n",
    "```haskell\n",
    "type EitherT = ExceptT\n",
    "```"
   ]
  },
  {
   "cell_type": "markdown",
   "metadata": {},
   "source": [
    "The `ExceptT` monad transformer is provided in the **Control.Monad.Trans.Except** module, that also comes with the **transformers** package."
   ]
  },
  {
   "cell_type": "markdown",
   "metadata": {},
   "source": [
    "The `ExceptT` type is defined as:\n",
    "```haskell\n",
    "newtype ExceptT e m a = ExceptT (m (Either e a))\n",
    "```"
   ]
  },
  {
   "cell_type": "markdown",
   "metadata": {},
   "source": [
    "It extends a monad with the ability to throw exceptions."
   ]
  },
  {
   "cell_type": "markdown",
   "metadata": {},
   "source": [
    "The monad instance for the `ExceptT e m` transformer type is: \n",
    "```haskell\n",
    "instance (Monad m) => Monad (ExceptT e m) where\n",
    "    return a = ExceptT $ return (Right a)\n",
    "    m >>= k = ExceptT $ do\n",
    "        a <- runExceptT m\n",
    "        case a of\n",
    "            Left e -> return (Left e)\n",
    "            Right x -> runExceptT (k x)\n",
    "```"
   ]
  },
  {
   "cell_type": "markdown",
   "metadata": {},
   "source": [
    "The `runExceptT` is defined as the inverse of `ExceptT`.\n",
    "```haskell\n",
    "runExceptT :: ExceptT e m a -> m (Either e a)\n",
    "runExceptT (ExceptT m) = m\n",
    "```"
   ]
  },
  {
   "cell_type": "markdown",
   "metadata": {},
   "source": [
    "We see the difference to the basic `Either` type is that the result of the `runExceptT` function is the `Either` type wrapper in a monadic context. "
   ]
  },
  {
   "cell_type": "markdown",
   "metadata": {},
   "source": [
    "Same as for the other types when defining Functor and Applicative instances we need to add the appropriate type constraint.\n",
    "```haskell\n",
    "instance (Functor m) => Functor (ExceptT e m) where\n",
    "    fmap f = ExceptT . fmap (fmap f) . runExceptT\n",
    "\n",
    "instance (Functor m, Monad m) => Applicative (ExceptT e m) where\n",
    "    pure a = ExceptT $ return (Right a)\n",
    "    {-# INLINE pure #-}\n",
    "    ExceptT f <*> ExceptT v = ExceptT $ do\n",
    "        mf <- f\n",
    "        case mf of\n",
    "            Left e -> return (Left e)\n",
    "            Right k -> do\n",
    "                mv <- v\n",
    "                case mv of\n",
    "                    Left e -> return (Left e)\n",
    "                    Right x -> return (Right (k x))\n",
    "```"
   ]
  },
  {
   "cell_type": "markdown",
   "metadata": {},
   "source": [
    "### Helper functions"
   ]
  },
  {
   "cell_type": "markdown",
   "metadata": {},
   "source": [
    "Some of the helper functions in the **Control.Monad.Trans.Either** module are:"
   ]
  },
  {
   "cell_type": "markdown",
   "metadata": {},
   "source": [
    "`newEitherT` function which is just the `EitherT` constructor.\n",
    "```haskell\n",
    "newEitherT :: m (Either x a) -> EitherT x m \n",
    "newEitherT = ExceptT\n",
    "```"
   ]
  },
  {
   "cell_type": "markdown",
   "metadata": {},
   "source": [
    "`left` and `right` functions which are constructors for left and right computations.\n",
    "```haskell\n",
    "left :: Monad m => x -> EitherT x m a\n",
    "left = EitherT . return . Left\n",
    "\n",
    "right :: Monad m => a -> EitherT x m a\n",
    "right = return\n",
    "```"
   ]
  },
  {
   "cell_type": "markdown",
   "metadata": {},
   "source": [
    "Some of the helper functions in the **Control.Monad.Trans.Except** module are:"
   ]
  },
  {
   "cell_type": "markdown",
   "metadata": {},
   "source": [
    "`throwE` function that signals an exception value e.\n",
    "```haskell\n",
    "throwE :: (Monad m) => e -> ExceptT e m a\n",
    "throwE = ExceptT . return . Left\n",
    "```"
   ]
  },
  {
   "cell_type": "markdown",
   "metadata": {},
   "source": [
    "`catchE` that handles an exception.\n",
    "```haskell\n",
    "catchE :: (Monad m) => ExceptT e m a -> (e -> ExceptT e' m a) -> ExceptT e' m a \n",
    "m `catchE` h = ExceptT $ do\n",
    "    a <- runExceptT m\n",
    "    case a of\n",
    "        Left  l -> runExceptT (h l)\n",
    "        Right r -> return (Right r)\n",
    "```"
   ]
  },
  {
   "cell_type": "markdown",
   "metadata": {},
   "source": [
    "### Example"
   ]
  },
  {
   "cell_type": "markdown",
   "metadata": {},
   "source": []
  }
 ],
 "metadata": {
  "kernelspec": {
   "display_name": "Haskell",
   "language": "haskell",
   "name": "haskell"
  },
  "language_info": {
   "codemirror_mode": "ihaskell",
   "file_extension": ".hs",
   "mimetype": "text/x-haskell",
   "name": "haskell",
   "pygments_lexer": "Haskell",
   "version": "8.10.7"
  }
 },
 "nbformat": 4,
 "nbformat_minor": 4
}
