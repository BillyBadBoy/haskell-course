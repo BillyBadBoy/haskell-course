{
 "cells": [
  {
   "cell_type": "markdown",
   "metadata": {},
   "source": [
    "# Monad transformers"
   ]
  },
  {
   "cell_type": "markdown",
   "metadata": {},
   "source": [
    "## Outline\n",
    "\n",
    "* Incentive for the Monad transformers\n",
    "\n",
    "* ...\n",
    "\n",
    "In this lesson, we will learn about Monad transformers and how you can use it."
   ]
  },
  {
   "cell_type": "markdown",
   "metadata": {},
   "source": [
    "## Incentive for Monad transformers"
   ]
  },
  {
   "cell_type": "markdown",
   "metadata": {},
   "source": [
    "When we learned about the State monad we showed how you can implement the Tic-Tac-Toe with using this monad. \n",
    "\n",
    "A curious student might ask how to implement this game with State monads by geting the input from the user instead of the random funtion."
   ]
  },
  {
   "cell_type": "markdown",
   "metadata": {},
   "source": [
    "Below is the code that implements our costum `StateIO` state monad that allows IO actions inside of it."
   ]
  },
  {
   "cell_type": "code",
   "execution_count": null,
   "metadata": {},
   "outputs": [],
   "source": [
    "{-# LANGUAGE MultiParamTypeClasses #-}\n",
    "{-# LANGUAGE FlexibleInstances #-} \n",
    "\n",
    "import Control.Monad.Trans\n",
    "import Control.Monad (ap, liftM)\n",
    "import Control.Monad.State.Class (MonadState(get, put))\n",
    "\n",
    "newtype StateIO s a = StateIO {runStateIO :: s -> IO (a, s)}\n",
    "\n",
    "instance Functor (StateIO s) where\n",
    "    fmap = liftM\n",
    "\n",
    "instance Applicative (StateIO s) where\n",
    "    pure = return\n",
    "    (<*>) = ap\n",
    "\n",
    "instance Monad (StateIO s) where\n",
    "    return a = StateIO $ \\s -> return (a, s)\n",
    "    n >>= k = StateIO $ \\s -> do (a, s') <- runStateIO n s\n",
    "                                 runStateIO (k a) s'\n",
    "\n",
    "instance MonadIO (StateIO s) where\n",
    "    liftIO io = StateIO $ \\st -> do x <- io\n",
    "                                    return (x, st)\n",
    "\n",
    "instance MonadState s (StateIO s) where\n",
    "    get = StateIO $ \\st -> return (st,st)\n",
    "    put st = StateIO $ const $ return ((),st)"
   ]
  },
  {
   "cell_type": "markdown",
   "metadata": {},
   "source": [
    "We see that the `StateIO` type similar as the `State` type is defined just that it returns a `IO (a,s)` tuple instead of `(a,s)`.\n",
    "\n",
    "Then we create the **Functor**, **Applicative** and **Monad** instances for the `StateIO s` type."
   ]
  },
  {
   "cell_type": "markdown",
   "metadata": {},
   "source": [
    "If we want to use a IO action in the State monad we need to define the `liftIO` function which is part of the `MonadIO` type class.\n",
    "\n",
    "To make an instance of this class for our `StateIO s` monad we need to import the **Control.Monad.Trans** module.\n",
    "\n",
    "The `liftIO` function takes in a IO action and computes a new state where it performs the IO actions to get the return parameter for the state."
   ]
  },
  {
   "cell_type": "markdown",
   "metadata": {},
   "source": [
    "In the end we need to make and instance of **MonadState** type class for our `StateIO s` type and define the `get` and `put` functions.\n",
    "\n",
    "For this we need also to include the language pragmas *MultiParamTypeClasses* and *FlexibleInstances*.\n",
    "\n",
    "The *FlexibleInstances* pragma allows definition of type class instances with arbitrary nested types in the instance head."
   ]
  },
  {
   "cell_type": "markdown",
   "metadata": {},
   "source": [
    "Now that we created the `StateIO` type let's re-write the fibonacci example and use a IO action inside the `StateIO` monad."
   ]
  },
  {
   "cell_type": "code",
   "execution_count": null,
   "metadata": {},
   "outputs": [],
   "source": [
    "type FibNums = [Int]\n",
    "\n",
    "main :: IO ()\n",
    "main = do\n",
    "    putStrLn \"How many fibonacci numbers do you want to see:\"\n",
    "    n <- (read <$> getLine) :: IO Int\n",
    "    let initialState = [n,0,1]\n",
    "    process initialState\n",
    "\n",
    "process :: FibNums -> IO ()\n",
    "process st = do\n",
    "    (finished, newSt) <- runStateIO addFib st\n",
    "    if finished \n",
    "    then do\n",
    "      putStrLn \"Fibonacci numbers are:\"\n",
    "      print $ tail newSt\n",
    "    else process newSt\n",
    "\n",
    "addFib :: StateIO FibNums Bool\n",
    "addFib = do\n",
    "    st <- get\n",
    "    let newSt = st ++ [last st + last (init st)]\n",
    "        finished = length (tail newSt) == head newSt\n",
    "    liftIO $ putStrLn $ \"Printing new state in StateIO monad: \" ++ show (tail newSt)\n",
    "    put newSt\n",
    "    return finished\n",
    "\n",
    "main"
   ]
  },
  {
   "cell_type": "markdown",
   "metadata": {},
   "source": [
    "We see that in the `addFib` state monad we can now make a output to the terminal if we use the `liftIO` function."
   ]
  },
  {
   "cell_type": "markdown",
   "metadata": {},
   "source": [
    "## Recap"
   ]
  },
  {
   "cell_type": "markdown",
   "metadata": {},
   "source": [
    "In this lesson we've discussed:\n",
    "\n",
    "- the motivation for introducing Monad transformers\n",
    "\n",
    "- ..."
   ]
  }
 ],
 "metadata": {
  "kernelspec": {
   "display_name": "Haskell",
   "language": "haskell",
   "name": "haskell"
  },
  "language_info": {
   "codemirror_mode": "ihaskell",
   "file_extension": ".hs",
   "mimetype": "text/x-haskell",
   "name": "haskell",
   "pygments_lexer": "Haskell",
   "version": "8.10.7"
  }
 },
 "nbformat": 4,
 "nbformat_minor": 4
}
