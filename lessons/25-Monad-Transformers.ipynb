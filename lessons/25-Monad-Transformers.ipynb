{
 "cells": [
  {
   "cell_type": "markdown",
   "metadata": {},
   "source": [
    "# Monad transformers"
   ]
  },
  {
   "cell_type": "markdown",
   "metadata": {},
   "source": [
    "## Outline\n",
    "\n",
    "* Incentive for the Monad transformers\n",
    "\n",
    "* The MonadIO type class\n",
    "\n",
    "* Monad Transformers\n",
    "  * StateT \n",
    "\n",
    "  * WriterT\n",
    "\n",
    "  * ReaderT\n",
    "\n",
    "  * MaybeT\n",
    "\n",
    "  * EitherT\n",
    "\n",
    "In this lesson, we will learn about Monad transformers and how you can use them. First we show the incentive for Monad transformers where we solve a problem with the help of the MonadIO type class and explain it. Then we introduce Monad transformers and show how these kind of problems can be solved with them. "
   ]
  },
  {
   "cell_type": "markdown",
   "metadata": {},
   "source": [
    "## Incentive for Monad transformers"
   ]
  },
  {
   "cell_type": "markdown",
   "metadata": {},
   "source": [
    "In the homework of the State monad lesson we learned how you can implement the Tic-Tac-Toe game with using the State monad. \n",
    "\n",
    "A curious student might ask how to implement this game with the State monads by geting the input from the user instead of the random funtion.\n",
    "\n",
    "Or in other words, is it possible to perform IO actions within a user defined State monad? The answer is yes."
   ]
  },
  {
   "cell_type": "markdown",
   "metadata": {},
   "source": [
    "With the knowledge that we have so far we can create a custom State monad that we will call `StateIO`.\n",
    "\n",
    "The idea is that the result of the `runState` function will have to be wrapped in IO.\n",
    "\n",
    "Below is the code that implements our costum `StateIO` state monad that returns the result in IO context."
   ]
  },
  {
   "cell_type": "code",
   "execution_count": null,
   "metadata": {},
   "outputs": [],
   "source": [
    "{-# LANGUAGE MultiParamTypeClasses #-}\n",
    "{-# LANGUAGE FlexibleInstances #-} \n",
    "\n",
    "import Control.Monad.Trans\n",
    "import Control.Monad (ap, liftM)\n",
    "import Control.Monad.State.Class (MonadState(get, put))\n",
    "\n",
    "newtype StateIO s a = StateIO {runStateIO :: s -> IO (a, s)}\n",
    "\n",
    "instance Functor (StateIO s) where\n",
    "    fmap = liftM\n",
    "\n",
    "instance Applicative (StateIO s) where\n",
    "    pure = return\n",
    "    (<*>) = ap\n",
    "\n",
    "instance Monad (StateIO s) where\n",
    "    return a = StateIO $ \\s -> return (a, s)\n",
    "    n >>= k = StateIO $ \\s -> do (a, s') <- runStateIO n s\n",
    "                                 runStateIO (k a) s'\n",
    "\n",
    "instance MonadState s (StateIO s) where\n",
    "    get = StateIO $ \\st -> return (st,st)\n",
    "    put st = StateIO $ const $ return ((),st)"
   ]
  },
  {
   "cell_type": "markdown",
   "metadata": {},
   "source": [
    "We see that the `StateIO` type is defined similar as the `State` type just that it returns `IO (a,s)` instead of `(a,s)`.\n",
    "\n",
    "But if we try now and create a state IO monad and try to perform some IO action in it, the code will not work."
   ]
  },
  {
   "cell_type": "code",
   "execution_count": null,
   "metadata": {},
   "outputs": [],
   "source": [
    "data Choice = Empty | X | O deriving (Eq, Show)\n",
    "type Board = [Choice]\n",
    "\n",
    "getUserMove :: StateIO Board ()\n",
    "getUserMove = do\n",
    "    board <- get\n",
    "    putStrLn \"Make your move X player (1-9):\" -- causes compilation error\n",
    "    choice <- getLine -- also causes compilation error\n",
    "    let validMove = length choice == 1 && all (`elem` \"123456789\") choice\n",
    "    if validMove\n",
    "    then do\n",
    "        let newBoar = [mv |ind <- [1..9], let mv = if ind == read choice then X else Empty]\n",
    "        put newBoar  \n",
    "    else do\n",
    "        putStrLn \"Not a valid choice. Make new one.\" -- also causes compilation error\n",
    "        getUserMove\n",
    "    return ()\n",
    "\n",
    "main :: IO ()\n",
    "main = do\n",
    "    let board = [Empty | boardInd <- [1..9]]\n",
    "    (_, newBoard) <- runStateIO getUserMove board\n",
    "    putStrLn $ \"New Board is: \" ++ show newBoard\n",
    "\n",
    "main"
   ]
  },
  {
   "cell_type": "markdown",
   "metadata": {},
   "source": [
    "The reason for this is how the bind operator for the `StateIO` is defined. \n",
    "```haskell\n",
    "(>>=) :: StateIO s a -> (a -> StateIO s b) -> StateIO s b\n",
    "```"
   ]
  },
  {
   "cell_type": "markdown",
   "metadata": {},
   "source": [
    "It can not take in a non `StateIO` variable variable or a function that wouldn't return a `StateIO` variable. \n",
    "\n",
    "The `print` function returns only `IO ()` and not `StateIO () a`, so the bind operator can not be applied to it."
   ]
  },
  {
   "cell_type": "markdown",
   "metadata": {},
   "source": [
    "The solution to this is defining a function that takes an IO action and lifts it to a `StateIO` monad."
   ]
  },
  {
   "cell_type": "code",
   "execution_count": null,
   "metadata": {},
   "outputs": [],
   "source": [
    "liftIOtoStateIO :: IO a -> StateIO s a\n",
    "liftIOtoStateIO io = StateIO $ \\st -> do x <- io\n",
    "                                         return (x, st)"
   ]
  },
  {
   "cell_type": "markdown",
   "metadata": {},
   "source": [
    "Now we can write again our code and it will compile correctly."
   ]
  },
  {
   "cell_type": "code",
   "execution_count": null,
   "metadata": {},
   "outputs": [],
   "source": [
    "data Choice = Empty | X | O deriving (Eq, Show)\n",
    "type Board = [Choice]\n",
    "\n",
    "getUserMove :: StateIO Board ()\n",
    "getUserMove = do\n",
    "    board <- get\n",
    "    liftIOtoStateIO $ putStrLn \"Make your move X player (1-9):\"\n",
    "    choice <- liftIOtoStateIO getLine \n",
    "    let validMove = length choice == 1 && all (`elem` \"123456789\") choice\n",
    "    if validMove\n",
    "    then do\n",
    "        let newBoar = [mv |ind <- [1..9], let mv = if ind == read choice then X else Empty]\n",
    "        put newBoar  \n",
    "    else do\n",
    "        liftIOtoStateIO $ putStrLn \"Not a valid choice. Make new one.\"\n",
    "        getUserMove\n",
    "    return ()\n",
    "\n",
    "main :: IO ()\n",
    "main = do\n",
    "    let board = [Empty | boardInd <- [1..9]]\n",
    "    (_, newBoard) <- runStateIO getUserMove board\n",
    "    putStrLn $ \"New Board is: \" ++ show newBoard\n",
    "\n",
    "main"
   ]
  },
  {
   "cell_type": "markdown",
   "metadata": {},
   "source": [
    "We created now a State monad that works in IO context and found a way how to perform IO actions inside of such a monad. \n",
    "\n",
    "Of course you could do the same and create a State monad that returns the result in a Maybe context or as a list of tuples."
   ]
  },
  {
   "cell_type": "markdown",
   "metadata": {},
   "source": [
    "Such transformations make code more practical. For this reason Haskell provides build in solutions for them."
   ]
  },
  {
   "cell_type": "markdown",
   "metadata": {},
   "source": [
    "## The MonadIO type class"
   ]
  },
  {
   "cell_type": "markdown",
   "metadata": {},
   "source": [
    "Because lifting a type wraped inside IO to another monad is very usefull, Haskell handles this with the `MonadIO` type class.\n",
    "\n",
    "It defines the `liftIO` function that generalizes the type signature of our `liftIOtoStateIO` function.\n",
    "```haskell\n",
    "class Monad m => MonadIO m where\n",
    "    liftIO :: IO a -> m a \n",
    "```"
   ]
  },
  {
   "cell_type": "markdown",
   "metadata": {},
   "source": [
    "The `MonadIO` type class is defined in the **Control.Monad.IO.Class** module which is part of the **base** package.\n",
    "\n",
    "So insted of defining a custom function for lifting we can import this module and create an instance of `MonadIO` for the `StateIO s` type."
   ]
  },
  {
   "cell_type": "code",
   "execution_count": null,
   "metadata": {},
   "outputs": [],
   "source": [
    "import Control.Monad.IO.Class\n",
    "\n",
    "instance MonadIO (StateIO s) where\n",
    "    liftIO io = StateIO $ \\st -> do x <- io\n",
    "                                    return (x, st)\n",
    "\n",
    "getUserMove :: StateIO Board ()\n",
    "getUserMove = do\n",
    "    board <- get\n",
    "    liftIO $ putStrLn \"Make your move X player (1-9):\"\n",
    "    choice <- liftIO getLine \n",
    "    let validMove = length choice == 1 && all (`elem` \"123456789\") choice\n",
    "    if validMove\n",
    "    then do\n",
    "        let newBoar = [mv |ind <- [1..9], let mv = if ind == read choice then X else Empty]\n",
    "        put newBoar  \n",
    "    else do\n",
    "        liftIO $ putStrLn \"Not a valid choice. Make new one.\"\n",
    "        getUserMove\n",
    "    return ()"
   ]
  },
  {
   "cell_type": "markdown",
   "metadata": {},
   "source": [
    "## Monad transformers"
   ]
  },
  {
   "cell_type": "markdown",
   "metadata": {},
   "source": [
    "We ask ourselfs now how to generalize wrapping the result of the State monad function into a monadic context.\n",
    "\n",
    "When trying to wrap an existing monad into another monad we call the function that does this a **monad transformer**."
   ]
  },
  {
   "cell_type": "markdown",
   "metadata": {},
   "source": [
    "This can be done not just for the State and the IO Monad, but all possible monad combinations can be handled with Monad transformers.\n",
    "\n",
    "From [Haskell wikibook](https://en.wikibooks.org/wiki/Haskell/Monad_transformers): Monad transformers are special types that allow us to roll two monads into a single one that shares the behavior of both. "
   ]
  },
  {
   "cell_type": "markdown",
   "metadata": {},
   "source": [
    "There are many transformers already defined in various modules. We will cover here the following transformers:\n",
    "- State monad transformer `StateT`\n",
    "\n",
    "- Writer monad transformer `WriterT`\n",
    "\n",
    "- Reader monad transformer `ReaderT`\n",
    "\n",
    "- Maybe monad transformer `MaybeT`\n",
    "\n",
    "- Either monad transformer `EitherT`"
   ]
  },
  {
   "cell_type": "markdown",
   "metadata": {},
   "source": [
    "## StateT monad transformer"
   ]
  },
  {
   "cell_type": "markdown",
   "metadata": {},
   "source": [
    "For the State monad we can use the `StateT` monad transformer, which is provided in the **Control.Monad.Trans.State.Lazy** module\n",
    "\n",
    "It is defined similar as the State monad type. The module comes with the **transformers** package."
   ]
  },
  {
   "cell_type": "markdown",
   "metadata": {},
   "source": [
    "```haskell\n",
    "newtype StateT s m a = StateT { runStateT :: s -> m (a,s) }\n",
    "\n",
    "instance Monad m => Monad (StateT s m) where\n",
    "    return a = StateT $ \\ s -> return (a, s)\n",
    "    m >>= k  = StateT $ \\ s -> do\n",
    "        ~(a, s') <- runStateT m s\n",
    "        runStateT (k a) s'\n",
    "```"
   ]
  },
  {
   "cell_type": "markdown",
   "metadata": {},
   "source": [
    "Here the `~` operator in the above expression means ... TODO "
   ]
  },
  {
   "cell_type": "markdown",
   "metadata": {},
   "source": [
    "When defining an Functor and Applicative instance for this type we also need to add the Monad type constraint.\n",
    "```haskell\n",
    "instance Monad m => Functor (StateT s m) where\n",
    "    fmap = liftM \n",
    "\n",
    "instance Monad m => Applicative (StateT s m) where\n",
    "    pure = return\n",
    "    (<*>) = ap\n",
    "```"
   ]
  },
  {
   "cell_type": "markdown",
   "metadata": {},
   "source": [
    "### Examples"
   ]
  },
  {
   "cell_type": "markdown",
   "metadata": {},
   "source": [
    "Now we can re-write the initial code example with the `StateIO` monad by using the `StateT` monad instead."
   ]
  },
  {
   "cell_type": "code",
   "execution_count": null,
   "metadata": {},
   "outputs": [],
   "source": [
    "import Control.Monad.Trans.State.Lazy ( StateT(runStateT), get, put )\n",
    "import Control.Monad.IO.Class ( MonadIO(liftIO) )\n",
    "\n",
    "data Choice = Empty | X | O deriving (Eq, Show)\n",
    "type Board = [Choice]\n",
    "\n",
    "getUserMove :: StateT Board IO ()\n",
    "getUserMove = do\n",
    "    board <- get\n",
    "    liftIO $ putStrLn \"Make your move X player (1-9):\"\n",
    "    choice <- liftIO getLine \n",
    "    let validMove = length choice == 1 && all (`elem` \"123456789\") choice\n",
    "    if validMove\n",
    "    then do\n",
    "        let newBoar = [mv |ind <- [1..9], let mv = if ind == read choice then X else Empty]\n",
    "        put newBoar  \n",
    "    else do\n",
    "        liftIO $ putStrLn \"Not a valid choice. Make new one.\"\n",
    "        getUserMove\n",
    "    return ()\n",
    "\n",
    "main :: IO ()\n",
    "main = do\n",
    "    let board = [Empty | boardInd <- [1..9]]\n",
    "    (_, newBoard) <- runStateT getUserMove board\n",
    "    putStrLn $ \"New Board is: \" ++ show newBoard"
   ]
  },
  {
   "cell_type": "markdown",
   "metadata": {},
   "source": [
    "We see there is not need to define any custom `State` monad and make instances for it. We simply use the `StateT` monad with the `IO` context.\n",
    "\n",
    "Another benifit is we do not have to declare an `MonadIO` instance for `StateT` because it allready has it declared in the module that defines it."
   ]
  },
  {
   "cell_type": "markdown",
   "metadata": {},
   "source": [
    "Also we can now also understand the official Haskell definition of the `State` monad:\n",
    "```haskell\n",
    "type State s = StateT s Identity\n",
    "```\n",
    "We see the `State` monad is defined in terms of the `StateT` monad transformer."
   ]
  },
  {
   "cell_type": "markdown",
   "metadata": {},
   "source": [
    "The monad used in the `StateT` transformer is the `Identity` monad, which is only a wrapper for a variable of type `a`:\n",
    "```haskell\n",
    "newtype Identity a = Identity { runIdentity :: a }\n",
    "```"
   ]
  },
  {
   "cell_type": "markdown",
   "metadata": {},
   "source": [
    "But as seen in the example above we can use the `IO` monad or any other instead of the `Identitiy` monad which gives us the basic `State` monad."
   ]
  },
  {
   "cell_type": "markdown",
   "metadata": {},
   "source": [
    "## WriterT monad transformer"
   ]
  },
  {
   "cell_type": "markdown",
   "metadata": {},
   "source": [
    "## Recap"
   ]
  },
  {
   "cell_type": "markdown",
   "metadata": {},
   "source": [
    "In this lesson we've discussed:\n",
    "\n",
    "- the motivation for introducing Monad transformers\n",
    "\n",
    "- The MonadIO type class\n",
    "\n",
    "- Monad Transformers"
   ]
  }
 ],
 "metadata": {
  "kernelspec": {
   "display_name": "Haskell",
   "language": "haskell",
   "name": "haskell"
  },
  "language_info": {
   "codemirror_mode": "ihaskell",
   "file_extension": ".hs",
   "mimetype": "text/x-haskell",
   "name": "haskell",
   "pygments_lexer": "Haskell",
   "version": "8.10.7"
  }
 },
 "nbformat": 4,
 "nbformat_minor": 4
}
