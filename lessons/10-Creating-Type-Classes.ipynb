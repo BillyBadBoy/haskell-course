{
 "cells": [
  {
   "cell_type": "markdown",
   "metadata": {
    "slideshow": {
     "slide_type": "slide"
    }
   },
   "source": [
    "# Creating Type Classes and Instances"
   ]
  },
  {
   "cell_type": "markdown",
   "metadata": {
    "slideshow": {
     "slide_type": "slide"
    }
   },
   "source": [
    "## Outline\n",
    "\n",
    "* Overloading\n",
    "* Creating Type Classes and Instances\n",
    "* The `Eq` type class\n",
    "\t* Defining the `Eq` type class\n",
    "\t* Defining an instance for the `Eq` type class\n",
    "\t* Improving our `Eq` type class (minimal complete definition)\n",
    "\t* Defining an instance for a parameterize type.\n",
    "* The `Ord` type class\n",
    "\t* Exploring `Ord` type class (Subclassing)\n",
    "* Deriving\n",
    "* Complete example\n"
   ]
  },
  {
   "cell_type": "markdown",
   "metadata": {
    "slideshow": {
     "slide_type": "notes"
    }
   },
   "source": [
    "In the \"introduction to type classes\" lesson, we talked about why are type classes useful. And it basically boils down to having functions that can be used by many different types, but also have the safety that it only takes the types it can work with. So, if you create a function that takes two numbers and adds them together, you want that funciton to work with all numeric types, but you also want the compiler to stop you if you try to give it a non-numeric type.\n",
    "\n",
    "You are a very demanding person, you know? Just kidding.\n",
    "\n",
    "Type classes is a pretty unique feature. There are not many programming languages that implement it. But the part about having functions that can be used by many different types, that is more common. And that, is called Overloading."
   ]
  },
  {
   "cell_type": "markdown",
   "metadata": {
    "slideshow": {
     "slide_type": "slide"
    }
   },
   "source": [
    "## Overloading"
   ]
  },
  {
   "cell_type": "markdown",
   "metadata": {
    "slideshow": {
     "slide_type": "notes"
    }
   },
   "source": [
    "Before learning what Overloading is, let's start with defining the word \"date\"."
   ]
  },
  {
   "cell_type": "markdown",
   "metadata": {
    "slideshow": {
     "slide_type": "slide"
    }
   },
   "source": [
    "DATE:"
   ]
  },
  {
   "cell_type": "markdown",
   "metadata": {
    "slideshow": {
     "slide_type": "notes"
    }
   },
   "source": [
    "What does \"date\" mean? If I'd say that you have ony one chance to answer, and I'll give you 100 USD if you answer correctly, the intuitive answer is \"It depends!\"\n",
    "\n",
    "If you're saying \"What is your date of birth?\", then its:"
   ]
  },
  {
   "cell_type": "markdown",
   "metadata": {
    "slideshow": {
     "slide_type": "fragment"
    }
   },
   "source": [
    "1. The time at which an event occurs."
   ]
  },
  {
   "cell_type": "markdown",
   "metadata": {
    "slideshow": {
     "slide_type": "notes"
    }
   },
   "source": [
    "If you're saying \"Joe took Laura out on a date.\", then its:"
   ]
  },
  {
   "cell_type": "markdown",
   "metadata": {
    "slideshow": {
     "slide_type": "fragment"
    }
   },
   "source": [
    "2. A social engagement that often has a romantic character (unless Joe gets firenzoned)."
   ]
  },
  {
   "cell_type": "markdown",
   "metadata": {
    "slideshow": {
     "slide_type": "notes"
    }
   },
   "source": [
    "If you're saying \"I'll want to date a fossil\", I want to believe you're not refering to a romantic social engagement, but to:"
   ]
  },
  {
   "cell_type": "markdown",
   "metadata": {
    "slideshow": {
     "slide_type": "fragment"
    }
   },
   "source": [
    "3. The act of estimating or computing a date or chronology."
   ]
  },
  {
   "cell_type": "markdown",
   "metadata": {
    "slideshow": {
     "slide_type": "notes"
    }
   },
   "source": [
    "And if you look up the word, \"date\" is also the name of a fruit and has even more definitions!\n",
    "\n",
    "In programming, we would say that the word \"date\" is overloaded. Because it has multiple definitions for the same name. \n",
    "\n",
    "The word \"overloading\" is an overloaded word itself."
   ]
  },
  {
   "cell_type": "markdown",
   "metadata": {
    "slideshow": {
     "slide_type": "slide"
    }
   },
   "source": [
    "OVERLOADING:"
   ]
  },
  {
   "cell_type": "markdown",
   "metadata": {
    "slideshow": {
     "slide_type": "notes"
    }
   },
   "source": [
    "In everyday context, it usually means:"
   ]
  },
  {
   "cell_type": "markdown",
   "metadata": {
    "slideshow": {
     "slide_type": "fragment"
    }
   },
   "source": [
    "1. To put too large a load on or in (something)."
   ]
  },
  {
   "cell_type": "markdown",
   "metadata": {
    "slideshow": {
     "slide_type": "notes"
    }
   },
   "source": [
    "In a regular programming context, it means:"
   ]
  },
  {
   "cell_type": "markdown",
   "metadata": {
    "slideshow": {
     "slide_type": "fragment"
    }
   },
   "source": [
    "2. Having multiple implementations of a function with the same name."
   ]
  },
  {
   "cell_type": "markdown",
   "metadata": {
    "slideshow": {
     "slide_type": "notes"
    }
   },
   "source": [
    "How this work in practice depends on the language. For example, some languages like JavaScript, don't suport overloading. So you can not do it. And in others like C++, you can create multiple functions with the same name, and the compiler will choose which one to use based on the types of the arguments.\n",
    "\n",
    "In Haskell, \"overloading\" means:"
   ]
  },
  {
   "cell_type": "markdown",
   "metadata": {
    "slideshow": {
     "slide_type": "fragment"
    }
   },
   "source": [
    "3. Having multiple implementations of a function or value with the same name."
   ]
  },
  {
   "cell_type": "markdown",
   "metadata": {
    "slideshow": {
     "slide_type": "notes"
    }
   },
   "source": [
    "Of course, Haskell had to step up the game. In Haskell, overloading is not restricted to functions. Values can be overloaded too. For example:"
   ]
  },
  {
   "cell_type": "markdown",
   "metadata": {
    "slideshow": {
     "slide_type": "slide"
    }
   },
   "source": [
    "- The literals `1`, `2`, etc. are overloaded because they could be interpreted as any numeric type (`Int`, `Integer`, `Float`, etc.)\n",
    "\n",
    "- The value `minBound` is overloaded because, for example, when used as a `Char` it will have value `'\\NUL'` while as an `Int` its `-2147483648`. \n",
    "\n",
    "- The equality operator (`==`) works with many types, and each type has its own implementation.\n",
    "\n",
    "- The function `max` also works with many types, and each type has its own implementation."
   ]
  },
  {
   "cell_type": "markdown",
   "metadata": {
    "slideshow": {
     "slide_type": "notes"
    }
   },
   "source": [
    "The first two are overloaded values and the last two are overloaded functios. And the mechanism that allows overloading in Haskell are Type Classes."
   ]
  },
  {
   "cell_type": "markdown",
   "metadata": {
    "slideshow": {
     "slide_type": "slide"
    }
   },
   "source": [
    "## Type Classes"
   ]
  },
  {
   "cell_type": "markdown",
   "metadata": {
    "slideshow": {
     "slide_type": "notes"
    }
   },
   "source": [
    "In the \"introduction to type classes\" lesson, we talked about why are type classes useful. And it basically boils down to having functions that can be used by many different types, but also have the safety that it only takes the types it can work with. So, if you create a function that takes two numbers and adds them together, you want that funciton to work with all numeric types, but you also want the compiler to stop you if you try to give it a non-numeric type.\n",
    "\n",
    "You are a very demanding person, you know? Just kidding.\n",
    "\n",
    "Type classes is a pretty unique feature. There are not many programming languages that implement it. But, the good thing, is that they're surprisingly easy to use!\n",
    "\n",
    "When working with type classes, we need:"
   ]
  },
  {
   "cell_type": "markdown",
   "metadata": {
    "slideshow": {
     "slide_type": "fragment"
    }
   },
   "source": [
    "1. To create a Type Class\n",
    "\n",
    "2. To make a Type an instance of that Type Class"
   ]
  },
  {
   "cell_type": "markdown",
   "metadata": {},
   "source": [
    "That's it."
   ]
  },
  {
   "cell_type": "markdown",
   "metadata": {
    "slideshow": {
     "slide_type": "-"
    }
   },
   "source": [
    "Remove block??\n",
    "\n",
    "In the In the \"Intro to Type Classes\" lesson, we said that, from the point of view of the developer that consumes pre-existent types and type-classes:\n",
    "\n",
    "If you see that a type is an Instance of a type class, you know that it implements and supports the behaviors (functions) of that type class. So, a Type Class specifies the names and types of those functions. And the instance of each type that belongs to the Type Class has its own definition those functions.\n",
    "\n",
    "Now,  we're the ones creating the Types and Type Classes. And to do that, we need two things:"
   ]
  },
  {
   "cell_type": "markdown",
   "metadata": {
    "slideshow": {
     "slide_type": "notes"
    }
   },
   "source": [
    "So let's start by re-defining the `Eq` Type Class."
   ]
  },
  {
   "cell_type": "markdown",
   "metadata": {
    "slideshow": {
     "slide_type": "slide"
    }
   },
   "source": [
    "## The `Eq` type class"
   ]
  },
  {
   "cell_type": "markdown",
   "metadata": {
    "slideshow": {
     "slide_type": "slide"
    }
   },
   "source": [
    "### Defining the `Eq` type class"
   ]
  },
  {
   "cell_type": "markdown",
   "metadata": {
    "slideshow": {
     "slide_type": "notes"
    }
   },
   "source": [
    "The `Eq` type class comes with Haskell, so you don't have to define it. But, like Lennon said, imagine. Imagine the `Eq` type class doesn't exist, and you want to create it to make the world a better place."
   ]
  },
  {
   "cell_type": "markdown",
   "metadata": {
    "slideshow": {
     "slide_type": "notes"
    }
   },
   "source": [
    "You can define the `Eq` type class like this:"
   ]
  },
  {
   "cell_type": "markdown",
   "metadata": {
    "slideshow": {
     "slide_type": "fragment"
    }
   },
   "source": [
    "```haskell\n",
    "class Eq a where\n",
    "  (==) :: a -> a -> Bool\n",
    "  (/=) :: a -> a -> Bool\n",
    "```"
   ]
  },
  {
   "cell_type": "markdown",
   "metadata": {},
   "source": [
    "In the first line, we start with the `class` keyword to indicate that we're going to create a type class, followed by how the type class will be called (`Eq`). Then, we write a type variable (`a`) that represents any type that will be made an instance of this type class in the future. And finally, we use the `where` keyword to start the block where we define the behaviors of our newly created type class.\n",
    "\n",
    "And now comes the interesting part. We have to define the behaviors. To do that, the only thing we have to do is write the name and type of the functions or values we need. In this case, because `Eq` type class is all about equality, the types that are instances of the `Eq` type class can say if two values of its type are equal or different by using the `==` (equal) and `/=` (not equal) functions. So, the behaviors of the `Eq` type class are the `==` and `/=` functions."
   ]
  },
  {
   "cell_type": "markdown",
   "metadata": {
    "slideshow": {
     "slide_type": "notes"
    }
   },
   "source": [
    "And done! We have our `Eq` type class ready to go! This means that we have the name and types of two functions that don't have definitions. To give them definitinos, we have to define at least one instance!"
   ]
  },
  {
   "cell_type": "markdown",
   "metadata": {
    "slideshow": {
     "slide_type": "slide"
    }
   },
   "source": [
    "### Defining an instance for the `Eq` type class"
   ]
  },
  {
   "cell_type": "markdown",
   "metadata": {
    "slideshow": {
     "slide_type": "notes"
    }
   },
   "source": [
    "Let's define a type for the payment methods a customer can use:"
   ]
  },
  {
   "cell_type": "code",
   "execution_count": null,
   "metadata": {
    "slideshow": {
     "slide_type": "slide"
    }
   },
   "outputs": [],
   "source": [
    "data PaymentMethod = Cash | Card | CC -- CC stands for Cryptocurrency\n",
    "\n",
    "type User = (String, PaymentMethod)"
   ]
  },
  {
   "cell_type": "markdown",
   "metadata": {
    "slideshow": {
     "slide_type": "notes"
    }
   },
   "source": [
    "And if we want, for example, to check if two users use the same payment method, we culd write a function like this one:"
   ]
  },
  {
   "cell_type": "code",
   "execution_count": null,
   "metadata": {
    "slideshow": {
     "slide_type": "fragment"
    }
   },
   "outputs": [],
   "source": [
    "samePM :: User -> User -> Bool\n",
    "samePM (_, pm1) (_, pm2) = pm1 == pm2  -- Won't work!"
   ]
  },
  {
   "cell_type": "markdown",
   "metadata": {
    "slideshow": {
     "slide_type": "notes"
    }
   },
   "source": [
    "If yout try to run this, you'll realize that this won't work! Because `==` is a behavior of the `Eq` type class, but our new `PaymentMethod` type is not an instance of the `Eq` type class! To fix this, lets make it an instance so we can check its values for equality!\n",
    "\n",
    "To do that, we use the `instance` keyword followed by the name of the type class we want to make an instance for, the type that will be an instance of that type class, and the `where` keyword. Then, inside that expression, we implement the functions defined in that type class."
   ]
  },
  {
   "cell_type": "code",
   "execution_count": null,
   "metadata": {
    "slideshow": {
     "slide_type": "slide"
    }
   },
   "outputs": [],
   "source": [
    "-- class Eq a where\n",
    "--   (==) :: a -> a -> Bool\n",
    "--   (/=) :: a -> a -> Bool\n",
    "\n",
    "instance Eq PaymentMethod where\n",
    "  -- Implementation of ==\n",
    "  Cash == Cash = True\n",
    "  Card == Card = True\n",
    "  CC == CC = True\n",
    "  _ == _ = False\n",
    "  \n",
    "  -- Implementation of /=\n",
    "  Cash /= Cash = False\n",
    "  Card /= Card = False\n",
    "  CC /= CC = False\n",
    "  _ /= _ = True"
   ]
  },
  {
   "cell_type": "markdown",
   "metadata": {
    "slideshow": {
     "slide_type": "notes"
    }
   },
   "source": [
    "So: \n",
    "* `instance ... where` means that we're making some type an instance of a type class\n",
    "* `Eq PaymentMethod` means that `PaymentMethod` is the type that will be come an instance of `Eq` type class. \n",
    "* Then, we implement how the functions of the type class (`==` and `/=`) will work for this specific type.\n",
    "\n",
    "As you can see, because now we're creating an instance for a type, we replace the type variable (`a`) that we had in the type class definition for that specific type (`PaymentMethod`)."
   ]
  },
  {
   "cell_type": "markdown",
   "metadata": {
    "slideshow": {
     "slide_type": "notes"
    }
   },
   "source": [
    "As you can see, because now we're creating an instance for a type, we replace the type variable (`a`) that we had in the type class definition for that specific type (`PaymentMethod`)."
   ]
  },
  {
   "cell_type": "markdown",
   "metadata": {
    "slideshow": {
     "slide_type": "notes"
    }
   },
   "source": [
    "And that's it! That's how you define a type class and how you make a type an instance of it! Now, `PaymentMethod` can freely use the `Eq` behaviours (`==` and `/=`):"
   ]
  },
  {
   "cell_type": "code",
   "execution_count": null,
   "metadata": {
    "slideshow": {
     "slide_type": "slide"
    }
   },
   "outputs": [],
   "source": [
    "Card == Cash\n",
    "CC /= Card"
   ]
  },
  {
   "cell_type": "markdown",
   "metadata": {
    "slideshow": {
     "slide_type": "notes"
    }
   },
   "source": [
    "And the prevous function will work now:"
   ]
  },
  {
   "cell_type": "code",
   "execution_count": null,
   "metadata": {
    "slideshow": {
     "slide_type": "fragment"
    }
   },
   "outputs": [],
   "source": [
    "samePM :: User -> User -> Bool\n",
    "samePM (_, pm1) (_, pm2) = pm1 == pm2  -- It's alive! "
   ]
  },
  {
   "cell_type": "markdown",
   "metadata": {},
   "source": [
    "### Improving our `Eq` type class"
   ]
  },
  {
   "cell_type": "markdown",
   "metadata": {},
   "source": [
    "That's because, you can do it, but there's no **need** to actually implement the functions in the type class. **Only the type delcarations are required!**"
   ]
  },
  {
   "cell_type": "markdown",
   "metadata": {},
   "source": [
    "With our `Eq` type class defined like that, each time we need to make a type an instance of `Eq`, we have to define both `==` and `/=`. But we know that we can also define functions inside the type class definition, and we know that for each pair of values, `==` and `/=` give use the opposite `Bool` value. "
   ]
  },
  {
   "cell_type": "markdown",
   "metadata": {},
   "source": [
    "So, taking into account the relationship between `==` and `/=`, we can redefine `Eq` type class like this:"
   ]
  },
  {
   "cell_type": "markdown",
   "metadata": {},
   "source": [
    "```haskell\n",
    "class  Eq a  where\n",
    "    (==), (/=)  :: a -> a -> Bool\n",
    "    x /= y      = not (x == y)\n",
    "    x == y      = not (x /= y)\n",
    "```"
   ]
  },
  {
   "cell_type": "markdown",
   "metadata": {},
   "source": [
    "**Which is how `Eq` is actually defined in the standard library!**"
   ]
  },
  {
   "cell_type": "markdown",
   "metadata": {},
   "source": [
    "By defining `==` and `/=` as the oposite of the other one (mutual recursion), now Haskell can infer the behavior of one from the other. And each time we make a type an instance of the `Eq` type class, we just need to overwrite (implement) one of them! Like this:"
   ]
  },
  {
   "cell_type": "code",
   "execution_count": null,
   "metadata": {},
   "outputs": [],
   "source": [
    "instance Eq PaymentMethod where\n",
    "  Cash == Cash = True\n",
    "  Card == Card = True\n",
    "  CC == CC = True\n",
    "  _ == _ = False"
   ]
  },
  {
   "cell_type": "markdown",
   "metadata": {},
   "source": [
    "And the type can use both `==` and `/=` no questions asked!"
   ]
  },
  {
   "cell_type": "markdown",
   "metadata": {},
   "source": [
    "This is called **minimal complete definition**. "
   ]
  },
  {
   "cell_type": "markdown",
   "metadata": {},
   "source": [
    "You can take advantage of this by checking what's the minimal complete definition of a type class using `:i <type class>` and implementing only those behaviors. If you do `:i Eq`, you'll get:\n",
    "\n",
    "```haskell\n",
    "type Eq :: * -> Constraint -- Eq takes a concrete type and  returns a Constraint\n",
    "class Eq a where\n",
    "  (==) :: a -> a -> Bool\n",
    "  (/=) :: a -> a -> Bool\n",
    "  {-# MINIMAL (==) | (/=) #-}\n",
    "  \t-- Defined in ‘GHC.Classes’\n",
    "\n",
    "-- ... and a bunch of instances.\n",
    "```"
   ]
  },
  {
   "cell_type": "markdown",
   "metadata": {},
   "source": [
    "In this line:\n",
    "\n",
    "```haskell\n",
    "{-# MINIMAL (==) | (/=) #-}\n",
    "```\n",
    "\n",
    "It says that to have the *minimal complete implementation* of the class, you have to implement either `==` OR `/=`."
   ]
  },
  {
   "cell_type": "markdown",
   "metadata": {
    "slideshow": {
     "slide_type": "notes"
    }
   },
   "source": [
    "That could be it. We completed everything required to create a type class and an instance for that type class. But here's the thing. We're on our way to become epic Haskell developers, and epic Haskell developers can do better than that. So let's improve our type class and instance!"
   ]
  },
  {
   "cell_type": "code",
   "execution_count": 3,
   "metadata": {
    "slideshow": {
     "slide_type": "slide"
    }
   },
   "outputs": [
    {
     "data": {},
     "metadata": {},
     "output_type": "display_data"
    }
   ],
   "source": [
    "-- Check by yourself! Also, did you saw the first instance? 👀\n",
    ":i Eq"
   ]
  },
  {
   "cell_type": "markdown",
   "metadata": {
    "slideshow": {
     "slide_type": "notes"
    }
   },
   "source": [
    "Now, if we stop here, the `==` and `/=` functions wouldn't be overloaded functions! Because they would work only for the `PaymentMethod` type. The only type with an instance of `Eq`.\n",
    "\n",
    "But there's a reason we chose to create this `Eq` type class, and the reason is that we think the behaviors it provides are usefull for other types. So let's create more instances of the `Eq` type class!\n",
    "\n",
    "And, of course, we could create more insances like this one:"
   ]
  },
  {
   "cell_type": "code",
   "execution_count": 2,
   "metadata": {
    "slideshow": {
     "slide_type": "slide"
    }
   },
   "outputs": [
    {
     "data": {
      "text/plain": [
       "True"
      ]
     },
     "metadata": {},
     "output_type": "display_data"
    }
   ],
   "source": [
    "-- Create data type\n",
    "data Blockchain = Cardano | Ethereum | Bitcoin\n",
    "\n",
    "-- Create instance of Eq\n",
    "instance Eq Blockchain where\n",
    "    Cardano == Cardano = True\n",
    "    Ethereum == Ethereum = True\n",
    "    Bitcoin == Bitcoin = True\n",
    "    _ == _ = False\n",
    "\n",
    "\n",
    "-- Test\n",
    "Cardano == Cardano"
   ]
  },
  {
   "cell_type": "markdown",
   "metadata": {
    "slideshow": {
     "slide_type": "notes"
    }
   },
   "source": [
    "But there are more things we need to learn, so let's use our newly acquired knowledge to create an instance of a parameterized type!"
   ]
  },
  {
   "cell_type": "markdown",
   "metadata": {
    "slideshow": {
     "slide_type": "slide"
    }
   },
   "source": [
    "### Defining an instance of a parameterized type"
   ]
  },
  {
   "cell_type": "markdown",
   "metadata": {
    "slideshow": {
     "slide_type": "notes"
    }
   },
   "source": [
    "First, we define our new type:"
   ]
  },
  {
   "cell_type": "code",
   "execution_count": null,
   "metadata": {
    "slideshow": {
     "slide_type": "slide"
    }
   },
   "outputs": [],
   "source": [
    "data Box a = Empty | Has a"
   ]
  },
  {
   "cell_type": "markdown",
   "metadata": {
    "slideshow": {
     "slide_type": "notes"
    }
   },
   "source": [
    "But we can't create an instance like this:"
   ]
  },
  {
   "cell_type": "code",
   "execution_count": null,
   "metadata": {
    "slideshow": {
     "slide_type": "fragment"
    }
   },
   "outputs": [],
   "source": [
    "instance Eq Box where\n",
    "-- ..."
   ]
  },
  {
   "cell_type": "markdown",
   "metadata": {},
   "source": [
    "Why? If we take a look at the type class using the `:i` command:"
   ]
  },
  {
   "cell_type": "markdown",
   "metadata": {},
   "source": [
    "```haskell\n",
    "type Eq :: * -> Constraint\n",
    "class Eq a where\n",
    "(==) :: a -> a -> Bool\n",
    "(/=) :: a -> a -> Bool\n",
    "```"
   ]
  },
  {
   "cell_type": "markdown",
   "metadata": {},
   "source": [
    "We see that the type variable `a` is a concrete type, because is used like a concrete type in the signatures. Also, the kind of `Eq` (`type Eq :: * -> Constraint`) clearly states that it takes a concrete type and produces a `Constraint`.\n",
    "\n",
    "Type classes always have a kind that returns a `Constraint`, because type classes constraint the polymorphic values. So, If you see a kind that ends in `Constraint`, you know that it's a type class and that it goes to the left of the `=>` arrow to constraint polymorphic types.\n",
    "\n",
    "So we can't create an instance for the `Box` type constructor because, well, it's a type constructor (`* -> *`), not a concrete type (`*`)!"
   ]
  },
  {
   "cell_type": "markdown",
   "metadata": {},
   "source": [
    "It makes sense. We can't have a function of type `a -> Box`, but we can have one of type `a -> Box a`."
   ]
  },
  {
   "cell_type": "markdown",
   "metadata": {},
   "source": [
    "So, we could satisfy this by using:\n",
    "\n",
    "```haskell\n",
    "instance Eq (Box Int) where\n",
    "-- ...\n",
    "\n",
    "instance Eq (Box String) where\n",
    "-- ...\n",
    "\n",
    "instance Eq (Box PaymentMethod) where\n",
    "-- ...\n",
    "\n",
    "--- etc\n",
    "```"
   ]
  },
  {
   "cell_type": "markdown",
   "metadata": {},
   "source": [
    "A class for every type. Hmm, we already went through this, and we solved it with type variables. This time isn't different!:"
   ]
  },
  {
   "cell_type": "markdown",
   "metadata": {},
   "source": [
    "```haskell\n",
    "instance Eq (Box a) where\n",
    "-- ...\n",
    "```"
   ]
  },
  {
   "cell_type": "markdown",
   "metadata": {},
   "source": [
    "This way, all of the types created using the `Box` type cosntructor (like `Box String` or `Box Int`) will be an instance of `Eq`."
   ]
  },
  {
   "cell_type": "markdown",
   "metadata": {},
   "source": [
    "As a general rule, when makig istances for type constructors, you have to provide enough type variables as parameters so that you end up obtaining a concrete type."
   ]
  },
  {
   "cell_type": "markdown",
   "metadata": {},
   "source": [
    "And, if we decide that two boxes that contain the same element are equal, we can define the behaviours as:"
   ]
  },
  {
   "cell_type": "code",
   "execution_count": null,
   "metadata": {},
   "outputs": [],
   "source": [
    "instance Eq (Box a) where\n",
    "  Has x == Has y = x == y\n",
    "  Empty == Empty = True\n",
    "  _ == _ = False"
   ]
  },
  {
   "cell_type": "markdown",
   "metadata": {},
   "source": [
    "But there's a HUGE mistake with this instance! Did you spotted it? Did you even run the cell?"
   ]
  },
  {
   "cell_type": "markdown",
   "metadata": {},
   "source": [
    "Exactly! We're using `==` between two values (`x` and `y`) of type `a` without making sure that the `a` type itself is an instance of `Eq`!\n",
    "\n",
    "We are defining `==` for the `Box a` type, so can use `==` for other types. But, of course, we have to make sure those tipes are instances of the `Eq` class first!\n",
    "\n",
    "... Explain better??\n",
    "\n",
    "Let's correct that:"
   ]
  },
  {
   "cell_type": "code",
   "execution_count": null,
   "metadata": {},
   "outputs": [],
   "source": [
    "instance (Eq a) => Eq (Box a) where\n",
    "  Has x == Has y = x == y\n",
    "  Empty == Empty = True\n",
    "  _ == _ = False"
   ]
  },
  {
   "cell_type": "markdown",
   "metadata": {},
   "source": [
    "Now, this is what I call an instance!"
   ]
  },
  {
   "cell_type": "markdown",
   "metadata": {},
   "source": [
    "Let's take a quick look at the `Ord` type class"
   ]
  },
  {
   "cell_type": "markdown",
   "metadata": {},
   "source": [
    "## The `Ord` type class"
   ]
  },
  {
   "cell_type": "markdown",
   "metadata": {},
   "source": [
    "### Exploring the `Ord` type class (Subclassing)"
   ]
  },
  {
   "cell_type": "markdown",
   "metadata": {},
   "source": [
    "Run this code ant take a look at the info:"
   ]
  },
  {
   "cell_type": "code",
   "execution_count": null,
   "metadata": {},
   "outputs": [],
   "source": [
    ":i Ord"
   ]
  },
  {
   "cell_type": "markdown",
   "metadata": {
    "slideshow": {
     "slide_type": "slide"
    }
   },
   "source": [
    "As you can see, the information (`:i`) of the `Ord` type class looks something like this:\n",
    "\n",
    "```haskell\n",
    "type Ord :: * -> Constraint         -- Ord takes a concreate type and returns a Constraint\n",
    "class Eq a => Ord a where           -- That \"Eq a =>\" is new!! 🤔 (explained below)\n",
    "  compare :: a -> a -> Ordering \n",
    "  (<) :: a -> a -> Bool             -- A bunch of function definitions\n",
    "  (<=) :: a -> a -> Bool\n",
    "  (>) :: a -> a -> Bool\n",
    "  (>=) :: a -> a -> Bool\n",
    "  max :: a -> a -> a\n",
    "  min :: a -> a -> a\n",
    "  {-# MINIMAL compare | (<=) #-}    -- We can implement the type class defining only \"compare\" or \"<=\".\n",
    "```"
   ]
  },
  {
   "cell_type": "markdown",
   "metadata": {},
   "source": [
    "Everything checks out. Except for that `Eq a =>`."
   ]
  },
  {
   "cell_type": "markdown",
   "metadata": {},
   "source": [
    "This (`Eq a =>`) it's called **subclassing**, and it means exactly what you'd imagine:"
   ]
  },
  {
   "cell_type": "markdown",
   "metadata": {},
   "source": [
    "**To make a type an instance of `Ord`, first we have to make it an instance or `Eq`! Meaning that `Eq` is a prerequesite for `Ord`**"
   ]
  },
  {
   "cell_type": "markdown",
   "metadata": {},
   "source": [
    "It makes sense, because how can you know how to order the values of a type if you can't know if two values are equal!"
   ]
  },
  {
   "cell_type": "markdown",
   "metadata": {},
   "source": [
    "Luckly, we already created an instance of `Box` for the `Eq` type class, so we can create one for the `Ord` class without any problems. We just pick one of the functions needed for the minimal complete implementation, and code it!:"
   ]
  },
  {
   "cell_type": "code",
   "execution_count": null,
   "metadata": {},
   "outputs": [],
   "source": [
    "instance (Ord a) => Ord (Box a) where\n",
    "  Has x <= Has y = x <= y\n",
    "  _ <= _ = False"
   ]
  },
  {
   "cell_type": "markdown",
   "metadata": {},
   "source": [
    "This is all well and good, but what if I need a type to behave like `Ord`, `Num`, and `Show`? Most common cases are implemented the same, and that's a lot of repetitive work. Luckily,—thanks to some really smart guys with PhDs—most of the time, we don't need to actually do it! We can just derive the instance!"
   ]
  },
  {
   "cell_type": "markdown",
   "metadata": {},
   "source": [
    "## Deriving"
   ]
  },
  {
   "cell_type": "markdown",
   "metadata": {},
   "source": [
    "Derived instances are an automatic way of making a type an instance a type class.\n",
    "\n",
    "They are possible only for classes known to the compiler: those defined in either the Prelude or a standard library (`Eq`, `Ord`, `Enum`, ...). When in doubt, try, and the compiler will yell at you and give you useful information if it can't do it."
   ]
  },
  {
   "cell_type": "markdown",
   "metadata": {},
   "source": [
    "To use this feature, just add `deriving (...)` (with the names of all the type classes that you want to derive) at the end of your type declaration."
   ]
  },
  {
   "cell_type": "markdown",
   "metadata": {},
   "source": [
    "Each type class has its own set of rules for deriving instances. Let's see a few of the most common:"
   ]
  },
  {
   "cell_type": "markdown",
   "metadata": {},
   "source": [
    "#### `deriving (Show)`"
   ]
  },
  {
   "cell_type": "markdown",
   "metadata": {},
   "source": [
    "This one is the simplest. It gives you access to functions that convert your type's values into Strings:"
   ]
  },
  {
   "cell_type": "code",
   "execution_count": null,
   "metadata": {},
   "outputs": [],
   "source": [
    "data Box a = Empty | Has a deriving (Show)\n",
    "\n",
    "box = Has 5\n",
    "result = \"There's a box that \" ++ show box -- Thanks to deriving (Show), you can use the \"show\" function."
   ]
  },
  {
   "cell_type": "code",
   "execution_count": null,
   "metadata": {},
   "outputs": [],
   "source": [
    "data Person = Person\n",
    "  { name :: String,\n",
    "    company :: String,\n",
    "    experience :: Float,\n",
    "    position :: String\n",
    "  }\n",
    "  deriving (Show)\n",
    "\n",
    "person = Person \"Rick\" \"IOG\" 7.5 \"Scientist\" \n",
    "person -- Thanks to deriving (Show), you can print the type's values on the console."
   ]
  },
  {
   "cell_type": "markdown",
   "metadata": {},
   "source": [
    "### `deriving (Ord)`"
   ]
  },
  {
   "cell_type": "markdown",
   "metadata": {},
   "source": [
    "The value generated from the constructor that was defined first is smaller. And if values are made from the same constructor and the constructor doesn't have fields, they are equal. For example:"
   ]
  },
  {
   "cell_type": "code",
   "execution_count": null,
   "metadata": {},
   "outputs": [],
   "source": [
    "data PaymentMethod = Cash | Card | CC deriving (Ord)\n",
    "\n",
    "Cash > Card\n",
    "Card < CC\n",
    "CC `compare` Cash"
   ]
  },
  {
   "cell_type": "markdown",
   "metadata": {},
   "source": [
    "If values are made from the same constructor and the constructor does have fields, the fields are compared (In this case, the types of the fields also have to be instances of `Ord`):"
   ]
  },
  {
   "cell_type": "code",
   "execution_count": null,
   "metadata": {},
   "outputs": [],
   "source": [
    "data Box a = Empty | Has a deriving (Show, Ord)\n",
    "\n",
    "Empty `compare` Empty\n",
    "Has 5 `compare` Has 6\n",
    "Has \"Hello\" `compare` Has \"Hi\""
   ]
  },
  {
   "cell_type": "markdown",
   "metadata": {},
   "source": [
    "But deriving does not always get it right!! Let's see how:"
   ]
  },
  {
   "cell_type": "markdown",
   "metadata": {},
   "source": [
    "### Deriving can go wrong"
   ]
  },
  {
   "cell_type": "markdown",
   "metadata": {},
   "source": [
    "For example, let's say we want to use a type to manage longitudes for Civil engineering software.\n",
    "\n",
    "We work with both meters and kilometers, but because we don't want to lose precision, we don't want to use floating points. So, we define a data type with two constructors. One for meters and one for kilometers. Both containing a value of type `Int`. We also derive `Show` to print the values in the console and `Eq` to compare them:"
   ]
  },
  {
   "cell_type": "code",
   "execution_count": null,
   "metadata": {},
   "outputs": [],
   "source": [
    "data Longitude = M Int | Km Int deriving (Show, Eq)"
   ]
  },
  {
   "cell_type": "markdown",
   "metadata": {},
   "source": [
    "But, we find a little problem while testing our implementation:"
   ]
  },
  {
   "cell_type": "markdown",
   "metadata": {},
   "source": [
    "We know that 1000 meters is equal to 1 kilometer, but when we do this comparison with our code, we get that it's not!:"
   ]
  },
  {
   "cell_type": "code",
   "execution_count": null,
   "metadata": {},
   "outputs": [],
   "source": [
    "M 1000 = Km 1 -- False"
   ]
  },
  {
   "cell_type": "markdown",
   "metadata": {},
   "source": [
    "That's because when we derived `Eq`, Haskell generated this code:\n",
    "\n",
    "```haskell\n",
    "instance Eq Longitude where\n",
    "  (==) (M x) (M y) = x == y \n",
    "  (==) (Km x) (Km y) = x == y \n",
    "  (==) _ _ = False\n",
    "```"
   ]
  },
  {
   "cell_type": "markdown",
   "metadata": {},
   "source": [
    "This works great if we're comparing meters to meters and kilometers to kilometers. But we have the wrong implementation to compare between constructors because Haskell doesn't know that the values of different constructors relate in any way!! Haskell just assumed that if the constructors are different, the values are too!"
   ]
  },
  {
   "cell_type": "markdown",
   "metadata": {},
   "source": [
    "This is how the instance should look:"
   ]
  },
  {
   "cell_type": "code",
   "execution_count": null,
   "metadata": {},
   "outputs": [],
   "source": [
    "data Longitude = M Int | Km Int deriving (Show)\n",
    "\n",
    "instance Eq Longitude where\n",
    "  (==) (M x) (M y) = x == y\n",
    "  (==) (Km x) (Km y) = x == y\n",
    "  (==) (M x) (Km y) = x == 1000 * y\n",
    "  (==) (Km x) (M y) = x * 1000 == y\n",
    "\n",
    " M 3000 = Km 3 -- True"
   ]
  },
  {
   "cell_type": "markdown",
   "metadata": {},
   "source": [
    "That's why you have to be conscious of how each type class is derived, to know when it's a good idea to do it and when it's not."
   ]
  },
  {
   "cell_type": "markdown",
   "metadata": {},
   "source": [
    "### Full example (Leave as homework?)"
   ]
  },
  {
   "cell_type": "markdown",
   "metadata": {},
   "source": [
    "Imagine we want to create a type that represents the position in a company:"
   ]
  },
  {
   "cell_type": "code",
   "execution_count": null,
   "metadata": {},
   "outputs": [],
   "source": [
    "data Position = Intern | Junior | Senior | Manager | Chief deriving (Show, Read, Eq, Ord, Enum, Bounded)\n",
    "\n",
    "-- Create the type \"Position\" that can have the values...\n",
    "-- Create a function that takes a position and years of experience and returs another position.\n",
    "-- Create a funciton that returns the compensation according to the position + years of experience.\n",
    "-- "
   ]
  },
  {
   "cell_type": "markdown",
   "metadata": {},
   "source": [
    "## Recap"
   ]
  },
  {
   "cell_type": "markdown",
   "metadata": {},
   "source": []
  }
 ],
 "metadata": {
  "celltoolbar": "Slideshow",
  "kernelspec": {
   "display_name": "Haskell",
   "language": "haskell",
   "name": "haskell"
  },
  "language_info": {
   "codemirror_mode": "ihaskell",
   "file_extension": ".hs",
   "mimetype": "text/x-haskell",
   "name": "haskell",
   "pygments_lexer": "Haskell",
   "version": "8.10.7"
  },
  "vscode": {
   "interpreter": {
    "hash": "31f2aee4e71d21fbe5cf8b01ff0e069b9275f58929596ceb00d14d90e3e16cd6"
   }
  }
 },
 "nbformat": 4,
 "nbformat_minor": 4
}
