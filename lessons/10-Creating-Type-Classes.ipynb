{
 "cells": [
  {
   "cell_type": "markdown",
   "metadata": {},
   "source": [
    "# Creating Type Classes and Instances"
   ]
  },
  {
   "cell_type": "markdown",
   "metadata": {},
   "source": [
    "## Outline\n",
    "\n",
    "* Revisiting Type Classes\n",
    "* The `Eq` type class\n",
    "\t* Defining the `Eq` type class\n",
    "\t* Defining an instance for the `Eq` type class\n",
    "\t* Improving our `Eq` type class (minimal complete definition)\n",
    "\t* Defining an instance for a parameterize type.\n",
    "* The `Ord` type class\n",
    "\t* Exploring `Ord` type class (Subclassing)\n",
    "* Deriving\n",
    "* Complete example\n"
   ]
  },
  {
   "cell_type": "markdown",
   "metadata": {},
   "source": [
    "In this lesson, first, we'll do a quick recap of type classes, learn how to create them from scratch, and how to use them."
   ]
  },
  {
   "cell_type": "markdown",
   "metadata": {},
   "source": [
    "## Revisiting Type Classes"
   ]
  },
  {
   "cell_type": "markdown",
   "metadata": {},
   "source": [
    "* Type classes are interfaces that define some behavior. (For example, comparing for equality.)"
   ]
  },
  {
   "cell_type": "markdown",
   "metadata": {},
   "source": [
    "* If a type is an instance of a type class, it supports the behaviors of that type class. Meaning that we can use the functions the type class defines."
   ]
  },
  {
   "cell_type": "markdown",
   "metadata": {},
   "source": [
    "* A type class can have multiple instances, and a type can belong to multiple type classes."
   ]
  },
  {
   "cell_type": "markdown",
   "metadata": {},
   "source": [
    "## The `Eq` type class"
   ]
  },
  {
   "cell_type": "markdown",
   "metadata": {},
   "source": [
    "### Defining the `Eq` type class"
   ]
  },
  {
   "cell_type": "markdown",
   "metadata": {},
   "source": [
    "Remember that the `Eq` type class is all about equality. The types that are instances of the `Eq` type class can say if two values of its type are equal or different by using the `==` (equal) and `/=` (not equal) functions."
   ]
  },
  {
   "cell_type": "markdown",
   "metadata": {},
   "source": [
    "But how do we define the `Eq` class? We can do it ike this:"
   ]
  },
  {
   "cell_type": "markdown",
   "metadata": {},
   "source": [
    "```haskell\n",
    "class Eq a where\n",
    "  (==) :: a -> a -> Bool\n",
    "  (/=) :: a -> a -> Bool\n",
    "```"
   ]
  },
  {
   "cell_type": "markdown",
   "metadata": {},
   "source": [
    "* `class ... where` means that we're defining a new type class.\n",
    "* `Eq` is how type class will be called.\n",
    "* The `a` inside `Eq a` is the type variable that holds the place to the type that will be made an instance of this type class.\n",
    "* Then, we define the functions of the type class (`==` and `/=`)."
   ]
  },
  {
   "cell_type": "markdown",
   "metadata": {},
   "source": [
    "But wait.. the functions aren't implemented!"
   ]
  },
  {
   "cell_type": "markdown",
   "metadata": {},
   "source": [
    "That's because, you can do it, but there's no **need** to actually implement the functions in the type class. **Only the type delcarations are required!**"
   ]
  },
  {
   "cell_type": "markdown",
   "metadata": {},
   "source": [
    "Now that we have a type class, let's use it! "
   ]
  },
  {
   "cell_type": "markdown",
   "metadata": {},
   "source": [
    "### Defining an instance for the `Eq` type class"
   ]
  },
  {
   "cell_type": "markdown",
   "metadata": {},
   "source": [
    "Let's define a type for the payment methods a customer can use:"
   ]
  },
  {
   "cell_type": "code",
   "execution_count": null,
   "metadata": {},
   "outputs": [],
   "source": [
    "data PaymentMethod = Cash | Card | CC -- CC stands for Cryptocurrency"
   ]
  },
  {
   "cell_type": "markdown",
   "metadata": {},
   "source": [
    "Now, lets make `PaymentMethod` an instance of `Eq`, so we can check its values for equality."
   ]
  },
  {
   "cell_type": "code",
   "execution_count": null,
   "metadata": {},
   "outputs": [],
   "source": [
    "instance Eq PaymentMethod where\n",
    "  -- Implementation of ==\n",
    "  Cash == Cash = True\n",
    "  Card == Card = True\n",
    "  CC == CC = True\n",
    "  _ == _ = False\n",
    "  \n",
    "  -- Implementation of /=\n",
    "  Cash /= Cash = False\n",
    "  Card /= Card = False\n",
    "  CC /= CC = False\n",
    "  _ /= _ = True"
   ]
  },
  {
   "cell_type": "markdown",
   "metadata": {},
   "source": [
    "* `instance ... where` means that we're making some type an instance of a type class\n",
    "* `Eq PaymentMethod` means that `PaymentMethod` is the type that will be come an instance of `Eq` type class. \n",
    "* Then, we implement the functions of the type class (`==` and `/=`) for our specific type."
   ]
  },
  {
   "cell_type": "markdown",
   "metadata": {},
   "source": [
    "As you can see, because now we're creating an instance for a type, we replace the type variable (`a`) that we had in the type class definition for that specific type (`PaymentMethod`)."
   ]
  },
  {
   "cell_type": "markdown",
   "metadata": {},
   "source": [
    "And that's it! That's how you define a type class and how you make a type an instance of it! Now, `PaymentMethod` can freely use the `Eq` behaviours (`==` and `/=`):"
   ]
  },
  {
   "cell_type": "code",
   "execution_count": null,
   "metadata": {},
   "outputs": [],
   "source": [
    "Card == Cash\n",
    "CC /= Card"
   ]
  },
  {
   "cell_type": "markdown",
   "metadata": {},
   "source": [
    "But here's the thing. We're on our way to become epic Haskell developers, and epic Haskell developers can do better than that."
   ]
  },
  {
   "cell_type": "markdown",
   "metadata": {},
   "source": [
    "### Improving our `Eq` type class"
   ]
  },
  {
   "cell_type": "markdown",
   "metadata": {},
   "source": [
    "With our `Eq` type class defined like that, each time we need to make a type an instance of `Eq`, we have to define both `==` and `/=`. But we know that we can also define functions inside the type class definition, and we know that for each pair of values, `==` and `/=` give use the opposite `Bool` value. "
   ]
  },
  {
   "cell_type": "markdown",
   "metadata": {},
   "source": [
    "So, taking into account the relationship between `==` and `/=`, we can redefine `Eq` type class like this:"
   ]
  },
  {
   "cell_type": "markdown",
   "metadata": {},
   "source": [
    "```haskell\n",
    "class  Eq a  where\n",
    "    (==), (/=)  :: a -> a -> Bool\n",
    "    x /= y      = not (x == y)\n",
    "    x == y      = not (x /= y)\n",
    "```"
   ]
  },
  {
   "cell_type": "markdown",
   "metadata": {},
   "source": [
    "**Which is how `Eq` is actually defined in the standard library!**"
   ]
  },
  {
   "cell_type": "markdown",
   "metadata": {},
   "source": [
    "By defining `==` and `/=` as the oposite of the other one (mutual recursion), now Haskell can infer the behavior of one from the other. And each time we make a type an instance of the `Eq` type class, we just need to overwrite (implement) one of them! Like this:"
   ]
  },
  {
   "cell_type": "code",
   "execution_count": null,
   "metadata": {},
   "outputs": [],
   "source": [
    "instance Eq PaymentMethod where\n",
    "  Cash == Cash = True\n",
    "  Card == Card = True\n",
    "  CC == CC = True\n",
    "  _ == _ = False"
   ]
  },
  {
   "cell_type": "markdown",
   "metadata": {},
   "source": [
    "And the type can use both `==` and `/=` no questions asked!"
   ]
  },
  {
   "cell_type": "markdown",
   "metadata": {},
   "source": [
    "This is called **minimal complete definition**. "
   ]
  },
  {
   "cell_type": "markdown",
   "metadata": {},
   "source": [
    "You can take advantage of this by checking what's the minimal complete definition of a type class using `:i <type class>` and implementing only those behaviors. If you do `:i Eq`, you'll get:\n",
    "\n",
    "```haskell\n",
    "type Eq :: * -> Constraint -- Eq takes a concrete type and  returns a Constraint\n",
    "class Eq a where\n",
    "  (==) :: a -> a -> Bool\n",
    "  (/=) :: a -> a -> Bool\n",
    "  {-# MINIMAL (==) | (/=) #-}\n",
    "  \t-- Defined in ‘GHC.Classes’\n",
    "\n",
    "-- ... and a bunch of instances.\n",
    "```"
   ]
  },
  {
   "cell_type": "markdown",
   "metadata": {},
   "source": [
    "In this line:\n",
    "\n",
    "```haskell\n",
    "{-# MINIMAL (==) | (/=) #-}\n",
    "```\n",
    "\n",
    "It says that to have the *minimal complete implementation* of the class, you have to implement either `==` OR `/=`."
   ]
  },
  {
   "cell_type": "code",
   "execution_count": null,
   "metadata": {},
   "outputs": [],
   "source": [
    "-- Check by yourself!\n",
    ":i Eq"
   ]
  },
  {
   "cell_type": "markdown",
   "metadata": {},
   "source": [
    "Let's use our newly acquired knowledge to create an instance of a parameterized type!"
   ]
  },
  {
   "cell_type": "markdown",
   "metadata": {},
   "source": [
    "### Defining an instance of a parameterized type"
   ]
  },
  {
   "cell_type": "markdown",
   "metadata": {},
   "source": [
    "First, we define our new type:"
   ]
  },
  {
   "cell_type": "code",
   "execution_count": null,
   "metadata": {},
   "outputs": [],
   "source": [
    "data Box a = Empty | Has a"
   ]
  },
  {
   "cell_type": "markdown",
   "metadata": {},
   "source": [
    "But we can't do something like this:"
   ]
  },
  {
   "cell_type": "code",
   "execution_count": null,
   "metadata": {},
   "outputs": [],
   "source": [
    "instance Eq Box where\n",
    "-- ..."
   ]
  },
  {
   "cell_type": "markdown",
   "metadata": {},
   "source": [
    "We'd get an Error! Because we're trying to pass a type constructor (`* -> *`) instead of a concrete type (`*`)!\n",
    "\n",
    "How do we know we need a concrete type? Because if we take a look at the type type declarations:\n",
    "\n",
    "```haskell\n",
    "type Eq :: * -> Constraint\n",
    "class Eq a where\n",
    "(==) :: a -> a -> Bool\n",
    "(/=) :: a -> a -> Bool\n",
    "```\n",
    "\n",
    "The type declarations clearly use `a` as a concrete type, and `type Eq :: * -> Constraint` clearly states that `Eq` takes a concrete type."
   ]
  },
  {
   "cell_type": "markdown",
   "metadata": {},
   "source": [
    "It makes sense. We can't have a function of type `a -> Box`, but we can have one of type `a -> Box a`."
   ]
  },
  {
   "cell_type": "markdown",
   "metadata": {},
   "source": [
    "So, we could satisfy this by using:\n",
    "\n",
    "```haskell\n",
    "class Eq (Box Int) where\n",
    "-- ...\n",
    "\n",
    "class Eq (Box String) where\n",
    "-- ...\n",
    "\n",
    "class Eq (Box PaymentMethod) where\n",
    "-- ...\n",
    "\n",
    "--- etc\n",
    "```"
   ]
  },
  {
   "cell_type": "markdown",
   "metadata": {},
   "source": [
    "A class for every type. Hmm, we already went through this, and we solved it with type variables. This time isn't different!:"
   ]
  },
  {
   "cell_type": "markdown",
   "metadata": {},
   "source": [
    "```haskell\n",
    "instance Eq (Box a) where\n",
    "-- ...\n",
    "```"
   ]
  },
  {
   "cell_type": "markdown",
   "metadata": {},
   "source": [
    "This way, all of the type of form `Box a` (like `Box String` or `Box Int`) will be an instance of `Eq`."
   ]
  },
  {
   "cell_type": "markdown",
   "metadata": {},
   "source": [
    "As a general rule, when makig istances for type constructors, you have to provide enough parameters so that you end up obtaining a concrete type."
   ]
  },
  {
   "cell_type": "markdown",
   "metadata": {},
   "source": [
    "And, if we decide that two boxes that contain the same element are equal, we can define the behaviours as:"
   ]
  },
  {
   "cell_type": "code",
   "execution_count": null,
   "metadata": {},
   "outputs": [],
   "source": [
    "instance Eq (Box a) where\n",
    "  Has x == Has y = x == y\n",
    "  Empty == Empty = True\n",
    "  _ == _ = False"
   ]
  },
  {
   "cell_type": "markdown",
   "metadata": {},
   "source": [
    "But there's a HUGE mistake with this instance! Did you spotted it? Did you even run the cell?"
   ]
  },
  {
   "cell_type": "markdown",
   "metadata": {},
   "source": [
    "Exactly! We're using `==` between two values (`x` and `y`) of type `a` without making sure that the `a` type itself is an instance of `Eq`! Let's correct that:"
   ]
  },
  {
   "cell_type": "code",
   "execution_count": null,
   "metadata": {},
   "outputs": [],
   "source": [
    "instance (Eq a) => Eq (Box a) where\n",
    "  Has x == Has y = x == y\n",
    "  Empty == Empty = True\n",
    "  _ == _ = False"
   ]
  },
  {
   "cell_type": "markdown",
   "metadata": {},
   "source": [
    "Now, this is what I call an instance!"
   ]
  },
  {
   "cell_type": "markdown",
   "metadata": {},
   "source": [
    "Let's take a quick look at the `Ord` type class"
   ]
  },
  {
   "cell_type": "markdown",
   "metadata": {},
   "source": [
    "## The `Ord` type class"
   ]
  },
  {
   "cell_type": "markdown",
   "metadata": {},
   "source": [
    "### Exploring the `Ord` type class (Subclassing)"
   ]
  },
  {
   "cell_type": "markdown",
   "metadata": {},
   "source": [
    "Run this code ant take a look at the info:"
   ]
  },
  {
   "cell_type": "code",
   "execution_count": null,
   "metadata": {},
   "outputs": [],
   "source": [
    ":i Ord"
   ]
  },
  {
   "cell_type": "markdown",
   "metadata": {},
   "source": [
    "As you can see, the information (`:i`) of the `Ord` type class looks something like this:\n",
    "\n",
    "```haskell\n",
    "type Ord :: * -> Constraint         -- Ord takes a concreate type and returns a Constraint\n",
    "class Eq a => Ord a where           -- That \"Eq a =>\" is new!! 🤔 (explained below)\n",
    "  compare :: a -> a -> Ordering     -- Don't know what the \"Ordering\" type is, but I can check it out using \":i Ordering\"\n",
    "  (<) :: a -> a -> Bool             -- A bunch of function definitions\n",
    "  (<=) :: a -> a -> Bool\n",
    "  (>) :: a -> a -> Bool\n",
    "  (>=) :: a -> a -> Bool\n",
    "  max :: a -> a -> a\n",
    "  min :: a -> a -> a\n",
    "  {-# MINIMAL compare | (<=) #-}    -- We can implement the type class defining only \"compare\" or \"<=\".\n",
    "```"
   ]
  },
  {
   "cell_type": "markdown",
   "metadata": {},
   "source": [
    "Everything checks out. Except for that `Eq a =>`."
   ]
  },
  {
   "cell_type": "markdown",
   "metadata": {},
   "source": [
    "This (`Eq a =>`) it's called **subclassing**, and it means exactly what you'd imagine:"
   ]
  },
  {
   "cell_type": "markdown",
   "metadata": {},
   "source": [
    "**To make a type an instance of `Ord`, first we have to make it an instance or `Eq`! Meaning that `Eq` is a prerequesite for `Ord`**"
   ]
  },
  {
   "cell_type": "markdown",
   "metadata": {},
   "source": [
    "It makes sense, because how can you know how to order the values of a type if you can't know if two values are equal!"
   ]
  },
  {
   "cell_type": "markdown",
   "metadata": {},
   "source": [
    "Luckly, we already created an instance of `Box` for the `Eq` type class, so we can create one for the `Ord` class without any problems. We just pick one of the functions needed for the minimal complete implementation, and code it!:"
   ]
  },
  {
   "cell_type": "code",
   "execution_count": null,
   "metadata": {},
   "outputs": [],
   "source": [
    "instance (Ord a) => Ord (Box a) where\n",
    "  Has x <= Has y = x <= y\n",
    "  _ <= _ = False"
   ]
  },
  {
   "cell_type": "markdown",
   "metadata": {},
   "source": [
    "This is all well and good, but what if I need a type to behave like `Ord`, `Num`, and `Show`? Most common cases are implemented the same, and that's a lot of repetitive work. Luckily,—thanks to some really smart guys with PhDs—most of the time, we don't need to actually do it! We can just derive the instance!"
   ]
  },
  {
   "cell_type": "markdown",
   "metadata": {},
   "source": [
    "## Deriving"
   ]
  },
  {
   "cell_type": "markdown",
   "metadata": {},
   "source": [
    "Derived instances are an automatic way of making a type an instance a type class.\n",
    "\n",
    "They are possible only for classes known to the compiler: those defined in either the Prelude or a standard library (`Eq`, `Ord`, `Enum`, ...). When in doubt, try, and the compiler will yell at you and give you useful information if it can't do it."
   ]
  },
  {
   "cell_type": "markdown",
   "metadata": {},
   "source": [
    "To use this feature, just add `deriving (...)` (with the names of all the type classes that you want to derive) at the end of your type declaration."
   ]
  },
  {
   "cell_type": "markdown",
   "metadata": {},
   "source": [
    "Each type class has its own set of rules for deriving instances. Let's see a few of the most common:"
   ]
  },
  {
   "cell_type": "markdown",
   "metadata": {},
   "source": [
    "#### `deriving (Show)`"
   ]
  },
  {
   "cell_type": "markdown",
   "metadata": {},
   "source": [
    "This one is the simplest. It gives you access to functions that convert your type's values into Strings:"
   ]
  },
  {
   "cell_type": "code",
   "execution_count": null,
   "metadata": {},
   "outputs": [],
   "source": [
    "data Box a = Empty | Has a deriving (Show)\n",
    "\n",
    "box = Has 5\n",
    "result = \"There's a box that \" ++ show box -- Thanks to deriving (Show), you can use the \"show\" function."
   ]
  },
  {
   "cell_type": "code",
   "execution_count": null,
   "metadata": {},
   "outputs": [],
   "source": [
    "data Person = Person\n",
    "  { name :: String,\n",
    "    company :: String,\n",
    "    experience :: Float,\n",
    "    position :: String\n",
    "  }\n",
    "  deriving (Show)\n",
    "\n",
    "person = Person \"Rick\" \"IOG\" 7.5 \"Scientist\" \n",
    "person -- Thanks to deriving (Show), you can print the type's values on the console."
   ]
  },
  {
   "cell_type": "markdown",
   "metadata": {},
   "source": [
    "### `deriving (Ord)`"
   ]
  },
  {
   "cell_type": "markdown",
   "metadata": {},
   "source": [
    "The value generated from the constructor that was defined first is smaller. And if values are made from the same constructor and the constructor doesn't have fields, they are equal. For example:"
   ]
  },
  {
   "cell_type": "code",
   "execution_count": null,
   "metadata": {},
   "outputs": [],
   "source": [
    "data PaymentMethod = Cash | Card | CC deriving (Ord)\n",
    "\n",
    "Cash > Card\n",
    "Card < CC\n",
    "CC `compare` Cash"
   ]
  },
  {
   "cell_type": "markdown",
   "metadata": {},
   "source": [
    "If values are made from the same constructor and the constructor does have fields, the fields are compared (In this case, the types of the fields also have to be instances of `Ord`):"
   ]
  },
  {
   "cell_type": "code",
   "execution_count": null,
   "metadata": {},
   "outputs": [],
   "source": [
    "data Box a = Empty | Has a deriving (Show, Ord)\n",
    "\n",
    "Empty `compare` Empty\n",
    "Has 5 `compare` Has 6\n",
    "Has \"Hello\" `compare` Has \"Hi\""
   ]
  },
  {
   "cell_type": "markdown",
   "metadata": {},
   "source": [
    "But deriving does not always get it right!! Let's see how:"
   ]
  },
  {
   "cell_type": "markdown",
   "metadata": {},
   "source": [
    "### Deriving can go wrong"
   ]
  },
  {
   "cell_type": "markdown",
   "metadata": {},
   "source": [
    "For example, let's say we want to use a type to manage longitudes for Civil engineering software.\n",
    "\n",
    "We work with both meters and kilometers, but because we don't want to lose precision, we don't want to use floating points. So, we define a data type with two constructors. One for meters and one for kilometers. Both containing a value of type `Int`. We also derive `Show` to print the values in the console and `Eq` to compare them:"
   ]
  },
  {
   "cell_type": "code",
   "execution_count": null,
   "metadata": {},
   "outputs": [],
   "source": [
    "data Longitude = M Int | Km Int deriving (Show, Eq)"
   ]
  },
  {
   "cell_type": "markdown",
   "metadata": {},
   "source": [
    "But, we find a little problem while testing our implementation:"
   ]
  },
  {
   "cell_type": "markdown",
   "metadata": {},
   "source": [
    "We know that 1000 meters is equal to 1 kilometer, but when we do this comparison with our code, we get that it's not!:"
   ]
  },
  {
   "cell_type": "code",
   "execution_count": null,
   "metadata": {},
   "outputs": [],
   "source": [
    "M 1000 = Km 1 -- False"
   ]
  },
  {
   "cell_type": "markdown",
   "metadata": {},
   "source": [
    "That's because when we derived `Eq`, Haskell generated this code:\n",
    "\n",
    "```haskell\n",
    "instance Eq Longitude where\n",
    "  (==) (M x) (M y) = x == y \n",
    "  (==) (Km x) (Km y) = x == y \n",
    "  (==) _ _ = False\n",
    "```"
   ]
  },
  {
   "cell_type": "markdown",
   "metadata": {},
   "source": [
    "This works great if we're comparing meters to meters and kilometers to kilometers. But we have the wrong implementation to compare between constructors because Haskell doesn't know that the values of different constructors relate in any way!! Haskell just assumed that if the constructors are different, the values are too!"
   ]
  },
  {
   "cell_type": "markdown",
   "metadata": {},
   "source": [
    "This is how the instance should look:"
   ]
  },
  {
   "cell_type": "code",
   "execution_count": null,
   "metadata": {},
   "outputs": [],
   "source": [
    "data Longitude = M Int | Km Int deriving (Show)\n",
    "\n",
    "instance Eq Longitude where\n",
    "  (==) (M x) (M y) = x == y\n",
    "  (==) (Km x) (Km y) = x == y\n",
    "  (==) (M x) (Km y) = x == 1000 * y\n",
    "  (==) (Km x) (M y) = x * 1000 == y\n",
    "\n",
    " M 3000 = Km 3 -- True"
   ]
  },
  {
   "cell_type": "markdown",
   "metadata": {},
   "source": [
    "That's why you have to be conscious of how each type class is derived, to know when it's a good idea to do it and when it's not."
   ]
  },
  {
   "cell_type": "markdown",
   "metadata": {},
   "source": [
    "### Full example (Leave as homework?)"
   ]
  },
  {
   "cell_type": "markdown",
   "metadata": {},
   "source": [
    "Imagine we want to create a type that represents the position in a company:"
   ]
  },
  {
   "cell_type": "code",
   "execution_count": null,
   "metadata": {},
   "outputs": [],
   "source": [
    "data Position = Intern | Junior | Senior | Manager | Chief deriving (Show, Read, Eq, Ord, Enum, Bounded)\n",
    "\n",
    "-- Create the type \"Position\" that can have the values...\n",
    "-- Create a function that takes a position and years of experience and returs another position.\n",
    "-- Create a funciton that returns the compensation according to the position + years of experience.\n",
    "-- "
   ]
  },
  {
   "cell_type": "markdown",
   "metadata": {},
   "source": [
    "## Recap"
   ]
  },
  {
   "cell_type": "markdown",
   "metadata": {},
   "source": []
  }
 ],
 "metadata": {
  "kernelspec": {
   "display_name": "Haskell",
   "language": "haskell",
   "name": "haskell"
  },
  "language_info": {
   "codemirror_mode": "ihaskell",
   "file_extension": ".hs",
   "mimetype": "text/x-haskell",
   "name": "haskell",
   "pygments_lexer": "Haskell",
   "version": "8.10.7"
  },
  "vscode": {
   "interpreter": {
    "hash": "31f2aee4e71d21fbe5cf8b01ff0e069b9275f58929596ceb00d14d90e3e16cd6"
   }
  }
 },
 "nbformat": 4,
 "nbformat_minor": 4
}
