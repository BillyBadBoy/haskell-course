{
 "cells": [
  {
   "cell_type": "markdown",
   "metadata": {
    "slideshow": {
     "slide_type": "slide"
    }
   },
   "source": [
    "# Creating Type Classes and Instances"
   ]
  },
  {
   "cell_type": "markdown",
   "metadata": {
    "slideshow": {
     "slide_type": "slide"
    }
   },
   "source": [
    "## Outline\n",
    "\n",
    "* Overloading\n",
    "* Steps to create Type Classes and Instances\n",
    "* The `Eq` type class\n",
    "\t* Defining the `Eq` type class\n",
    "\t* Defining an instance for the `Eq` type class\n",
    "\t* Improving our `Eq` type class (minimal complete definition)\n",
    "\t* Defining an instance for a parameterize type.\n",
    "* The `Ord` type class\n",
    "\t* Exploring `Ord` type class (Subclassing)\n",
    "* Deriving\n",
    "* Complete example\n"
   ]
  },
  {
   "cell_type": "markdown",
   "metadata": {
    "slideshow": {
     "slide_type": "slide"
    }
   },
   "source": [
    "## Overloading"
   ]
  },
  {
   "cell_type": "markdown",
   "metadata": {
    "slideshow": {
     "slide_type": "notes"
    }
   },
   "source": [
    "Before learning what Overloading is, let's learn what the word \"date\" means. "
   ]
  },
  {
   "cell_type": "markdown",
   "metadata": {
    "slideshow": {
     "slide_type": "slide"
    }
   },
   "source": [
    "DATE:"
   ]
  },
  {
   "cell_type": "markdown",
   "metadata": {
    "slideshow": {
     "slide_type": "notes"
    }
   },
   "source": [
    "What does \"date\" mean? If I'd say that you have ony one chance to answer, and I'll give you 100 USD if you answer correctly, the intuitive answer is \"It depends!\"\n",
    "\n",
    "If you're saying \"What is your date of birth?\", then its:"
   ]
  },
  {
   "cell_type": "markdown",
   "metadata": {
    "slideshow": {
     "slide_type": "fragment"
    }
   },
   "source": [
    "1. The time at which an event occurs."
   ]
  },
  {
   "cell_type": "markdown",
   "metadata": {
    "slideshow": {
     "slide_type": "notes"
    }
   },
   "source": [
    "If you're saying \"Joe took Laura out on a date.\", then its:"
   ]
  },
  {
   "cell_type": "markdown",
   "metadata": {
    "slideshow": {
     "slide_type": "fragment"
    }
   },
   "source": [
    "2. A social engagement that often has a romantic character (unless Joe gets firendzoned)."
   ]
  },
  {
   "cell_type": "markdown",
   "metadata": {
    "slideshow": {
     "slide_type": "notes"
    }
   },
   "source": [
    "If you're saying \"I'll want to date a fossil\", I want to believe you're not refering to a romantic social engagement, but to:"
   ]
  },
  {
   "cell_type": "markdown",
   "metadata": {
    "slideshow": {
     "slide_type": "fragment"
    }
   },
   "source": [
    "3. The act of estimating or computing a date or chronology."
   ]
  },
  {
   "cell_type": "markdown",
   "metadata": {
    "slideshow": {
     "slide_type": "notes"
    }
   },
   "source": [
    "And if you look up the word, \"date\" is also the name of a fruit and has even more definitions!\n",
    "\n",
    "In programming, we would say that the word \"date\" is overloaded. Because it has multiple definitions for the same name. \n",
    "\n",
    "The word \"overloading\" is an overloaded word itself."
   ]
  },
  {
   "cell_type": "markdown",
   "metadata": {
    "slideshow": {
     "slide_type": "slide"
    }
   },
   "source": [
    "OVERLOADING:"
   ]
  },
  {
   "cell_type": "markdown",
   "metadata": {
    "slideshow": {
     "slide_type": "notes"
    }
   },
   "source": [
    "In everyday context, it usually means:"
   ]
  },
  {
   "cell_type": "markdown",
   "metadata": {
    "slideshow": {
     "slide_type": "fragment"
    }
   },
   "source": [
    "1. To put too large a load on or in (something)."
   ]
  },
  {
   "cell_type": "markdown",
   "metadata": {
    "slideshow": {
     "slide_type": "notes"
    }
   },
   "source": [
    "In a regular programming context, it means:"
   ]
  },
  {
   "cell_type": "markdown",
   "metadata": {
    "slideshow": {
     "slide_type": "fragment"
    }
   },
   "source": [
    "2. Having multiple implementations of a function with the same name."
   ]
  },
  {
   "cell_type": "markdown",
   "metadata": {
    "slideshow": {
     "slide_type": "notes"
    }
   },
   "source": [
    "How this work in practice depends on the language. For example, some languages like JavaScript, don't suport overloading. So you can not do it. And in others like C++, you can create multiple functions with the same name, and the compiler will choose which definition to use based on the types of the arguments.\n",
    "\n",
    "In Haskell, \"overloading\" means:"
   ]
  },
  {
   "cell_type": "markdown",
   "metadata": {
    "slideshow": {
     "slide_type": "fragment"
    }
   },
   "source": [
    "3. Having multiple implementations of a function or value with the same name."
   ]
  },
  {
   "cell_type": "markdown",
   "metadata": {
    "slideshow": {
     "slide_type": "notes"
    }
   },
   "source": [
    "Of course, Haskell had to step up the game. In Haskell, overloading is not restricted to functions. Values can be overloaded too. For example:"
   ]
  },
  {
   "cell_type": "markdown",
   "metadata": {
    "slideshow": {
     "slide_type": "slide"
    }
   },
   "source": [
    "- The literals `1`, `2`, etc. are overloaded because they could be interpreted as any numeric type (`Int`, `Integer`, `Float`, etc.)\n",
    "\n",
    "- The value `minBound` is overloaded because, for example, when used as a `Char` it will have value `'\\NUL'` while as an `Int` its `-2147483648`. \n",
    "\n",
    "- The equality operator (`==`) works with many types, and each type has its own implementation.\n",
    "\n",
    "- The function `max` also works with many types, and each type has its own implementation."
   ]
  },
  {
   "cell_type": "markdown",
   "metadata": {
    "slideshow": {
     "slide_type": "notes"
    }
   },
   "source": [
    "The first two are overloaded values and the last two are overloaded functios. So, we've been using overloaded functions and values all along. The question is: How do we get those in the first place? Well, the mechanism that allows overloading in Haskell are Type Classes."
   ]
  },
  {
   "cell_type": "markdown",
   "metadata": {
    "slideshow": {
     "slide_type": "slide"
    }
   },
   "source": [
    "## Steps to create Type Classes and Instances"
   ]
  },
  {
   "cell_type": "markdown",
   "metadata": {
    "slideshow": {
     "slide_type": "notes"
    }
   },
   "source": [
    "In the \"introduction to type classes\" lesson, we talked about why are type classes useful. And it basically boils down to having functions that can be used by many different types, but also have the safety that it only takes the types it can work with. So, if you create a function that takes two numbers and adds them together, you want that funciton to work with all numeric types, but you also want the compiler to stop you if you try to give it a non-numeric type.\n",
    "\n",
    "You are a very demanding person, you know? Just kidding.\n",
    "\n",
    "Type classes is a pretty unique feature. There are not many programming languages that implement it. But, the good thing, is that they're surprisingly easy to use!\n",
    "\n",
    "When creating our own type classes, we only need:"
   ]
  },
  {
   "cell_type": "markdown",
   "metadata": {
    "slideshow": {
     "slide_type": "fragment"
    }
   },
   "source": [
    "1. To create a Type Class\n",
    "\n",
    "2. To make a Type an instance of that Type Class"
   ]
  },
  {
   "cell_type": "markdown",
   "metadata": {
    "slideshow": {
     "slide_type": "notes"
    }
   },
   "source": [
    "That's it."
   ]
  },
  {
   "cell_type": "markdown",
   "metadata": {
    "slideshow": {
     "slide_type": "notes"
    }
   },
   "source": [
    "Practice makes perfect, so let's learn by doing. We'll start by re-defining the `Eq` Type Class."
   ]
  },
  {
   "cell_type": "markdown",
   "metadata": {
    "slideshow": {
     "slide_type": "slide"
    }
   },
   "source": [
    "## The `Eq` type class"
   ]
  },
  {
   "cell_type": "markdown",
   "metadata": {
    "slideshow": {
     "slide_type": "slide"
    }
   },
   "source": [
    "### Defining the `Eq` type class"
   ]
  },
  {
   "cell_type": "markdown",
   "metadata": {
    "slideshow": {
     "slide_type": "notes"
    }
   },
   "source": [
    "The `Eq` type class comes with Haskell, so you don't have to define it. But, like Lennon said, imagine. Imagine the `Eq` type class doesn't exist, and you want to create it to make the world a better place."
   ]
  },
  {
   "cell_type": "markdown",
   "metadata": {
    "slideshow": {
     "slide_type": "notes"
    }
   },
   "source": [
    "You can define the `Eq` type class like this:"
   ]
  },
  {
   "cell_type": "markdown",
   "metadata": {
    "slideshow": {
     "slide_type": "fragment"
    }
   },
   "source": [
    "```haskell\n",
    "class Eq a where\n",
    "  (==) :: a -> a -> Bool\n",
    "  (/=) :: a -> a -> Bool\n",
    "```"
   ]
  },
  {
   "cell_type": "markdown",
   "metadata": {
    "slideshow": {
     "slide_type": "notes"
    }
   },
   "source": [
    "In the first line, we start with the `class` keyword to indicate that we're going to create a type class, followed by how the type class will be called (`Eq`). Then, we write a type variable (`a`) that represents any type that will be made an instance of this type class in the future. And finally, we use the `where` keyword to start the block where we define the behaviors of our newly created type class.\n",
    "\n",
    "And now comes the interesting part. We have to define the behaviors. To do that, the only thing we have to do is write the name and type of the functions or values we need. In this case, because `Eq` type class is all about equality, we define the behaviors to be the `==` function, to check if two values are equal, and the `/=` function, to check if two values are different.\n",
    "\n",
    "And we indicate that both take two values of the type `a` we specified before, and return a `Bool`. `True` if the condition passes, and `False` if it doesn't."
   ]
  },
  {
   "cell_type": "markdown",
   "metadata": {
    "slideshow": {
     "slide_type": "notes"
    }
   },
   "source": [
    "And done! We have our `Eq` type class ready to go! This means that we have the name and types of the two functions that the `Eq` type class provides. But, wait, we don't have the definitions! That's because each type will have its own definitions. And those definitions are provided when defining an instance for the typeclass."
   ]
  },
  {
   "cell_type": "markdown",
   "metadata": {
    "slideshow": {
     "slide_type": "slide"
    }
   },
   "source": [
    "### Defining an instance for the `Eq` type class"
   ]
  },
  {
   "cell_type": "markdown",
   "metadata": {
    "slideshow": {
     "slide_type": "notes"
    }
   },
   "source": [
    "First, we need a type, so let's define a type for the payment methods a customer can use in our app:"
   ]
  },
  {
   "cell_type": "code",
   "execution_count": 6,
   "metadata": {
    "slideshow": {
     "slide_type": "slide"
    }
   },
   "outputs": [],
   "source": [
    "data PaymentMethod = Cash | Card | CC -- CC stands for Cryptocurrency\n",
    "\n",
    "type User = (String, PaymentMethod)"
   ]
  },
  {
   "cell_type": "markdown",
   "metadata": {
    "slideshow": {
     "slide_type": "notes"
    }
   },
   "source": [
    "And if we want, for example, to check if two users have the same payment method, we culd write a function like this one:"
   ]
  },
  {
   "cell_type": "code",
   "execution_count": 5,
   "metadata": {
    "slideshow": {
     "slide_type": "fragment"
    }
   },
   "outputs": [],
   "source": [
    "samePM :: User -> User -> Bool\n",
    "samePM (_, pm1) (_, pm2) = pm1 == pm2  -- Won't work!"
   ]
  },
  {
   "cell_type": "markdown",
   "metadata": {
    "slideshow": {
     "slide_type": "notes"
    }
   },
   "source": [
    "If yout try to run this, you'll realize that this won't work! Because `==` is a behavior of the `Eq` type class, but our new `PaymentMethod` type is not an instance of the `Eq` type class! So it doesn't have the implementations of `==` and `/=` to use. To fix this, we'll make it an instance!"
   ]
  },
  {
   "cell_type": "markdown",
   "metadata": {},
   "source": [
    "```haskell\n",
    "-- class Eq a where\n",
    "--   ...\n",
    "\n",
    "instance Eq PaymentMethod where\n",
    "  -- Implementations for Eq behaviors specific to PaymentMethod\n",
    "```"
   ]
  },
  {
   "cell_type": "markdown",
   "metadata": {
    "slideshow": {
     "slide_type": "notes"
    }
   },
   "source": [
    "To do that, we use the `instance` keyword followed by the name of the type class we want to make an instance for, the type that will be an instance of that type class, and the `where` keyword. Then, inside that block, we implement the functions defined in that type class.'"
   ]
  },
  {
   "cell_type": "markdown",
   "metadata": {
    "slideshow": {
     "slide_type": "notes"
    }
   },
   "source": [
    "As you can see, because now we're creating an instance for a type, we replace the type variable (`a`) that we had in the type class definition for that specific type (`PaymentMethod`).\n",
    "\n",
    "And because we're creating an instance for the Eq type class, we need to implement the == and /= functions. So we'll do just that:"
   ]
  },
  {
   "cell_type": "code",
   "execution_count": 4,
   "metadata": {
    "slideshow": {
     "slide_type": "slide"
    }
   },
   "outputs": [],
   "source": [
    "-- class Eq a where\n",
    "--   (==) :: a -> a -> Bool\n",
    "--   (/=) :: a -> a -> Bool\n",
    "\n",
    "-- data PaymentMethod = Cash | Card | CC\n",
    "\n",
    "instance Eq PaymentMethod where\n",
    "  -- Implementation of ==\n",
    "  Cash == Cash = True\n",
    "  Card == Card = True -- Same as: (==) Card Card = True\n",
    "  CC == CC = True\n",
    "  _ == _ = False\n",
    "  \n",
    "  -- Implementation of /=\n",
    "  Cash /= Cash = False\n",
    "  Card /= Card = False\n",
    "  CC /= CC = False\n",
    "  _ /= _ = True"
   ]
  },
  {
   "cell_type": "markdown",
   "metadata": {
    "slideshow": {
     "slide_type": "notes"
    }
   },
   "source": [
    "And that's it! That's how you define a type class and how you make a type an instance of it! Now, `PaymentMethod` can freely use the `Eq` behaviours (`==` and `/=`):"
   ]
  },
  {
   "cell_type": "code",
   "execution_count": null,
   "metadata": {
    "slideshow": {
     "slide_type": "slide"
    }
   },
   "outputs": [],
   "source": [
    "Card == Cash\n",
    "CC /= Card"
   ]
  },
  {
   "cell_type": "markdown",
   "metadata": {
    "slideshow": {
     "slide_type": "notes"
    }
   },
   "source": [
    "And the previous function will work now:"
   ]
  },
  {
   "cell_type": "code",
   "execution_count": null,
   "metadata": {
    "slideshow": {
     "slide_type": "fragment"
    }
   },
   "outputs": [],
   "source": [
    "samePM :: User -> User -> Bool\n",
    "samePM (_, pm1) (_, pm2) = pm1 == pm2  -- It's alive! "
   ]
  },
  {
   "cell_type": "markdown",
   "metadata": {
    "slideshow": {
     "slide_type": "slide"
    }
   },
   "source": [
    "### Improving our `Eq` type class (and Mutual Recursion)"
   ]
  },
  {
   "cell_type": "markdown",
   "metadata": {
    "slideshow": {
     "slide_type": "notes"
    }
   },
   "source": [
    "Our work is technically done. We have our type class and our instance. But there's a property of the functions we just defined that we're not taking advantage of.\n",
    "\n",
    "We know that, for the same two inputs, both functions will always return the oposite result. If two values are equal, that means that they are not different, and if they are different, that means that they are not equal. So, we know that for each pair of values, `==` and `/=` will always give us the opposite `Bool` value.\n",
    "\n",
    "We're on our way to become epic Haskell developers, and epic Haskell developers can do better than that. So let's use this knowledge to improve our type class and instance! Starting by redefining the `Eq` type class like this:"
   ]
  },
  {
   "cell_type": "markdown",
   "metadata": {
    "slideshow": {
     "slide_type": "slide"
    }
   },
   "source": [
    "```haskell\n",
    "class Eq a where\n",
    "  (==), (/=)  :: a -> a -> Bool\n",
    "  x /= y      = not (x == y)\n",
    "  x == y      = not (x /= y)\n",
    "```"
   ]
  },
  {
   "cell_type": "markdown",
   "metadata": {
    "slideshow": {
     "slide_type": "notes"
    }
   },
   "source": [
    "**Which is how `Eq` is actually defined in the standard library!**"
   ]
  },
  {
   "cell_type": "markdown",
   "metadata": {
    "slideshow": {
     "slide_type": "notes"
    }
   },
   "source": [
    "Let's analize this code. Because both functions have the same type, we can specify them in a single line. And, yes, we're also writting function definitions inside the type class. We can do that as long as they are type-agnostic, because they have to work with all types.\n",
    "\n",
    "Looking the definitions in more detail, we see that we're using the `not` function. The `not` function takes a boolean and returns its oposite. So, in the third line, we're sayig that, the result of applying `/=` to `x` and `y` is the oposite (`not`) of the result of applying `==` to the same `x` and `y`. And in the fourth line, we're sayig that, the result of applying `==` to `x` and `y` is the oposite (`not`) of the result of applying `/=` to the same `x` and `y`.\n",
    "\n",
    "This is called mutual recursion, because both functions are defined in terms of each other. By defining `==` and `/=` as the oposite of the other one, now Haskell can infer the behavior of one from the other. \n",
    "\n",
    "And, of course, like any other recursion, it needs a base case to know when to stop the recursion! And that's what we provide when implementing an instance! For example, let's redefine the PaymentMethod instance for this new type class:"
   ]
  },
  {
   "cell_type": "code",
   "execution_count": 7,
   "metadata": {
    "slideshow": {
     "slide_type": "fragment"
    }
   },
   "outputs": [],
   "source": [
    "instance Eq PaymentMethod where\n",
    "  Cash == Cash = True\n",
    "  Card == Card = True\n",
    "  CC == CC = True\n",
    "  _ == _ = False"
   ]
  },
  {
   "cell_type": "markdown",
   "metadata": {
    "slideshow": {
     "slide_type": "notes"
    }
   },
   "source": [
    "That's it! Because now the compiler can infer the value of one function with the other, we don't need to implement both == and /=. We can implement the one that's more convenient and call it a day!"
   ]
  },
  {
   "cell_type": "markdown",
   "metadata": {
    "slideshow": {
     "slide_type": "notes"
    }
   },
   "source": [
    "This is called **minimal complete definition**. Because it's the minimal you have to implement to get a fully functioning instance with all its behaviors. And you can take advantage of this by checking what's the minimal complete definition of a type class using `:i <type class>` and implementing only those behaviors. If you do `:i Eq`, you'll get:"
   ]
  },
  {
   "cell_type": "markdown",
   "metadata": {
    "slideshow": {
     "slide_type": "slide"
    }
   },
   "source": [
    "```haskell\n",
    "type Eq :: * -> Constraint -- Eq takes a concrete type and  returns a Constraint\n",
    "class Eq a where\n",
    "  (==) :: a -> a -> Bool\n",
    "  (/=) :: a -> a -> Bool\n",
    "  {-# MINIMAL (==) | (/=) #-}\n",
    "  \t-- Defined in ‘GHC.Classes’\n",
    "\n",
    "-- ... and a bunch of instances.\n",
    "```"
   ]
  },
  {
   "cell_type": "markdown",
   "metadata": {
    "slideshow": {
     "slide_type": "notes"
    }
   },
   "source": [
    "In this line:\n",
    "\n",
    "```haskell\n",
    "{-# MINIMAL (==) | (/=) #-}\n",
    "```\n",
    "\n",
    "It says that to have the *minimal complete definition* of the class, you have to implement either `==` OR `/=`."
   ]
  },
  {
   "cell_type": "markdown",
   "metadata": {
    "slideshow": {
     "slide_type": "notes"
    }
   },
   "source": [
    "Now, remember that, you're a visionary creating `Eq` type class to make the world a better place. So, if we stop here, the `==` and `/=` functions wouldn't be overloaded functions! Because they would have only the definition for `PaymentMethod`.\n",
    "\n",
    "But there's a reason you decided to create this `Eq` type class. And the reason is that you thought the behaviors it provides are useful for many types. For example, the Blockchain type:"
   ]
  },
  {
   "cell_type": "code",
   "execution_count": 11,
   "metadata": {
    "scrolled": false,
    "slideshow": {
     "slide_type": "slide"
    }
   },
   "outputs": [
    {
     "data": {
      "text/plain": [
       "True"
      ]
     },
     "metadata": {},
     "output_type": "display_data"
    }
   ],
   "source": [
    "-- Create data type\n",
    "data Blockchain = Cardano | Ethereum | Bitcoin\n",
    "\n",
    "-- Create instance of Eq\n",
    "instance Eq Blockchain where\n",
    "    Cardano == Cardano = True\n",
    "    Ethereum == Ethereum = True\n",
    "    Bitcoin == Bitcoin = True\n",
    "    _ == _ = False\n",
    "\n",
    "\n",
    "-- Test\n",
    "Cardano == Cardano"
   ]
  },
  {
   "cell_type": "markdown",
   "metadata": {
    "slideshow": {
     "slide_type": "notes"
    }
   },
   "source": [
    "Now, the `==` and `/=` are trully overloaded, because they have more than one definition depending on the type of the values they are applied to.\n",
    "\n",
    "Ok, so far, we created two instances of the `Eq` type class. And both instances are for non-parameterized types. Let's learn how can we create instances for parameterized types."
   ]
  },
  {
   "cell_type": "markdown",
   "metadata": {
    "slideshow": {
     "slide_type": "slide"
    }
   },
   "source": [
    "### Defining an instance for a parameterized type"
   ]
  },
  {
   "cell_type": "markdown",
   "metadata": {
    "slideshow": {
     "slide_type": "notes"
    }
   },
   "source": [
    "To create an instance for a parameterized type, first, we need the parameterized type:"
   ]
  },
  {
   "cell_type": "code",
   "execution_count": 13,
   "metadata": {
    "slideshow": {
     "slide_type": "slide"
    }
   },
   "outputs": [],
   "source": [
    "data Box a = Empty | Has a"
   ]
  },
  {
   "cell_type": "markdown",
   "metadata": {
    "slideshow": {
     "slide_type": "notes"
    }
   },
   "source": [
    "Now we can create our instace. But we can't create it like this:"
   ]
  },
  {
   "cell_type": "markdown",
   "metadata": {
    "slideshow": {
     "slide_type": "fragment"
    }
   },
   "source": [
    "```haskell\n",
    "instance Eq Box where\n",
    "-- ...\n",
    "```"
   ]
  },
  {
   "cell_type": "markdown",
   "metadata": {
    "slideshow": {
     "slide_type": "notes"
    }
   },
   "source": [
    "Why? Well, if we take a look at the type class using the `:i` command:"
   ]
  },
  {
   "cell_type": "markdown",
   "metadata": {
    "slideshow": {
     "slide_type": "fragment"
    }
   },
   "source": [
    "```haskell\n",
    "type Eq :: * -> Constraint\n",
    "class Eq a where\n",
    "(==) :: a -> a -> Bool\n",
    "(/=) :: a -> a -> Bool\n",
    "```"
   ]
  },
  {
   "cell_type": "markdown",
   "metadata": {},
   "source": [
    "We get remided that the type variable `a` is a concrete type. We can see this in two places:\n",
    "- If we check the types of the functions, we see that the type variable `a` is alone between arrows, so it represents a concrete type by itself.\n",
    "- And, because of that, the kind of `Eq` (`type Eq :: * -> Constraint`) clearly states that it takes a concrete type and produces a `Constraint`.\n",
    "\n",
    "Type classes always have a kind that returns a `Constraint`, because type classes constraint the polymorphic values. So, If you see a kind that ends in `Constraint`, you know that it's a type class and that it goes to the left of the `=>` arrow to constraint polymorphic types. On top of that, you don't need to check how the type class uses the type variable in the functions, because the kind is already telling you if it needs a concrete type or a specific type constructor.\n",
    "\n",
    "So, because of `Eq :: * -> Constraint`, we know that the `a` in `Eq a` is of kind `*` but if we check the kind of `Box`:"
   ]
  },
  {
   "cell_type": "code",
   "execution_count": 2,
   "metadata": {},
   "outputs": [
    {
     "data": {
      "text/html": [
       "<style>/* Styles used for the Hoogle display in the pager */\n",
       ".hoogle-doc {\n",
       "display: block;\n",
       "padding-bottom: 1.3em;\n",
       "padding-left: 0.4em;\n",
       "}\n",
       ".hoogle-code {\n",
       "display: block;\n",
       "font-family: monospace;\n",
       "white-space: pre;\n",
       "}\n",
       ".hoogle-text {\n",
       "display: block;\n",
       "}\n",
       ".hoogle-name {\n",
       "color: green;\n",
       "font-weight: bold;\n",
       "}\n",
       ".hoogle-head {\n",
       "font-weight: bold;\n",
       "}\n",
       ".hoogle-sub {\n",
       "display: block;\n",
       "margin-left: 0.4em;\n",
       "}\n",
       ".hoogle-package {\n",
       "font-weight: bold;\n",
       "font-style: italic;\n",
       "}\n",
       ".hoogle-module {\n",
       "font-weight: bold;\n",
       "}\n",
       ".hoogle-class {\n",
       "font-weight: bold;\n",
       "}\n",
       ".get-type {\n",
       "color: green;\n",
       "font-weight: bold;\n",
       "font-family: monospace;\n",
       "display: block;\n",
       "white-space: pre-wrap;\n",
       "}\n",
       ".show-type {\n",
       "color: green;\n",
       "font-weight: bold;\n",
       "font-family: monospace;\n",
       "margin-left: 1em;\n",
       "}\n",
       ".mono {\n",
       "font-family: monospace;\n",
       "display: block;\n",
       "}\n",
       ".err-msg {\n",
       "color: red;\n",
       "font-style: italic;\n",
       "font-family: monospace;\n",
       "white-space: pre;\n",
       "display: block;\n",
       "}\n",
       "#unshowable {\n",
       "color: red;\n",
       "font-weight: bold;\n",
       "}\n",
       ".err-msg.in.collapse {\n",
       "padding-top: 0.7em;\n",
       "}\n",
       ".highlight-code {\n",
       "white-space: pre;\n",
       "font-family: monospace;\n",
       "}\n",
       ".suggestion-warning { \n",
       "font-weight: bold;\n",
       "color: rgb(200, 130, 0);\n",
       "}\n",
       ".suggestion-error { \n",
       "font-weight: bold;\n",
       "color: red;\n",
       "}\n",
       ".suggestion-name {\n",
       "font-weight: bold;\n",
       "}\n",
       "</style><span class='get-type'>Box :: * -> *</span>"
      ],
      "text/plain": [
       "Box :: * -> *"
      ]
     },
     "metadata": {},
     "output_type": "display_data"
    }
   ],
   "source": [
    ":k Box"
   ]
  },
  {
   "cell_type": "markdown",
   "metadata": {},
   "source": [
    "We see that it's not a concrete type, but a type constructor that takes one type as parameter and re turns a concrete type.\n",
    "\n",
    "So, what do we do? We can apply Box to another type to get a concrete type, like this:"
   ]
  },
  {
   "cell_type": "code",
   "execution_count": 3,
   "metadata": {},
   "outputs": [
    {
     "data": {
      "text/html": [
       "<style>/* Styles used for the Hoogle display in the pager */\n",
       ".hoogle-doc {\n",
       "display: block;\n",
       "padding-bottom: 1.3em;\n",
       "padding-left: 0.4em;\n",
       "}\n",
       ".hoogle-code {\n",
       "display: block;\n",
       "font-family: monospace;\n",
       "white-space: pre;\n",
       "}\n",
       ".hoogle-text {\n",
       "display: block;\n",
       "}\n",
       ".hoogle-name {\n",
       "color: green;\n",
       "font-weight: bold;\n",
       "}\n",
       ".hoogle-head {\n",
       "font-weight: bold;\n",
       "}\n",
       ".hoogle-sub {\n",
       "display: block;\n",
       "margin-left: 0.4em;\n",
       "}\n",
       ".hoogle-package {\n",
       "font-weight: bold;\n",
       "font-style: italic;\n",
       "}\n",
       ".hoogle-module {\n",
       "font-weight: bold;\n",
       "}\n",
       ".hoogle-class {\n",
       "font-weight: bold;\n",
       "}\n",
       ".get-type {\n",
       "color: green;\n",
       "font-weight: bold;\n",
       "font-family: monospace;\n",
       "display: block;\n",
       "white-space: pre-wrap;\n",
       "}\n",
       ".show-type {\n",
       "color: green;\n",
       "font-weight: bold;\n",
       "font-family: monospace;\n",
       "margin-left: 1em;\n",
       "}\n",
       ".mono {\n",
       "font-family: monospace;\n",
       "display: block;\n",
       "}\n",
       ".err-msg {\n",
       "color: red;\n",
       "font-style: italic;\n",
       "font-family: monospace;\n",
       "white-space: pre;\n",
       "display: block;\n",
       "}\n",
       "#unshowable {\n",
       "color: red;\n",
       "font-weight: bold;\n",
       "}\n",
       ".err-msg.in.collapse {\n",
       "padding-top: 0.7em;\n",
       "}\n",
       ".highlight-code {\n",
       "white-space: pre;\n",
       "font-family: monospace;\n",
       "}\n",
       ".suggestion-warning { \n",
       "font-weight: bold;\n",
       "color: rgb(200, 130, 0);\n",
       "}\n",
       ".suggestion-error { \n",
       "font-weight: bold;\n",
       "color: red;\n",
       "}\n",
       ".suggestion-name {\n",
       "font-weight: bold;\n",
       "}\n",
       "</style><span class='get-type'>Box Int :: *</span>"
      ],
      "text/plain": [
       "Box Int :: *"
      ]
     },
     "metadata": {},
     "output_type": "display_data"
    }
   ],
   "source": [
    ":k Box Int"
   ]
  },
  {
   "cell_type": "markdown",
   "metadata": {},
   "source": [
    "That way, we could create the instances like this:"
   ]
  },
  {
   "cell_type": "markdown",
   "metadata": {},
   "source": [
    "```haskell\n",
    "instance Eq (Box Int) where\n",
    "-- ...\n",
    "\n",
    "instance Eq (Box String) where\n",
    "-- ...\n",
    "\n",
    "instance Eq (Box PaymentMethod) where\n",
    "-- ...\n",
    "\n",
    "--- etc\n",
    "```"
   ]
  },
  {
   "cell_type": "markdown",
   "metadata": {},
   "source": [
    "And it would work perfectly. But, Hmm, this is a lot of work. And we already went through this, and we solved it with type variables. This time is no different!:"
   ]
  },
  {
   "cell_type": "markdown",
   "metadata": {},
   "source": [
    "```haskell\n",
    "instance Eq (Box a) where\n",
    "-- ...\n",
    "```"
   ]
  },
  {
   "cell_type": "markdown",
   "metadata": {},
   "source": [
    "By defining this instace, all the types created using the `Box` type constructor (like `Box String` or `Box Int`) will be an instance of `Eq`.\n",
    "\n",
    "Now, wait a second now, how do we define the instance if we don't know the type of the value inside the box? Well, if we decide that two emtpy boxes or two boxes containing equal elements are equal, and everything else is different, we can define the behaviours as:"
   ]
  },
  {
   "cell_type": "code",
   "execution_count": 2,
   "metadata": {},
   "outputs": [
    {
     "ename": "",
     "evalue": "",
     "output_type": "error",
     "traceback": [
      "<interactive>:2:20: error:\n    • No instance for (Eq a) arising from a use of ‘==’\n      Possible fix: add (Eq a) to the context of the instance declaration\n    • In the expression: x == y\n      In an equation for ‘==’: Has x == Has y = x == y\n      In the instance declaration for ‘Eq (Box a)’"
     ]
    }
   ],
   "source": [
    "instance Eq (Box a) where\n",
    "  Has x == Has y = x == y\n",
    "  Empty == Empty = True\n",
    "  _ == _ = False"
   ]
  },
  {
   "cell_type": "markdown",
   "metadata": {},
   "source": [
    "In the first formula, we specify that two boxes are equal if the elements that they contain are equal. So we're defining `==` for the `Box a` type by using `==` for the `a` type that it contains. So, if both boxes contain the same elements, the boxes themselves are the same.\n",
    "\n",
    "And, in the second formula, we specify that, if both boxes are empty, they are also the same.\n",
    "\n",
    "For every other case, the boxes are different."
   ]
  },
  {
   "cell_type": "markdown",
   "metadata": {},
   "source": [
    "This makes sense, but there's a HUGE oversight from our part! Did you spotted it? Did you even run the cell?"
   ]
  },
  {
   "cell_type": "markdown",
   "metadata": {},
   "source": [
    "Exactly! We're using `==` between two values (`x` and `y`) of type `a` without making sure that the `a` type itself is an instance of `Eq`! What if it isn't? The `==` function wouldn't be defined for the type and our program would crash! Of course, that would never actually happen, because the compiler would yell at us for doing such a foolish thing. So, we have to make sure those types are instances of the `Eq` class first!\n",
    "\n",
    "And how? Same as with functions, we just add the constraint that the type `a` inside `Box a` has to be an instance of the `Eq` type class."
   ]
  },
  {
   "cell_type": "code",
   "execution_count": 15,
   "metadata": {},
   "outputs": [],
   "source": [
    "instance (Eq a) => Eq (Box a) where\n",
    "  Has x == Has y = x == y\n",
    "  Empty == Empty = True\n",
    "  _ == _ = False"
   ]
  },
  {
   "cell_type": "markdown",
   "metadata": {},
   "source": [
    "That way, the type `Box a` will be an instance of `Eq` for all the types `a` that are also an instance of `Eq`.\n",
    "\n",
    "Aaaaaaand, we're done! We can use this new type like this:"
   ]
  },
  {
   "cell_type": "code",
   "execution_count": 24,
   "metadata": {},
   "outputs": [
    {
     "data": {
      "text/plain": [
       "True"
      ]
     },
     "metadata": {},
     "output_type": "display_data"
    },
    {
     "data": {
      "text/plain": [
       "False"
      ]
     },
     "metadata": {},
     "output_type": "display_data"
    },
    {
     "data": {
      "text/plain": [
       "False"
      ]
     },
     "metadata": {},
     "output_type": "display_data"
    },
    {
     "ename": "",
     "evalue": "",
     "output_type": "error",
     "traceback": [
      "<interactive>:1:1: error:\n    • No instance for (Eq Choice) arising from a use of ‘==’\n    • In the expression: Has Yes == Has No\n      In an equation for ‘it’: it = Has Yes == Has No"
     ]
    }
   ],
   "source": [
    "data Choice = Yes | No      -- We didn't create an Eq instance for Choice\n",
    "\n",
    "Has Cardano /= Has Ethereum -- True\n",
    "\n",
    "Has Card == Empty           -- False\n",
    "\n",
    "Has Bitcoin /= Has Bitcoin  -- False\n",
    "\n",
    "Has Yes == Has No           -- Angry compiler: There's no instance for (Eq Choice), you fool!"
   ]
  },
  {
   "cell_type": "markdown",
   "metadata": {},
   "source": [
    "Now that we went step-by-step with the `Eq` type class, Let's do everything again, but quicker and with a new type class.\n",
    "\n",
    "Imagine we're writting an app that accepts payments for a company, and this company doesn't accept all payment methods and blockchains. So, you have to create the functions to reflect this:"
   ]
  },
  {
   "cell_type": "code",
   "execution_count": 31,
   "metadata": {},
   "outputs": [],
   "source": [
    "weAcceptPayment :: PaymentMethod -> Bool\n",
    "weAcceptPayment p = case p of\n",
    "   Cash -> False\n",
    "   Card -> True\n",
    "   CC   -> True\n",
    "\n",
    "weAcceptBlockchain :: Blockchain -> Bool\n",
    "weAcceptBlockchain b = case b of\n",
    "   Bitcoin  -> True\n",
    "   Ethereum -> False\n",
    "   Cardano  -> True"
   ]
  },
  {
   "cell_type": "markdown",
   "metadata": {},
   "source": [
    "And seeing this code, you realize that this behavior of checking if the company accepts something could be used in many other aspects. Like countries, providers, technologies, etc. There are a lot of things a company could decide to accept or not. To avoid having a bunch of functions that do the same but with a different name for each type, you decide to create a type class that represents this behavior.\n",
    "\n",
    "And that type class looks like this:"
   ]
  },
  {
   "cell_type": "code",
   "execution_count": 32,
   "metadata": {},
   "outputs": [],
   "source": [
    "class WeAccept a where\n",
    "  weAccept :: a -> Bool"
   ]
  },
  {
   "cell_type": "markdown",
   "metadata": {},
   "source": [
    "And create the instances for `PaymentMethod` and `Blockchain` like this:"
   ]
  },
  {
   "cell_type": "code",
   "execution_count": 74,
   "metadata": {},
   "outputs": [],
   "source": [
    "instance WeAccept PaymentMethod where\n",
    "  weAccept x = case x of\n",
    "   Cash -> False\n",
    "   Card -> True\n",
    "   CC   -> True\n",
    "\n",
    "instance WeAccept Blockchain where\n",
    "  weAccept x = case x of\n",
    "   Bitcoin  -> True\n",
    "   Ethereum -> False\n",
    "   Cardano  -> True\n",
    "   \n",
    "   \n",
    "newtype Country = Country { countryName :: String }\n",
    "\n",
    "instance WeAccept Country where\n",
    "  weAccept x = case countryName x of\n",
    "    \"Mordor\" -> False\n",
    "    _        -> True"
   ]
  },
  {
   "cell_type": "markdown",
   "metadata": {},
   "source": [
    "This gives us the hability to use the `weAccept` function in all the instances:"
   ]
  },
  {
   "cell_type": "code",
   "execution_count": 75,
   "metadata": {},
   "outputs": [
    {
     "data": {
      "text/plain": [
       "True"
      ]
     },
     "metadata": {},
     "output_type": "display_data"
    },
    {
     "data": {
      "text/plain": [
       "False"
      ]
     },
     "metadata": {},
     "output_type": "display_data"
    },
    {
     "data": {
      "text/plain": [
       "False"
      ]
     },
     "metadata": {},
     "output_type": "display_data"
    }
   ],
   "source": [
    "weAccept Cardano\n",
    "weAccept Cash\n",
    "weAccept (Country \"Mordor\")"
   ]
  },
  {
   "cell_type": "markdown",
   "metadata": {},
   "source": [
    "And we can also create functions that can be applied to all the types that are instances of `WeAccept`:"
   ]
  },
  {
   "cell_type": "code",
   "execution_count": 38,
   "metadata": {},
   "outputs": [
    {
     "data": {
      "text/plain": [
       "\"Do something fancy\""
      ]
     },
     "metadata": {},
     "output_type": "display_data"
    },
    {
     "data": {
      "text/plain": [
       "\"Do something fancy\""
      ]
     },
     "metadata": {},
     "output_type": "display_data"
    },
    {
     "data": {
      "text/plain": [
       "\"Don't do it.\""
      ]
     },
     "metadata": {},
     "output_type": "display_data"
    }
   ],
   "source": [
    "fancyFunction :: (WeAccept a) => a -> String\n",
    "fancyFunction x =\n",
    "  if weAccept x\n",
    "    then \"Do something fancy\"\n",
    "    else \"Don't do it.\"\n",
    "    \n",
    "fancyFunction Cardano\n",
    "fancyFunction Card\n",
    "fancyFunction (Country \"Mordor\")"
   ]
  },
  {
   "cell_type": "markdown",
   "metadata": {},
   "source": [
    "Let's keep going."
   ]
  },
  {
   "cell_type": "markdown",
   "metadata": {},
   "source": [
    "## Exploring the `Ord` type class (Subclassing)"
   ]
  },
  {
   "cell_type": "markdown",
   "metadata": {},
   "source": [
    "If we run the info command on the `Ord` type class (`:i Ord`), we would get something like this:"
   ]
  },
  {
   "cell_type": "markdown",
   "metadata": {
    "slideshow": {
     "slide_type": "slide"
    }
   },
   "source": [
    "```haskell\n",
    "type Ord :: * -> Constraint         -- Takes a concreate type and returns a Constraint\n",
    "class Eq a => Ord a where           -- That \"Eq a =>\" is new!! 🤔\n",
    "  compare :: a -> a -> Ordering \n",
    "  (<) :: a -> a -> Bool             -- A bunch of function definitions\n",
    "  (<=) :: a -> a -> Bool\n",
    "  (>) :: a -> a -> Bool\n",
    "  (>=) :: a -> a -> Bool\n",
    "  max :: a -> a -> a\n",
    "  min :: a -> a -> a\n",
    "  {-# MINIMAL compare | (<=) #-}    -- We can implement it with only \"compare\" or \"<=\".\n",
    "```"
   ]
  },
  {
   "cell_type": "markdown",
   "metadata": {},
   "source": [
    "Everything checks out. Except for that `Eq a =>`. We've seen this in both functions and instances. But never on type class definitions."
   ]
  },
  {
   "cell_type": "markdown",
   "metadata": {},
   "source": [
    "This (`Eq a =>`) it's called **subclassing**, and it means exactly what you'd imagine:"
   ]
  },
  {
   "cell_type": "markdown",
   "metadata": {},
   "source": [
    "**To make a type `a` an instance of `Ord`, first we have to make it an instance or `Eq`! Meaning that `Eq` is a prerequesite for `Ord`**"
   ]
  },
  {
   "cell_type": "markdown",
   "metadata": {},
   "source": [
    "And why is that? Same reason as always. Somewhere inside the code that comes with the default `Ord` type class, we're using a function that comes with the `Eq` type class.\n",
    "\n",
    "We can't see it, because, here, the info command doesn't show it. But we know that there are a bunch of function definitions that depend on each other. That's why we can get the entire instance by just defining `compare` or `<=`.\n",
    "\n",
    "The info command doesn't show all that code because we, as developers, don't care about it. We just want to know which behaviors come with the type class, which are the minimal we have to implement if we want to create an instance for some type we created, and which types are already an instance of this type class. And that's exactly what the info command shows us."
   ]
  },
  {
   "cell_type": "markdown",
   "metadata": {},
   "source": [
    "So, to make a type an instance of `Ord`, first we have to make it an instance or `Eq`. Luckly, we already created a few instances for `Eq` before, so we can create for the `Ord` class without any problems. \n",
    "\n",
    "For example, if we want to create an instance of `Box a` for the `Ord` type class, we have to pick one of the functions needed for the minimal complete implementation, and code it! In this case, we chose the `compare` function:"
   ]
  },
  {
   "cell_type": "code",
   "execution_count": 54,
   "metadata": {
    "scrolled": true
   },
   "outputs": [
    {
     "data": {
      "text/plain": [
       "True"
      ]
     },
     "metadata": {},
     "output_type": "display_data"
    },
    {
     "data": {
      "text/plain": [
       "False"
      ]
     },
     "metadata": {},
     "output_type": "display_data"
    },
    {
     "data": {
      "text/plain": [
       "False"
      ]
     },
     "metadata": {},
     "output_type": "display_data"
    }
   ],
   "source": [
    "instance (Ord a) => Ord (Box a) where\n",
    "  Has x `compare` Has y = x `compare` y\n",
    "  Empty `compare` Has _ = LT\n",
    "  Empty `compare` Empty = EQ\n",
    "  Has _ `compare` Empty = GT\n",
    "\n",
    "\n",
    "Has 9 >= Has 5\n",
    "Empty == Has 0\n",
    "Empty < Empty"
   ]
  },
  {
   "cell_type": "markdown",
   "metadata": {},
   "source": [
    "This is all well and good, but what if I need a type to behave like `Ord`, `Num`, and `Show`? Most common cases are implemented the same, and that's a lot of repetitive work. Luckily,—thanks to some really smart guys with PhDs—most of the time, we don't need to actually do it! We can just derive the instance!"
   ]
  },
  {
   "cell_type": "markdown",
   "metadata": {},
   "source": [
    "## Deriving"
   ]
  },
  {
   "cell_type": "markdown",
   "metadata": {},
   "source": [
    "Derived instances are an automatic way of making a type an instance a type class.\n",
    "\n",
    "They are possible only for classes known to the compiler: those defined in either the Prelude or a standard library (`Eq`, `Ord`, `Enum`, ...). When in doubt, try, and the compiler will yell at you and give you useful information if it can't do it."
   ]
  },
  {
   "cell_type": "markdown",
   "metadata": {},
   "source": [
    "To use this feature, just add `deriving (...)` (with the names of all the type classes that you want to derive) at the end of your type declaration."
   ]
  },
  {
   "cell_type": "code",
   "execution_count": null,
   "metadata": {},
   "outputs": [],
   "source": [
    "{- ... -} deriving ( {- ... -} )"
   ]
  },
  {
   "cell_type": "markdown",
   "metadata": {},
   "source": [
    "And each type class has its own set of rules for deriving instances. For example, when deriving the `Ord` type, the values generated from the constructors that were defined first are smaller."
   ]
  },
  {
   "cell_type": "code",
   "execution_count": 76,
   "metadata": {},
   "outputs": [
    {
     "data": {
      "text/plain": [
       "False"
      ]
     },
     "metadata": {},
     "output_type": "display_data"
    },
    {
     "data": {
      "text/plain": [
       "True"
      ]
     },
     "metadata": {},
     "output_type": "display_data"
    },
    {
     "data": {
      "text/plain": [
       "GT"
      ]
     },
     "metadata": {},
     "output_type": "display_data"
    }
   ],
   "source": [
    "data PaymentMethod = Cash | Card | CC deriving (Eq, Ord)\n",
    "\n",
    "Cash > Card\n",
    "Card < CC\n",
    "CC `compare` Cash"
   ]
  },
  {
   "cell_type": "markdown",
   "metadata": {},
   "source": [
    "And if values are made from the same constructor and the constructor does have fields, the fields are compared (In this case, the types of the fields also have to be instances of `Ord`):"
   ]
  },
  {
   "cell_type": "code",
   "execution_count": 63,
   "metadata": {},
   "outputs": [
    {
     "data": {
      "text/plain": [
       "EQ"
      ]
     },
     "metadata": {},
     "output_type": "display_data"
    },
    {
     "data": {
      "text/plain": [
       "LT"
      ]
     },
     "metadata": {},
     "output_type": "display_data"
    },
    {
     "data": {
      "text/plain": [
       "LT"
      ]
     },
     "metadata": {},
     "output_type": "display_data"
    }
   ],
   "source": [
    "data Box a = Empty | Has a deriving (Eq, Ord)\n",
    "\n",
    "Empty `compare` Empty\n",
    "Has 5 `compare` Has 6\n",
    "Has \"Hello\" `compare` Has \"Hi\""
   ]
  },
  {
   "cell_type": "markdown",
   "metadata": {},
   "source": [
    "Those are the rules the compiler follows to create the `Ord` instance for your type. And other type classes have other rules.\n",
    "\n",
    "So, if you can create a data type like this:"
   ]
  },
  {
   "cell_type": "code",
   "execution_count": 59,
   "metadata": {},
   "outputs": [],
   "source": [
    "data Blockchain = Cardano | Ethereum | Bitcoin deriving (Show, Eq, Ord, Enum, Bounded)"
   ]
  },
  {
   "cell_type": "markdown",
   "metadata": {},
   "source": [
    "And now, your `Blockchain` type has the behaviors provded by all those type classes. \n",
    "\n",
    "Why in the world would you care for manually deriving instances if you can do it automagically? Well... because deriving can sometimes go wrong."
   ]
  },
  {
   "cell_type": "markdown",
   "metadata": {},
   "source": [
    "### Deriving can go wrong"
   ]
  },
  {
   "cell_type": "markdown",
   "metadata": {},
   "source": [
    "Let's say we want to use a type to manage longitudes for Civil engineering software.\n",
    "\n",
    "We work with both meters and kilometers, but because we don't want to accidentally mix those and get a potentially catastrophic error, we define a data type with two constructors. One for meters and one for kilometers. Both containing a value of type `Double`. We'll also derive the `Eq` type class to make a few checks in our code."
   ]
  },
  {
   "cell_type": "code",
   "execution_count": 77,
   "metadata": {},
   "outputs": [],
   "source": [
    "data Longitude = M Double | Km Double deriving (Eq)"
   ]
  },
  {
   "cell_type": "markdown",
   "metadata": {},
   "source": [
    "But, we find a little problem while testing our implementation:"
   ]
  },
  {
   "cell_type": "markdown",
   "metadata": {},
   "source": [
    "We know that 1000 Meters is equal to 1 Kilometer, but when we do this comparison with our code, we get that it's not!:"
   ]
  },
  {
   "cell_type": "code",
   "execution_count": 78,
   "metadata": {
    "scrolled": true
   },
   "outputs": [
    {
     "data": {
      "text/plain": [
       "False"
      ]
     },
     "metadata": {},
     "output_type": "display_data"
    }
   ],
   "source": [
    "M 1000 == Km 1 -- False"
   ]
  },
  {
   "cell_type": "markdown",
   "metadata": {},
   "source": [
    "That's because when we derived `Eq`, Haskell generated this code:"
   ]
  },
  {
   "cell_type": "markdown",
   "metadata": {},
   "source": [
    "```haskell\n",
    "instance Eq Longitude where\n",
    "  (==) (M x) (M y) = x == y \n",
    "  (==) (Km x) (Km y) = x == y \n",
    "  (==) _ _ = False\n",
    "```"
   ]
  },
  {
   "cell_type": "markdown",
   "metadata": {},
   "source": [
    "This works great if we're comparing meters to meters and kilometers to kilometers. But we have the wrong implementation to compare between constructors because Haskell doesn't know that the values of different constructors relate in any way!! Haskell just assumed that if the constructors are different, the values are too!"
   ]
  },
  {
   "cell_type": "markdown",
   "metadata": {},
   "source": [
    "So, in this case, we have to write the instance ourselves to take into account the relationship between the constructors:"
   ]
  },
  {
   "cell_type": "code",
   "execution_count": 80,
   "metadata": {},
   "outputs": [
    {
     "data": {
      "text/plain": [
       "True"
      ]
     },
     "metadata": {},
     "output_type": "display_data"
    },
    {
     "data": {
      "text/plain": [
       "True"
      ]
     },
     "metadata": {},
     "output_type": "display_data"
    }
   ],
   "source": [
    "data Longitude = M Double | Km Double\n",
    "\n",
    "instance Eq Longitude where\n",
    "  (==) (M x) (M y) = x == y\n",
    "  (==) (Km x) (Km y) = x == y\n",
    "  (==) (M x) (Km y) = x == 1000 * y\n",
    "  (==) (Km x) (M y) = x * 1000 == y\n",
    "\n",
    "\n",
    "M 3000 == Km 3 -- True\n",
    "M (1000/3) == Km (1/3)"
   ]
  },
  {
   "cell_type": "markdown",
   "metadata": {},
   "source": [
    "That's why it's a good idea to be conscious of how each type class is derived. To know when you should do it and when not. This video is quite long as it is, so I won't explain the rules, but I'll provide a link to a short explanation [here](https://www.haskell.org/onlinereport/haskell2010/haskellch11.html) in case you want to know more about it. Otherwise, you'll pick it up while coding."
   ]
  },
  {
   "cell_type": "markdown",
   "metadata": {},
   "source": [
    "### Tips for real-world coding"
   ]
  },
  {
   "cell_type": "markdown",
   "metadata": {},
   "source": [
    "- Everything I explained here today applies to all type classes."
   ]
  },
  {
   "cell_type": "markdown",
   "metadata": {},
   "source": [
    "- We don't define type classes that often. The ones that come with Haskell are usually all we need."
   ]
  },
  {
   "cell_type": "markdown",
   "metadata": {},
   "source": [
    "- We do implement instances for the already-present type classes quite a lot."
   ]
  },
  {
   "cell_type": "markdown",
   "metadata": {},
   "source": [
    "- You can peek at a type class definition using `:i` on ghci to see which are the minimum behaviors you have to implement when creating your instance. Implement those and you're done."
   ]
  },
  {
   "cell_type": "markdown",
   "metadata": {},
   "source": [
    "- Some type classes can be automatically derived, and it's usually (but not always) a good idea to do it. If you're in doubt, try automatic deriving and check your asumptions. You can always come back and manually define the instances."
   ]
  },
  {
   "cell_type": "markdown",
   "metadata": {},
   "source": [
    "# That's it for today!"
   ]
  }
 ],
 "metadata": {
  "celltoolbar": "Slideshow",
  "kernelspec": {
   "display_name": "Haskell",
   "language": "haskell",
   "name": "haskell"
  },
  "language_info": {
   "codemirror_mode": "ihaskell",
   "file_extension": ".hs",
   "mimetype": "text/x-haskell",
   "name": "haskell",
   "pygments_lexer": "Haskell",
   "version": "8.10.7"
  },
  "vscode": {
   "interpreter": {
    "hash": "31f2aee4e71d21fbe5cf8b01ff0e069b9275f58929596ceb00d14d90e3e16cd6"
   }
  }
 },
 "nbformat": 4,
 "nbformat_minor": 4
}
