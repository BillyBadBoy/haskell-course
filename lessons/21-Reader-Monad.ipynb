{
 "cells": [
  {
   "cell_type": "markdown",
   "metadata": {},
   "source": [
    "# Reader Monad"
   ]
  },
  {
   "cell_type": "markdown",
   "metadata": {},
   "source": [
    "## Outline\n",
    "\n",
    "* Incentive for the Reader monad\n",
    "\n",
    "* The Reader monad\n",
    "  - Definition of the Reader monad\n",
    "  - MonadReader type class\n",
    "  - Simple example\n",
    "<br><br>\n",
    "* Reader monad examples\n",
    "\n",
    "In this lesson, we will learn about the Reader monad type and how you can use it."
   ]
  },
  {
   "cell_type": "markdown",
   "metadata": {},
   "source": [
    "## Incentive for Reader monad"
   ]
  },
  {
   "cell_type": "markdown",
   "metadata": {},
   "source": [
    "Imagine we have a global state which is represented by a variable that holds multiple data (e.g. a record syntax variable). \n",
    "\n",
    "If we have several functions that need to use part of that data and they call each other, we need to pass that variable from one to another."
   ]
  },
  {
   "cell_type": "markdown",
   "metadata": {},
   "source": [
    "Below is an example where we read 4 variables from the operating system environment and store them into a variable of type `Environment`. \n",
    "\n",
    "We process this data in 4 function calls and the last function writes the processed data to a configuration file."
   ]
  },
  {
   "cell_type": "code",
   "execution_count": null,
   "metadata": {},
   "outputs": [],
   "source": [
    "import Data.Maybe (fromMaybe)\n",
    "import System.Environment (lookupEnv)\n",
    "\n",
    "data Environment = Environment\n",
    "    { param1 :: String\n",
    "    , param2 :: String\n",
    "    , param3 :: String\n",
    "    , param4 :: String\n",
    "    }\n",
    "\n",
    "loadEnv :: IO Environment\n",
    "loadEnv = do\n",
    "  p1 <- lookupEnv \"PATH\"\n",
    "  p2 <- lookupEnv \"SHELL\"\n",
    "  p3 <- lookupEnv \"HOSTNAME\"\n",
    "  p4 <- lookupEnv \"HOME\"\n",
    "  return $ Environment\n",
    "    (fromMaybe \"\" p1)\n",
    "    (fromMaybe \"\" p2)\n",
    "    (fromMaybe \"\" p3)\n",
    "    (fromMaybe \"\" p4)\n",
    "\n",
    "func1 :: Environment -> IO ()\n",
    "func1 env = do\n",
    "    let content = \"System path includes: \\n\" ++ param1 env ++ \"\\n\\n\"\n",
    "    func2 env content\n",
    "\n",
    "func2 :: Environment -> String -> IO ()\n",
    "func2 env content = do\n",
    "    let updatedContent = content ++ \"Shell used is: \\n\" ++ param2 env ++ \"\\n\\n\"\n",
    "    func3 env updatedContent\n",
    "\n",
    "func3 :: Environment -> String -> IO ()\n",
    "func3 env content = do\n",
    "    let updatedContent = content ++ \"Hostname is: \\n\" ++ param3 env ++ \"\\n\\n\"\n",
    "    func4 env updatedContent\n",
    "\n",
    "func4 :: Environment -> String -> IO ()\n",
    "func4 env content = do\n",
    "    let updatedContent = content ++ \"Current home directory is: \\n\" ++ param4 env ++ \"\\n\\n\"\n",
    "        filePath = param4 env ++ \"/conf.txt\"\n",
    "    writeFile filePath updatedContent"
   ]
  },
  {
   "cell_type": "markdown",
   "metadata": {},
   "source": [
    "We can now write the main execution of our program where we read in the environment and process the data with our 4 functions."
   ]
  },
  {
   "cell_type": "code",
   "execution_count": null,
   "metadata": {},
   "outputs": [],
   "source": [
    "main :: IO ()\n",
    "main = do\n",
    "  env <- loadEnv\n",
    "  print \"Writing configuration to file: conf.txt\"\n",
    "  func1 env\n",
    "\n",
    "main"
   ]
  },
  {
   "cell_type": "markdown",
   "metadata": {},
   "source": [
    "This is a simple example, but as complexity of programs increases you have to pass around a lot of data. \n",
    "\n",
    "For this reason the **Reader monad** was created which can store the state in its environment variable. \n",
    "\n",
    "Then it can pass this state variable around between different Reader monads that decide which part of the data to use."
   ]
  },
  {
   "cell_type": "markdown",
   "metadata": {},
   "source": [
    "## The Reader monad"
   ]
  },
  {
   "cell_type": "markdown",
   "metadata": {},
   "source": [
    "### Definition of the Reader monad"
   ]
  },
  {
   "cell_type": "markdown",
   "metadata": {},
   "source": [
    "Let's first look at the user freindly definition of **Reader** type and then the actuall Haskell2010 definition that uses transformers.\n",
    "\n",
    "The definition of the Reader type can be written as:\n",
    "```haskell\n",
    "newtype Reader e a = Reader { runReader :: e -> a }\n",
    "```"
   ]
  },
  {
   "cell_type": "markdown",
   "metadata": {},
   "source": [
    "We see that the `Reader` data constructor holds a function that can be accessed with the name `runReader`.\n",
    "\n",
    "It takes in a environment variable and returns a variable of type `a`."
   ]
  },
  {
   "cell_type": "markdown",
   "metadata": {},
   "source": [
    "We can now create a Monad instance for `Reader e` and not just `Reader`.\n",
    "\n",
    "This means the type of our environment variable will remain the same as we compose our function with `(>>=)`.\n",
    "```haskell\n",
    "(>>=) :: Reader e a        ->\n",
    "         (a -> Reader e b) ->\n",
    "         Reader e b\n",
    "```"
   ]
  },
  {
   "cell_type": "markdown",
   "metadata": {},
   "source": [
    "The monad instance for `Reader e` would be:\n",
    "```haskell\n",
    "instance Monad (Reader e) where \n",
    "  return a = Reader $ const a\n",
    "  m >>= k  = Reader $ \\r -> runReader (k (runReader m r)) r\n",
    "```"
   ]
  },
  {
   "cell_type": "markdown",
   "metadata": {},
   "source": [
    "The actual Haskell2010 definition of the `Reader` type is defined in terms of the `ReaderT` monad transformer:\n",
    "```haskell\n",
    "type Reader r = ReaderT r Identity\n",
    "```\n",
    "We will learn more about it when talk about Monad transformers."
   ]
  },
  {
   "cell_type": "markdown",
   "metadata": {},
   "source": [
    "### MonadReader type class"
   ]
  },
  {
   "cell_type": "markdown",
   "metadata": {},
   "source": [
    "The `MonadReader` type class defines functions wich you can use to work with a reader monad. It is defined in the **Control.Monad.Reader** module.\n",
    "\n",
    "The `ask` function returns the environment variable of the reader monad.\n",
    "\n",
    "The `local` function takes in a function and a reader moand and updates the reader monad by applying the function to the environment variable."
   ]
  },
  {
   "cell_type": "markdown",
   "metadata": {},
   "source": [
    "```haskell\n",
    "class Monad m => MonadReader r m | m -> r where\n",
    "    ask   :: m r\n",
    "    ask = reader id\n",
    "\n",
    "    local :: (r -> r) -> m a -> m a\n",
    "\n",
    "    reader :: (r -> a) -> m a\n",
    "    reader f = do\n",
    "      r <- ask\n",
    "      return (f r)\n",
    "    {-# MINIMAL (ask | reader), local #-}\n",
    "```"
   ]
  },
  {
   "cell_type": "markdown",
   "metadata": {},
   "source": [
    "To be able to declare a type class with two types you need to use the *MultiParamTypeClasses* language pragma.\n",
    "\n",
    "If the type `m` which in reality for us will be `(Reader r)`, is defiinng the type `r` we can state this dependency with the `| m -> r` statement.\n",
    "\n",
    "To be able to use such dependency statements in type class declarations we need to include the *FunctionalDependencies* language pragma."
   ]
  },
  {
   "cell_type": "markdown",
   "metadata": {},
   "source": [
    "For the `Reader e` monad the instance of the `MonadReader` type class would be:\n",
    "```haskell\n",
    "instance MonadReader e (Reader e) where\n",
    "    ask = Reader id\n",
    "    local f m = Reader $ runReader m . f\n",
    "```"
   ]
  },
  {
   "cell_type": "markdown",
   "metadata": {},
   "source": [
    "Form the module that contains the `ReaderMonad` type class we can also use the `asks` function. \n",
    "\n",
    "It takes in a function and updates the environment variable of the current reader monad by aplying the function to it.\n",
    "```haskell\n",
    "asks :: MonadReader r m => (r -> a) -> m a\n",
    "asks = reader\n",
    "```"
   ]
  },
  {
   "cell_type": "markdown",
   "metadata": {},
   "source": [
    "### Simple example"
   ]
  },
  {
   "cell_type": "markdown",
   "metadata": {},
   "source": [
    "Below is a simple Reader monad example where we use the `ask` and `runReader` functions.\n",
    "\n",
    "The programm asks the user for its age and then prints our his age and double times his age."
   ]
  },
  {
   "cell_type": "code",
   "execution_count": null,
   "metadata": {},
   "outputs": [],
   "source": [
    "import Control.Monad.Reader\n",
    "\n",
    "age :: Reader Int String\n",
    "age = do\n",
    "    env <- ask\n",
    "    return (\"Your age is: \" ++ (show env))\n",
    "\n",
    "ageDouble :: Reader Int String\n",
    "ageDouble = do\n",
    "    env <- ask\n",
    "    return (\"Two times your age is: \" ++ (show $ 2*env))\n",
    "\n",
    "bothAges :: Reader Int String\n",
    "bothAges = do\n",
    "    a <- age\n",
    "    ad <- ageDouble\n",
    "    return (a ++ \"\\n\" ++ ad)\n",
    "\n",
    "main :: IO ()\n",
    "main = do\n",
    "    putStrLn \"Input your age:\"\n",
    "    myAge <- read <$> getLine\n",
    "    putStrLn $ (runReader bothAges) myAge\n",
    "\n",
    "main"
   ]
  },
  {
   "cell_type": "markdown",
   "metadata": {},
   "source": [
    "We see that when we call the `age` and `ageDouble` reader monads in the `bothAges` Reader monad, the environment variabe of the `bothAges` reader monad is passed onto them."
   ]
  },
  {
   "cell_type": "markdown",
   "metadata": {},
   "source": [
    "## Reader monad examples"
   ]
  },
  {
   "cell_type": "markdown",
   "metadata": {},
   "source": [
    "Let's implement the example from the first chapter with the use of the **Reader monad**."
   ]
  },
  {
   "cell_type": "code",
   "execution_count": null,
   "metadata": {},
   "outputs": [],
   "source": [
    "processEnv :: Reader Environment String\n",
    "processEnv = do\n",
    "    conf1 <- func1'\n",
    "    conf2 <- func2'\n",
    "    conf3 <- func3'\n",
    "    conf4 <- func4'\n",
    "    let conf = conf1 ++ \"\\n\\n\" ++\n",
    "               conf2 ++ \"\\n\\n\" ++\n",
    "               conf3 ++ \"\\n\\n\" ++\n",
    "               conf4 ++ \"\\n\\n\"\n",
    "    return conf\n",
    "  \n",
    "func1' :: Reader Environment String\n",
    "func1' = do\n",
    "    env <- ask\n",
    "    let content = \"System path includes: \\n\" ++ param1 env\n",
    "    return content\n",
    "\n",
    "func2' :: Reader Environment String\n",
    "func2' = do\n",
    "    env <- ask\n",
    "    let content = \"Shell used is: \\n\" ++ param2 env\n",
    "    return content\n",
    "\n",
    "func3' :: Reader Environment String\n",
    "func3' = do\n",
    "    env <- ask\n",
    "    let content = \"Hostname is: \\n\" ++ param3 env\n",
    "    return content\n",
    "\n",
    "func4' :: Reader Environment String\n",
    "func4' = do\n",
    "    env <- ask\n",
    "    let content = \"Current home directory is: \\n\" ++ param4 env\n",
    "    return content\n",
    "\n",
    "main3 :: IO ()\n",
    "main3 = do\n",
    "    env <- loadEnv\n",
    "    let configuration = runReader processEnv env\n",
    "        filePath = param4 env ++ \"/conf.txt\"\n",
    "    print \"Writing configuration to file: conf.txt\"\n",
    "    writeFile filePath configuration\n",
    "\n",
    "main3"
   ]
  },
  {
   "cell_type": "markdown",
   "metadata": {},
   "source": [
    "Benefits compared to initial code:\n",
    "- the monads `func1'` to `func4'` are more cleaner as the functions in the initial example \n",
    "- the monads `func1'` to `func4'` are not anymore impure functions but pure variables\n",
    "\n",
    "The `env` variable is passed from the `processEnv` function to all the other Reader monad functions."
   ]
  },
  {
   "cell_type": "markdown",
   "metadata": {},
   "source": [
    "In our next example we update the code from the simple example chapter such that we use the `local` function."
   ]
  },
  {
   "cell_type": "code",
   "execution_count": null,
   "metadata": {},
   "outputs": [],
   "source": [
    "age :: Reader Int String\n",
    "age = do\n",
    "    env <- ask\n",
    "    return (\"My age will be: \" ++ (show env))\n",
    "\n",
    "ageDouble :: Reader Int String\n",
    "ageDouble = do\n",
    "    env <- ask\n",
    "    return (\"Two times my age will be: \" ++ (show $ 2*env))\n",
    "\n",
    "bothAges :: Reader Int String\n",
    "bothAges = do\n",
    "    let age' = local add2Years age\n",
    "        ageDouble' = local add2Years ageDouble\n",
    "    a <- age'\n",
    "    ad <- ageDouble'\n",
    "    return (a ++ \"\\n\" ++ ad)\n",
    "\n",
    "add2Years :: Int -> Int\n",
    "add2Years years = years + 2\n",
    "\n",
    "main :: IO ()\n",
    "main = do\n",
    "    putStrLn \"Input your age:\"\n",
    "    myAge <- read <$> getLine\n",
    "    putStrLn $ (runReader bothAges) myAge\n",
    "\n",
    "main"
   ]
  },
  {
   "cell_type": "markdown",
   "metadata": {},
   "source": [
    "Below is another example on how to lookup variables if you have them stored in a list (taken and adapted from HaskellWiki).\n",
    "\n",
    "The list contains tuples where the first part is the variable name and the second is variable either of type `String` or of type `Template`. \n",
    "\n",
    "What we want to show here is that you can also define a function that takes in data and returns a reader monad. We use the `asks` function."
   ]
  },
  {
   "cell_type": "code",
   "execution_count": null,
   "metadata": {},
   "outputs": [],
   "source": [
    "data Template = S String | V Template | T Template deriving Show\n",
    "\n",
    "data Environment = Env {templates::[(String,Template)],\n",
    "                        variables::[(String,String)]}\n",
    "\n",
    "-- lookup a variable from the environment\n",
    "lookupVar :: String -> Environment -> Maybe String\n",
    "lookupVar name env = lookup name (variables env)\n",
    "\n",
    "-- lookup a template from the environment\n",
    "lookupTemplate :: String -> Environment -> Maybe Template\n",
    "lookupTemplate name env = lookup name (templates env)\n",
    "\n",
    "-- resolve a template into a string\n",
    "resolve :: Template -> Reader Environment (String)\n",
    "resolve (S s)    = return s\n",
    "resolve (V t)    = do varName  <- resolve t\n",
    "                      varValue <- asks (lookupVar varName)\n",
    "                      return $ maybe \"\" id varValue\n",
    "resolve (T t)    = do tmplName <- resolve t\n",
    "                      body     <- asks (lookupTemplate tmplName)\n",
    "                      return $ maybe \"\" show body\n",
    "\n",
    "template1 :: Template\n",
    "template1 = V (S \"varName1\")\n",
    "\n",
    "template2 :: Template\n",
    "template2 = T (S \"varName2\")\n",
    "\n",
    "myEnv :: Environment\n",
    "myEnv = Env {\n",
    "      templates = [(\"varName1\",template1),(\"varName2\",template2)],\n",
    "      variables = [(\"varName1\",\"value1\"),(\"varName2\",\"value2\")]\n",
    "    }\n",
    "\n",
    "main :: IO ()\n",
    "main = do\n",
    "    print $ runReader (resolve template1) myEnv\n",
    "    print $ runReader (resolve template2) myEnv\n",
    "\n",
    "main"
   ]
  },
  {
   "cell_type": "markdown",
   "metadata": {},
   "source": [
    "## Recap"
   ]
  },
  {
   "cell_type": "markdown",
   "metadata": {},
   "source": [
    "In this lesson we've discussed:\n",
    "\n",
    "- the motivation for introducing the Reader monad type \n",
    "\n",
    "- the definition of the Reader monad type and a simple example\n",
    "\n",
    "- examples that use the Reader monad type to solve a problems"
   ]
  }
 ],
 "metadata": {
  "kernelspec": {
   "display_name": "Haskell",
   "language": "haskell",
   "name": "haskell"
  },
  "language_info": {
   "codemirror_mode": "ihaskell",
   "file_extension": ".hs",
   "mimetype": "text/x-haskell",
   "name": "haskell",
   "pygments_lexer": "Haskell",
   "version": "8.10.7"
  }
 },
 "nbformat": 4,
 "nbformat_minor": 4
}
