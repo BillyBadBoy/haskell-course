{
 "cells": [
  {
   "cell_type": "markdown",
   "metadata": {},
   "source": [
    "# Monad"
   ]
  },
  {
   "cell_type": "markdown",
   "metadata": {},
   "source": [
    "## Outline\n",
    "\n",
    "* Incentive for Monad\n",
    "\n",
    "* Definition of Monad type class\n",
    "\n",
    "* Monads and \"do\" notation\n",
    "\n",
    "* Monad examples\n",
    "\n",
    "* Monad laws\n",
    "\n",
    "In this lesson, we will learn about the Monad type classe and how you can use it."
   ]
  },
  {
   "cell_type": "markdown",
   "metadata": {},
   "source": [
    "## Incentive for Monad"
   ]
  },
  {
   "cell_type": "markdown",
   "metadata": {},
   "source": [
    "We covered until now two cases where the Functor and Applicative type class functions can help us. "
   ]
  },
  {
   "cell_type": "markdown",
   "metadata": {},
   "source": [
    "If your input data is in a `Maybe` cotext and you have the following functions:\n",
    "```haskell\n",
    "f1 :: a -> b\n",
    "f2 :: Maybe (a -> b) \n",
    "```\n",
    "then you can use the `<$>` and `<*>` operators to apply them to your data of type `Maybe` and get data of type `Maybe` returned. "
   ]
  },
  {
   "cell_type": "markdown",
   "metadata": {},
   "source": [
    "This works for the `Maybe` type because it has an instance of Functor and Applicative. \n",
    "\n",
    "You can also define your custom type and make it an instance of Functor and Applicative."
   ]
  },
  {
   "cell_type": "markdown",
   "metadata": {},
   "source": [
    "To describe it in a more general way: \n",
    "- we use Functors to solve the problem of mapping a function over a value inside a context\n",
    "\n",
    "- we use Applicative to solve the problem of what happens if the function is also inside the context."
   ]
  },
  {
   "cell_type": "markdown",
   "metadata": {},
   "source": [
    "But what if we have a value with a context `(m a)` and a funciton that takes a contextless value and returns a value with a context `f :: (a -> m b)`? \n",
    "\n",
    "Let's take an example for the Maybe type that provides the context for missing values:\n",
    "```haskell\n",
    "f3 :: a -> Maybe b\n",
    "```"
   ]
  },
  {
   "cell_type": "markdown",
   "metadata": {},
   "source": [
    "Below is an example with `Map` objects. We define book codes that map to book IDs. Then we define book prices that map to book codes.\n",
    "\n",
    "We write a function that takes a book ID and returns a Maybe book prices. We use the `fromJust` and `isJust` functions from the **Data.Maybe** module."
   ]
  },
  {
   "cell_type": "code",
   "execution_count": null,
   "metadata": {},
   "outputs": [],
   "source": [
    "import Data.Maybe (fromJust, isJust)\n",
    "import qualified Data.Map as Map\n",
    "\n",
    "bookCodes :: Map.Map Int Int\n",
    "bookCodes = Map.fromList $ zip [1,2,3] [2869, 7435, 1423]\n",
    "\n",
    "bookPrices :: Map.Map Int String\n",
    "bookPrices = Map.fromList $ zip [2869, 7435, 1423] [\"15EUR\",\"20USD\",\"18JPY\"]\n",
    "\n",
    "getPriceFromID :: Int -> Maybe String\n",
    "getPriceFromID n \n",
    "    | isJust id = Map.lookup (fromJust id) bookPrices\n",
    "    | otherwise = Nothing\n",
    "    where id = Map.lookup n bookCodes\n",
    "\n",
    "print $ getPriceFromID 1"
   ]
  },
  {
   "cell_type": "markdown",
   "metadata": {},
   "source": [
    "The Monad type class provides an existing solution for solving the problem above."
   ]
  },
  {
   "cell_type": "markdown",
   "metadata": {},
   "source": [
    "## Definition of the Monad type class"
   ]
  },
  {
   "cell_type": "markdown",
   "metadata": {},
   "source": [
    "The definition of Monad type class is the following:\n",
    "```haskell\n",
    "class Applicative m => Monad m where\n",
    "  (>>=) :: m a -> (a -> m b) -> m b\n",
    "  (>>) :: m a -> m b -> m b\n",
    "  return :: a -> m a\n",
    "  {-# MINIMAL (>>=) #-}\n",
    "```"
   ]
  },
  {
   "cell_type": "markdown",
   "metadata": {},
   "source": [
    "We see that Applicative is a superclass of Monad. The minimal complete definition requires just the bind operator `>>=`. "
   ]
  },
  {
   "cell_type": "markdown",
   "metadata": {},
   "source": [
    "The bind operator takes a value inside a context and a function that takes such a value without the context and returns another type with the context.\n",
    "\n",
    "What it does is that it extracts the value from the context applise the function to it and returns the result."
   ]
  },
  {
   "cell_type": "markdown",
   "metadata": {},
   "source": [
    "The sequncing operator `>>` takes two values in a context and returns the second one.\n",
    "\n",
    "The `return` function just puts a value inside a context."
   ]
  },
  {
   "cell_type": "markdown",
   "metadata": {},
   "source": [
    "We notice that the `return` function does the same as the `pure` function from Applicative. In the source code it is defined as `return = pure`.\n",
    "\n",
    "Ussually when creating an instance of monad for a type we define `return` and then when defining the Applicative type we say `pure = return`."
   ]
  },
  {
   "cell_type": "markdown",
   "metadata": {},
   "source": [
    "The Maybe type has also an instance of Monad type class. Let's see how we can use the bind operator to rewrite the previous code example. \n",
    "\n",
    "We will use the `flip` function that reverses the order of input parameters for a function.\n",
    "```haskell\n",
    "flip :: (a -> b -> c) -> b -> a -> c\n",
    "```"
   ]
  },
  {
   "cell_type": "code",
   "execution_count": null,
   "metadata": {},
   "outputs": [],
   "source": [
    "getPriceFromIDBind :: Int -> Maybe String\n",
    "getPriceFromIDBind n = id >>= flip Map.lookup bookPrices\n",
    "    where id = Map.lookup n bookIDs\n",
    "\n",
    "print $ getPriceFromIDBind 1"
   ]
  },
  {
   "cell_type": "markdown",
   "metadata": {},
   "source": [
    "We get the same result as before and the function is two lines shorter. \n",
    "\n",
    "The main reason why to use this operator is that it's easier to read the code because it's generic. The same symbol serves the same purpose for all Monads.\n",
    "\n",
    "And some of Haskell existing type already have a Monad instance so you can use its functionality for free."
   ]
  },
  {
   "cell_type": "markdown",
   "metadata": {},
   "source": [
    "In the next chapter we will explain how the sequencing operator and the return function work."
   ]
  },
  {
   "cell_type": "markdown",
   "metadata": {},
   "source": [
    "## Monads and \"do\" notation"
   ]
  },
  {
   "cell_type": "markdown",
   "metadata": {},
   "source": [
    "We notice that `return` looks the same as `pure` from the Applicative type class. In fact it does the same thing: puts a variavle into a context. \n",
    "\n",
    "The reason why they both exist is that the Monad type class predates the Applicative type class. \n",
    "\n",
    "When Applicative was developed `pure` was added to it because you can then express the `<$>` operator by using only `pure` and `<*>`. "
   ]
  },
  {
   "cell_type": "markdown",
   "metadata": {},
   "source": [
    "The `>>` operator takes two variables in a monad context and throws away the first. That makes sense when you want to chain commands together. \n",
    "\n",
    "Let's have a look of a function that runs in IO which has also an instance of Monad tpye class."
   ]
  },
  {
   "cell_type": "code",
   "execution_count": null,
   "metadata": {},
   "outputs": [],
   "source": [
    "chain :: String -> IO ()\n",
    "chain msg = print \"My message is:\\n\" >> print msg\n",
    "\n",
    "chain \"test\""
   ]
  },
  {
   "cell_type": "markdown",
   "metadata": {},
   "source": [
    "We can now write a simple program that asks a user for his name and then prints back a greeting. We can use both the `>>` and the `>>=` operators."
   ]
  },
  {
   "cell_type": "code",
   "execution_count": null,
   "metadata": {},
   "outputs": [],
   "source": [
    "hello :: IO () \n",
    "hello = \n",
    "  print \"What is your name?\" >> \n",
    "  getLine >>= \n",
    "  (\\name -> return (\"Hello \" ++ name)) >>= \n",
    "  print\n",
    "\n",
    "hello"
   ]
  },
  {
   "cell_type": "markdown",
   "metadata": {},
   "source": [
    "If we re-write the above program by using `do` notation Haskell translate it in the background to the above code. \n",
    "\n",
    "In other words the `do` notation is just a syntactic sugar (a nicer way of writing the same thing) for the code above."
   ]
  },
  {
   "cell_type": "code",
   "execution_count": null,
   "metadata": {},
   "outputs": [],
   "source": [
    "hello' :: IO () \n",
    "hello' = do \n",
    "  print \"What is your name?\" \n",
    "  name <- getLine \n",
    "  print (\"Hello \" ++ name) \n",
    "\n",
    "hello'"
   ]
  },
  {
   "cell_type": "markdown",
   "metadata": {},
   "source": [
    "If you compare the code you see that the `<-` arrow is used to assign a variable that comes in a context to a variable without that context. \n",
    "\n",
    "In our case the `getLine` function returns an `IO String` and the variable `name` is just of type `String`. The statements are then chained together with the `>>` and `>>=` operators."
   ]
  },
  {
   "cell_type": "markdown",
   "metadata": {},
   "source": [
    "As you may remember you can also declare some variables inside a `do` block with a `let`. \n",
    "\n",
    "Below is the code that shows the `do` notation code and the de-sugarrated code that uses lambda functions and the Monad operators.\n",
    "\n",
    "The functions `monadExample` and `monadExample'` basically do the same thing."
   ]
  },
  {
   "cell_type": "code",
   "execution_count": null,
   "metadata": {},
   "outputs": [],
   "source": [
    "monadExample :: IO Int \n",
    "monadExample = do \n",
    "  let a = return 1 :: IO Int \n",
    "  let func var = return (var + 1) :: IO Int \n",
    "  a >>= func\n",
    "\n",
    "monadExample' :: IO Int \n",
    "monadExample' = \n",
    "  (\\a -> \n",
    "    a >>= \n",
    "      (\\var -> \n",
    "        return (var + 1) :: IO Int \n",
    "      ) \n",
    "  ) (return 1 :: IO Int)\n",
    "\n",
    "main :: IO ()\n",
    "main = do\n",
    "    var1 <- monadExample\n",
    "    var2 <- monadExample'\n",
    "    print var1\n",
    "    print var2\n",
    "\n",
    "main"
   ]
  },
  {
   "cell_type": "markdown",
   "metadata": {},
   "source": [
    "The `let` and `<-` statements are both used to assign variables but the diference is that the `<-` operator takes variables out of the context and stores them as a plain type. \n",
    "\n",
    "The declaration of variables with the `let` operator is translated by using lambda functions in the background."
   ]
  },
  {
   "cell_type": "markdown",
   "metadata": {},
   "source": [
    "## Monad examples"
   ]
  },
  {
   "cell_type": "markdown",
   "metadata": {},
   "source": [
    "Until now we explained how the IO Monad works. You can use the same concept for other types that have an instance of Monad. Lets take for example a list."
   ]
  },
  {
   "cell_type": "code",
   "execution_count": null,
   "metadata": {},
   "outputs": [],
   "source": [
    "add1 :: Num a => [a] -> [a]\n",
    "add1 myList = do\n",
    "    element <- myList\n",
    "    return $ element + 1\n",
    "\n",
    "print $ add1 [1..3]"
   ]
  },
  {
   "cell_type": "markdown",
   "metadata": {},
   "source": [
    "When you run the code above you see that even though you perform the (+ 1) operation on a signle element you get a list returned. \n",
    "\n",
    "You could generalize this function by using the Monad type constraint in the type signature and it would work for lists, maybe and other types that have an instance of Monad value."
   ]
  },
  {
   "cell_type": "code",
   "execution_count": null,
   "metadata": {},
   "outputs": [],
   "source": [
    "import qualified Data.Map as Map\n",
    "\n",
    "add1Monad :: (Num a, Monad m) => m a -> m a\n",
    "add1Monad var = do\n",
    "    raw <- var\n",
    "    return $ raw + 1\n",
    "\n",
    "print $ add1Monad [1..3]\n",
    "print $ add1Monad $ Just 1"
   ]
  },
  {
   "cell_type": "markdown",
   "metadata": {},
   "source": [
    "Another example of Monads is **list comprehension** which is an elegant way to create a list by specifying the element conditions inside the list. Here is a example:"
   ]
  },
  {
   "cell_type": "code",
   "execution_count": null,
   "metadata": {},
   "outputs": [],
   "source": [
    "import Control.Monad ( guard )\n",
    "\n",
    "list1 = [0 .. 9 :: Int]\n",
    "\n",
    "add1Even :: [Int] -> [Int]\n",
    "add1Even myList = do\n",
    "  n <- myList\n",
    "  let k = n + 1\n",
    "  guard(even k)\n",
    "  return k\n",
    "  \n",
    "add1Even' :: [Int] -> [Int]\n",
    "add1Even' myList = [k | n <- myList, let k = n + 1, even k] \n",
    "\n",
    "print $ add1Even list1\n",
    "print $ add1Even' list1"
   ]
  },
  {
   "cell_type": "markdown",
   "metadata": {},
   "source": [
    "The `guard` function is basically a filter that passes only values of `k` which give `True` fot the expression inside the brackets. \n",
    "\n",
    "The function `add1Even` is just a de-sugarated version of the function `add1Even'` and they work the same. "
   ]
  },
  {
   "cell_type": "markdown",
   "metadata": {},
   "source": [
    "In our last example lets create a custom type called `Writer` that is parameterized by the types `Int` and `String`. \n",
    "```haskell\n",
    "data Writer a = Writer a String deriving Show\n",
    "```\n",
    "The string contains a message as for example the integer value that we stored in the `Int` type. "
   ]
  },
  {
   "cell_type": "markdown",
   "metadata": {},
   "source": [
    "We make it an instance of Monad for this type. For this we need to define the bind operator.\n",
    "\n",
    "When we apply the bind perator to a Writer type its message and should be concatenated with the message of the Writer type that the function returns."
   ]
  },
  {
   "cell_type": "code",
   "execution_count": null,
   "metadata": {},
   "outputs": [],
   "source": [
    "import Control.Monad (ap, liftM)\n",
    "\n",
    "data Writer a = Writer a String\n",
    "    deriving Show\n",
    "\n",
    "bindWriter :: Writer a -> (a -> Writer b) -> Writer b\n",
    "bindWriter (Writer a xs) f =\n",
    "  let\n",
    "    Writer b ys = f a\n",
    "  in\n",
    "    Writer b $ xs ++ ys\n",
    "\n",
    "instance Functor Writer where\n",
    "    fmap = liftM\n",
    "\n",
    "instance Applicative Writer where\n",
    "    pure = return\n",
    "    (<*>) = ap\n",
    "\n",
    "instance Monad Writer where\n",
    "    return a = Writer a \"\"\n",
    "    (>>=) = bindWriter"
   ]
  },
  {
   "cell_type": "markdown",
   "metadata": {},
   "source": [
    "In the above example we see that we have to also declare instances for Functor and Applicative. \n",
    "\n",
    "This is because Applicative is a superclass of Monad and Functor is a superclass of Applicative. "
   ]
  },
  {
   "cell_type": "markdown",
   "metadata": {},
   "source": [
    "We do this with the functions `ap` and `liftM` that we import from the `Control.Monad` module. \n",
    "\n",
    "We will explain those functions in detail in lesson 24. "
   ]
  },
  {
   "cell_type": "markdown",
   "metadata": {},
   "source": [
    "Then we write a function that takes in three `Writer` variables and summs the numbers together and cocatenates the messages.\n",
    "\n",
    "We also create a `tell` function that just creates a Writer with the input message and an empty value."
   ]
  },
  {
   "cell_type": "code",
   "execution_count": null,
   "metadata": {},
   "outputs": [],
   "source": [
    "tell :: String -> Writer ()\n",
    "tell msg = Writer () msg\n",
    "\n",
    "tellAndSum :: Writer Int -> Writer Int -> Writer Int -> Writer Int\n",
    "tellAndSum x y z = do\n",
    "    tell \"Sumed numbers: \" \n",
    "    sumInts x y z\n",
    "\n",
    "sumInts :: Monad m => m Int -> m Int -> m Int -> m Int\n",
    "sumInts mx my mz = do\n",
    "    k <- mx\n",
    "    l <- my\n",
    "    m <- mz\n",
    "    let s = k + l + m\n",
    "    return s\n",
    "\n",
    "print $ tellAndSum (Writer 1 \"1 \") (Writer 2 \"2 \") (Writer 3 \"3\")"
   ]
  },
  {
   "cell_type": "markdown",
   "metadata": {},
   "source": [
    "Also you might ask yourself how does this code work when it concatenates the messages? You have to look at the definition of the `>>` operator which is expressed with `>>=`. \n",
    "\n",
    "If you type `:i (>>)` you will see the comment `-- Defined in ‘GHC.Base’` which means it's defined in the source code of GHC [(1)](https://github.com/ghc/ghc/blob/master/libraries/base/GHC/Base.hs). "
   ]
  },
  {
   "cell_type": "markdown",
   "metadata": {},
   "source": [
    "As we said the minimal complete definition for Monad is only `>>=` so all other operators are expressed by using `>>=`. \n",
    "\n",
    "Here is the `>>` definition from the source code:\n",
    "```haskell\n",
    "(>>) :: forall a b. m a -> m b -> m b\n",
    "m >> k = m >>= \\_ -> k\n",
    "{-# INLINE (>>) #-}\n",
    "```"
   ]
  },
  {
   "cell_type": "markdown",
   "metadata": {},
   "source": [
    "In our Writer example we defined `>>=` (which represents `bindWriter`) in such a way that the message from `Writer a` gets concatenated with the message from `Writer b`. \n",
    "\n",
    "So when using the `>>` operator which actually uses the `>>=` operator, this concatination of messages also happens.\n",
    "```haskell\n",
    "(Writer 1 \"1 \") >> (Writer 2 \"and 2\") \n",
    "-- returns Writer 2 \"1 and 2\"\n",
    "```"
   ]
  },
  {
   "cell_type": "markdown",
   "metadata": {},
   "source": [
    "## More complex examples"
   ]
  },
  {
   "cell_type": "markdown",
   "metadata": {},
   "source": [
    "As stated in the applicative lesson functions in general have also an instance of Monad type class. \n",
    "\n",
    "So you can re-write the fibonacci example using the bind operator."
   ]
  },
  {
   "cell_type": "code",
   "execution_count": null,
   "metadata": {},
   "outputs": [],
   "source": [
    "fibs = 0:1:(tail >>= zipWith (+)) fibs\n",
    "\n",
    "print $ take 5 fibs"
   ]
  },
  {
   "cell_type": "markdown",
   "metadata": {},
   "source": [
    "With the Monad operators it is possible also to express the operators for Functor and Applicative."
   ]
  },
  {
   "cell_type": "code",
   "execution_count": null,
   "metadata": {},
   "outputs": [],
   "source": [
    "fmapM :: Monad m => (a -> b) -> m a -> m b\n",
    "fmapM func val = val >>= (\\x -> return (func x))\n",
    "\n",
    "appM :: Monad m => m (a -> b) -> m a -> m b\n",
    "appM func val = func >>= (\\f -> val >>= (\\x -> return (f x)))\n",
    "\n",
    "print $ fmapM (+1) $ Just 1\n",
    "print $ appM (fmapM (+) $ Just 1) (Just 1)"
   ]
  },
  {
   "cell_type": "markdown",
   "metadata": {},
   "source": [
    "## Monad laws"
   ]
  },
  {
   "cell_type": "markdown",
   "metadata": {},
   "source": [
    "As for Functor and Applicative also the Monad type class has also its origins in mathematics and is defined with laws."
   ]
  },
  {
   "cell_type": "markdown",
   "metadata": {},
   "source": [
    "Monad has 3 laws. They are as follows:\n",
    "\n",
    "- Identity (left):<br>`return a >>= f = f a`\n",
    "\n",
    "- Identity (right):<br>`m >>= return = m`\n",
    "\n",
    "- Associativity:<br>`(a >>= b) >>= c = a >>= (\\x -> b x >>= c)`"
   ]
  },
  {
   "cell_type": "markdown",
   "metadata": {},
   "source": [
    "The left identity law ensures that the bind operator `>>=` does nothing else as just take the input argument out of the context and apply the function to it.\n",
    "\n",
    "The right identity law ensures that when using the return function it should not change anything except put the data back into context.\n",
    "\n",
    "The associativity law ensures that the way we group the monadic actions doesn’t matter because `>>=` ensures that they’ll be evaluated in a consistent order."
   ]
  },
  {
   "cell_type": "markdown",
   "metadata": {},
   "source": [
    "Below is example code that proves these laws hold for the Maybe type which has an instance of Monad."
   ]
  },
  {
   "cell_type": "code",
   "execution_count": null,
   "metadata": {},
   "outputs": [],
   "source": [
    "-- Left identity law\n",
    "((return 1 :: Maybe Int) >>= (\\x -> return (x + 1) :: Maybe Int)) == (\\x -> return (x + 1) :: Maybe Int) 1\n",
    "\n",
    "-- Right identity law\n",
    "((Just 1) >>= return) == Just 1\n",
    "\n",
    "-- Associativity law\n",
    "var1 :: Maybe Int\n",
    "var1 = Just 1\n",
    "\n",
    "add1, mult2 :: Int -> Maybe Int\n",
    "add1 x = return (x + 1)\n",
    "mult2 x = return (2 * x)\n",
    "\n",
    "((var1 >>= add1) >>= mult2) == (var1 >>= (\\x -> add1 x >>= mult2))"
   ]
  },
  {
   "cell_type": "markdown",
   "metadata": {},
   "source": [
    "Let's look now at an example where we create a type and an monad instance for it that violates these laws."
   ]
  },
  {
   "cell_type": "code",
   "execution_count": null,
   "metadata": {},
   "outputs": [],
   "source": [
    "import Control.Monad (ap, liftM)\n",
    "\n",
    "data NotOk a = NotOk a Bool deriving (Eq, Show)\n",
    "\n",
    "bindNotOk :: NotOk a -> (a -> NotOk b) -> NotOk b\n",
    "bindNotOk (NotOk a myBool) f =\n",
    "  let\n",
    "    NotOk b myBool' = f a\n",
    "  in\n",
    "    NotOk b $ not myBool\n",
    "\n",
    "instance Functor NotOk where\n",
    "    fmap = liftM\n",
    "\n",
    "instance Applicative NotOk where\n",
    "    pure = return\n",
    "    (<*>) = ap\n",
    "\n",
    "instance Monad NotOk where\n",
    "  (>>=) = bindNotOk\n",
    "  return a = NotOk a True\n",
    "\n",
    "var1 :: NotOk Int\n",
    "var1 = NotOk 1 True\n",
    "\n",
    "add1, mult2 :: Int -> NotOk Int\n",
    "add1 x = NotOk (x + 1) True\n",
    "mult2 x = NotOk (2 * x) True\n",
    "\n",
    "print $ ((return 1 :: NotOk Int) >>= add1) == add1 1\n",
    "print $ (var1 >>= return) == var1\n",
    "print $ ((var1 >>= add1) >>= mult2) == (var1 >>= (\\x -> add1 x >>= mult2))"
   ]
  },
  {
   "cell_type": "markdown",
   "metadata": {},
   "source": [
    "Same as for Functor and Applicative it is not obligatory to follow these laws in Haskell if you create a type and make an instance of Monad for it.\n",
    "\n",
    "It is still good practice to follow them because:\n",
    "- you can better reason about what your code is doing\n",
    "\n",
    "- you can make use of other functions that work with the Monad type class"
   ]
  },
  {
   "cell_type": "markdown",
   "metadata": {},
   "source": [
    "## Recap"
   ]
  },
  {
   "cell_type": "markdown",
   "metadata": {},
   "source": [
    "In this lesson we've discussed:\n",
    "\n",
    "- the motivation for introducing the Monad type \n",
    "\n",
    "- definition of the Monad type class\n",
    "\n",
    "- the Monad operators and \"do\" notation\n",
    "\n",
    "- examples that show how to use the Monad type class\n",
    "\n",
    "- laws that apply to the Monad type class"
   ]
  }
 ],
 "metadata": {
  "kernelspec": {
   "display_name": "Haskell",
   "language": "haskell",
   "name": "haskell"
  },
  "language_info": {
   "codemirror_mode": "ihaskell",
   "file_extension": ".hs",
   "mimetype": "text/x-haskell",
   "name": "haskell",
   "pygments_lexer": "Haskell",
   "version": "8.10.7"
  }
 },
 "nbformat": 4,
 "nbformat_minor": 4
}
