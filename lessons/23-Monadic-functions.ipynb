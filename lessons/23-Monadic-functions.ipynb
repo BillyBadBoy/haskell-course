{
 "cells": [
  {
   "cell_type": "markdown",
   "metadata": {},
   "source": [
    "# Monadic functions"
   ]
  },
  {
   "cell_type": "markdown",
   "metadata": {},
   "source": [
    "## Outline\n",
    "\n",
    "* What are they\n",
    "\n",
    "* Examples of monadic functions\n",
    "\n",
    "In this lesson, we will learn about monadic functions and how you can use them."
   ]
  },
  {
   "cell_type": "markdown",
   "metadata": {},
   "source": [
    "## What are they"
   ]
  },
  {
   "cell_type": "markdown",
   "metadata": {},
   "source": [
    "For the start let's write out some short definitions that we already know:\n",
    "- A **monad** is a typeclass that defines `>>=` and `return` (minimally).\n",
    "\n",
    "- A **monadic value** is a value contextualized by a type constructor that has an instance of the monad type class.\n",
    "\n",
    "- The **inner value** of a monadic value is the actual value that was contextualized by a type constructor."
   ]
  },
  {
   "cell_type": "markdown",
   "metadata": {},
   "source": [
    "That brings us to the definition of a **monadic function**:\n",
    "- A **monadic function** is a function that produces a monadic value. \n",
    "\n",
    "- **Monadic code** is code defined inside of a monadic function."
   ]
  },
  {
   "cell_type": "markdown",
   "metadata": {},
   "source": [
    "This is a very broad definition. We can say all functions that we wrote so far which returned `IO a`, `Maybe a` and `[a]`, can be called monadic functions. "
   ]
  },
  {
   "cell_type": "markdown",
   "metadata": {},
   "source": [
    "Further we distinguish between two types of monadic functions:\n",
    "- **Classic monadic functions** are in the form `f :: a -> m b`, where a is the type of the inner value of the monad.\n",
    "\n",
    "- **Loose monadic functions** are in the form `f :: anything -> m b`, where the input of the function really doesn't matter."
   ]
  },
  {
   "cell_type": "markdown",
   "metadata": {},
   "source": [
    "What we will be focusing on in this chapter are some of the monadic functions which are available from Haskell modules and make writing monadic code easier."
   ]
  },
  {
   "cell_type": "markdown",
   "metadata": {},
   "source": [
    "## Examples of monadic functions"
   ]
  },
  {
   "cell_type": "markdown",
   "metadata": {},
   "source": [
    "Here we cover some of the often used available monadic functions, explain what they do and when to use them.\n",
    "\n",
    "All of the functions presented below are contained in the **Control.Monad** module."
   ]
  },
  {
   "cell_type": "markdown",
   "metadata": {},
   "source": [
    "### Lifting functions"
   ]
  },
  {
   "cell_type": "markdown",
   "metadata": {},
   "source": [
    "The first of the lifting functions is the `liftM` function. Its definition is:\n",
    "```haskell\n",
    "liftM :: Monad m => (a1 -> r) -> m a1 -> m r \n",
    "liftM f m1 = do \n",
    "    x1 <- m1\n",
    "    return (f x1) \n",
    "```"
   ]
  },
  {
   "cell_type": "markdown",
   "metadata": {},
   "source": [
    "It promotes a function to a monad. Let's look at an example."
   ]
  },
  {
   "cell_type": "code",
   "execution_count": null,
   "metadata": {},
   "outputs": [],
   "source": [
    "import Control.Monad (liftM)\n",
    "\n",
    "add1 :: Num a => a -> a\n",
    "add1 x1 = x1 + 1\n",
    "\n",
    "var1 :: Maybe Int\n",
    "var1 = Just 2\n",
    "\n",
    "result1 :: Maybe Int\n",
    "result1 = liftM add1 var1"
   ]
  },
  {
   "cell_type": "markdown",
   "metadata": {},
   "source": [
    "We notice that we could get the same result if we used the Functor operator `fmap` instead of `liftM`.\n",
    "\n",
    "The reason why `liftM` is usefull is because it is expressed with the monad operators `>>=` and `return`. "
   ]
  },
  {
   "cell_type": "markdown",
   "metadata": {},
   "source": [
    "If we define an instance of monad for a type we created we also have to define an instance of Applicative and Functor.\n",
    "\n",
    "And in the functor definition we can simply say that `fmap = liftM`. "
   ]
  },
  {
   "cell_type": "markdown",
   "metadata": {},
   "source": [
    "In case we have a function that takes in two arguments we can use the `liftM2` function.\n",
    "```haskell\n",
    "liftM2 :: Monad m => (a1 -> a2 -> r) -> m a1 -> m a2 -> m r \n",
    "liftM2 f m1 m2 = do \n",
    "    x1 <- m1 \n",
    "    x2 <- m2 \n",
    "    return (f x1 x2)\n",
    "```"
   ]
  },
  {
   "cell_type": "code",
   "execution_count": null,
   "metadata": {},
   "outputs": [],
   "source": [
    "liftM2 (+) [0,1] [0,2]\n",
    "liftM2 (+) (Just 1) Nothing"
   ]
  },
  {
   "cell_type": "markdown",
   "metadata": {},
   "source": [
    "Also the functions `liftM3`, `liftM4` and `liftM5` exist. The numbers represent the number of arguments that their input functions accept."
   ]
  },
  {
   "cell_type": "markdown",
   "metadata": {},
   "source": [
    "The last of the lifting functions is the `ap` function.\n",
    "```haskell\n",
    "ap :: Monad m => m (a -> b) -> m a -> m b \n",
    "ap m1 m2 = do \n",
    "    f1 <- m1 \n",
    "    x1 <- m2 \n",
    "    return (f1 x1)\n",
    "```"
   ]
  },
  {
   "cell_type": "markdown",
   "metadata": {},
   "source": [
    "It works the same as the `<*>` operator from Applicative type class. It is useful for the same reason as the `liftM` function.\n",
    "\n",
    "If we define an instance of monad for our type, we also have to define an instance of applicative and can say `(<*>) = ap`. "
   ]
  },
  {
   "cell_type": "markdown",
   "metadata": {},
   "source": [
    "### The `sequence` and `sequence_` functions"
   ]
  },
  {
   "cell_type": "markdown",
   "metadata": {},
   "source": [
    "The definition of the `sequence` function is:\n",
    "```haskell\n",
    "sequence :: (Traversable t, Monad m) => t (m a) -> m (t a)\n",
    "```"
   ]
  },
  {
   "cell_type": "markdown",
   "metadata": {},
   "source": [
    "It evaluates each monadic action in the traversable structure from left to right, and collects the results.\n",
    "\n",
    "Here is an example of this function:"
   ]
  },
  {
   "cell_type": "code",
   "execution_count": null,
   "metadata": {},
   "outputs": [],
   "source": [
    "import Control.Monad (sequence)\n",
    "\n",
    "var1 :: Maybe [Int]\n",
    "var1 = Just [1,2,3,4]\n",
    "\n",
    "list1 :: [Maybe Int]\n",
    "list1 = sequence var1"
   ]
  },
  {
   "cell_type": "markdown",
   "metadata": {},
   "source": [
    "We could also define a function that works reversed as the `sequence` function for lists."
   ]
  },
  {
   "cell_type": "code",
   "execution_count": null,
   "metadata": {},
   "outputs": [],
   "source": [
    "import Control.Applicative (liftA2)\n",
    "\n",
    "sequenceR :: (Applicative f) => [f a] -> f [a]\n",
    "sequenceR = foldr (liftA2 (:)) (pure [])\n",
    "\n",
    "list2Var :: Maybe [Int]\n",
    "list2Var = sequenceR list1"
   ]
  },
  {
   "cell_type": "markdown",
   "metadata": {},
   "source": [
    "The `liftA2` function from the **Control.Applicative** module basically works the same as the `liftM2` function.\n",
    "```haskell\n",
    "liftA2 :: (a -> b -> c) -> f a -> f b -> f c \n",
    "```\n",
    "The difference is that it promotes a function to an applicative instead of a monad."
   ]
  },
  {
   "cell_type": "markdown",
   "metadata": {},
   "source": [
    "The function `sequence_` works similar as `sequence` just that it throws away the result.\n",
    "```haskell\n",
    "sequence_ :: (Foldable t, Monad m) => t (m a) -> m () \n",
    "```"
   ]
  },
  {
   "cell_type": "markdown",
   "metadata": {},
   "source": [
    "This comes useful when you need to get the monad context out of the variable.\n",
    "\n",
    "For instance in the code example below we use it to be able to print elements of a list one by one."
   ]
  },
  {
   "cell_type": "code",
   "execution_count": null,
   "metadata": {},
   "outputs": [],
   "source": [
    "import Control.Monad (sequence_)\n",
    "\n",
    "mapPrint :: Show a => [a] -> IO ()\n",
    "mapPrint xs = sequence_ . map print $ xs\n",
    "\n",
    "mapPrint [1..3]"
   ]
  },
  {
   "cell_type": "markdown",
   "metadata": {},
   "source": [
    "If we would not use the `sequence_` function we would get a compile error.\n",
    "\n",
    "In Haskell it is a general convention if a function has an underscore at the end it means that it throws away the result. "
   ]
  },
  {
   "cell_type": "markdown",
   "metadata": {},
   "source": [
    "### The `mapM` and `mapM_` functions"
   ]
  },
  {
   "cell_type": "markdown",
   "metadata": {},
   "source": [
    "The type signature of these functions are:\n",
    "```haskell\n",
    "mapM :: (Traversable t, Monad m) => (a -> m b) -> t a -> m (t b) \n",
    "\n",
    "mapM_ :: (Foldable t, Monad m) => (a -> m b) -> t a -> m () \n",
    "```"
   ]
  },
  {
   "cell_type": "markdown",
   "metadata": {},
   "source": []
  },
  {
   "cell_type": "markdown",
   "metadata": {},
   "source": [
    "## Recap"
   ]
  },
  {
   "cell_type": "markdown",
   "metadata": {},
   "source": [
    "In this lesson we've discussed:\n",
    "\n",
    "- the definition of monadic functions\n",
    "\n",
    "- examples of monadic functions"
   ]
  }
 ],
 "metadata": {
  "kernelspec": {
   "display_name": "Haskell",
   "language": "haskell",
   "name": "haskell"
  },
  "language_info": {
   "codemirror_mode": "ihaskell",
   "file_extension": ".hs",
   "mimetype": "text/x-haskell",
   "name": "haskell",
   "pygments_lexer": "Haskell",
   "version": "8.10.7"
  }
 },
 "nbformat": 4,
 "nbformat_minor": 4
}
