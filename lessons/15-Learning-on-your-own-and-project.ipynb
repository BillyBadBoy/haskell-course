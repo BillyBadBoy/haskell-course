{
 "cells": [
  {
   "cell_type": "markdown",
   "metadata": {},
   "source": [
    "# Learning on your own and project"
   ]
  },
  {
   "cell_type": "markdown",
   "metadata": {},
   "source": [
    "## Outline\n",
    "\n",
    "* Using **:type** and **:info** in GHCi\n",
    "\n",
    "* Using Hoogle and Hackage\n",
    "  - Hoogle\n",
    "  - Hackage\n",
    "  - Using **:i** together with Hoogle and Hackage\n",
    "\n",
    "* Using the Haskell Wiki\n",
    "\n",
    "* Learning to read existing code\n",
    "\n",
    "* Walkthrough of creating a project\n",
    "\n",
    "In this lesson, we will learn how you can explore types, functions and modules in Haskell on your own."
   ]
  },
  {
   "cell_type": "markdown",
   "metadata": {},
   "source": [
    "As we cover more and more, it is becoming clear that since Haskell is a functional programming language, it is all about functions and their composition."
   ]
  },
  {
   "cell_type": "markdown",
   "metadata": {},
   "source": [
    "When designing a Haskell program, we keep this in mind and cut up our code in these small chunks of functions. This allows us to reason about smaller portions of the code and their correctness. And, as a bonus, it keeps our code composable, so we can reuse it later."
   ]
  },
  {
   "cell_type": "markdown",
   "metadata": {},
   "source": [
    "So, it comes as no surprise that a lot of code is already written by others! It is our task to find useful functions and figure out how to use them."
   ]
  },
  {
   "cell_type": "markdown",
   "metadata": {},
   "source": [
    "## Using **:type** and **:info** in GHCi"
   ]
  },
  {
   "cell_type": "markdown",
   "metadata": {},
   "source": [
    " Before we start with this search for useful functions, we will explain how to use GHCi to figure out how a function works."
   ]
  },
  {
   "cell_type": "markdown",
   "metadata": {},
   "source": [
    "<div class=\"alert alert-block alert-info\">\n",
    "Remember, GHCi is the <b>interactive</b> shell for GHC (The Glasgow Haskell Compiler). It lets you play and execute code on the go! In this Jupyter notebook, each cell is actually a GHCi shell that we can use for small Haskell snippets. You can also open a GHCi shell in a terminal by executing `ghci` (you can quit by execution <code>:q</code>)\n",
    "</div>"
   ]
  },
  {
   "cell_type": "markdown",
   "metadata": {},
   "source": [
    "Two useful GHCi commands, which we extensively used in our lessons before, are `:type` and `:info`. Which also can be abbreviated as `:t` and `:i` in its use. These two let us inspect and gather information on types, function, instances and more!"
   ]
  },
  {
   "cell_type": "markdown",
   "metadata": {},
   "source": [
    "To highlight their importance, we consider an example. Imagine that we want to open a file in Haskell, and we remember the existence of a function `openFile` from the `System.IO` module, but not its use. We can use GHCi together with `:t` and `:i` to figure out its usage!"
   ]
  },
  {
   "cell_type": "code",
   "execution_count": null,
   "metadata": {},
   "outputs": [],
   "source": [
    "import System.IO\n",
    "\n",
    ":t openFile\n",
    "-- openFile :: FilePath -> IOMode -> IO Handle\n",
    "\n",
    ":i FilePath\n",
    "-- type FilePath = String\n",
    "\n",
    ":i IOMode\n",
    "-- data IOMode = ReadMode | WriteMode | AppendMode | ReadWriteMode"
   ]
  },
  {
   "cell_type": "markdown",
   "metadata": {},
   "source": [
    "From this information, we see that the function `openFile` takes in a file path, which is a string. We also see that it takes a mode, from this context we deduce that these are for indicating the file system in what way we are opening this file."
   ]
  },
  {
   "cell_type": "markdown",
   "metadata": {},
   "source": [
    "Besides the above deconstruction of the algebraic data type `IOMode`, the `:i` command is also useful for exploring other Haskell types."
   ]
  },
  {
   "cell_type": "markdown",
   "metadata": {},
   "source": [
    "For instance, if we type `:i Int` we get additional information about this type. We can even see to which type classes the `Int` type belongs!"
   ]
  },
  {
   "cell_type": "markdown",
   "metadata": {},
   "source": [
    "```haskell\n",
    ":i Int\n",
    "type Int :: *\n",
    "data Int = GHC.Types.I# GHC.Prim.Int#\n",
    "  \t-- Defined in ‘GHC.Types’\n",
    "instance Eq Int -- Defined in ‘GHC.Classes’\n",
    "instance Ord Int -- Defined in ‘GHC.Classes’\n",
    "instance Enum Int -- Defined in ‘GHC.Enum’\n",
    "instance Num Int -- Defined in ‘GHC.Num’\n",
    "instance Real Int -- Defined in ‘GHC.Real’\n",
    "instance Show Int -- Defined in ‘GHC.Show’\n",
    "instance Read Int -- Defined in ‘GHC.Read’\n",
    "instance Bounded Int -- Defined in ‘GHC.Enum’\n",
    "instance Integral Int -- Defined in ‘GHC.Real’\n",
    "```"
   ]
  },
  {
   "cell_type": "markdown",
   "metadata": {},
   "source": [
    "We see that `Int` is a member of many instances, with the `:Info` command we can also find out more about these instances. Let's look for instance at the `Num` type class."
   ]
  },
  {
   "cell_type": "markdown",
   "metadata": {},
   "source": [
    "```haskell\n",
    ":i Num\n",
    "type Num :: * -> Constraint\n",
    "class Num a where\n",
    "  (+) :: a -> a -> a\n",
    "  (-) :: a -> a -> a\n",
    "  (*) :: a -> a -> a\n",
    "  negate :: a -> a\n",
    "  abs :: a -> a\n",
    "  signum :: a -> a\n",
    "  fromInteger :: Integer -> a\n",
    "  {-# MINIMAL (+), (*), abs, signum, fromInteger, (negate | (-)) #-}\n",
    "  \t-- Defined in ‘GHC.Num’\n",
    "instance Num Word -- Defined in ‘GHC.Num’\n",
    "instance Num Integer -- Defined in ‘GHC.Num’\n",
    "instance Num Int -- Defined in ‘GHC.Num’\n",
    "instance Num Float -- Defined in ‘GHC.Float’\n",
    "instance Num Double -- Defined in ‘GHC.Float’\n",
    "```"
   ]
  },
  {
   "cell_type": "markdown",
   "metadata": {},
   "source": [
    "We get all the class functions and their type signatures. From the `{-# MINIMAL ... -#}` description, we even see which functions are minimally required to be a member of this instance. Conversely, this also means that any type that is an `Int`, is a member of the `Num` type class, so it has all of the above class functions available. And indeed we can negate the following"
   ]
  },
  {
   "cell_type": "code",
   "execution_count": null,
   "metadata": {},
   "outputs": [],
   "source": [
    "numberOne :: Int\n",
    "numberOne = 1\n",
    ":t numberOne\n",
    "negate numberOne"
   ]
  },
  {
   "cell_type": "markdown",
   "metadata": {},
   "source": [
    "Lastly, at the end, all built in Haskell types that are members of this type class are listed with their module location."
   ]
  },
  {
   "cell_type": "markdown",
   "metadata": {},
   "source": [
    "## Using Hoogle and Hackage"
   ]
  },
  {
   "cell_type": "markdown",
   "metadata": {},
   "source": [
    "As we saw above, with using GHCi, we can figure out many things about function and types we know exist. But it might be the case that we simply do not know about some open-source implementation of a piece of software we need. This is where Hoogle and Hackage come in."
   ]
  },
  {
   "cell_type": "markdown",
   "metadata": {},
   "source": [
    "### Hoogle"
   ]
  },
  {
   "cell_type": "markdown",
   "metadata": {},
   "source": [
    "**Hoogle** (*hoogle.haskell.org*) is a Haskell API search engine, which allows you to search the Haskell libraries on Hackage by either function name, or by approximate type signature. \n",
    "\n",
    "This is an extension to `:info` and `:type` commands, but with Hoogle you get a more detailed and graphically friendly explanation of types and functions. \n",
    "\n",
    "Hoogle also enables you to search for modules contained in Haskell and see information about the functions that are defined in a specific module. "
   ]
  },
  {
   "cell_type": "markdown",
   "metadata": {},
   "source": [
    "Here are some example searches you can try out:\n",
    "\n",
    "* **map** searches as text, finding map, concatMap, mapM\n",
    "* **con map** searches for the text \"map\" and \"con\" finding concatMap, but not map\n",
    "* **a -> a** searches by type, finding id :: a -> a\n",
    "* **a** searches for the text \"a\"\n",
    "* **:: a** searches for the type \"a\"\n",
    "* **id :: a -> a** searches for the text \"id\" and the type \"a -> a\""
   ]
  },
  {
   "cell_type": "markdown",
   "metadata": {},
   "source": [
    "Additional to your search, you can add restriction on the modules that the function resides in. For example, if we search for\n",
    "\n",
    "* **file -System** this excludes results from modules such as System.IO, System.FilePath.Windows and Distribution.System\n",
    "* **foldr +Data.Map** finds results in the Data.Map module"
   ]
  },
  {
   "cell_type": "markdown",
   "metadata": {},
   "source": [
    "### Hackage"
   ]
  },
  {
   "cell_type": "markdown",
   "metadata": {},
   "source": [
    "**Hackage** (*hackage.haskell.org*) is the Haskell community's central package archive of open-source software. \n",
    "\n",
    "If you tried out Hoogle, you may have noticed that the page that loads and shows you information about the function, type, or module is actually hosted on *hackage.haskell.org*. \n",
    "\n",
    "If we for instance type in Hoogle **Map**, the first result we get is the **Data.Map** module. When we click on it, we get redirected to Hackage. On the beginning of this page, we see the following note:"
   ]
  },
  {
   "cell_type": "markdown",
   "metadata": {},
   "source": [
    "```\n",
    "Note: You should use **Data.Map.Strict** instead of this module if:\n",
    "\n",
    "- You will eventually need all the values stored.\n",
    "- The stored values don't represent large virtual data structures to be lazily computed.\n",
    "```"
   ]
  },
  {
   "cell_type": "markdown",
   "metadata": {},
   "source": [
    "When we click on **Data.Map.Strict**, a new page gets loaded, and we see that this module contains an updated description of all the functions and data typed that are part of the **Data.Map** module. \n",
    "\n",
    "Because in the dot notation of modules, we go one step into the tree when you import **Data.Map** everything from the child branches contained in **Data.Map** is also imported. \n",
    "\n",
    "Do not forget to check the notes at the top section of the module you are looking at, since they can state this module should use a qualified import. "
   ]
  },
  {
   "cell_type": "markdown",
   "metadata": {},
   "source": [
    "Another thing to mention about Hackage is that, when you are looking at a module as **Data.Map.Strict** you may see on the left side a table of contents that defines the module. \n",
    "\n",
    "Also in the top-left corner of the page, you can see the name of the package that contains this module. For the module **Data.Map.Strict** the package name is **containers** with current version **0.6.6**. \n",
    "\n",
    "If you go to the starting page of Hackage, click on Browse packages you can type in **containers** in the search bar and list of packages that contains this name will be displayed. \n",
    "\n",
    "Then you can further click on the package **containers**, and you will get some information about the package together with a list of all the modules it contains, of which **Data.Map** is just one."
   ]
  },
  {
   "cell_type": "markdown",
   "metadata": {},
   "source": [
    "### Looking up source code"
   ]
  },
  {
   "cell_type": "markdown",
   "metadata": {},
   "source": [
    "When we used the command `:i Int` or `:i Num` beside the instance statements, this command showed a line: \n",
    "```haskell\n",
    "-- Defined in ...\n",
    "```"
   ]
  },
  {
   "cell_type": "markdown",
   "metadata": {},
   "source": [
    "These comments tell you where you can find the definition of these instances. \n",
    "\n",
    "For the `Num` type class we have an instance for `Int` which is defined in `GHC.Num`."
   ]
  },
  {
   "cell_type": "markdown",
   "metadata": {},
   "source": [
    "You can go to Hoogle type in *GHC.Num*, click on the result and scroll down until you find the line in the instance's table `Num Int`.\n",
    "\n",
    "Then click on the text `# source` that is on the right side of the definition, and you will see the source code where this instance is defined:\n",
    "```haskell\n",
    "instance Num Int where\n",
    "    I# x + I# y = I# (x +# y)\n",
    "    I# x - I# y = I# (x -# y)\n",
    "    negate (I# x) = I# (negateInt# x)\n",
    "    I# x * I# y = I# (x *# y)\n",
    "    abs n  = if n `geInt` 0 then n else negate n\n",
    "\n",
    "    signum n | n `ltInt` 0 = negate 1\n",
    "             | n `eqInt` 0 = 0\n",
    "             | otherwise   = 1\n",
    "\n",
    "    fromInteger i = I# (integerToInt# i)\n",
    "```"
   ]
  },
  {
   "cell_type": "markdown",
   "metadata": {},
   "source": [
    "You can do the same for any function, type or instance definition that you find on Hackage."
   ]
  },
  {
   "cell_type": "markdown",
   "metadata": {},
   "source": [
    "## Using the Haskell Wiki"
   ]
  },
  {
   "cell_type": "markdown",
   "metadata": {},
   "source": [
    "The Haskell wiki page can be found at *wiki.haskell.org*. It contains numerous useful articles and links that cover various areas of Haskell, such as:\n",
    "\n",
    "* Learning Haskell\n",
    "* Using Haskell\n",
    "* Joining the community\n",
    "\n",
    "You can also use the wiki search bar in the top-right corner to search for articles on the Haskell wiki page. \n",
    "\n",
    "Keep in mind that for a specif problem it is maybe good to do a Google search, but for learning general things about the Haskell ecosystem this is a good starting point."
   ]
  },
  {
   "cell_type": "markdown",
   "metadata": {},
   "source": [
    "A more up-to-date list of community pages and learning resources can be found on *haskell.org*:\n",
    "\n",
    "* https://www.haskell.org/community/\n",
    "* https://www.haskell.org/documentation/ \n",
    "\n",
    "Nevertheless, you could also find interesting educational content if you search on Google or YouTube."
   ]
  },
  {
   "cell_type": "markdown",
   "metadata": {},
   "source": [
    "A good example of learning resources that are not stated anywhere on the Haskell wiki page or the Haskell documentation page at current time of writing are: \n",
    "- the Stack Overflow tutorial https://devtut.github.io/haskell/ that provides a basic and advanced Haskell tutorial \n",
    "\n",
    "- the advance Haskell libraries and tutorial explanations from FP complete project: https://www.fpcomplete.com/haskell/learn/ "
   ]
  },
  {
   "cell_type": "markdown",
   "metadata": {},
   "source": [
    "## Learning to read existing code"
   ]
  },
  {
   "cell_type": "markdown",
   "metadata": {},
   "source": [
    "Above, we used Hoogle and Hackage to inspect the **Data.Map.Strict** module, let's go now through some code that uses this module. After that, we will explain how you would try to understand such code. "
   ]
  },
  {
   "cell_type": "code",
   "execution_count": null,
   "metadata": {},
   "outputs": [],
   "source": [
    "import Data.Map as Map ( fromList, insert, toList, Map, delete )\n",
    "\n",
    "data Book = Book \n",
    "              { author :: String\n",
    "              , title :: String\n",
    "              } deriving Show\n",
    "\n",
    "book1 :: Book\n",
    "book1 = Book { author = \"Douglas Adams\"\n",
    "             , title = \"The Hitchhiker's Guide to the Galaxy\"\n",
    "             }\n",
    "\n",
    "book2 :: Book\n",
    "book2 = Book { author = \"J. R. R. Tolkien\"\n",
    "             , title = \"Lord of the Rings\"\n",
    "             }\n",
    "\n",
    "book3 :: Book\n",
    "book3 = Book { author = \"Frank Herbert\"\n",
    "             , title = \"Dune\"\n",
    "             }\n",
    "\n",
    "library :: Map.Map Int Book\n",
    "library = Map.fromList [(1,book1),(3,book2)]\n",
    "\n",
    "listBooks :: Map.Map Int Book -> IO ()\n",
    "listBooks lib = do\n",
    "    let books = Prelude.map snd (Map.toList lib)\n",
    "    print books\n",
    "\n",
    "addBook :: Map.Map Int Book -> Book -> Map.Map Int Book\n",
    "addBook lib book = Map.insert (getFreeSpot 1) book lib\n",
    "    where libKeys = Prelude.map fst $ Map.toList lib\n",
    "          getFreeSpot spot = if spot `elem` libKeys\n",
    "                             then getFreeSpot (spot + 1)\n",
    "                             else spot\n",
    "\n",
    "removeBook :: Map.Map Int Book -> Int -> Map.Map Int Book\n",
    "removeBook lib id = Map.delete id lib\n",
    "\n",
    "main :: IO ()\n",
    "main = do\n",
    "    putStr \"Current books in library are:\\n\"\n",
    "    listBooks library\n",
    "    putStr \"\\nAdding a book to library:\\n\"\n",
    "    let library1 = addBook library book3\n",
    "    listBooks library1\n",
    "    putStr \"\\nRemoving book with id = 3 from library:\\n\"\n",
    "    listBooks $ removeBook library1 3"
   ]
  },
  {
   "cell_type": "markdown",
   "metadata": {},
   "source": [
    "This little code snippet starts off with an import of functions in from the **Data.Map** module. Often in code you will find only the modules get imported without the declared functions, keep this in mind when looking at code!"
   ]
  },
  {
   "cell_type": "markdown",
   "metadata": {},
   "source": [
    "<div class=\"alert alert-block alert-info\">\n",
    "For some IDEs and text editors, it is possible to add the *Haskell language server* extension which automatically parses the code and suggest changing the import statement of a module so that it lists all the used functions from the code: https://wiki.haskell.org/IDEs#Haskell_Language_Server \n",
    "</div>"
   ]
  },
  {
   "cell_type": "markdown",
   "metadata": {},
   "source": [
    "After that, we see a `book` type is defined and three of these values are created. In the library type declaration, we see that a `Map` data type is used.\n",
    "\n",
    "To discover how this works, we go to Hoogle, and search for \"Map\". The first result is the **Data.Map** module, but the second is the definition of the Map type."
   ]
  },
  {
   "cell_type": "markdown",
   "metadata": {},
   "source": [
    "If we click on the second result, we get the following definition:\n",
    "```haskell\n",
    "data Map k a \n",
    "A Map from keys k to values a.\n",
    "```"
   ]
  },
  {
   "cell_type": "markdown",
   "metadata": {},
   "source": [
    "In the code, we also see that the Map object is created with the `fromList` function. If we check on Hoogle `fromList +Data.Map` we get the following type signature:\n",
    "```haskell\n",
    "fromList :: Ord k => [(k, a)] -> Map k a\n",
    "```\n",
    "```\n",
    "Build a map from a list of key/value pairs. If the list contains more than one value for the same key, the last value for the key is retained.\n",
    "```\n",
    "So, it takes in a list of tuples and turns it into a Map. The keys have to have an instance of Ord. In our case, we use `Int` for keys and `Book` type for values."
   ]
  },
  {
   "cell_type": "markdown",
   "metadata": {},
   "source": [
    "Next we have the function `listBooks` that takes in a Map which holds books and performs some IO actions. We see there we use the function `toList` from the Map module.\n",
    "\n",
    "From Hoogle we get:\n",
    "```haskell\n",
    "toList :: Map k a -> [(k, a)] \n",
    "```\n",
    "```\n",
    "Convert the map to a list of key/value pairs\n",
    "```"
   ]
  },
  {
   "cell_type": "markdown",
   "metadata": {},
   "source": [
    "It takes in a Map object and returns a list of tuples. The opposite of the `fromList` function.\n",
    "\n",
    "So, the `listBooks` function can take in our library and list all the books that are contained in the Map."
   ]
  },
  {
   "cell_type": "markdown",
   "metadata": {},
   "source": [
    "Then we come to the function `addBook` that takes in a Map which contains books, a book, and returns a Map which contains books.\n",
    "\n",
    "The only function we do not know yet in this code is the `insert` function from the Map module. From Hoogle we get:\n",
    "```haskell\n",
    "insert :: Ord k => k -> a -> Map k a -> Map k a \n",
    "```\n",
    "```\n",
    "Insert a new key and value in the map. If the key is already present in the map, the associated value is replaced with the supplied value.\n",
    "```"
   ]
  },
  {
   "cell_type": "markdown",
   "metadata": {},
   "source": [
    "From the code we see, this function can update our library with a new Book, where it chooses the first free key that the library does not contain yet."
   ]
  },
  {
   "cell_type": "markdown",
   "metadata": {},
   "source": [
    "The last function that works with a Map is the `removeBook` function that takes in a Map of Books and an Int, and returns a Map of Books.\n",
    "\n",
    "We see that it uses the `delete` function from the Map module. From Hoogle we get:\n",
    "```haskell\n",
    "delete :: Ord k => k -> Map k a -> Map k a \n",
    "```\n",
    "```\n",
    "Delete a key and its value from the map. When the key is not a member of the map, the original map is returned.\n",
    "```"
   ]
  },
  {
   "cell_type": "markdown",
   "metadata": {},
   "source": [
    "So, this function can delete a book from our library where we identify it with the id of the book, that are the keys in the Map.\n",
    "\n",
    "In the end we have the `main` function that lists the books from our library, then adds one book and lists the library and in the end removes one book and lists the library again."
   ]
  },
  {
   "cell_type": "markdown",
   "metadata": {},
   "source": [
    "<div class=\"alert alert-block alert-info\">\n",
    "If you want to use a module you learned about in your future code, it is worth to check the main page of the module for comments. For example: for the `Data.Map` module we need a qualified import to make sure function do not clash from the `Prelude` module.\n",
    "</div>"
   ]
  },
  {
   "cell_type": "markdown",
   "metadata": {},
   "source": [
    "## Walkthrough of creating a project"
   ]
  },
  {
   "cell_type": "markdown",
   "metadata": {},
   "source": [
    "In this section, we will show the creation of a small Haskell project. This project will not be finished in this notebook, but snippets of the code will be given to sketch the implementation. "
   ]
  },
  {
   "cell_type": "markdown",
   "metadata": {},
   "source": [
    "Besides these snippets, we will also give clarification on the design decisions taken along the way. The goal here is to give you a feeling for how to choose the correct types and function when building a project."
   ]
  },
  {
   "cell_type": "markdown",
   "metadata": {},
   "source": [
    "The project idea is a program that functions similar to an online web shop. It simulates a shopping basket, and it has a database with items that you can add to the shopping basket. Additionally, once the shopping is done, the program can reduce the price of the total shopping basket, depending on a membership program. For simplicity, we will only have three categories in this online shop, music, books and coffee."
   ]
  },
  {
   "cell_type": "markdown",
   "metadata": {},
   "source": [
    "So, how can we translate this idea to code? We might try to implement the Database structure as a `Map` from the module `Data.Map` described above.\n"
   ]
  },
  {
   "cell_type": "markdown",
   "metadata": {},
   "source": [
    "This database `Map` contains three entries, one for each class of items. So, it's either one of the keys `\"music\"`, `\"books\"` or `\"coffee\"`."
   ]
  },
  {
   "cell_type": "markdown",
   "metadata": {},
   "source": [
    "```json\n",
    "{\n",
    "    \"music\": ...\n",
    "    \"books\": ...\n",
    "    \"coffee\": ...\n",
    "}\n",
    "```"
   ]
  },
  {
   "cell_type": "markdown",
   "metadata": {},
   "source": [
    "The shop can have multiple kinds of music, books or coffee that they sell. So, we might choose for each of these categories in our database `Map` to have as their value a `Map` as well. Here, each object in a category will have as its key its index in the category `Map`."
   ]
  },
  {
   "cell_type": "markdown",
   "metadata": {},
   "source": [
    "<div class=\"alert alert-block alert-info\">\n",
    "Alternatively, you might consider a list of items instead of a <code>Map</code>, but note that <code>Map</code> is easier to use as a database since you can access the data via keys.\n",
    "</div>"
   ]
  },
  {
   "cell_type": "markdown",
   "metadata": {},
   "source": [
    "So, what do the items in each category's look like? Coffee is described differently than a book in a shop, so each value might have a different type describing these attributes. So, we might consider making a custom type for each. But, to keep it simple, we will only track for each item its name and its price. The name would be typed as a `String` and initially, we will type the price as a `Double`. We choose a `Double` here because we want to track a more precise price for the items and later have the opportunity to round it accordingly."
   ]
  },
  {
   "cell_type": "markdown",
   "metadata": {},
   "source": [
    "```json\n",
    "{\n",
    "    \"name\": \"A book about the connection of good coffee and music\"\n",
    "    \"price\": 10\n",
    "}\n",
    "```"
   ]
  },
  {
   "cell_type": "markdown",
   "metadata": {},
   "source": [
    "<div class=\"alert alert-block alert-info\">\n",
    "    Notice that a <code>Double</code> has fixed precision and may lead to rounding errors in the program, this will be addressed later.\n",
    "</div>"
   ]
  },
  {
   "cell_type": "markdown",
   "metadata": {},
   "source": [
    "Besides the core of our program keeping track of the shopping basket, we would also like a minimal interface which uses IO to operate our program."
   ]
  },
  {
   "cell_type": "markdown",
   "metadata": {},
   "source": [
    "The list of action available should be presented when running the program, and we would like to have the actions:\n",
    "```\n",
    "Welcome to the store. Possible actions are:\n",
    "- list_commands\n",
    "- list_groups\n",
    "- list_items  --group\n",
    "- buy_item  --group  --item_index  --quantity\n",
    "- list_basket\n",
    "- remove_item  --group  --item_index  --quantity\n",
    "- get_price  --membership_scheme\n",
    "- exit\n",
    "```"
   ]
  },
  {
   "cell_type": "markdown",
   "metadata": {},
   "source": [
    "Here we call the text after the `--` a flag. This indicates that an extra argument/option must be given to execute that action. Each action should mutate the current shopping basket given the action and return again to the list of possible actions."
   ]
  },
  {
   "cell_type": "markdown",
   "metadata": {},
   "source": [
    "As mentioned, we wanted a membership program in the store, this is also reflected in the `get_price --membership_scheme` action with its flag. We call these three membership schemes: \"basic\", \"gold\", \"platinum\", and members will get the following rates\n",
    "- (Basic 10% | Gold 20% | Platinum 30% ) off for \"music\" store items\n",
    "- (Basic 20% | Gold 30% | Platinum 40% ) off for \"books\" store items\n",
    "- (Basic 30% | Gold 40% | Platinum 50% ) off for \"coffee\" store items"
   ]
  },
  {
   "cell_type": "markdown",
   "metadata": {},
   "source": [
    "### Implementing the code"
   ]
  },
  {
   "cell_type": "markdown",
   "metadata": {},
   "source": [
    "First, we create a simple mock database by filling it with some mock items."
   ]
  },
  {
   "cell_type": "code",
   "execution_count": null,
   "metadata": {},
   "outputs": [],
   "source": [
    "import Data.Map as Map\n",
    "\n",
    "data StoreItem = Item \n",
    "                  { name :: String\n",
    "                  , price :: Double\n",
    "                  } deriving Show\n",
    "\n",
    "music1 :: StoreItem\n",
    "music1 = Item { name = \"ABBA greatest hits\"\n",
    "              , price = 80/9\n",
    "              }\n",
    "\n",
    "music2 :: StoreItem\n",
    "music2 = Item { name = \"Beatles greatest hits\"\n",
    "              , price = 100/9\n",
    "              }\n",
    "\n",
    "music3 :: StoreItem\n",
    "music3 = Item { name = \"Coldplay greatest hits\"\n",
    "              , price = 120/9\n",
    "              }\n",
    "\n",
    "music :: Map.Map Int StoreItem\n",
    "music = Map.fromList [(1,music1),(2,music2),(3,music3)]\n",
    "\n",
    "book1 :: StoreItem\n",
    "book1 = Item { name = \"English vocabulary\"\n",
    "             , price = 230/9\n",
    "             }\n",
    "\n",
    "book2 :: StoreItem\n",
    "book2 = Item { name = \"German vocabulary\"\n",
    "             , price = 240/9\n",
    "             }\n",
    "\n",
    "book3 :: StoreItem\n",
    "book3 = Item { name = \"Japanese vocabulary\"\n",
    "             , price = 250/9\n",
    "             }\n",
    "\n",
    "books :: Map.Map Int StoreItem\n",
    "books = Map.fromList [(1,book1),(2,book2),(3,book3)]\n",
    "\n",
    "coffee1 :: StoreItem\n",
    "coffee1 = Item { name = \"Cappuccino\"\n",
    "               , price = 13/9\n",
    "               }\n",
    "\n",
    "coffee2 :: StoreItem\n",
    "coffee2 = Item { name = \"Latte macchiato\"\n",
    "               , price = 11/9\n",
    "               }\n",
    "\n",
    "coffee3 :: StoreItem\n",
    "coffee3 = Item { name = \"Espresso \"\n",
    "               , price = 12/9\n",
    "               }\n",
    "\n",
    "coffee :: Map.Map Int StoreItem\n",
    "coffee = Map.fromList [(1,coffee1),(2,coffee2),(3,coffee3)]\n",
    "\n",
    "storeDatabase :: Map.Map String (Map.Map Int StoreItem)\n",
    "storeDatabase = Map.fromList [(\"music\",music),(\"books\",books),(\"coffee\",coffee)]"
   ]
  },
  {
   "cell_type": "markdown",
   "metadata": {},
   "source": [
    "Now that we have our database, let's write the code that interacts with this database. The entry point of our program is the `main` function that will display the welcome message to the user and print the available commands. This function will also introduce an empty list `init_state` that represented the initial empty shopping basket."
   ]
  },
  {
   "cell_type": "markdown",
   "metadata": {},
   "source": [
    "The workflow of what follows is the recursively handling of actions that act and update the last state of the shopping basket. We name the function that we will recursively call, the `startShoping` function. This function will also parse user input and act on this input. "
   ]
  },
  {
   "cell_type": "markdown",
   "metadata": {},
   "source": [
    "In the `startShoping` function, the following function will represent some of the different actions\n",
    "\n",
    "- `listCommands` (displays possible commands)\n",
    "\n",
    "- `listGroups` (displays shopping groups)\n",
    "\n",
    "- `listBasket` (displays the basket items)\n",
    "\n",
    "- `wrongCommand` (displays an info message to the user)\n",
    "\n",
    "For now, we do not implement the other actions and just return the initial basket for these functions to showcase the framework. After this, we will implement the rest of the functions."
   ]
  },
  {
   "cell_type": "code",
   "execution_count": null,
   "metadata": {},
   "outputs": [],
   "source": [
    "main :: IO ()\n",
    "main = do\n",
    "    putStrLn \"Welcome to the store.\"\n",
    "    printCommands\n",
    "\n",
    "    let init_state = []\n",
    "    startShoping init_state\n",
    "\n",
    "printCommands :: IO ()\n",
    "printCommands = do\n",
    "    putStrLn \"Possible actions are:\\n \\\n",
    "            \\ list_commands \\n \\\n",
    "            \\ list_groups \\n \\\n",
    "            \\ list_items  --group \\n \\\n",
    "            \\ buy_item  --group  --item_index  --quantity \\n \\\n",
    "            \\ list_basket \\n \\\n",
    "            \\ remove_item  --group  --item_index  --quantity \\n \\\n",
    "            \\ get_price  --membership_scheme \\n \\\n",
    "            \\ exit \\n\\n \\\n",
    "            \\ Example command: list_items music\"\n",
    "\n",
    "type CommandOptions = [String]\n",
    "type ShoppingGroup = String\n",
    "type ItemIndex = Int\n",
    "type ItemQuantity = Int\n",
    "type ShoppingBasket = [(ShoppingGroup,ItemIndex,ItemQuantity)]\n",
    "\n",
    "startShoping :: ShoppingBasket -> IO ()\n",
    "startShoping basket = do\n",
    "    putStrLn \"\\nPlease select what you want to do: \"\n",
    "    fullCommand <- getLine\n",
    "    let (command:options) = words fullCommand\n",
    "\n",
    "    if command == \"exit\"\n",
    "    then putStrLn \"Exiting shopping.\"\n",
    "    else do\n",
    "        let function = case command of\n",
    "                \"list_commands\" -> listCommands\n",
    "                \"list_groups\" -> listGroups\n",
    "                \"list_items\" -> listItems\n",
    "                \"buy_item\" -> buyItem\n",
    "                \"list_basket\" -> listBasket\n",
    "                \"remove_item\" -> removeItem\n",
    "                \"get_price\" -> getPrice\n",
    "                _ -> wrongCommand\n",
    "\n",
    "        updatedBasket <- function basket options\n",
    "        startShoping updatedBasket\n",
    "\n",
    "listCommands :: ShoppingBasket -> CommandOptions -> IO ShoppingBasket\n",
    "listCommands basket options = do\n",
    "    printCommands\n",
    "    return basket\n",
    "\n",
    "listGroups :: ShoppingBasket -> CommandOptions -> IO ShoppingBasket\n",
    "listGroups basket options = do\n",
    "    putStrLn \"Shopping groups are: music, books, coffee.\"\n",
    "    return basket\n",
    "\n",
    "listItems :: ShoppingBasket -> CommandOptions -> IO ShoppingBasket\n",
    "listItems basket options = do\n",
    "    return basket\n",
    "\n",
    "buyItem :: ShoppingBasket -> CommandOptions -> IO ShoppingBasket\n",
    "buyItem basket options = do\n",
    "    return basket\n",
    "\n",
    "listBasket :: ShoppingBasket -> CommandOptions -> IO ShoppingBasket\n",
    "listBasket basket options = do\n",
    "    print basket\n",
    "    return basket\n",
    "\n",
    "removeItem :: ShoppingBasket -> CommandOptions -> IO ShoppingBasket\n",
    "removeItem basket options = do\n",
    "    return basket\n",
    "\n",
    "getPrice :: ShoppingBasket -> CommandOptions -> IO ShoppingBasket\n",
    "getPrice basket options = do\n",
    "    return basket\n",
    "\n",
    "wrongCommand :: ShoppingBasket -> CommandOptions -> IO ShoppingBasket\n",
    "wrongCommand basket options = do\n",
    "    putStrLn \"The command you entered is not correct.\"\n",
    "    return basket"
   ]
  },
  {
   "cell_type": "markdown",
   "metadata": {},
   "source": [
    "First, we implement the function `listItems` that lists the basket items and their indexes. We let the user know if the command option he typed in is incorrect, or if he typed in as many or no options.\n",
    "\n",
    "We use the `notElem` function that works the same as the `elem` function, just that is says True if the element is not contained in the list."
   ]
  },
  {
   "cell_type": "code",
   "execution_count": null,
   "metadata": {},
   "outputs": [],
   "source": [
    "listItems :: ShoppingBasket -> CommandOptions -> IO ShoppingBasket\n",
    "listItems basket options = do\n",
    "    if length options /= 1\n",
    "    then do\n",
    "        putStrLn \"To much or to less options for this command.\"\n",
    "        return basket\n",
    "    else do\n",
    "        let group = head options\n",
    "        if group `notElem` [\"music\",\"books\",\"coffee\"]\n",
    "        then do\n",
    "            putStrLn \"This group does not exist.\"\n",
    "            return basket\n",
    "        else do\n",
    "            let groupData = case group of\n",
    "                    \"music\" -> music\n",
    "                    \"books\" -> books\n",
    "                    \"coffee\" -> coffee\n",
    "                    _ -> Map.fromList []\n",
    "            print (Map.toList groupData)\n",
    "            return basket"
   ]
  },
  {
   "cell_type": "markdown",
   "metadata": {},
   "source": [
    "Next, we implement the function `buyItem` that lets us add an item to the basket.\n",
    "\n",
    "We use the function `readMaybe` from the **Text.Read** module and some helper functions to work with the `Maybe` type."
   ]
  },
  {
   "cell_type": "markdown",
   "metadata": {},
   "source": [
    "The `readMaybe` function takes a string and returns a maybe value. In the case the string can be read as a number, the function returns a Just value of the number, else it returns Nothing.\n",
    "```haskell\n",
    "readMaybe :: Read a => String -> Maybe a\n",
    "```"
   ]
  },
  {
   "cell_type": "markdown",
   "metadata": {},
   "source": [
    "We make the following checks on the command parameters and notify the user if any fails:\n",
    "- is the count of the supply command parameters correct\n",
    "\n",
    "- are the command parameters legal values"
   ]
  },
  {
   "cell_type": "markdown",
   "metadata": {},
   "source": [
    "We also check if the item we want to add already exists in the basket and update the quantity accordingly."
   ]
  },
  {
   "cell_type": "code",
   "execution_count": null,
   "metadata": {},
   "outputs": [],
   "source": [
    "import Text.Read\n",
    "import Data.Maybe\n",
    "\n",
    "buyItem :: ShoppingBasket -> CommandOptions -> IO ShoppingBasket\n",
    "buyItem basket options = do\n",
    "    if length options /= 3\n",
    "    then do\n",
    "        putStrLn \"To much or to less options for this command.\"\n",
    "        return basket\n",
    "    else do\n",
    "        let (group:itemIndex:quantity:_) = options\n",
    "            groupCheck = group `elem` [\"music\",\"books\",\"coffee\"]\n",
    "            itemIndexCheck = let maybeInt = readMaybe itemIndex :: Maybe Int\n",
    "                                 integerCheck = isJust maybeInt\n",
    "                             in\n",
    "                                 if integerCheck then (fromJust maybeInt) `elem` [1,2,3] else False\n",
    "            quantityCheck = let maybeInt = readMaybe quantity :: Maybe Int\n",
    "                                integerCheck = isJust maybeInt\n",
    "                            in\n",
    "                                if integerCheck then (fromJust maybeInt > 0) else False\n",
    "        if groupCheck && groupCheck && quantityCheck\n",
    "        then do\n",
    "            let itemIndexNum = read itemIndex :: Int\n",
    "                quantityNum = read quantity :: Int\n",
    "                checkItem = (\\(x,y,_) -> x == group && y == itemIndexNum)\n",
    "                existingItem = Prelude.filter checkItem basket\n",
    "            if length existingItem == 1\n",
    "            then do\n",
    "                let (_,_,existingQuantity) = head existingItem\n",
    "                    newQuantity = existingQuantity + quantityNum\n",
    "                    updatedBasket = Prelude.filter (not . checkItem) basket ++ [(group, itemIndexNum, newQuantity)]\n",
    "                return updatedBasket\n",
    "            else do\n",
    "                let updatedBasket = basket ++ [(group, itemIndexNum, quantityNum)]\n",
    "                return updatedBasket\n",
    "        else do\n",
    "            putStrLn \"One or more of the options have not a legal value.\"\n",
    "            return basket"
   ]
  },
  {
   "cell_type": "markdown",
   "metadata": {},
   "source": [
    "Then we implement the `removeItem` function that lowers the amount of an item in the basket or deletes the item entirely.\n",
    "\n",
    "We use the same functions and do the same checks as in the previous function `buyItem`."
   ]
  },
  {
   "cell_type": "code",
   "execution_count": null,
   "metadata": {},
   "outputs": [],
   "source": [
    "removeItem :: ShoppingBasket -> CommandOptions -> IO ShoppingBasket\n",
    "removeItem basket options = do\n",
    "    if length options /= 3\n",
    "    then do\n",
    "        putStrLn \"To much or to less options for this command.\"\n",
    "        return basket\n",
    "    else do\n",
    "        let (group:itemIndex:quantity:_) = options\n",
    "            groupCheck = group `elem` [\"music\",\"books\",\"coffee\"]\n",
    "            itemIndexCheck = let maybeInt = readMaybe itemIndex :: Maybe Int\n",
    "                                 integerCheck = isJust maybeInt\n",
    "                             in\n",
    "                                 if integerCheck then (fromJust maybeInt) `elem` [1,2,3] else False\n",
    "            quantityCheck = let maybeInt = readMaybe quantity :: Maybe Int\n",
    "                                integerCheck = isJust maybeInt\n",
    "                            in\n",
    "                                if integerCheck then (fromJust maybeInt > 0) else False\n",
    "        if groupCheck && groupCheck && quantityCheck\n",
    "        then do\n",
    "            let itemIndexNum = read itemIndex :: Int\n",
    "                quantityNum = read quantity :: Int\n",
    "                checkItem = (\\(x,y,_) -> x == group && y == itemIndexNum)\n",
    "                existingItem = Prelude.filter checkItem basket\n",
    "            if length existingItem == 1\n",
    "            then do\n",
    "                let (_,_,existingQuantity) = head existingItem\n",
    "                    newQuantity = existingQuantity - quantityNum\n",
    "                    updatedBasket = let filteredBasket = Prelude.filter (not . checkItem) basket\n",
    "                                    in\n",
    "                                        if newQuantity > 0\n",
    "                                        then filteredBasket ++ [(group, itemIndexNum, newQuantity)]\n",
    "                                        else filteredBasket\n",
    "                return updatedBasket\n",
    "            else do\n",
    "                putStrLn \"Item does not exist in basket.\"\n",
    "                return basket\n",
    "        else do\n",
    "            putStrLn \"One or more of the options has not a legal value.\"\n",
    "            return basket"
   ]
  },
  {
   "cell_type": "markdown",
   "metadata": {},
   "source": [
    "<div class=\"alert alert-block alert-info\">\n",
    "    <b>CHALLENGE:</b> Also if you look at the code above and compare it to the previous function you see that 4 out of 6 do-blocks are the same. Try to rewrite the above functions in such a way that you extract the common part as much as possible and call it from those functions.\n",
    "</div>"
   ]
  },
  {
   "cell_type": "markdown",
   "metadata": {},
   "source": [
    "The last function we implement is `getPrice`, which calculates from our basket the price we have to pay and displays it to the user.\n",
    "\n",
    "First, we make some checks if the options for the command are correct and let the user know if they are not.\n",
    "\n",
    "If everything is ok, we call the `printPrice` function which calculates the price of the basket items, taking their quantity and membership discount in account."
   ]
  },
  {
   "cell_type": "code",
   "execution_count": null,
   "metadata": {},
   "outputs": [],
   "source": [
    "getPrice :: ShoppingBasket -> CommandOptions -> IO ShoppingBasket\n",
    "getPrice basket options = do\n",
    "    if length options > 1\n",
    "    then do\n",
    "        putStrLn \"To much options for this command.\"\n",
    "        return basket\n",
    "    else do\n",
    "        if length options == 0\n",
    "        then printPrice basket options\n",
    "        else if head options `notElem` [\"basic\", \"gold\", \"platinum\"]\n",
    "             then do\n",
    "                 putStrLn \"Incorrect option for this command.\"\n",
    "                 return basket\n",
    "             else do\n",
    "                 printPrice basket options\n",
    "\n",
    "printPrice :: ShoppingBasket -> CommandOptions -> IO ShoppingBasket\n",
    "printPrice basket options = do\n",
    "    let membership = if Prelude.null options\n",
    "                     then \"\"\n",
    "                     else head options\n",
    "        discountCoef x y = if Prelude.null options\n",
    "                           then 1\n",
    "                           else discount x y\n",
    "        calculatePrice (group,itemIndex,quantity) = fromIntegral quantity * \n",
    "                                                        discountCoef membership group *\n",
    "                                                            (price $ fromJust \n",
    "                                                                (Map.lookup itemIndex $ fromJust \n",
    "                                                                    (Map.lookup group storeDatabase)))\n",
    "        basketPrice = sum $ Prelude.map calculatePrice basket\n",
    "    putStrLn $ \"Price for your basket is: \" ++ show basketPrice\n",
    "    return basket\n",
    "  where discount membership grp = let membershipFactor = case membership of\n",
    "                                                             \"basic\" -> 0\n",
    "                                                             \"gold\" -> 1\n",
    "                                                             \"platinum\" -> 2\n",
    "                                  in case grp of\n",
    "                                         \"music\" -> 0.9 - 0.1*membershipFactor\n",
    "                                         \"books\" -> 0.8 - 0.1*membershipFactor\n",
    "                                         \"coffee\" -> 0.7 - 0.1*membershipFactor"
   ]
  },
  {
   "cell_type": "markdown",
   "metadata": {},
   "source": [
    "We get some rounding errors because the `Double` type can handle only 16 digits of precision, when the lead decimal number is not a 0.\n",
    "\n",
    "Let us try to solve this problem by searching for a more accurate type than `Double` and comparing the results."
   ]
  },
  {
   "cell_type": "markdown",
   "metadata": {},
   "source": [
    "### Minimizing rounding errors"
   ]
  },
  {
   "cell_type": "markdown",
   "metadata": {},
   "source": [
    "If we google for *Haskell number types* we find that the built-in number types are `Num, Real, Integral, Integer, Int, Ratio, Rational, Double, Float`.\n",
    "\n",
    "Because we need larger decimal precision than the `Double` type has to offer, we choose the `Rational` type to re-implement our code.\n",
    "\n",
    "We test this type with the code below, where we can see how this type can help us to preserve precision."
   ]
  },
  {
   "cell_type": "code",
   "execution_count": null,
   "metadata": {},
   "outputs": [],
   "source": [
    "-- without loosing precision\n",
    "fromRational ((7/25 :: Rational)*25) :: Double\n",
    "\n",
    "-- loosing some precision\n",
    "(fromRational (7/25 :: Rational)) * 25 :: Double"
   ]
  },
  {
   "cell_type": "markdown",
   "metadata": {},
   "source": [
    "We need only to change the type of the price field in the `StoreItem` data type from `Double` to `Rational`. "
   ]
  },
  {
   "cell_type": "code",
   "execution_count": null,
   "metadata": {},
   "outputs": [],
   "source": [
    "data StoreItem = Item \n",
    "                  { name :: String\n",
    "                  , price :: Rational\n",
    "                  } deriving Show\n",
    "\n",
    "music1 :: StoreItem\n",
    "music1 = Item { name = \"ABBA greatest hits\"\n",
    "              , price = 80/9\n",
    "              }\n",
    "\n",
    "music2 :: StoreItem\n",
    "music2 = Item { name = \"Beatles greatest hits\"\n",
    "              , price = 100/9\n",
    "              }\n",
    "\n",
    "music3 :: StoreItem\n",
    "music3 = Item { name = \"Coldplay greatest hits\"\n",
    "              , price = 120/9\n",
    "              }\n",
    "\n",
    "music :: Map.Map Int StoreItem\n",
    "music = Map.fromList [(1,music1),(2,music2),(3,music3)]\n",
    "\n",
    "book1 :: StoreItem\n",
    "book1 = Item { name = \"English vocabulary\"\n",
    "             , price = 230/9\n",
    "             }\n",
    "\n",
    "book2 :: StoreItem\n",
    "book2 = Item { name = \"German vocabulary\"\n",
    "             , price = 240/9\n",
    "             }\n",
    "\n",
    "book3 :: StoreItem\n",
    "book3 = Item { name = \"Japanese vocabulary\"\n",
    "             , price = 250/9\n",
    "             }\n",
    "\n",
    "books :: Map.Map Int StoreItem\n",
    "books = Map.fromList [(1,book1),(2,book2),(3,book3)]\n",
    "\n",
    "coffee1 :: StoreItem\n",
    "coffee1 = Item { name = \"Cappuccino\"\n",
    "               , price = 13/9\n",
    "               }\n",
    "\n",
    "coffee2 :: StoreItem\n",
    "coffee2 = Item { name = \"Latte macchiato\"\n",
    "               , price = 11/9\n",
    "               }\n",
    "\n",
    "coffee3 :: StoreItem\n",
    "coffee3 = Item { name = \"Espresso \"\n",
    "               , price = 12/9\n",
    "               }\n",
    "\n",
    "coffee :: Map.Map Int StoreItem\n",
    "coffee = Map.fromList [(1,coffee1),(2,coffee2),(3,coffee3)]\n",
    "\n",
    "storeDatabase :: Map.Map String (Map.Map Int StoreItem)\n",
    "storeDatabase = Map.fromList [(\"music\",music),(\"books\",books),(\"coffee\",coffee)]"
   ]
  },
  {
   "cell_type": "markdown",
   "metadata": {},
   "source": [
    "After that, we have to update the `printPrice` function such that it works with `Rational` type numbers and prints the result in `Double`."
   ]
  },
  {
   "cell_type": "code",
   "execution_count": null,
   "metadata": {},
   "outputs": [],
   "source": [
    "printPrice :: ShoppingBasket -> CommandOptions -> IO ShoppingBasket\n",
    "printPrice basket options = do\n",
    "    let membership = if Prelude.null options\n",
    "                     then \"\"\n",
    "                     else head options\n",
    "        discountCoef x y = if Prelude.null options\n",
    "                           then 1\n",
    "                           else discount x y\n",
    "        calculatePrice (group,itemIndex,quantity) = fromIntegral quantity * \n",
    "                                                        discountCoef membership group *\n",
    "                                                            (price $ fromJust \n",
    "                                                                (Map.lookup itemIndex $ fromJust \n",
    "                                                                    (Map.lookup group storeDatabase)))\n",
    "        basketPrice = fromRational (sum $ Prelude.map calculatePrice basket) :: Double\n",
    "    putStrLn $ \"Price for your basket is: \" ++ show basketPrice\n",
    "    return basket\n",
    "  where discount membership grp = let membershipFactor = case membership of\n",
    "                                                             \"basic\" -> 0\n",
    "                                                             \"gold\" -> 1\n",
    "                                                             \"platinum\" -> 2\n",
    "                                  in case grp of\n",
    "                                         \"music\" -> (9 - 1*membershipFactor)/10 :: Rational\n",
    "                                         \"books\" -> (8 - 1*membershipFactor)/10 :: Rational\n",
    "                                         \"coffee\" -> (7 - 1*membershipFactor)/10 :: Rational"
   ]
  },
  {
   "cell_type": "markdown",
   "metadata": {},
   "source": [
    "We expect that we will lose some precision in the final rounding, but not in the steps when we calculate the final price by using the `Rational` type.\n",
    "\n",
    "We define the following case of shopping:\n",
    "- buy_item music 1 4\n",
    "- buy_item books 2 5\n",
    "- buy_item coffee 3 6"
   ]
  },
  {
   "cell_type": "markdown",
   "metadata": {},
   "source": [
    "The final basket prices for the `Double` and `Rational` types for all memberships are:\n",
    "- get_price basic\n",
    "  <br>Price for your basket is: 144.26666666666668   (Double)\n",
    "  <br>Price for your basket is: 144.26666666666668   (Rational)\n",
    "\n",
    "- get_price gold\n",
    "  <br>Price for your basket is: 126.57777777777778   (Double)\n",
    "  <br>Price for your basket is: 126.57777777777778   (Rational)\n",
    "\n",
    "- get_price platinum\n",
    "  <br>Price for your basket is: 108.8888888888889    (Double)\n",
    "  <br>Price for your basket is: 108.88888888888889   (Rational)"
   ]
  },
  {
   "cell_type": "markdown",
   "metadata": {},
   "source": [
    "The only case where we profit some precision is for the platinum membership. The other two cases give us the same result if in the end convert the `Rational` result to `Double`."
   ]
  },
  {
   "cell_type": "markdown",
   "metadata": {},
   "source": [
    "We are still not happy and google for *Haskell rounding error*. We see there is another type called `Decimal`. \n",
    "\n",
    "On Hoogle, if we choose the **Data.Decimal** module, we see that the smallest number for a Decimal type is 10^-255.\n",
    "\n",
    "To make use of this module, you need to install the **Decimal** package using cabal."
   ]
  },
  {
   "cell_type": "markdown",
   "metadata": {},
   "source": [
    "The `Decimal` type is, in general, more precise as the `Double` type but also here sometimes rounding errors appear on 255 decimal places, as in the code below."
   ]
  },
  {
   "cell_type": "code",
   "execution_count": null,
   "metadata": {},
   "outputs": [],
   "source": [
    "import Data.Decimal \n",
    "\n",
    "a = (25/7) :: Decimal\n",
    "print a\n",
    "b = a * 7\n",
    "print b"
   ]
  },
  {
   "cell_type": "markdown",
   "metadata": {},
   "source": [
    "Let's re-write our `StoreItem` data type so that we use the `Decimal` type for the store item prices."
   ]
  },
  {
   "cell_type": "code",
   "execution_count": null,
   "metadata": {},
   "outputs": [],
   "source": [
    "import Data.Decimal\n",
    "\n",
    "data StoreItem = Item \n",
    "                  { name :: String\n",
    "                  , price :: Decimal\n",
    "                  } deriving Show"
   ]
  },
  {
   "cell_type": "markdown",
   "metadata": {},
   "source": [
    "Here we do not have to update the `printPrice` function. We can use the same version that we used in the begining for the `Double` type.\n",
    "\n",
    "We again pick the same shopping case:\n",
    "- buy_item music 1 4\n",
    "- buy_item books 2 5\n",
    "- buy_item coffee 3 6"
   ]
  },
  {
   "cell_type": "markdown",
   "metadata": {},
   "source": [
    "The results for all three types are as follows:\n",
    "- get_price basic\n",
    "  <br>Price for your basket is: 144.26666666666668   (Double)\n",
    "  <br>Price for your basket is: 144.26666666666668   (Rational)\n",
    "  <br>Price for your basket is: 144.26666666666666...<254 times 6>...67 (Decimal)\n",
    "\n",
    "- get_price gold\n",
    "  <br>Price for your basket is: 126.57777777777778   (Double)\n",
    "  <br>Price for your basket is: 126.57777777777778   (Rational)\n",
    "  <br>Price for your basket is: 126.57777777777777...<254 times 7>...78 (Decimal)\n",
    "\n",
    "- get_price platinum\n",
    "  <br>Price for your basket is: 108.8888888888889    (Double)\n",
    "  <br>Price for your basket is: 108.88888888888889   (Rational)\n",
    "  <br>Price for your basket is: 108.8888888888888...<254 times 8>...89  (Decimal)"
   ]
  },
  {
   "cell_type": "markdown",
   "metadata": {},
   "source": [
    "We see that the `Decimal` type gives us the most accurate precision for our case. \n",
    "\n",
    "In this example, the rounding errors are not that big for a store that has many customers the errors sum up and in the end can make a significant difference."
   ]
  },
  {
   "cell_type": "markdown",
   "metadata": {},
   "source": [
    "## Recap"
   ]
  },
  {
   "cell_type": "markdown",
   "metadata": {},
   "source": [
    "In this lesson, we have discussed:\n",
    "\n",
    "- how you can help yourself with the `:i` and `:t` commands\n",
    "\n",
    "- how to help yourself with **Hoogle** and **Hackage**\n",
    "\n",
    "- we mentioned where to find additional learning resources\n",
    "\n",
    "- we did a walkthrough of looking at existing code that uses the **Data.Map.Strict** module\n",
    "\n",
    "- we did a walkthrough of a project where we learned how to minimize rounding errors"
   ]
  }
 ],
 "metadata": {
  "kernelspec": {
   "display_name": "Haskell",
   "language": "haskell",
   "name": "haskell"
  },
  "language_info": {
   "codemirror_mode": "ihaskell",
   "file_extension": ".hs",
   "mimetype": "text/x-haskell",
   "name": "haskell",
   "pygments_lexer": "Haskell",
   "version": "8.10.7"
  }
 },
 "nbformat": 4,
 "nbformat_minor": 4
}
