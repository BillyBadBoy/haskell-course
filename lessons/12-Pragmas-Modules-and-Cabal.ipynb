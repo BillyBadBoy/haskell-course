{
 "cells": [
  {
   "cell_type": "markdown",
   "metadata": {},
   "source": [
    "# Pragmas, modules and cabal"
   ]
  },
  {
   "cell_type": "markdown",
   "metadata": {},
   "source": [
    "## Outline\n",
    "\n",
    "* Modules\n",
    "  - Prelude module\n",
    "\n",
    "  - Working with base modules \n",
    "\n",
    "  - Creating our own modules\n",
    "\n",
    "  - Compiling Haskell programs\n",
    "\n",
    "* Using pragmas\n",
    "\n",
    "* Using cabal\n",
    "  - Instalation of packages with cabal\n",
    "  \n",
    "  - Building a project with cabal\n",
    "\n",
    "In this lesson, we will learn how you can work with Haskell modules, pragmas and the cabal tool."
   ]
  },
  {
   "cell_type": "markdown",
   "metadata": {},
   "source": [
    "## Modules"
   ]
  },
  {
   "cell_type": "markdown",
   "metadata": {},
   "source": [
    "**What are they?**\n",
    "\n",
    "Modules are Haskell files that contain definitions of type classes, data types and functions that work with these types.\n",
    "\n",
    "They can be imported into Haskell so that the programmer has more tools available to develope his code."
   ]
  },
  {
   "cell_type": "markdown",
   "metadata": {},
   "source": [
    "### Prelude module"
   ]
  },
  {
   "cell_type": "markdown",
   "metadata": {},
   "source": [
    "When working in GHCi some functions are available by default as for instance `head`, `sum` and `length`. \n",
    "\n",
    "This means nothing has to be imported or installed in Haskell for them to work. "
   ]
  },
  {
   "cell_type": "markdown",
   "metadata": {},
   "source": [
    "It's because those functions are part of the standard Haskell module called **Prelude** that is imported by default. \n",
    "\n",
    "You can find a list of all the functions contained in **Prelude** on **Hackage** [(1)](https://hackage.haskell.org/package/base-4.17.0.0/docs/Prelude.html) about which we will talk in lesson 14. "
   ]
  },
  {
   "cell_type": "markdown",
   "metadata": {},
   "source": [
    "One of the more used **Prelude** function are:\n",
    "\n",
    "- `head` (gives you the first element of the list)\n",
    "\n",
    "- `tail` (gives you the elements of the list except the first one)\n",
    "\n",
    "- `sum` (sums elements of a list)\n",
    "\n",
    "- `length` (gives the length of a list)\n",
    "\n",
    "- `print` (prints a varibale to the terminal)"
   ]
  },
  {
   "cell_type": "markdown",
   "metadata": {},
   "source": [
    "Some others we have also introduced in lesson 6. On the hackage link of the prelude module provided above, you will also find the type signatures of all the functions."
   ]
  },
  {
   "cell_type": "markdown",
   "metadata": {},
   "source": [
    "### Working with base modules"
   ]
  },
  {
   "cell_type": "markdown",
   "metadata": {},
   "source": [
    "Some functions in Haskell need to be imported with modules that are available beside the standard **Prelude** module. \n",
    "\n",
    "Haskell defines many modules for your convenience. "
   ]
  },
  {
   "cell_type": "markdown",
   "metadata": {},
   "source": [
    "For instance, let's say you want to run a Haskell file from the command line by giving it some input parameters and then read them from the program. \n",
    "\n",
    "You can do this with the function `getArgs` that is part of the `System.Environment` module."
   ]
  },
  {
   "cell_type": "code",
   "execution_count": null,
   "metadata": {},
   "outputs": [],
   "source": [
    "import System.Environment \n",
    "\n",
    "main :: IO ()\n",
    "main = do\n",
    "  args <- getArgs\n",
    "  print $ args !! 0"
   ]
  },
  {
   "cell_type": "markdown",
   "metadata": {},
   "source": [
    "When we import the module this way, all of it types and functions get important. To save some computer resources, we can import only the functions we need.\n",
    "\n",
    "For the example above, we could import only the function `getArgs` with the following statemen:\n",
    "```haskell\n",
    "import System.Environment (getArgs)\n",
    "```\n",
    "If there are more functions and types we want to import, we separate them with a comma. "
   ]
  },
  {
   "cell_type": "markdown",
   "metadata": {},
   "source": [
    "Now you might be asking yourself how to know which module to import and which function to use? The best answer is always google what you want to achieve. \n",
    "\n",
    "For our example of the `getArgs` function you could for instance write into google: `haskell get command line arguments`."
   ]
  },
  {
   "cell_type": "markdown",
   "metadata": {},
   "source": [
    "Once you find a module or function that fits your needs, you can further google to find a good explanation and example. \n",
    "\n",
    "You can also use the Haskell web services **Hackage** and **Hoogle** to learn more about them. We will discuss those web services in detail in lesson 14."
   ]
  },
  {
   "cell_type": "markdown",
   "metadata": {},
   "source": [
    "### Base modules Data.Char, Data.List and Data.Array"
   ]
  },
  {
   "cell_type": "markdown",
   "metadata": {},
   "source": [
    "The **Data.Char** module defines functions that deal with characters. Some of the often used functions are:\n",
    "\n",
    "- `isDigit` (checks if a character is a digit)\n",
    "\n",
    "- `isPunctuation` (checks if a character is a punctuation)\n",
    "\n",
    "- `toUpper` and `toLower` (converts a lower case character to upper or vice versa)\n",
    "\n",
    "- `ord` and `chr` (convert a character to ASCII code number and vice versa)"
   ]
  },
  {
   "cell_type": "code",
   "execution_count": null,
   "metadata": {},
   "outputs": [],
   "source": [
    "import Data.Char\n",
    "\n",
    "isDigit '1'\n",
    "isPunctuation '.'\n",
    "toUpper 'a'\n",
    "ord 'a'"
   ]
  },
  {
   "cell_type": "markdown",
   "metadata": {},
   "source": [
    "The **Data.List** module defines functions that deal with lists. Some of the functions we have not covered yet are:\n",
    "\n",
    "- `sort` (sorts a list from lower to upper values, if the variables can be compared to each other)\n",
    "\n",
    "- `splitAt` (splits a list into a tuple of two lists, where the user defines the length of the first list)\n",
    "\n",
    "- `scanl` (is similar to foldl, but returns a list of successive reduced values from the left)\n",
    "\n",
    "- `scanr` (is the right-to-left dual of scanl. The order of parameters on the accumulating function are reversed compared to scanl.)"
   ]
  },
  {
   "cell_type": "markdown",
   "metadata": {},
   "source": [
    "The functions from this module are imported by default into Haskell."
   ]
  },
  {
   "cell_type": "code",
   "execution_count": null,
   "metadata": {},
   "outputs": [],
   "source": [
    "myList = [4,2,1,5,3]\n",
    "\n",
    "sort myList\n",
    "splitAt 3 myList\n",
    "\n",
    "scanl (-) 5 [1..4]\n",
    "scanr (-) 5 [1..4]"
   ]
  },
  {
   "cell_type": "markdown",
   "metadata": {},
   "source": [
    "Here's the breakdown of how the scan functions work in the above example:\n",
    "```haskell\n",
    "scanl (-) 5 [1,2,3,4] = 5 : scanl (-) ((-) 5 1) [2,3,4]\n",
    "                      = 5 : ((-) 5 1) : scanl (-) ((-) ((-) 5 1) 2) [3,4]\n",
    "                      = 5 : ((-) 5 1) : ((-) ((-) 5 1) 2) : scanl (-) ((-) ((-) ((-) 5 1) 2) 3) [4]\n",
    "                      = 5 : ((-) 5 1) : ((-) ((-) 5 1) 2) : ((-) ((-) ((-) 5 1) 2) 3) : scanl (-) ((-) ((-) ((-) ((-) 5 1) 2) 3) 4) []\n",
    "                      = 5 : ((-) 5 1) : ((-) ((-) 5 1) 2) : ((-) ((-) ((-) 5 1) 2) 3) : ((-) ((-) ((-) ((-) 5 1) 2) 3) 4) : []\n",
    "                      = 5 : 4 : 2 : -1 : -5 : []\n",
    "                      = [5, 4, 2, -1, -5]      \n",
    "\n",
    "scanr (-) 5 [1,2,3,4] = scanr (-) ((-) 4 5) [1,2,3] : [5]\n",
    "                      = scanr (-) ((-) 3 ((-) 4 5)) [1,2] : ((-) 4 5) : [5]\n",
    "                      = scanr (-) ((-) 2 ((-) 3 ((-) 4 5))) [1] : ((-) 3 ((-) 4 5)) : ((-) 4 5) : [5]\n",
    "                      = scanr (-) ((-) 1 ((-) 2 ((-) 3 ((-) 4 5)))) [] : ((-) 2 ((-) 3 ((-) 4 5))) : ((-) 3 ((-) 4 5)) : ((-) 4 5) : [5]\n",
    "                      = ((-) 1 ((-) 2 ((-) 3 ((-) 4 5)))) : ((-) 2 ((-) 3 ((-) 4 5))) : ((-) 3 ((-) 4 5)) : ((-) 4 5) : [5]\n",
    "                      = [3, -2, 4, -1, 5]\n",
    "```"
   ]
  },
  {
   "cell_type": "markdown",
   "metadata": {},
   "source": [
    "The **Data.Array** module defines functions that deal with arrays. Some of the often used functions are:\n",
    "\n",
    "- `listArray` (construct an array from a pair of bounds and a list of values in index order)\n",
    "\n",
    "- `(!)` (access the value at the given index in an array)\n",
    "\n",
    "- `indices` (the list of indices of an array in ascending order)\n",
    "\n",
    "- `elems` (the list of elements of an array in index order)\n",
    "\n",
    "- `(//)` (constructs an array identical to the first argument, except that it has been updated by the associations in the right argument)"
   ]
  },
  {
   "cell_type": "code",
   "execution_count": null,
   "metadata": {},
   "outputs": [],
   "source": [
    "import Data.Array\n",
    "\n",
    "myArray = listArray (1,3) [4,5,6]\n",
    "\n",
    "myArray ! 1 \n",
    "indices myArray \n",
    "elems myArray\n",
    "myArray // [(2,10)]"
   ]
  },
  {
   "cell_type": "markdown",
   "metadata": {},
   "source": [
    "The benefit of using arrays over lists are the helper functions you get that work with arrays when using the **Data.Array** module."
   ]
  },
  {
   "cell_type": "markdown",
   "metadata": {},
   "source": [
    "### Creating your own module"
   ]
  },
  {
   "cell_type": "markdown",
   "metadata": {},
   "source": [
    "Since we said modules are just plain Haskell files that define some functions, you can create a module on your own. "
   ]
  },
  {
   "cell_type": "markdown",
   "metadata": {},
   "source": [
    "Let's say we want another version of the Prelude function `sum` that by default returns for an empty list the value 0. \n",
    "\n",
    "Instead we want an error message to be displayed for the empty list. "
   ]
  },
  {
   "cell_type": "markdown",
   "metadata": {},
   "source": [
    "First we create our Haskell file that we call `Sum.hs` and write a module statement in the beginning of the file:\n",
    "```haskell\n",
    "module Sum where\n",
    "```"
   ]
  },
  {
   "cell_type": "markdown",
   "metadata": {},
   "source": [
    "With this statement we define the name of our module, which should start with an upper case letter.\n",
    "\n",
    "It is good practice that the name of the module is the same as the name of the file."
   ]
  },
  {
   "cell_type": "markdown",
   "metadata": {},
   "source": [
    "Then we define our own parameterized type `Check` that can be used for displaying an error message. \n",
    "\n",
    "We will learn in depth about handling errors in lesson 13. After that, we define our `sum` function."
   ]
  },
  {
   "cell_type": "code",
   "execution_count": null,
   "metadata": {},
   "outputs": [],
   "source": [
    "module Sum where\n",
    "\n",
    "data Check a b = Error a | Result b deriving Show\n",
    "\n",
    "sum :: Num a => [a] -> Check String a\n",
    "sum [] = Error \"List is empty\"\n",
    "sum xs = Result $ Prelude.sum xs"
   ]
  },
  {
   "cell_type": "markdown",
   "metadata": {},
   "source": [
    "Notice that in the definition of our `sum` function, we use the prelude version of `sum` that we access by `Prelude.sum`. \n",
    "\n",
    "Now if we were in another Haskell file and wanted to import our **Sum** module, we would have to do this with a qualified import to avoid name collision of both `sum` functions."
   ]
  },
  {
   "cell_type": "code",
   "execution_count": null,
   "metadata": {},
   "outputs": [],
   "source": [
    "import qualified Sum as SumModule\n",
    "\n",
    "Prelude.sum []       -- 0\n",
    "Prelude.sum [1..3]   -- 6\n",
    "\n",
    "SumModule.sum []     -- Error \"List is empty\" \n",
    "SumModule.sum [1..3] -- Result 6"
   ]
  },
  {
   "cell_type": "markdown",
   "metadata": {},
   "source": [
    "If you would not want to rename the **Sum** module, you could simply write `import qualified Sum`, and then you would access the function with `Sum.sum`. "
   ]
  },
  {
   "cell_type": "markdown",
   "metadata": {},
   "source": [
    "If you defined your sum function with another name that would not match any default function name from Prelude, you could use a simple import statement as `import Sum`. \n",
    "\n",
    "This would work if our function name would be e.g. `sum1`. Then you could use the function names directly. "
   ]
  },
  {
   "cell_type": "markdown",
   "metadata": {},
   "source": [
    "```haskell\n",
    "import Sum\n",
    "\n",
    "sum []      -- 0\n",
    "sum [1..3]  -- 6\n",
    "\n",
    "sum1 []     -- Error \"List is empty\" \n",
    "sum1 [1..3] -- Result 6\n",
    "```"
   ]
  },
  {
   "cell_type": "markdown",
   "metadata": {},
   "source": [
    "### Compiling Haskell programs"
   ]
  },
  {
   "cell_type": "markdown",
   "metadata": {},
   "source": [
    "You can compile a Haskell program that consist of a Haskell file with your main logic and other Haskell files that define modules which are imported in the main file.\n",
    "\n",
    "To do this, your main file should be named `Main.hs`, and it has to contain a `main :: IO ()` function which is the starting point when a user runs the program."
   ]
  },
  {
   "cell_type": "markdown",
   "metadata": {},
   "source": [
    "You compile your program from the command line like this:\n",
    "```\n",
    "ghc Main.hs\n",
    "```"
   ]
  },
  {
   "cell_type": "markdown",
   "metadata": {},
   "source": [
    "The code from the additional Haskell files is included automatically if the files are sitting in the same directory as the Main.hs file.\n",
    "\n",
    "Also all the files have to have module declaration statements and the Main.hs file has to import them in order for them to be included in the compile process."
   ]
  },
  {
   "cell_type": "markdown",
   "metadata": {},
   "source": [
    "The same thing happens if you load a main.hs file in GHCi with the `:l` command. \n",
    "\n",
    "The only difference is that the file does not have to contain the `main` function."
   ]
  },
  {
   "cell_type": "markdown",
   "metadata": {},
   "source": [
    "This comes useful when you want to try out code from the Haskell files which define helper modules.\n",
    "\n",
    "You can load them in the REPL and play around with the functions and types that they define."
   ]
  },
  {
   "cell_type": "markdown",
   "metadata": {},
   "source": [
    "## Using pragmas"
   ]
  },
  {
   "cell_type": "markdown",
   "metadata": {},
   "source": [
    "Pragmas or language extensions are a way to add some functionality to your Haskell code that is not there by default. \n",
    "\n",
    "The syntax to add a language pragma is `{-# LANGUAGE pragme_name #-}`. They have to be added on top of the file before imports of modules.\n",
    "\n",
    "They are not as modules because they do not bring any new functions to Haskell, but rather code functionality."
   ]
  },
  {
   "cell_type": "markdown",
   "metadata": {},
   "source": [
    "Let's look at an example where we use the **OverloadedStrings** pragma. In lesson 12 you will learn about bytestrings and how to display them.\n",
    "\n",
    "When this pragma is added to your file, it allows you to write bytestrings as normal strings without having to use the `pack` function from the **Data.Bytestring** module. "
   ]
  },
  {
   "cell_type": "code",
   "execution_count": null,
   "metadata": {},
   "outputs": [],
   "source": [
    "{-# LANGUAGE OverloadedStrings #-}\n",
    "\n",
    "import qualified Data.ByteString as BS\n",
    "\n",
    "bytestring1 :: BS.ByteString\n",
    "bytestring1 = \"1\"  -- would throw error without the pragma\n",
    "\n",
    "-- This code would not throw an error without the pragma\n",
    "bytestring2 :: BS.ByteString\n",
    "bytestring2 = BS.pack \"2\" \n",
    "\n",
    "main :: IO ()\n",
    "main = do\n",
    "  print bytestring1\n",
    "  print bytestring2\n",
    "\n",
    "main"
   ]
  },
  {
   "cell_type": "markdown",
   "metadata": {},
   "source": [
    "This extension enables to define various type variables that contain strings, by only writing out the string. \n",
    "\n",
    "Beside the `ByteString` this will also work for the `Text` type that you will learn about in lesson 12."
   ]
  },
  {
   "cell_type": "markdown",
   "metadata": {},
   "source": [
    "We see that with this pragma we can make it easier to code because we do not have to use the `BS.pack` function.\n",
    "\n",
    "But sometimes we need to add a pragma in order that we can implement our required code solution."
   ]
  },
  {
   "cell_type": "markdown",
   "metadata": {},
   "source": [
    "Let's say we have a requirement to define two user types with record syntax that should both contain the `name` function name.\n",
    "\n",
    "We can accomplish this if we add the `DuplicateRecordFields` language extension to our code, that allows duplicated function names."
   ]
  },
  {
   "cell_type": "code",
   "execution_count": null,
   "metadata": {},
   "outputs": [],
   "source": [
    "{-# LANGUAGE DuplicateRecordFields #-}\n",
    "\n",
    "data UserAge = UserAge { name :: String\n",
    "                       , age :: Int }\n",
    "\n",
    "data UserHeight = UserHeight { name :: String\n",
    "                             , height :: Int }                     "
   ]
  },
  {
   "cell_type": "markdown",
   "metadata": {},
   "source": [
    "There are many other pragmas that you can add to your code. Some of them are:\n",
    "\n",
    "- **NoImplicitPrelude**: This language extension prevents the Prelude module to be imported by default.<br>\n",
    "In Plutus the Cardano smart contract language, we prefer to use a custom Prelude that uses strict functions by default. \n",
    "\n",
    "- **TemplateHaskell**: Provides tools for Haskell meta-programming which means that the code generates other code. It is also used in Plutus.\n",
    "\n",
    "- **ViewPatterns**: Allows for more sophisticated pattern matching."
   ]
  },
  {
   "cell_type": "markdown",
   "metadata": {},
   "source": [
    "A list of all language extensions can be found on Hackage [(2)](https://hackage.haskell.org/package/template-haskell-2.19.0.0/docs/Language-Haskell-TH.html#g:5)."
   ]
  },
  {
   "cell_type": "markdown",
   "metadata": {},
   "source": [
    "## Using cabal"
   ]
  },
  {
   "cell_type": "markdown",
   "metadata": {},
   "source": [
    "### Installation of packages with cabal"
   ]
  },
  {
   "cell_type": "markdown",
   "metadata": {},
   "source": [
    "**What is a package?**\n",
    "\n",
    "A Haskell package is a collection of Haskell files which contain modules with various function and type definitions that are related to each other. \n",
    "\n",
    "Developers install them on their OS so that they can import their modules and use some of their features when developing code."
   ]
  },
  {
   "cell_type": "markdown",
   "metadata": {},
   "source": [
    "**What is cabal?**\n",
    "\n",
    "It is a Haskell package management tool that can be used from the command line.\n",
    "\n",
    "The name **cabal** stands for *Common Architecture for Building Applications and Libraries*."
   ]
  },
  {
   "cell_type": "markdown",
   "metadata": {},
   "source": [
    "**Why can I import some modules without installing anything?**\n",
    "\n",
    "Some modules can be directly imported into Haskell code because the packages that contain them get shipped with the standard installation of GHC and GHCi. \n",
    "\n",
    "The **base** and **container** packages are just two of them. But there are other packages which need to be installed in order to be able to use their modules in Haskell code. "
   ]
  },
  {
   "cell_type": "markdown",
   "metadata": {},
   "source": [
    "One of them is for instance the **aeson** package that provides modules for processing JSON data. \n",
    "\n",
    "The packages are hosted on the Hackage site (*hackage.haskell.org*) about which we will talk in lesson 14. \n",
    "\n",
    "If you look at the **aeson** Hackage page, you see that it contains the **Data.Aeson** module."
   ]
  },
  {
   "cell_type": "markdown",
   "metadata": {},
   "source": [
    "**How to check if a module is available by default?**\n",
    "\n",
    "In order to check whether a module can be imported in Haskell, simply start GHCi and type `import module_name`. \n",
    "\n",
    "If the package containing the module is not installed, you will get an error. "
   ]
  },
  {
   "cell_type": "markdown",
   "metadata": {},
   "source": [
    "You can also use the TAB button for auto-completion. For instance type `import Data.A` and hit TAB. You will get a list of all modules that start with `Data.A`. \n",
    "\n",
    "In the default installation of Haskell, you will not see the `Data.Aeson` module, so you know you have to install it. "
   ]
  },
  {
   "cell_type": "markdown",
   "metadata": {},
   "source": [
    "**How to install a Haskell package?**\n",
    "\n",
    "To install a package from Hackage you can use the command:\n",
    "```\n",
    "cabal install package_name\n",
    "```"
   ]
  },
  {
   "cell_type": "markdown",
   "metadata": {},
   "source": [
    "It could happen that cabal will complain if the package is in form of a library. In this case, use the command:\n",
    "```\n",
    "cabal install --lib package_name\n",
    "```"
   ]
  },
  {
   "cell_type": "markdown",
   "metadata": {},
   "source": [
    "If you download a tar.gz file for instance, you can install the package locally with the command:\n",
    "```\n",
    "cabal install ./package_name.tar.gz\n",
    "```"
   ]
  },
  {
   "cell_type": "markdown",
   "metadata": {},
   "source": [
    "### Building a project with cabal"
   ]
  },
  {
   "cell_type": "markdown",
   "metadata": {},
   "source": [
    "You can also use cabal to build Haskell projects. It is another way of compiling a Haskell project.\n",
    "\n",
    "To create a new project in cabal, create an empty folder, move into it and use one of the following commands:"
   ]
  },
  {
   "cell_type": "markdown",
   "metadata": {},
   "source": [
    "Creates a simple project:\n",
    "```\n",
    "cabal init\n",
    "```"
   ]
  },
  {
   "cell_type": "markdown",
   "metadata": {},
   "source": [
    "Creates a project by asking you multiple questions where you can choose from a set of parameters:\n",
    "```\n",
    "cabal init --interactive\n",
    "```\n",
    "**NOTE**: In the beginning you should say no for simple project. Else the command will create a simple project."
   ]
  },
  {
   "cell_type": "markdown",
   "metadata": {},
   "source": [
    "The name of your project for the first command will be set to the name of the folder on which you created the project. \n",
    "\n",
    "An `app/` directory will be created with a Main.hs file in which your main function will reside.\n",
    "\n",
    "Also a `.cabal` file will be created that holds all the information for building the project. "
   ]
  },
  {
   "cell_type": "markdown",
   "metadata": {},
   "source": [
    "Let's have a look at the cabal file contents: \n",
    "```\n",
    "cabal-version:      2.4\n",
    "name:               test\n",
    "version:            0.1.0.0\n",
    "\n",
    "-- A short (one-line) description of the package.\n",
    "-- synopsis:\n",
    "\n",
    "-- A longer description of the package.\n",
    "-- description:\n",
    "\n",
    "-- A URL where users can report bugs.\n",
    "-- bug-reports:\n",
    "\n",
    "-- The license under which the package is released.\n",
    "-- license:\n",
    "author:             Luka Kurnjek\n",
    "maintainer:         luka.kurnjek@iohk.io\n",
    "\n",
    "-- A copyright notice.\n",
    "-- copyright:\n",
    "-- category:\n",
    "extra-source-files: CHANGELOG.md\n",
    "\n",
    "executable test\n",
    "    main-is:          Main.hs\n",
    "\n",
    "    -- Modules included in this executable, other than Main.\n",
    "    -- other-modules:\n",
    "\n",
    "    -- LANGUAGE extensions used by modules in this package.\n",
    "    -- other-extensions:\n",
    "    build-depends:    base ^>=4.14.3.0\n",
    "    hs-source-dirs:   app\n",
    "    default-language: Haskell2010\n",
    "```"
   ]
  },
  {
   "cell_type": "markdown",
   "metadata": {},
   "source": [
    "The fields in the beginning are pretty much self-explanatory. You can also remove the comments for the fields that were also added to the file. \n",
    "\n",
    "In the executable section, information for building the Main.hs of the project are stated."
   ]
  },
  {
   "cell_type": "markdown",
   "metadata": {},
   "source": [
    "The build-depends flag states any libraries that are needed to build the project. \n",
    "\n",
    "The base library is always added by default. "
   ]
  },
  {
   "cell_type": "markdown",
   "metadata": {},
   "source": [
    "As you can see, cabal supports equality and inequality operators for comparing versions. \n",
    "\n",
    "The carrot operator `^` is used to treat `^>= x.y.z` as identical to `>= x.y.z && < x.(y + 1)`. \n",
    "\n",
    "So in our case it would be `base >= 4.14.3.0 && < 4.15`. "
   ]
  },
  {
   "cell_type": "markdown",
   "metadata": {},
   "source": [
    "Also the directory of the Main.hs file is specified and the default language which is the newest at current time **Haskell2010**."
   ]
  },
  {
   "cell_type": "markdown",
   "metadata": {},
   "source": [
    "In order to build your project, you run the command:\n",
    "```\n",
    "cabal build\n",
    "```"
   ]
  },
  {
   "cell_type": "markdown",
   "metadata": {},
   "source": [
    "In order to run your project, you run the command:\n",
    "```\n",
    "cabal exec project_name\n",
    "```"
   ]
  },
  {
   "cell_type": "markdown",
   "metadata": {},
   "source": [
    "You can do both actions also with one command:\n",
    "```\n",
    "cabal run\n",
    "```"
   ]
  },
  {
   "cell_type": "markdown",
   "metadata": {},
   "source": [
    "If you use the interactive method for creating the project, you have the option to add libraries and test cases. \n",
    "\n",
    "If you do so, the cabal tool will generate the `src/ or lib/` and `test/` directories and the .cabal file will have also configurations for library and test-suite."
   ]
  },
  {
   "cell_type": "markdown",
   "metadata": {},
   "source": [
    "## Recap"
   ]
  },
  {
   "cell_type": "markdown",
   "metadata": {},
   "source": [
    "In this lesson, we have discussed:\n",
    "\n",
    "- Haskell modules\n",
    "  - the Prelude module and its functions\n",
    "\n",
    "  - how to work with base modules\n",
    "\n",
    "  - how to create your own modules\n",
    "\n",
    "  - how to compile Haskell code from the command line\n",
    "\n",
    "- language pragmas and how to use them\n",
    "\n",
    "- using cabal for installing packages and building projects"
   ]
  }
 ],
 "metadata": {
  "kernelspec": {
   "display_name": "Haskell",
   "language": "haskell",
   "name": "haskell"
  },
  "language_info": {
   "codemirror_mode": "ihaskell",
   "file_extension": ".hs",
   "mimetype": "text/x-haskell",
   "name": "haskell",
   "pygments_lexer": "Haskell",
   "version": "8.10.7"
  }
 },
 "nbformat": 4,
 "nbformat_minor": 4
}
