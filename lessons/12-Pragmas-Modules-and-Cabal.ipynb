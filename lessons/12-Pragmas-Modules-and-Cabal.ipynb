{
 "cells": [
  {
   "cell_type": "markdown",
   "metadata": {},
   "source": [
    "# Pragmas, modules and cabal"
   ]
  },
  {
   "cell_type": "markdown",
   "metadata": {},
   "source": [
    "## Outline\n",
    "\n",
    "* Prelude module\n",
    "\n",
    "* Using pragmas\n",
    "\n",
    "* Working with base modules \n",
    "\n",
    "* Creating our own modules\n",
    "\n",
    "* Using cabal\n",
    "\n",
    "In this lesson, we will learn how you can work with Haskell modules, pragmas and the cabal tool."
   ]
  },
  {
   "cell_type": "markdown",
   "metadata": {},
   "source": [
    "## Prelude module"
   ]
  },
  {
   "cell_type": "markdown",
   "metadata": {},
   "source": [
    "When working in GHCi some function are available by default as for instance `head`, `sum` and `length`. This means nothing has to be imported or installed in Haskell for them to work. \n",
    "\n",
    "It's because those function are part of the standard Haskell module called **Prelude** that is imported by default. \n",
    "\n",
    "You can find a list of all the functions contained in **Prelude** on the **Hackage** site about which we will talk in lesson 14: https://hackage.haskell.org/package/base-4.17.0.0/docs/Prelude.html "
   ]
  },
  {
   "cell_type": "markdown",
   "metadata": {},
   "source": [
    "One of the more used **Prelude** function are:\n",
    "\n",
    "- `head` (gives you the first element of the list)\n",
    "\n",
    "- `tail` (gives you the elements of the list except the first one)\n",
    "\n",
    "- `sum` (sums elements of a list)\n",
    "\n",
    "- `lenght` (gives the lenght of a list)\n",
    "\n",
    "- `print` (prints a varibale to the terminal)\n",
    "\n",
    "Some others we have also introduced in lesson 6. On the hackage link of the prelude module provided above, you will also find the type signatures of all the functions."
   ]
  },
  {
   "cell_type": "markdown",
   "metadata": {},
   "source": [
    "## Using pragmas"
   ]
  },
  {
   "cell_type": "markdown",
   "metadata": {},
   "source": [
    "Pragmas or language extensions are a way to add some functionality to your Haskell code that is not there by default. \n",
    "\n",
    "In lesson 12 you will learn about bytestrings and how to display them. There is a pragma called **OverloadedStrings** which when added to your file allows you to write bytestrings as normal strings without having to use the function pack. \n",
    "\n",
    "You can see how this is done in the example below. Pragmas have to be placed at the top of each source file."
   ]
  },
  {
   "cell_type": "code",
   "execution_count": null,
   "metadata": {},
   "outputs": [],
   "source": [
    "{-# LANGUAGE OverloadedStrings #-}\n",
    "\n",
    "import qualified Data.ByteString as BS\n",
    "\n",
    "bytestring :: BS.ByteString\n",
    "bytestring = \"1\"  -- would throw error without the pragma\n",
    "\n",
    "main :: IO ()\n",
    "main = do\n",
    "  print bytestring\n",
    "\n",
    "main"
   ]
  },
  {
   "cell_type": "markdown",
   "metadata": {},
   "source": [
    "There are many other pragmas that you can add to your code. Some of them are:\n",
    "\n",
    "- **NoImplicitPrelude**: In Plutus we prefer to use a custom Prelude that uses strict functions by default. This language extension allows us not use the default Prelude.\n",
    "\n",
    "- **TemplateHaskell**: Provides tools for Haskell metaprogramming which means that the code generates other code. Is also used in Plutus.\n",
    "\n",
    "- **ViewPatterns**: Allows for more-sophisticated pattern matching."
   ]
  },
  {
   "cell_type": "markdown",
   "metadata": {},
   "source": [
    "A list of all language extensions can be found here: https://hackage.haskell.org/package/template-haskell-2.19.0.0/docs/Language-Haskell-TH.html#g:5"
   ]
  },
  {
   "cell_type": "markdown",
   "metadata": {},
   "source": [
    "## Working with base modules"
   ]
  },
  {
   "cell_type": "markdown",
   "metadata": {},
   "source": [
    "Some functions in Haskell need to be imported with modules that are available beside the standard **Prelude** module. \n",
    "\n",
    "Haskell defines many modules for your convinience. For instance let's say you want to run a haskell file from the command line by giving it some input parameters and then read them from the program. \n",
    "\n",
    "You can do this with the function `getArgs` that is part of the `System.Environment` module."
   ]
  },
  {
   "cell_type": "code",
   "execution_count": null,
   "metadata": {},
   "outputs": [],
   "source": [
    "import System.Environment ( getArgs )\n",
    "\n",
    "main :: IO ()\n",
    "main = do\n",
    "  args <- getArgs\n",
    "  print $ args !! 0"
   ]
  },
  {
   "cell_type": "markdown",
   "metadata": {},
   "source": [
    "Because we wrote the `getArgs` function in the import statement only this function was imported from the module. \n",
    "\n",
    "If we would instead written `import System.Environment` all function from the System.Environment module would have been imported."
   ]
  },
  {
   "cell_type": "markdown",
   "metadata": {},
   "source": [
    "Now you might be asking yourself how to know which module to import and which function to use. \n",
    "\n",
    "The best answer is always google what you want to achive and once you find a module or function that fits your needs you can use Hackage and Hoogle to learn more about them. \n",
    "\n",
    "We will discuss those web services in lesson 14. For our example of the **getArgs** function you could for instance write into google: `haskell get command line arguments`."
   ]
  },
  {
   "cell_type": "markdown",
   "metadata": {},
   "source": [
    "### Base modules Data.Char, Data.Tuple and Data.Array\n",
    "\n",
    "When reading about these modules try to import them in GHCi and play with some of the functions. You can always check the type signature of a function with `:t <function_name>`."
   ]
  },
  {
   "cell_type": "markdown",
   "metadata": {},
   "source": [
    "The **Data.Char** module defines functions that deal with characters. Some of the often used functions are:\n",
    "\n",
    "- `isDigit` (checks if a character is a digit)\n",
    "\n",
    "- `isPunctuation` (checks if a character is a punctuation)\n",
    "\n",
    "- `toUpper` and `toLower` (converts a lower case character to upper or vice versa)\n",
    "\n",
    "- `ord` and `chr` (converts a character to ascii code number or vice versa)"
   ]
  },
  {
   "cell_type": "code",
   "execution_count": null,
   "metadata": {},
   "outputs": [],
   "source": [
    "import Data.Char\n",
    "\n",
    "isDigit '1'\n",
    "isPunctuation '.'\n",
    "toUpper 'a'\n",
    "ord 'a'"
   ]
  },
  {
   "cell_type": "markdown",
   "metadata": {},
   "source": [
    "The **Data.Tuple** module defines functions that deal with tuples. Some of the often used functions are:\n",
    "\n",
    "- `fst` (gives you the first element of a tuple)\n",
    "\n",
    "- `snd` (gives you the second element of a tuple)\n",
    "\n",
    "- `swap` (swaps elements in a 2-element tuple)"
   ]
  },
  {
   "cell_type": "code",
   "execution_count": null,
   "metadata": {},
   "outputs": [],
   "source": [
    "import Data.Tuple\n",
    "\n",
    "fst (1,2)\n",
    "snd (1,2)\n",
    "swap (1,2)"
   ]
  },
  {
   "cell_type": "markdown",
   "metadata": {},
   "source": [
    "The **Data.Array** module defines functions that deal with arrays. Some of the often used functions are:\n",
    "\n",
    "- `listArray` (construct an array from a pair of bounds and a list of values in index order)\n",
    "\n",
    "- `(!)` (access the value at the given index in an array)\n",
    "\n",
    "- `indices` (the list of indices of an array in ascending order)\n",
    "\n",
    "- `elems` (the list of elements of an array in index order)"
   ]
  },
  {
   "cell_type": "code",
   "execution_count": null,
   "metadata": {},
   "outputs": [],
   "source": [
    "import Data.Array\n",
    "\n",
    "myArray = listArray (1,3) [4,5,6]\n",
    "\n",
    "myArray ! 1 \n",
    "indices myArray \n",
    "elems myArray"
   ]
  },
  {
   "cell_type": "markdown",
   "metadata": {},
   "source": [
    "## Creating your own module"
   ]
  },
  {
   "cell_type": "markdown",
   "metadata": {},
   "source": [
    "Modules are just plain haskell files that define some functions. You can create a module on your own. \n",
    "\n",
    "Lets say we want another version of the Prelude function `sum` that by default returns for an empty list the value 0. \n",
    "\n",
    "Instead we want an error message to be displayed for the empty list. "
   ]
  },
  {
   "cell_type": "markdown",
   "metadata": {},
   "source": [
    "First we create our module file that we call sum.hs and write a module statement in the begining of the file. \n",
    "\n",
    "The name of the module should be same as the name of the file, just first letter uppercase. "
   ]
  },
  {
   "cell_type": "markdown",
   "metadata": {},
   "source": [
    "Then we define our own parameterized type `Check` that can be used for displaying an error message. \n",
    "\n",
    "We will learn in depth about handling errors in the chapter **Maybe and Either**. After that we define our `sum` function."
   ]
  },
  {
   "cell_type": "code",
   "execution_count": null,
   "metadata": {},
   "outputs": [],
   "source": [
    "module Sum where\n",
    "\n",
    "data Check a b = Error a | Result b deriving Show\n",
    "\n",
    "sum :: Num a => [a] -> Check String a\n",
    "sum [] = Error \"List is empty\"\n",
    "sum xs = Result $ Prelude.sum xs"
   ]
  },
  {
   "cell_type": "markdown",
   "metadata": {},
   "source": [
    "Notice that in the definition of our `sum` function we use the prelude version of `sum` that we acces by `Prelude.sum`. \n",
    "\n",
    "Now if we were in another haskell file and wanted to import our Sum module we would have to do this with a qualified import to avoid name colision of both `sum` functions."
   ]
  },
  {
   "cell_type": "code",
   "execution_count": null,
   "metadata": {},
   "outputs": [],
   "source": [
    "import qualified Sum as SumModule\n",
    "\n",
    "Prelude.sum []       -- 0\n",
    "Prelude.sum [1..3]   -- 6\n",
    "\n",
    "SumModule.sum []     -- Error \"List is empty\" \n",
    "SumModule.sum [1..3] -- Result 6"
   ]
  },
  {
   "cell_type": "markdown",
   "metadata": {},
   "source": [
    "If you would not want to rename the Sum module you could simply write `import qualified Sum` and then you would access the function with `Sum.sum`. \n",
    "\n",
    "If your user defined sum function name however would not match any default function name from Prelude, you could use a simple import statement as `import Sum`. \n",
    "\n",
    "This would work if our function name would be e.g. `sum1`. Then you could use the function names directly. "
   ]
  },
  {
   "cell_type": "markdown",
   "metadata": {},
   "source": [
    "```haskell\n",
    "import Sum\n",
    "\n",
    "sum []      -- 0\n",
    "sum [1..3]  -- 6\n",
    "\n",
    "sum1 []     -- Error \"List is empty\" \n",
    "sum1 [1..3] -- Result 6\n",
    "```"
   ]
  },
  {
   "cell_type": "markdown",
   "metadata": {},
   "source": [
    "**NOTE**: When compiling a haskell file with GHC or loading it in GHCi all imported modules (user defined) will compile automatically given that the files that contain them are in the same directory as the file you are compiling."
   ]
  },
  {
   "cell_type": "markdown",
   "metadata": {},
   "source": [
    "## Using cabal"
   ]
  },
  {
   "cell_type": "markdown",
   "metadata": {},
   "source": [
    "### Instalation of packages with cabal"
   ]
  },
  {
   "cell_type": "markdown",
   "metadata": {},
   "source": [
    "It is important to state that some modules can be directly imported into Haskell code because the packages that contains them get shiped with the installation of GHC and GHCi. \n",
    "\n",
    "The **base** and **container** packages are just two of them. But there are also other packages which need to be installed in order to be able to use their modules in Haskell code. "
   ]
  },
  {
   "cell_type": "markdown",
   "metadata": {},
   "source": [
    "One of them is for instance the **aeson** package that provides modules for processing JSON data. \n",
    "\n",
    "The packages are hosted on the Hackage site (*hackage.haskell.org*) about which we will talk in the next lesson. \n",
    "\n",
    "If you look at the **aeson** Hackage page you see that it contains the **Data.Aeson** module"
   ]
  },
  {
   "cell_type": "markdown",
   "metadata": {},
   "source": [
    "In order to check weather a module can be imported in Haskell simply start GHCi and type `import <module_name>`. If the package containing the module is not installed you will get an error. \n",
    "\n",
    "You can also use the TAB button for auto-completion. For instnce type `import Data.A` and hit TAB. You wil get a list of all modules that start with `Data.A`. \n",
    "\n",
    "In the default installation of Haskell you will not see the `Data.Aeson` module so you know you have to install it. "
   ]
  },
  {
   "cell_type": "markdown",
   "metadata": {},
   "source": [
    "For installation of packages the **cabal** command is used which stands for *Common Architecture for Building Applications and Libraries*.\n",
    "\n",
    "To install a package from Hackage you can use the command:\n",
    "```\n",
    "cabal install <package_name>\n",
    "```"
   ]
  },
  {
   "cell_type": "markdown",
   "metadata": {},
   "source": [
    "It could happen that cabal will complain if the package is in form of a library. In this case use the command:\n",
    "```\n",
    "cabal install --lib <package_name>\n",
    "```"
   ]
  },
  {
   "cell_type": "markdown",
   "metadata": {},
   "source": [
    "If you download a tar.gz file for instance, you can install the package locally with the command:\n",
    "```\n",
    "cabal install ./<package_name>.tar.gz\n",
    "```"
   ]
  },
  {
   "cell_type": "markdown",
   "metadata": {},
   "source": [
    "### Building a project with cabal"
   ]
  },
  {
   "cell_type": "markdown",
   "metadata": {},
   "source": [
    "You can also use cabal to build Haskell projects. Ussually when your project contains a Main.hs and many .hs files for libraries it is better to use cabal then directly compiling the Main.hs file. \n",
    "\n",
    "To create a new project in cabal you can use the following commands:"
   ]
  },
  {
   "cell_type": "markdown",
   "metadata": {},
   "source": [
    "Creates a simple project:\n",
    "```\n",
    "cabal init\n",
    "```"
   ]
  },
  {
   "cell_type": "markdown",
   "metadata": {},
   "source": [
    "Creates a project by asking you multiple questions where you can choose from a set of parameters. In the begining you should say no for simple project:\n",
    "```\n",
    "cabal init --interactive\n",
    "```"
   ]
  },
  {
   "cell_type": "markdown",
   "metadata": {},
   "source": [
    "The name of your project for the first command will be set to the name of the folder on which you created the project. \n",
    "\n",
    "An app/ directory will be created with a Main.hs file in which your main function will reside and a .cabal file will be created that holds all the information for building the project. "
   ]
  },
  {
   "cell_type": "markdown",
   "metadata": {},
   "source": [
    "Lets have a look at the file contents: \n",
    "```\n",
    "cabal-version:      2.4\n",
    "name:               test\n",
    "version:            0.1.0.0\n",
    "\n",
    "-- A short (one-line) description of the package.\n",
    "-- synopsis:\n",
    "\n",
    "-- A longer description of the package.\n",
    "-- description:\n",
    "\n",
    "-- A URL where users can report bugs.\n",
    "-- bug-reports:\n",
    "\n",
    "-- The license under which the package is released.\n",
    "-- license:\n",
    "author:             Luka Kurnjek\n",
    "maintainer:         luka.kurnjek@iohk.io\n",
    "\n",
    "-- A copyright notice.\n",
    "-- copyright:\n",
    "-- category:\n",
    "extra-source-files: CHANGELOG.md\n",
    "\n",
    "executable test\n",
    "    main-is:          Main.hs\n",
    "\n",
    "    -- Modules included in this executable, other than Main.\n",
    "    -- other-modules:\n",
    "\n",
    "    -- LANGUAGE extensions used by modules in this package.\n",
    "    -- other-extensions:\n",
    "    build-depends:    base ^>=4.14.3.0\n",
    "    hs-source-dirs:   app\n",
    "    default-language: Haskell2010\n",
    "```"
   ]
  },
  {
   "cell_type": "markdown",
   "metadata": {},
   "source": [
    "The fields in the begining are pretty much self-explanatory. You can also remove the comments for some of the fields that were also added to the file. \n",
    "\n",
    "In the executable section information for building the Main.hs of the project are stated. The build-depends flag states any libraries that are needed to build the project. "
   ]
  },
  {
   "cell_type": "markdown",
   "metadata": {},
   "source": [
    "The base library is always added by default. As you can see cabal supports equality and inequality operators for comparing versions. \n",
    "\n",
    "The carrot operator ^ is used to treat ^>= x.y.z as identical to >= x.y.z && < x.(y + 1). So in our case it would be `base >= 4.14.3.0 && < 4.15`. \n",
    "\n",
    "Also the directory of the Main.hs file is speciefie and the default language which is the newest at current time Haskell2010."
   ]
  },
  {
   "cell_type": "markdown",
   "metadata": {},
   "source": [
    "In order to build your project you run the command:\n",
    "```\n",
    "cabal build\n",
    "```\n",
    "\n",
    "In order to run your project you run the command:\n",
    "```\n",
    "cabal exec <project_name>\n",
    "```\n",
    "\n",
    "You can do both actions also with one command:\n",
    "```\n",
    "cabal run\n",
    "```"
   ]
  },
  {
   "cell_type": "markdown",
   "metadata": {},
   "source": [
    "If you use the interactive method for create the project you have the option to add libraries and test cases. \n",
    "\n",
    "If you do so, the cabal tool will generate the src/ (or lib/) and test/ directories and the .cabal file will have also configurations for library and test-suite."
   ]
  },
  {
   "cell_type": "markdown",
   "metadata": {},
   "source": [
    "## Recap"
   ]
  },
  {
   "cell_type": "markdown",
   "metadata": {},
   "source": [
    "In this lesson, we have discussed:\n",
    "\n",
    "- the Prelude module and its functions\n",
    "\n",
    "- language pragmas and how to use them\n",
    "\n",
    "- how to work with base modules\n",
    "\n",
    "- how to create your own modules\n",
    "\n",
    "- using cabal for installing packages and building projects"
   ]
  }
 ],
 "metadata": {
  "kernelspec": {
   "display_name": "Haskell",
   "language": "haskell",
   "name": "haskell"
  },
  "language_info": {
   "codemirror_mode": "ihaskell",
   "file_extension": ".hs",
   "mimetype": "text/x-haskell",
   "name": "haskell",
   "pygments_lexer": "Haskell",
   "version": "8.10.7"
  }
 },
 "nbformat": 4,
 "nbformat_minor": 4
}
