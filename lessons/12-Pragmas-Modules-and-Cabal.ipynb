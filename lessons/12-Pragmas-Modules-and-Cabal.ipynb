{
 "cells": [
  {
   "cell_type": "markdown",
   "metadata": {},
   "source": [
    "# Modules, pragmas and cabal"
   ]
  },
  {
   "cell_type": "markdown",
   "metadata": {},
   "source": [
    "## Outline\n",
    "\n",
    "* Modules\n",
    "  - Prelude module\n",
    "\n",
    "  - Working with base modules \n",
    "\n",
    "  - Creating our own modules\n",
    "\n",
    "  - Compiling Haskell programs\n",
    "\n",
    "* Language pragmas\n",
    "\n",
    "* Using Cabal\n",
    "  - Introduction\n",
    "  \n",
    "  - Managing of packages with cabal\n",
    "  \n",
    "  - Building a project with cabal"
   ]
  },
  {
   "cell_type": "markdown",
   "metadata": {},
   "source": [
    "In this lesson, we will learn how you can work with Haskell modules, pragmas and Cabal. These are the tools necessary to build a full-fledged Haskell application so that we can finally build a complete project. We will see that modules will allow us to manage code better and let us reuse code that others have built! Pragmas will let us tweak the behavior of Haskell and how it should work. Lastly, Cabal will help us manage a complete project and all its possible dependencies!"
   ]
  },
  {
   "cell_type": "markdown",
   "metadata": {},
   "source": [
    "## Modules"
   ]
  },
  {
   "cell_type": "markdown",
   "metadata": {},
   "source": [
    "**What are they?**\n",
    "\n",
    "Modules are Haskell files that contain a module definition statement at the beginning of the file, followed by some Haskell code. For example,\n",
    "\n",
    "```haskell\n",
    "module Tree where\n",
    "```\n",
    "Here the name `Tree` represents the name of the module. It is also good practice to name the Haskell file after the name of the module. "
   ]
  },
  {
   "cell_type": "markdown",
   "metadata": {},
   "source": [
    "These modules can be imported into other Haskell files. If done so, some or all of the code from the module becomes available to the Haskell file. \n",
    "\n",
    "If nothing is specified, like the above code snippet, all the function and type definition will be exposed by this module. "
   ]
  },
  {
   "cell_type": "markdown",
   "metadata": {},
   "source": [
    "In case you want to restrict access to some functionality, you can specify what is exported by making it explicit as\n",
    "\n",
    "```haskell\n",
    "module Tree (function1, function2, myDataType) where\n",
    "```"
   ]
  },
  {
   "cell_type": "markdown",
   "metadata": {},
   "source": [
    "We will show how to import them on a practical example in the chapter **Working with base modules**."
   ]
  },
  {
   "cell_type": "markdown",
   "metadata": {},
   "source": [
    "**Why use them?**\n",
    "\n",
    "Modules are nice because they allow you to split up and control your code into multiple files and group it according to similar functionality.\n",
    "\n",
    "The advantage of this is that you have a better overview of your code and can easier manage it, it prevents spaghetti code."
   ]
  },
  {
   "cell_type": "markdown",
   "metadata": {},
   "source": [
    "Additionally, when compiling, Haskell considers each module with its own scope. This means you can compile each module with other compiler settings. \n",
    "\n",
    "We will explain this more in the **Language pragmas** chapter."
   ]
  },
  {
   "cell_type": "markdown",
   "metadata": {},
   "source": [
    "Another use for them is when you need to use some functions, types and / or type classes that are defined in existing Haskell modules.\n",
    "\n",
    "You can then import these modules and use the functionality that they offer in your code. "
   ]
  },
  {
   "cell_type": "markdown",
   "metadata": {},
   "source": [
    "### Prelude module"
   ]
  },
  {
   "cell_type": "markdown",
   "metadata": {},
   "source": [
    "When working in GHCi some functions are available by default, for instance `head`, `sum` and `length`.\n",
    "\n",
    "This means you had to do nothing to have these imported or installed in Haskell for them to be used."
   ]
  },
  {
   "cell_type": "markdown",
   "metadata": {},
   "source": [
    "This is because those functions are part of the standard Haskell module called **Prelude** that is imported by default. \n",
    "\n",
    "The word prelude means an introduction to something more important, which is the code and modules you will write.\n",
    "\n",
    "You can find a list of all the functions contained in **Prelude** on **Hackage** [(1)](https://hackage.haskell.org/package/base-4.17.0.0/docs/Prelude.html). We will explain in lesson 15 what Hackage is and how you can use it in general."
   ]
  },
  {
   "cell_type": "markdown",
   "metadata": {},
   "source": [
    "<div class=\"alert alert-block alert-info\">\n",
    "    To view all the imported modules in a current GHCi session, use <code>:show imports</code>\n",
    "</div>"
   ]
  },
  {
   "cell_type": "markdown",
   "metadata": {},
   "source": [
    "Some of the most used **Prelude** function we have already seen are:\n",
    "\n",
    "- `head` (gives you the first element of the list)\n",
    "\n",
    "- `tail` (gives you the elements of the list, except the first one)\n",
    "\n",
    "- `sum` (sums elements of a list)\n",
    "\n",
    "- `length` (gives the length of a list)\n",
    "\n",
    "- `print` (converts a variable to a string a prints it to the terminal)"
   ]
  },
  {
   "cell_type": "markdown",
   "metadata": {},
   "source": [
    "On the Hackage link of the prelude module provided above, you will also find the type signatures of all these functions and more."
   ]
  },
  {
   "cell_type": "markdown",
   "metadata": {},
   "source": [
    "### Working with Base modules"
   ]
  },
  {
   "cell_type": "markdown",
   "metadata": {},
   "source": [
    "Some functions in Haskell need to be imported via modules that are already locally available, besides the standard **Prelude** module. \n",
    "\n",
    "We call the combination of all these already locally available modules the **Base** modules (of which the prelude is one). Haskell contains many convenient modules for you to try out!\n",
    "\n",
    "For an overview of what the Base consists of, take a look at the following foldable list [(2)](https://hackage.haskell.org/package/base-4.17.0.0/docs/index.html)."
   ]
  },
  {
   "cell_type": "markdown",
   "metadata": {},
   "source": [
    "As this is an introduction to Haskell, the most important modules in this list right now are \n",
    "\n",
    "* Data\n",
    "* Numeric\n",
    "* Prelude\n",
    "* System\n",
    "* Text"
   ]
  },
  {
   "cell_type": "markdown",
   "metadata": {},
   "source": [
    "Let's say you want to run a Haskell program that executed something from the command line by giving it some input parameters and then read them from the program. \n",
    "\n",
    "This is a common pattern, and it is available in the Base module `System`.\n",
    "\n",
    "More precise, you can do this with the function `getArgs` that is part of the `System.Environment` module."
   ]
  },
  {
   "cell_type": "markdown",
   "metadata": {},
   "source": [
    "```haskell\n",
    "import System.Environment \n",
    "\n",
    "main :: IO ()\n",
    "main = do\n",
    "  args <- getArgs\n",
    "  print $ head args\n",
    "```"
   ]
  },
  {
   "cell_type": "markdown",
   "metadata": {},
   "source": [
    "<div class=\"alert alert-block alert-warning\">\n",
    "The above code will not properly work in this Jupyter Notebook. This is because the <code>getArgs</code> function looks for arguments from a command line! At the end of the lesson, you will be able to execute this code locally with cabal or GHC.  \n",
    "</div>"
   ]
  },
  {
   "cell_type": "markdown",
   "metadata": {},
   "source": [
    "When we import a module as above, all of its types and functions that it exposes get imported. We can also specify precisely which functions and types we want to import.\n",
    "\n",
    "For the example above, we could have imported only the function `getArgs` with the following statement instead of the whole module\n",
    "```haskell\n",
    "import System.Environment (getArgs)\n",
    "```\n",
    "If there are more functions and types we wish to import, we separate them with a comma. "
   ]
  },
  {
   "cell_type": "markdown",
   "metadata": {},
   "source": [
    "Now you might be asking yourself how to know which module to import and which function to use? The best answer is always googling what you want to achieve. \n",
    "\n",
    "For our example of the `getArgs` function, you could for instance write into google: `haskell get command line arguments`."
   ]
  },
  {
   "cell_type": "markdown",
   "metadata": {},
   "source": [
    "Once you find a module or function that fits your needs, you can further use Google to find a good explanation and example. \n",
    "\n",
    "You can also use the Haskell web services **Hackage** and **Hoogle** to learn more about them. Again, we will discuss these web services in detail in lesson 15."
   ]
  },
  {
   "cell_type": "markdown",
   "metadata": {},
   "source": [
    "### Base modules Data.Char, Data.List and Data.Array"
   ]
  },
  {
   "cell_type": "markdown",
   "metadata": {},
   "source": [
    "As an example, we will go through three often used modules that are also locally available for you to use in Haskell. We will briefly discuss what these might be used for to provide some insight in their structure."
   ]
  },
  {
   "cell_type": "markdown",
   "metadata": {},
   "source": [
    "The **Data.Char** module defines functions that deal with characters. Some of the often used functions are:\n",
    "\n",
    "- `isDigit` (checks if a character is a digit)\n",
    "\n",
    "- `isPunctuation` (checks if a character is a punctuation mark)\n",
    "\n",
    "- `toUpper` and `toLower` (converts a lower case character to upper or vice versa)\n",
    "\n",
    "- `ord` and `chr` (convert a character to ASCII code number and vice versa)"
   ]
  },
  {
   "cell_type": "markdown",
   "metadata": {},
   "source": [
    "For some example code we could have"
   ]
  },
  {
   "cell_type": "code",
   "execution_count": null,
   "metadata": {},
   "outputs": [],
   "source": [
    "import Data.Char\n",
    "\n",
    "isDigit '1'\n",
    "isPunctuation '.'\n",
    "toUpper 'a'\n",
    "ord 'a'"
   ]
  },
  {
   "cell_type": "markdown",
   "metadata": {},
   "source": [
    "This module is great for parsing characters and changing them."
   ]
  },
  {
   "cell_type": "markdown",
   "metadata": {},
   "source": [
    "The **Data.List** module defines functions that deal with lists. Some of the functions we have not covered yet are:\n",
    "\n",
    "- `sort` (sorts a list from lower to upper values, if the variables can be compared to each other)\n",
    "\n",
    "- `splitAt` (splits a list into a tuple of two lists, where the user defines the length of the first list)\n",
    "\n",
    "- `scanl` (is similar to foldl, but it shows the value of the accumulator on each iteration instead of the result)\n",
    "\n",
    "- `scanr` (is the right-to-left dual of scanl. The order of parameters on the accumulating function are reversed compared to scanl.)"
   ]
  },
  {
   "cell_type": "markdown",
   "metadata": {},
   "source": [
    "For some example code, we could have"
   ]
  },
  {
   "cell_type": "code",
   "execution_count": null,
   "metadata": {},
   "outputs": [],
   "source": [
    "import Data.List (sort)\n",
    "\n",
    "myList = [4,2,1,5,3]\n",
    "\n",
    "sort myList\n",
    "splitAt 3 myList\n",
    "\n",
    "scanl (-) 5 [1..4]\n",
    "scanr (-) 5 [1..4]\n",
    "foldr (-) 5 [1..4]"
   ]
  },
  {
   "cell_type": "markdown",
   "metadata": {},
   "source": [
    "<div class=\"alert alert-block alert-info\">\n",
    "    The scan functions are similar to the fold functions. The difference is that the fold functions are focused on the result of the fold (a single return value). While the scan functions tell you how that result was achieved by showing its intermediate values (a list of values). So, the last element of a <code>scanl</code> list is the result of a <code>foldl</code>, and the first element of <code>scanr</code> is the same as <code>foldr</code> over the same arguments.\n",
    "</div>"
   ]
  },
  {
   "cell_type": "markdown",
   "metadata": {},
   "source": [
    "Here's a more precise breakdown of how the scan functions work in the above example\n",
    "```haskell\n",
    "scanl (-) 5 [1,2,3,4] = 5 : scanl (-) ((-) 5 1) [2,3,4]\n",
    "                      = 5 : ((-) 5 1) : scanl (-) ((-) ((-) 5 1) 2) [3,4]\n",
    "                      = 5 : ((-) 5 1) : ((-) ((-) 5 1) 2) : scanl (-) ((-) ((-) ((-) 5 1) 2) 3) [4]\n",
    "                      = 5 : ((-) 5 1) : ((-) ((-) 5 1) 2) : ((-) ((-) ((-) 5 1) 2) 3) : scanl (-) ((-) ((-) ((-) ((-) 5 1) 2) 3) 4) []\n",
    "                      = 5 : ((-) 5 1) : ((-) ((-) 5 1) 2) : ((-) ((-) ((-) 5 1) 2) 3) : ((-) ((-) ((-) ((-) 5 1) 2) 3) 4) : []\n",
    "                      = 5 : 4 : 2 : -1 : -5 : []\n",
    "                      = [5, 4, 2, -1, -5]      \n",
    "\n",
    "scanr (-) 5 [1,2,3,4] = scanr (-) ((-) 4 5) [1,2,3] : [5]\n",
    "                      = scanr (-) ((-) 3 ((-) 4 5)) [1,2] : ((-) 4 5) : [5]\n",
    "                      = scanr (-) ((-) 2 ((-) 3 ((-) 4 5))) [1] : ((-) 3 ((-) 4 5)) : ((-) 4 5) : [5]\n",
    "                      = scanr (-) ((-) 1 ((-) 2 ((-) 3 ((-) 4 5)))) [] : ((-) 2 ((-) 3 ((-) 4 5))) : ((-) 3 ((-) 4 5)) : ((-) 4 5) : [5]\n",
    "                      = ((-) 1 ((-) 2 ((-) 3 ((-) 4 5)))) : ((-) 2 ((-) 3 ((-) 4 5))) : ((-) 3 ((-) 4 5)) : ((-) 4 5) : [5]\n",
    "                      = [3, -2, 4, -1, 5]\n",
    "```"
   ]
  },
  {
   "cell_type": "markdown",
   "metadata": {},
   "source": [
    "The **Data.Array** module defines functions that deal with arrays. Some of the often used functions are:\n",
    "\n",
    "- `listArray` (construct an array from a pair of bounds and a list of values in index order)\n",
    "\n",
    "- `(!)` (access the value at the given index in an array)\n",
    "\n",
    "- `indices` (the list of indices of an array in ascending order)\n",
    "\n",
    "- `elems` (the list of elements of an array in index order)\n",
    "\n",
    "- `(//)` (constructs an array identical to the first argument, except that it has been updated by the associations in the right argument)"
   ]
  },
  {
   "cell_type": "markdown",
   "metadata": {},
   "source": [
    "For some example code, we could have"
   ]
  },
  {
   "cell_type": "code",
   "execution_count": null,
   "metadata": {},
   "outputs": [],
   "source": [
    "import Data.Array\n",
    "\n",
    "myArray :: Array Int Int\n",
    "myArray = listArray (1,3) [4,5,6]\n",
    "\n",
    "myArray ! 3\n",
    "indices myArray \n",
    "elems myArray\n",
    "myArray // [(2,10)]\n",
    "elems $ myArray // [(2,10)]"
   ]
  },
  {
   "cell_type": "markdown",
   "metadata": {},
   "source": [
    "The benefit of using arrays over lists are the helper functions you get that work with arrays when using the **Data.Array** module.\n",
    "\n",
    "Performance wise, there are no benefits. If you need a better performance, you can use  the unboxed `UArray` array type from the **Data.Array.Unboxed** module.\n",
    "\n",
    "A `UArray` works with similar syntax as an Array and will generally be more efficient in terms of both time and space. "
   ]
  },
  {
   "cell_type": "markdown",
   "metadata": {},
   "source": [
    "<div class=\"alert alert-block alert-info\">\n",
    "    In all of the above modules we saw that their name contained <code>Data.</code> which classified each module as a member of the Data module. Practicly this is achieved by having the module files in the path of a directory called <code>Data</code>. So in general a module name with dots <code>A.B.C</code> originates from the UNIX file path <code>A/B/C.hs</code>. \n",
    "</div>"
   ]
  },
  {
   "cell_type": "markdown",
   "metadata": {},
   "source": [
    "### Creating your own module"
   ]
  },
  {
   "cell_type": "markdown",
   "metadata": {},
   "source": [
    "Modules are just plain Haskell files that can be imported in other Haskell files, and it is easy to create a module on your own. \n",
    "\n",
    "In the following section we will show you how to set up a module, later we will show how you can use it via Cabal."
   ]
  },
  {
   "cell_type": "markdown",
   "metadata": {},
   "source": [
    "Let's say we want another version of the Prelude function `sum` that returns an error for the input of the empty list, instead of the value 0 that the Prelude `sum` returns."
   ]
  },
  {
   "cell_type": "markdown",
   "metadata": {},
   "source": [
    "First, we create a Haskell file that we call `Sum.hs` and write a module statement at the beginning of the file:\n",
    "```haskell\n",
    "module Sum where\n",
    "```"
   ]
  },
  {
   "cell_type": "markdown",
   "metadata": {},
   "source": [
    "With this statement, we define the name of our module, which should start with an upper case letter.\n",
    "\n",
    "It is good practice that the name of the module is the same as the name of the file, though this is not mandatory."
   ]
  },
  {
   "cell_type": "markdown",
   "metadata": {},
   "source": [
    "Then we define our own parameterized type `MyData` that can be used for displaying an error message. \n",
    "\n",
    "We will learn more about proper error handling in lesson 14. After that, we define our `sum` function."
   ]
  },
  {
   "cell_type": "markdown",
   "metadata": {},
   "source": [
    "```haskell\n",
    "module Sum where\n",
    "\n",
    "data MyData a b = Error a | Result b deriving Show\n",
    "\n",
    "sum :: Num a => [a] -> MyData String a\n",
    "sum [] = Error \"List is empty\"\n",
    "sum xs = Result $ Prelude.sum xs\n",
    "```"
   ]
  },
  {
   "cell_type": "markdown",
   "metadata": {},
   "source": [
    "Notice that in the definition of our `sum` function, we use the prelude version of `sum` that we access by `Prelude.sum`.\n",
    "\n",
    "Now, if we were in another Haskell file and wanted to import our **Sum** module, we would have to do this with a qualified import to avoid name collision of both `sum` functions."
   ]
  },
  {
   "cell_type": "markdown",
   "metadata": {},
   "source": [
    "```haskell\n",
    "import qualified Sum as SumModule\n",
    "\n",
    "Prelude.sum []       -- 0\n",
    "Prelude.sum [1..3]   -- 6\n",
    "\n",
    "SumModule.sum []     -- Error \"List is empty\" \n",
    "SumModule.sum [1..3] -- Result 6\n",
    "```"
   ]
  },
  {
   "cell_type": "markdown",
   "metadata": {},
   "source": [
    "If you would not want to rename the **Sum** module in its usages, you could simply write `import qualified Sum`, and then you would access the function with `Sum.sum`."
   ]
  },
  {
   "cell_type": "markdown",
   "metadata": {},
   "source": [
    "If you defined your sum function with another name that would not match any default function name from Prelude, you could use a simple import statement as `import Sum`. \n",
    "\n",
    "This would work if our function name would be e.g. `sum1`. Then you could use the function names directly. "
   ]
  },
  {
   "cell_type": "markdown",
   "metadata": {},
   "source": [
    "```haskell\n",
    "import Sum\n",
    "\n",
    "sum []      -- 0\n",
    "sum [1..3]  -- 6\n",
    "\n",
    "sum1 []     -- Error \"List is empty\" \n",
    "sum1 [1..3] -- Result 6\n",
    "```"
   ]
  },
  {
   "cell_type": "markdown",
   "metadata": {},
   "source": [
    "### Compiling Haskell programs"
   ]
  },
  {
   "cell_type": "markdown",
   "metadata": {},
   "source": [
    "In this section, we will show how you can compile a simple Haskell file, later we will show how you can compile a more complex project using Cabal."
   ]
  },
  {
   "cell_type": "markdown",
   "metadata": {},
   "source": [
    "You can compile a Haskell program, that is a Haskell file with your main logic, using GHC. This main file can import other Haskell files that define modules as well.\n",
    "\n",
    "To compile something with GHC, your main file can have any name, but it must contain a `main :: IO ()` function which is the entry point for the compiler. "
   ]
  },
  {
   "cell_type": "markdown",
   "metadata": {},
   "source": [
    "When the program is run, this is the function that will be evaluated. For example, consider the file `Main.hs`\n",
    "```haskell\n",
    "module Main where\n",
    "\n",
    "main :: IO ()\n",
    "main = do \n",
    "        print \"Hello World\"\n",
    "```"
   ]
  },
  {
   "cell_type": "markdown",
   "metadata": {},
   "source": [
    "You compile your program from the command line like this:\n",
    "```\n",
    "ghc Main.hs\n",
    "```"
   ]
  },
  {
   "cell_type": "markdown",
   "metadata": {},
   "source": [
    "This will output three new files\n",
    "```\n",
    " 1) Main\n",
    " 2) Main.hi\n",
    " 3) Main.o\n",
    "```"
   ]
  },
  {
   "cell_type": "markdown",
   "metadata": {},
   "source": [
    "The first is the executable that we can run, on a Unix system, this can be done via the command `./Main`. \n",
    "\n",
    "The second and the third files are intermediate files for compilation to the `Main` executable."
   ]
  },
  {
   "cell_type": "markdown",
   "metadata": {},
   "source": [
    "The `Main.hi` file, is an interface file of the `Main.hs` file seen as a module. The `.o` file is a C object file of this module. \n",
    "\n",
    "Together, they can be reused by GHC to compile other files again. "
   ]
  },
  {
   "cell_type": "markdown",
   "metadata": {},
   "source": [
    "This necessary for optimization when you recompile a big project with many of modules but with a small change in the code. \n",
    "\n",
    "This way, GHC can use the old `.o` and `.hi` files of all the modules to compile the new executable."
   ]
  },
  {
   "cell_type": "markdown",
   "metadata": {},
   "source": [
    "The code from the additional Haskell files is included automatically if the files are sitting in the same directory as the Main.hs file.\n",
    "\n",
    "Also, all the files have to have module declaration statements and the Main.hs file has to import them for them to be included in the compile process."
   ]
  },
  {
   "cell_type": "markdown",
   "metadata": {},
   "source": [
    "<div class=\"alert alert-block alert-info\">\n",
    "    GHCi the Haskell REPL allows you to load a Haskell file with the <code>:l</code> command. There, it is not relevant whether the file has a main function or not. Once the file is loaded into GHCi you can call any of the functions or types defined in the file and test them if they work as you expected. If you load a <code>main.hs</code> file into GHCi that imports some user-defined modules, they will also be included as in the compilation process.\n",
    "</div>"
   ]
  },
  {
   "cell_type": "markdown",
   "metadata": {},
   "source": [
    "## Language pragmas"
   ]
  },
  {
   "cell_type": "markdown",
   "metadata": {},
   "source": [
    "Language pragmas, also called language extensions, are a way to add or alter some functionality to your Haskell code that is not there by default. \n",
    "\n",
    "The syntax to add a pragma to a Haskell file is by declaring `{-# LANGUAGE pragme_name #-}` at the top of the file.\n",
    "\n",
    "Though pragmas extend your Haskell file like modules, pragmas are not like modules because they do not bring any new functions to Haskell, but rather code functionality."
   ]
  },
  {
   "cell_type": "markdown",
   "metadata": {},
   "source": [
    "Let's look at an example where we use the **OverloadedStrings** pragma. In lesson 13 you will learn about bytestrings and how to display them.\n",
    "\n",
    "When this pragma is added to your file, it allows you to write bytestrings as normal strings without having to use the `pack` function from the **Data.Bytestring** module. "
   ]
  },
  {
   "cell_type": "code",
   "execution_count": null,
   "metadata": {},
   "outputs": [],
   "source": [
    "{-# LANGUAGE OverloadedStrings #-}\n",
    "\n",
    "import qualified Data.ByteString as BS\n",
    "\n",
    "bytestring1 :: BS.ByteString\n",
    "bytestring1 = \"1\"  -- would throw error without the pragma\n",
    "\n",
    "-- This code would not throw an error without the pragma\n",
    "bytestring2 :: BS.ByteString\n",
    "bytestring2 = BS.pack \"2\" \n",
    "\n",
    "main :: IO ()\n",
    "main = do\n",
    "  print bytestring1\n",
    "  print bytestring2\n",
    "\n",
    "main"
   ]
  },
  {
   "cell_type": "markdown",
   "metadata": {},
   "source": [
    "This extension enables to define various type variables that contain strings, by only writing out the string. \n",
    "\n",
    "Besides the `ByteString` this will also work for the `Text` type that you will learn about also in lesson 13. "
   ]
  },
  {
   "cell_type": "markdown",
   "metadata": {},
   "source": [
    "We see that with this pragma we can make it easier to code because we do not have to use the `BS.pack` function.\n",
    "\n",
    "But sometimes we need to add a pragma in order that we can implement our required code solution."
   ]
  },
  {
   "cell_type": "markdown",
   "metadata": {},
   "source": [
    "Let's say we have a requirement to define two user types with record syntax that should both contain the `name` function name.\n",
    "\n",
    "We can accomplish this if we add the `DuplicateRecordFields` language extension to our code, that allows duplicated function names."
   ]
  },
  {
   "cell_type": "code",
   "execution_count": null,
   "metadata": {},
   "outputs": [],
   "source": [
    "{-# LANGUAGE DuplicateRecordFields #-}\n",
    "\n",
    "data UserAge = UserAge { name :: String\n",
    "                       , age :: Int }\n",
    "\n",
    "data UserHeight = UserHeight { name :: String\n",
    "                             , height :: Int }                     "
   ]
  },
  {
   "cell_type": "markdown",
   "metadata": {},
   "source": [
    "There are many other pragmas that you can add to your code. Some of them are:\n",
    "\n",
    "- **NoImplicitPrelude**: This language extension prevents the Prelude module to be imported by default.<br>\n",
    "In Plutus the Cardano smart contract language, we prefer to use a custom Prelude that uses strict functions by default. \n",
    "\n",
    "- **TemplateHaskell**: Provides tools for Haskell meta-programming, which means that the code generates other code. It is also used in Plutus.\n",
    "\n",
    "- **ViewPatterns**: Allows for more sophisticated pattern matching."
   ]
  },
  {
   "cell_type": "markdown",
   "metadata": {},
   "source": [
    "A list of all language extensions can be found on Hackage [(2)](https://hackage.haskell.org/package/template-haskell-2.19.0.0/docs/Language-Haskell-TH.html#g:5)."
   ]
  },
  {
   "cell_type": "markdown",
   "metadata": {},
   "source": [
    "## Using cabal"
   ]
  },
  {
   "cell_type": "markdown",
   "metadata": {},
   "source": [
    "### Introduction"
   ]
  },
  {
   "cell_type": "markdown",
   "metadata": {},
   "source": [
    "**What is cabal?**\n",
    "\n",
    "It is a Haskell package management tool that can be used from the command line, similar as **pip** for Python or **npm** for JavaScript. \n",
    "\n",
    "The name **cabal** stands for *Common Architecture for Building Applications and Libraries*."
   ]
  },
  {
   "cell_type": "markdown",
   "metadata": {},
   "source": [
    "**What is a Haskell package?**\n",
    "\n",
    "A Haskell **package** is a collection of Haskell files that defines modules. The modules contain code that offer related functionality. \n",
    "\n",
    "The reason why there are multiple modules contained in a package are: \n",
    "- a developer might not need all the functionality from the package and wants to import only certain modules\n",
    "\n",
    "- it is easier to maintain the package if the code is contained in multiple modules instead of one "
   ]
  },
  {
   "cell_type": "markdown",
   "metadata": {},
   "source": [
    "**Why do we need cabal?**\n",
    "\n",
    "Imagine we have a file that contains the blood molar concentractions of vitamin C, vitamin E and copper for a person. \n",
    "\n",
    "The units are `mol/L` and the numbers have scientific notation.\n",
    "```\n",
    "Vitamin C: 40e-6\n",
    "Vitamin E: 50e-6\n",
    "Copper:    15e-6\n",
    "```"
   ]
  },
  {
   "cell_type": "markdown",
   "metadata": {},
   "source": [
    "Now when you read the file and extract the strings that contain the numbers you can not parse them with the `read` function.\n",
    "\n",
    "After some search on google you find out there is a module called **Data.Scientific** that allows you to parse the numbers in scientific format."
   ]
  },
  {
   "cell_type": "markdown",
   "metadata": {},
   "source": [
    "The parsing can be done with the `read` function:\n",
    "```haskell\n",
    "read \"40e-6\" :: Scientific\n",
    "```"
   ]
  },
  {
   "cell_type": "markdown",
   "metadata": {},
   "source": [
    "But when you try to import this module your realize that you get an error.\n",
    "\n",
    "The reason for this is that the package **scientific** which contains this module is not installed by default when you install **GHC**."
   ]
  },
  {
   "cell_type": "markdown",
   "metadata": {},
   "source": [
    "Only **packages** that contain commonly used modules come with the default installation of Haskell. Some of them are **base**, **text** and **time**.\n",
    "\n",
    "For other packages that you might need, **cabal** can help you to install them on your OS."
   ]
  },
  {
   "cell_type": "markdown",
   "metadata": {},
   "source": [
    "### Managing packages with cabal"
   ]
  },
  {
   "cell_type": "markdown",
   "metadata": {},
   "source": [
    "**How to check if a module / package is available by default?**\n",
    "\n",
    "To check whether a module can be imported in Haskell, simply start GHCi and type `import module_name`. \n",
    "\n",
    "If the package containing the module is not installed, you will get an error. "
   ]
  },
  {
   "cell_type": "markdown",
   "metadata": {},
   "source": [
    "You can also use the TAB button for auto-completion. For instance, type `import Data.A` and hit TAB. You will get a list of all modules that start with `Data.A`. \n",
    "\n",
    "For packages you can display the list of installed pacakges on your OS with the command:\n",
    "```\n",
    "cabal list --installed\n",
    "```"
   ]
  },
  {
   "cell_type": "markdown",
   "metadata": {},
   "source": [
    "**How to install a Haskell package?**\n",
    "\n",
    "When **cabal** installs a package it downloads it from [Hackage](https://hackage.haskell.org/). As said before we will talk about Hackage in lesson 15."
   ]
  },
  {
   "cell_type": "markdown",
   "metadata": {},
   "source": [
    "To install a package on your OS, you can use the command:\n",
    "```\n",
    "cabal install package_name\n",
    "```"
   ]
  },
  {
   "cell_type": "markdown",
   "metadata": {},
   "source": [
    "It could happen that cabal will complain if the package is in form of a library. In this case, use the command:\n",
    "```\n",
    "cabal install --lib package_name\n",
    "```"
   ]
  },
  {
   "cell_type": "markdown",
   "metadata": {},
   "source": [
    "If you download a tar.gz file of a package, you can install the package locally with the command:\n",
    "```\n",
    "cabal install ./package_name.tar.gz\n",
    "```"
   ]
  },
  {
   "cell_type": "markdown",
   "metadata": {},
   "source": [
    "**How to remove a Haskell package?**\n",
    "\n",
    "Currently, **cabal** does not know how to uninstall packages.\n",
    "\n",
    "You can install the **cabal-uninstall** package that lets you remove Haskell packages.\n",
    "```\n",
    "cabal-uninstall package_name\n",
    "```"
   ]
  },
  {
   "cell_type": "markdown",
   "metadata": {},
   "source": [
    "### Building a project with cabal"
   ]
  },
  {
   "cell_type": "markdown",
   "metadata": {},
   "source": [
    "We learned now how to use **cabal** to manage Haskell packages. But **cabal** can also be used for another purpose.\n",
    "\n",
    "You can use it to build Haskell projects instead of compiling the source code with the **ghc** command."
   ]
  },
  {
   "cell_type": "markdown",
   "metadata": {},
   "source": [
    "Cabal uses a `.cabal` file that describes the building process of a project.\n",
    "\n",
    "The reasons for building projects with **cabal** instead of **ghc** are:\n",
    "- Can handle a project structure that contains files in multiple folders.\n",
    "\n",
    "- In the cabal file you can specify for each folder seperatly: \n",
    "  - which of the installed packages you want to import.\n",
    "\n",
    "  - which packages cabal should add as build dependencies.<br>\n",
    "    They will be used in the compiling process but not installed on the OS.\n",
    "\n",
    "  - if it contains the main executable file, library files or test files.\n",
    "\n",
    "- You can create a package with cabal and distribute it to other developers."
   ]
  },
  {
   "cell_type": "markdown",
   "metadata": {},
   "source": [
    "**Creating new project**\n",
    "\n",
    "To create a new project in cabal, create an empty folder, move into it and use one of the following commands:"
   ]
  },
  {
   "cell_type": "markdown",
   "metadata": {},
   "source": [
    "Creates a simple project:\n",
    "```\n",
    "cabal init\n",
    "```"
   ]
  },
  {
   "cell_type": "markdown",
   "metadata": {},
   "source": [
    "Creates a project by asking you multiple questions where you can choose from a set of parameters:\n",
    "```\n",
    "cabal init --interactive\n",
    "```\n",
    "**NOTE**: Initially, you should say \"no\" for a simple project. Otherwise, the command runs as in the first case."
   ]
  },
  {
   "cell_type": "markdown",
   "metadata": {},
   "source": [
    "The commands above will create a cabal file and some folders with files depending on the options you specified."
   ]
  },
  {
   "cell_type": "markdown",
   "metadata": {},
   "source": [
    "**Explaning the cabal file**\n",
    "\n",
    "Let's have a look at the contents of an example cabal file: \n",
    "```\n",
    "cabal-version:      2.4\n",
    "name:               test\n",
    "version:            0.1.0.0\n",
    "\n",
    "-- A short (one-line) description of the package.\n",
    "-- synopsis:\n",
    "\n",
    "-- A longer description of the package.\n",
    "-- description:\n",
    "\n",
    "-- A URL where users can report bugs.\n",
    "-- bug-reports:\n",
    "\n",
    "-- The license under which the package is released.\n",
    "-- license:\n",
    "author:             Luka Kurnjek\n",
    "maintainer:         luka.kurnjek@iohk.io\n",
    "\n",
    "-- A copyright notice.\n",
    "-- copyright:\n",
    "-- category:\n",
    "extra-source-files: CHANGELOG.md\n",
    "\n",
    "executable test\n",
    "    main-is:          Main.hs\n",
    "\n",
    "    -- Modules included in this executable, other than Main.\n",
    "    -- other-modules:\n",
    "\n",
    "    -- LANGUAGE extensions used by modules in this package.\n",
    "    -- other-extensions:\n",
    "    build-depends:    base \n",
    "    hs-source-dirs:   app\n",
    "    default-language: Haskell2010\n",
    "```"
   ]
  },
  {
   "cell_type": "markdown",
   "metadata": {},
   "source": [
    "The fields in the beginning are self-explanatory. You can remove any comments that start with `--`. \n",
    "\n",
    "The name of your project is set to the name of the folder on which you created the project. "
   ]
  },
  {
   "cell_type": "markdown",
   "metadata": {},
   "source": [
    "This name will also be used for the name of the package if you want to build and distribute it. \n",
    "\n",
    "In case a package with the name you set allready exists on Hackage you will be notified. "
   ]
  },
  {
   "cell_type": "markdown",
   "metadata": {},
   "source": [
    "After the intial 5 fields the `extra-source-files` field specifies the file that contains the copyright notice.\n",
    "\n",
    "Then the fields that specify the project folder types are define which also contain build instructions. One of the more often used are:\n",
    "- `executable`: defines data for the exucutable part of project\n",
    "\n",
    "- `library`: defines data for the supporting libraries that the project\n",
    "\n",
    "- `test-suite`: defines data for the testing part of the project"
   ]
  },
  {
   "cell_type": "markdown",
   "metadata": {},
   "source": [
    "The `executable` section first defines the name of the project and then configuration options:\n",
    "- `main-is` defines the haskell file which gets executed when the programm is started (ussually Main.hs). \n",
    "\n",
    "- `build-depends` defines the packages needed to build this project (base package is included by default)\n",
    "\n",
    "- `hs-source-dirs` defines the name of the folder where the main executable file is residing\n",
    "\n",
    "- `default-language` specifies the name of the Haskell release you want to use."
   ]
  },
  {
   "cell_type": "markdown",
   "metadata": {},
   "source": [
    "Also other configuration options can be added to the executable section as:\n",
    "- `import` defines which of the already installed modules to import when compiling the main executable\n",
    "\n",
    "- `ghc-options` defines which compiler flags to use when building this code"
   ]
  },
  {
   "cell_type": "markdown",
   "metadata": {},
   "source": [
    "Cabal supports equality and inequality operators for comparing package versions. \n",
    "\n",
    "For instance when you define the `build-depends` you can set conditions for library versions. "
   ]
  },
  {
   "cell_type": "markdown",
   "metadata": {},
   "source": [
    "You could for instance write: \n",
    "```\n",
    "build-depends: base ^>=4.14.3.0\n",
    "```"
   ]
  },
  {
   "cell_type": "markdown",
   "metadata": {},
   "source": [
    "The carrot operator `^` is used to treat `^>= x.y.z` as identical to `>= x.y.z && < x.(y + 1)`. \n",
    "\n",
    "So in our case we could write the above statement also as: \n",
    "```\n",
    "base >= 4.14.3.0 && < 4.15\n",
    "``` "
   ]
  },
  {
   "cell_type": "markdown",
   "metadata": {},
   "source": [
    "For the `library` and `test-suite` sections same options and rules apply as for the `executable` section.\n",
    "\n",
    "Common folder naming practices for sections are:\n",
    "- `src` or `lib` for `library` section\n",
    "\n",
    "- `test` for `test-suite` section"
   ]
  },
  {
   "cell_type": "markdown",
   "metadata": {},
   "source": [
    "**Building and running your project**\n",
    "\n",
    "All the command in this section need to be performed inside the project folder at the top level."
   ]
  },
  {
   "cell_type": "markdown",
   "metadata": {},
   "source": [
    "To build your project, you run the command:\n",
    "```\n",
    "cabal build\n",
    "```"
   ]
  },
  {
   "cell_type": "markdown",
   "metadata": {},
   "source": [
    "To run your project, you run the command:\n",
    "```\n",
    "cabal exec project_name\n",
    "```"
   ]
  },
  {
   "cell_type": "markdown",
   "metadata": {},
   "source": [
    "You can do both actions also with one command:\n",
    "```\n",
    "cabal run\n",
    "```"
   ]
  },
  {
   "cell_type": "markdown",
   "metadata": {},
   "source": [
    "## That's it for today!"
   ]
  }
 ],
 "metadata": {
  "kernelspec": {
   "display_name": "Haskell",
   "language": "haskell",
   "name": "haskell"
  },
  "language_info": {
   "codemirror_mode": "ihaskell",
   "file_extension": ".hs",
   "mimetype": "text/x-haskell",
   "name": "haskell",
   "pygments_lexer": "Haskell",
   "version": "8.10.7"
  }
 },
 "nbformat": 4,
 "nbformat_minor": 4
}
