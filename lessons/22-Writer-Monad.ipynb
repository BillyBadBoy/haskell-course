{
 "cells": [
  {
   "cell_type": "markdown",
   "metadata": {},
   "source": [
    "# Writer Monad"
   ]
  },
  {
   "cell_type": "markdown",
   "metadata": {},
   "source": [
    "## Outline\n",
    "\n",
    "* Incentive for the Writer monad\n",
    "\n",
    "* The Writer monad\n",
    "  - Definition of the Writer monad\n",
    "  \n",
    "  - Helper functions\n",
    "  \n",
    "  - MonadWriter type class\n",
    "  \n",
    "  - Simple example\n",
    "\n",
    "* Writer monad examples"
   ]
  },
  {
   "cell_type": "markdown",
   "metadata": {},
   "source": [
    "In this lesson, we will learn about the Writer monad type and how you can use it. First we present the reason why introducing the Writer monad. Then we show the Writer monad definition and helper functions. We also look at the `MonadWriter` type class and in the end show some code examples that use the Writer monad."
   ]
  },
  {
   "cell_type": "markdown",
   "metadata": {},
   "source": [
    "## Incentive for Writer monad"
   ]
  },
  {
   "cell_type": "markdown",
   "metadata": {},
   "source": [
    "In the previous lecture we learned that with the Reader monad we can more easily pass data around by accessing the environment variable of the Reader monad. \n",
    "\n",
    "But what if instead of reading that data we want to append data to our environment variable?"
   ]
  },
  {
   "cell_type": "markdown",
   "metadata": {},
   "source": [
    "Let's look at an example ... TODO"
   ]
  },
  {
   "cell_type": "code",
   "execution_count": null,
   "metadata": {},
   "outputs": [],
   "source": []
  },
  {
   "cell_type": "markdown",
   "metadata": {},
   "source": [
    "For this reason the **Writer monad** was created that allows you to pass data in the background between different Writer monads and also update it. "
   ]
  },
  {
   "cell_type": "markdown",
   "metadata": {},
   "source": [
    "## The Writer monad"
   ]
  },
  {
   "cell_type": "markdown",
   "metadata": {},
   "source": [
    "### Definition of the Writer monad"
   ]
  },
  {
   "cell_type": "markdown",
   "metadata": {},
   "source": [
    "The Haskell definition of the `Writer` type is defined in terms of the `WriterT` monad transformer:\n",
    "```haskell\n",
    "type Writer w = WriterT w Identity\n",
    "```"
   ]
  },
  {
   "cell_type": "markdown",
   "metadata": {},
   "source": [
    "It is contained in the **Control.Monad.Trans.Writer** module that comes with the **transformers** package. \n",
    "\n",
    "As said in the previous lesson we will learn about Monad transformers in lesson 25."
   ]
  },
  {
   "cell_type": "markdown",
   "metadata": {},
   "source": [
    "You can also define the Writer monad without using a monad transformer that works equally as the one above. \n",
    "\n",
    "Also in this lesson will chose this aproach. Let's first look at the definition of the **Writer** type:\n",
    "```haskell\n",
    "newtype Writer w a = Writer {runWriter :: (a,w)}\n",
    "```"
   ]
  },
  {
   "cell_type": "markdown",
   "metadata": {},
   "source": [
    "We see that the `Writer` data constructor holds a variable that can be accessed with the name `runWriter`.\n",
    "\n",
    "The variable is a tuple of type `(a,w)`."
   ]
  },
  {
   "cell_type": "markdown",
   "metadata": {},
   "source": [
    "We can now create a Monad instance for `Writer w` and not just `Writer`.\n",
    "\n",
    "This means the type of our writing variable will remain the same as we compose our function with `(>>=)`.\n",
    "```haskell\n",
    "(>>=) :: Writer w a        ->\n",
    "         (a -> Writer w b) ->\n",
    "         Writer w b\n",
    "```"
   ]
  },
  {
   "cell_type": "markdown",
   "metadata": {},
   "source": [
    "The monad instance for `Writer w` would be:\n",
    "```haskell\n",
    "instance (Monoid w) => Monad (Writer w) where\n",
    "    return a             = Writer (a, mempty)\n",
    "    (Writer (a,w)) >>= f = let (a',w') = runWriter $ f a \n",
    "                           in Writer (a', w `mappend` w')\n",
    "```"
   ]
  },
  {
   "cell_type": "markdown",
   "metadata": {},
   "source": [
    "We also need to define the Functor and Applicative instances.\n",
    "```haskell\n",
    "instance Functor (Writer w) where\n",
    "fmap f (Writer (a,w)) = Writer (f a, w)\n",
    "\n",
    "instance (Monoid w) => Applicative (Writer w) where\n",
    "pure a = Writer (a, mempty)\n",
    "(Writer (f,w)) <*> (Writer (a,w')) =  \n",
    "    let b = f a\n",
    "    in Writer (b, w `mappend` w')\n",
    "```"
   ]
  },
  {
   "cell_type": "markdown",
   "metadata": {},
   "source": [
    "### Helper functions"
   ]
  },
  {
   "cell_type": "markdown",
   "metadata": {},
   "source": [
    "The **Control.Monad.Trans.Writer** module also defines some helper functions for the Writer moand. \n",
    "\n",
    "You have the option to import this module as a lazy or a strict module by appending **.Lazy** or **.Strict** to the module name."
   ]
  },
  {
   "cell_type": "markdown",
   "metadata": {},
   "source": [
    "The `tell` function appends data to the writer variable. It is used inside of the Writer monad.\n",
    "```haskell\n",
    "tell :: Monoid w => w -> Writer w ()\n",
    "tell msg = Writer ((),msg)\n",
    "```"
   ]
  },
  {
   "cell_type": "markdown",
   "metadata": {},
   "source": [
    "The `writer` function does the oposite as the `runWriter` function. It takes a tuple and creates a Writer monad.\n",
    "```haskell\n",
    "writer :: Monoid w => (a,w) -> Writer w a\n",
    "writer ~(a, w) = do\n",
    "    tell w\n",
    "    return a\n",
    "```"
   ]
  },
  {
   "cell_type": "markdown",
   "metadata": {},
   "source": [
    "The `listen` function retrieves the writer variable and the variable of type `a` from the Writer monad.\n",
    "```haskell\n",
    "listen :: Monoid w => Writer w a -> Writer w (a, w)\n",
    "listen (Writer (a,w)) = Writer ((a,w),w)\n",
    "```"
   ]
  },
  {
   "cell_type": "markdown",
   "metadata": {},
   "source": [
    "It can be used inside or outside of a Writer Monad. To get both variable you also need to use the `<-` oprator that takes variables out of the monadic context.\n",
    "```haskell\n",
    "(a,w) <- listen writerMonad\n",
    "```"
   ]
  },
  {
   "cell_type": "markdown",
   "metadata": {},
   "source": [
    "The `pass` function takes in a Writer monad that holds a function which then gets applied to the writer variable and the updated Writer monad is returned. \n",
    "```haskell\n",
    "pass :: Monoid w => Writer (a, w -> w) -> Writer w a\n",
    "pass (Writer ((a,f),w)) = Writer (a,f w)\n",
    "```"
   ]
  },
  {
   "cell_type": "markdown",
   "metadata": {},
   "source": [
    "It can be used inside our outside or a Writer monad. "
   ]
  },
  {
   "cell_type": "markdown",
   "metadata": {},
   "source": [
    "The `listens` function takes in a function and a writer monad. Then it applies the function to the writer variable and returns the updated writer monad.\n",
    "```haskell\n",
    "listens :: Monoid w => (w -> b) -> Writer w a -> Writer w (a, b)\n",
    "listens f writerMonad = do\n",
    "    ~(a, w) <- listen writerMonad\n",
    "    return (a, f w)\n",
    "```"
   ]
  },
  {
   "cell_type": "markdown",
   "metadata": {},
   "source": [
    "The tilde `~` sign in this expression means ... TODO"
   ]
  },
  {
   "cell_type": "markdown",
   "metadata": {},
   "source": [
    "The `censor` function takes in a function and a writer monad and applies this function to the writer variable to update the writer monad.\n",
    "```haskell\n",
    "censor :: Monoid w => (w -> w) -> Writer w a -> Writer w a\n",
    "censor f writerMonad = pass $ do\n",
    "    a <- writerMonad\n",
    "    return (a, f)\n",
    "```"
   ]
  },
  {
   "cell_type": "markdown",
   "metadata": {},
   "source": [
    "### MonadWriter type class"
   ]
  },
  {
   "cell_type": "markdown",
   "metadata": {},
   "source": [
    "The Writer monad and the helper functions presented in the previous two chapters can be also found in the **Control.Monad.Writer** module.\n",
    "\n",
    "This module is part of the **mtl** package that as said in the previous chapter is extending the **transformers** package."
   ]
  },
  {
   "cell_type": "markdown",
   "metadata": {},
   "source": [
    "The module defines the `MonadWriter` type class that contains the functions `writer`, `tell`, `listen` and `pass`.\n",
    "\n",
    "They are equivalent to the functions describer in the previous chapter."
   ]
  },
  {
   "cell_type": "markdown",
   "metadata": {},
   "source": [
    "```haskell\n",
    "class (Monoid w, Monad m) => MonadWriter w m | m -> w where\n",
    "    writer :: (a,w) -> m a\n",
    "    writer ~(a, w) = do\n",
    "      tell w\n",
    "      return a\n",
    "\n",
    "    tell   :: w -> m ()\n",
    "    tell w = writer ((),w)\n",
    "\n",
    "    listen :: m a -> m (a, w)\n",
    "\n",
    "    pass   :: m (a, w -> w) -> m a\n",
    "    {-# MINIMAL (writer | tell), listen, pass #-}\n",
    "```"
   ]
  },
  {
   "cell_type": "markdown",
   "metadata": {},
   "source": [
    "The minimal complete definition are the `listen`, `pass` and either `writer` or `tell` functions. \n",
    "\n",
    "Same as for the `MonadReader` type classes you need to use also here the *MultiParamTypeClasses* and *FunctionalDependencies* language pragma."
   ]
  },
  {
   "cell_type": "markdown",
   "metadata": {},
   "source": [
    "For our Writer monad we could write an instance of the `MonadWriter` type class as:\n",
    "```haskell\n",
    "instance (Monoid w) => MonadWriter w (Writer w) where\n",
    "    pass :: Monoid w => Writer w (a, w -> w) -> Writer w a\n",
    "    pass (Writer ((a,f),w)) = Writer (a,f w)\n",
    "\n",
    "    listen :: Monoid w => Writer w a -> Writer w (a, w)\n",
    "    listen (Writer (a,w)) = Writer ((a,w),w)\n",
    "    \n",
    "    tell :: Monoid w => w -> Writer w ()\n",
    "    tell msg = Writer ((),msg)\n",
    "```"
   ]
  },
  {
   "cell_type": "markdown",
   "metadata": {},
   "source": [
    "Also here you would need to include the language pragmas *FlexibleInstances* and *InstanceSigs*.\n",
    "\n",
    "What all four language pragmas do was already explained in the Reader monad lesson. "
   ]
  },
  {
   "cell_type": "markdown",
   "metadata": {},
   "source": [
    "### Simple example"
   ]
  },
  {
   "cell_type": "markdown",
   "metadata": {},
   "source": [
    "Here is a simple Writer monad example that uses the `tell` and `runWriter` functions."
   ]
  },
  {
   "cell_type": "code",
   "execution_count": null,
   "metadata": {},
   "outputs": [],
   "source": [
    "import Control.Monad.Writer\n",
    "\n",
    "logAge :: Int -> Writer [String] Int  \n",
    "logAge x = do\n",
    "    tell [\"Age is: \" ++ show x]\n",
    "    return x            \n",
    "      \n",
    "sumAge :: Writer [String] Int  \n",
    "sumAge = do  \n",
    "    a <- logAge 16  \n",
    "    b <- logAge 18\n",
    "    tell [\"Summed age is: \" ++ (show $ a + b)]\n",
    "    return (a + b)\n",
    "\n",
    "main :: IO ()\n",
    "main = do\n",
    "    let (age, messages) = runWriter sumAge\n",
    "    mapM_ putStrLn messages\n",
    "\n",
    "main"
   ]
  },
  {
   "cell_type": "markdown",
   "metadata": {},
   "source": [
    "We see that every time we use the `tell` function the value gets appended to the first parameter of the Writer monad. \n",
    "\n",
    "The type of the parameter which is in our case a list has to have an instance of the **Monoid** type class, which lists have."
   ]
  },
  {
   "cell_type": "markdown",
   "metadata": {},
   "source": [
    "## Writer monad examples"
   ]
  },
  {
   "cell_type": "markdown",
   "metadata": {},
   "source": [
    "Let's look at an example where we use also the `listen` function that enables us to retrieve the logs from the Writer monad."
   ]
  },
  {
   "cell_type": "code",
   "execution_count": null,
   "metadata": {},
   "outputs": [],
   "source": [
    "type Adding a = Writer [String] a\n",
    "\n",
    "logMsg :: String -> Adding ()\n",
    "logMsg msg = tell [msg]\n",
    "\n",
    "add1 :: Int -> Adding Int\n",
    "add1 x = do\n",
    "    logMsg \"Starting add1.\"\n",
    "    let y = x + 1\n",
    "    logMsg $ \"Computed result: \" ++ show y\n",
    "    return y\n",
    "\n",
    "start :: Int -> Adding Int\n",
    "start x = do\n",
    "    (n, logs) <- listen $ add1 x\n",
    "    let logLines = length logs\n",
    "    logMsg $ \"add1 logged \" ++ show logLines ++ \" lines\"\n",
    "    return $ n\n",
    "\n",
    "main :: IO ()\n",
    "main = do\n",
    "    print \"Input an integer number:\"\n",
    "    n <- (read <$> getLine) :: IO Int\n",
    "    let (result, logs) = runWriter $ start n\n",
    "    print $ \"Result is: \" ++ show result\n",
    "    putStrLn \"Logs are: \"\n",
    "    mapM_ print logs\n",
    "\n",
    "main"
   ]
  },
  {
   "cell_type": "markdown",
   "metadata": {},
   "source": [
    "In the final example we demonstrate how the `pass` function works. We use the code from the simple example chapter that we modify a bit."
   ]
  },
  {
   "cell_type": "code",
   "execution_count": null,
   "metadata": {},
   "outputs": [],
   "source": [
    "logAge :: Int -> Writer [String] Int  \n",
    "logAge x = do\n",
    "    tell [\"Age is: \" ++ show x]\n",
    "    return x            \n",
    "      \n",
    "sumAge :: Writer [String] (Int, [String] -> [String])\n",
    "sumAge = do  \n",
    "    a <- logAge 16  \n",
    "    b <- logAge 18\n",
    "    tell [\"Summed age is: \" ++ (show $ a + b)]\n",
    "    return (a + b,transform)\n",
    "\n",
    "process :: Writer [String] Int\n",
    "process = do\n",
    "    pass sumAge\n",
    "\n",
    "transform :: [String] -> [String]\n",
    "transform list = map (\"NOTE: \" ++) list\n",
    "\n",
    "main :: IO ()\n",
    "main = do\n",
    "    let (age, messages) = runWriter process\n",
    "    mapM_ putStrLn messages\n",
    "    \n",
    "main"
   ]
  },
  {
   "cell_type": "markdown",
   "metadata": {},
   "source": [
    "Note how we also had to change the type signature of the `sumAge` writer monad to include the `transform` functions type signature."
   ]
  },
  {
   "cell_type": "markdown",
   "metadata": {},
   "source": [
    "## Recap"
   ]
  },
  {
   "cell_type": "markdown",
   "metadata": {},
   "source": [
    "In this lesson we've discussed:\n",
    "\n",
    "- the motivation for introducing the Writer monad \n",
    "\n",
    "- the definition of the Writer monad type\n",
    "\n",
    "- helper functions that work with the Writer monad\n",
    "\n",
    "- examples that use the Writer monad type and its helper functions"
   ]
  }
 ],
 "metadata": {
  "kernelspec": {
   "display_name": "Haskell",
   "language": "haskell",
   "name": "haskell"
  },
  "language_info": {
   "codemirror_mode": "ihaskell",
   "file_extension": ".hs",
   "mimetype": "text/x-haskell",
   "name": "haskell",
   "pygments_lexer": "Haskell",
   "version": "8.10.7"
  }
 },
 "nbformat": 4,
 "nbformat_minor": 4
}
