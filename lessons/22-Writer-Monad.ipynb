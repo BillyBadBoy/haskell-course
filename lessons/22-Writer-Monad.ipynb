{
 "cells": [
  {
   "cell_type": "markdown",
   "metadata": {},
   "source": [
    "# Writer Monad"
   ]
  },
  {
   "cell_type": "markdown",
   "metadata": {},
   "source": [
    "## Outline\n",
    "\n",
    "* Incentive for the Writer monad\n",
    "\n",
    "* The Writer monad\n",
    "  - Definition of the Writer monad\n",
    "  \n",
    "  - Helper functions\n",
    "  \n",
    "  - MonadWriter type class\n",
    "  \n",
    "  - Simple example\n",
    "\n",
    "* Writer monad examples"
   ]
  },
  {
   "cell_type": "markdown",
   "metadata": {},
   "source": [
    "In this lesson, we will learn about the Writer monad type and how you can use it. First we present the reason why introducing the Writer monad. Then we show the Writer monad definition and helper functions. We also look at the `MonadWriter` type class and in the end show some code examples that use the Writer monad."
   ]
  },
  {
   "cell_type": "markdown",
   "metadata": {},
   "source": [
    "## Incentive for Writer monad"
   ]
  },
  {
   "cell_type": "markdown",
   "metadata": {},
   "source": [
    "In the previous lecture we learned that with the Reader monad we can more easily pass data around by accessing the environment variable of the Reader monad. \n",
    "\n",
    "But what if instead of reading that data we want to append data to our environment variable?"
   ]
  },
  {
   "cell_type": "markdown",
   "metadata": {},
   "source": [
    "Let's look at an example program that asks the user for a password and perorms four checks:\n",
    "- check1: Does the password have any duplicate letters (lower-upper case does not make a difference)\n",
    "\n",
    "- check2: Is the password at least 10 characters long.\n",
    "\n",
    "- check3: Are any symbols included in the password.\n",
    "\n",
    "- check4: Is there at least one upper case and one lower case letter in the password."
   ]
  },
  {
   "cell_type": "markdown",
   "metadata": {},
   "source": [
    "In case one of the checks is not satisfied the program updates the password so that it passes the check.\n",
    "\n",
    "If the update could influence a previous check the program performs it again."
   ]
  },
  {
   "cell_type": "markdown",
   "metadata": {},
   "source": [
    "The program keeps also track of performed checks. Once the recursion limit of 20 checks is passed the checks stop. \n",
    "\n",
    "After that the program asks the user to provide a new password to be checked again. "
   ]
  },
  {
   "cell_type": "code",
   "execution_count": null,
   "metadata": {},
   "outputs": [],
   "source": [
    "import Data.Char (toLower, toUpper)\n",
    "\n",
    "type Password = String\n",
    "type OperationsCount = Int\n",
    "type CheckData = (OperationsCount, Password)\n",
    "\n",
    "-- Removes duplicated characters\n",
    "check1 :: CheckData -> CheckData\n",
    "check1 (count,password) = if count > 20\n",
    "    then (count + 1, \"\")\n",
    "    else check2 (count + 1, filterPass password)\n",
    "  where filterPass [] = []\n",
    "        filterPass (x:xs) = x : filterPass (filter (filterFunc x) xs)\n",
    "        filterFunc x = \\char -> char `notElem` [toLower x,toUpper x]\n",
    "\n",
    "-- Checks that the length of the password is not to small\n",
    "check2 :: CheckData -> CheckData\n",
    "check2 (count,password) = \n",
    "  if length password < 10\n",
    "  then check1 (count + 1, extendedPassword)\n",
    "  else check3 (count + 1, password)\n",
    "  where shortage = 10 - length password\n",
    "        passwordExtension = take shortage (drop count $ cycle allLetters)\n",
    "        extendedPassword = password ++ passwordExtension\n",
    "\n",
    "-- Checks if symbols are included\n",
    "check3 :: CheckData -> CheckData\n",
    "check3 (count,password) = if noSymbols\n",
    "    then check4 (count + 1, extendedPassword)\n",
    "    else check4 (count + 1, password)\n",
    "  where noSymbols = all (`elem` allLetters) password\n",
    "        passwordExtension = take 1 (drop count \"@!#$%&()?=\")\n",
    "        extendedPassword = password ++ passwordExtension\n",
    "\n",
    "-- Checks there are at least 1 upper and 1 smaller letters\n",
    "check4 :: CheckData -> CheckData\n",
    "check4 (count,password)  \n",
    "  | allLower = check1 (count + 1, upperExtendedPassword)\n",
    "  | allUpper = check1 (count + 1, lowerExtendedPassword)\n",
    "  | otherwise = (count + 1, password)\n",
    "  where allLower = password == map toLower password\n",
    "        allUpper = password == map toUpper password\n",
    "        upperExtendedPassword = password ++ take 1 (drop count $ cycle upperLetters)\n",
    "        lowerExtendedPassword = password ++ take 1 (drop count $ cycle lowerLetters)\n",
    "\n",
    "lowerLetters :: String\n",
    "lowerLetters = \"abcdefghijklmnopqrstuvwxyz\"\n",
    "\n",
    "upperLetters :: String\n",
    "upperLetters = \"ABCDEFGHIJKLMNOPQRSTUVWXZY\"\n",
    "\n",
    "allLetters :: String\n",
    "allLetters = lowerLetters ++ upperLetters\n",
    "\n",
    "main :: IO ()\n",
    "main = do\n",
    "  putStrLn \"Please input a password:\"\n",
    "  password <- getLine\n",
    "  if null password\n",
    "  then main\n",
    "  else do\n",
    "    let (count, checkedPassword) = check1 (0,password)\n",
    "    if count > 10\n",
    "    then do\n",
    "      putStrLn \"Hit recursion limit of 10 password checks. Please try again.\"\n",
    "      main\n",
    "    else do\n",
    "      putStrLn $ \"Performed \" ++ show count ++ \" password checks.\"\n",
    "      if password == checkedPassword\n",
    "      then putStrLn \"Password satisfies all criteria.\"\n",
    "      else do\n",
    "        putStrLn \"Password does not satisfies all criteria.\"\n",
    "        putStrLn $ \"Suggested password modifications: \" ++ checkedPassword\n",
    "\n",
    "main"
   ]
  },
  {
   "cell_type": "markdown",
   "metadata": {},
   "source": [
    "Our program is fairly simple because it passes around only a tuple of two basic data types. \n",
    "\n",
    "Passing larger data around and updating it can get even more tedious when programs get bigger. "
   ]
  },
  {
   "cell_type": "markdown",
   "metadata": {},
   "source": [
    "For this reason the **Writer monad** was created that allows you to pass data in the background between different Writer monads and also update it. "
   ]
  },
  {
   "cell_type": "markdown",
   "metadata": {},
   "source": [
    "## The Writer monad"
   ]
  },
  {
   "cell_type": "markdown",
   "metadata": {},
   "source": [
    "### Definition of the Writer monad"
   ]
  },
  {
   "cell_type": "markdown",
   "metadata": {},
   "source": [
    "The Haskell definition of the `Writer` type is defined in terms of the `WriterT` monad transformer:\n",
    "```haskell\n",
    "type Writer w = WriterT w Identity\n",
    "```"
   ]
  },
  {
   "cell_type": "markdown",
   "metadata": {},
   "source": [
    "It is contained in the **Control.Monad.Trans.Writer** module that comes with the **transformers** package. \n",
    "\n",
    "As said in the previous lesson we will learn about Monad transformers in lesson 25."
   ]
  },
  {
   "cell_type": "markdown",
   "metadata": {},
   "source": [
    "You can also define the Writer monad without using a monad transformer that works equally as the one above. \n",
    "\n",
    "Also in this lesson will chose this aproach. Let's first look at the definition of the **Writer** type:\n",
    "```haskell\n",
    "newtype Writer w a = Writer {runWriter :: (a,w)}\n",
    "```"
   ]
  },
  {
   "cell_type": "markdown",
   "metadata": {},
   "source": [
    "We see that the `Writer` data constructor holds a variable that can be accessed with the name `runWriter`.\n",
    "\n",
    "The variable is a tuple of type `(a,w)`."
   ]
  },
  {
   "cell_type": "markdown",
   "metadata": {},
   "source": [
    "We can now create a Monad instance for `Writer w` and not just `Writer`.\n",
    "\n",
    "This means the type of our writing variable will remain the same as we compose our function with `(>>=)`.\n",
    "```haskell\n",
    "(>>=) :: Writer w a        ->\n",
    "         (a -> Writer w b) ->\n",
    "         Writer w b\n",
    "```"
   ]
  },
  {
   "cell_type": "markdown",
   "metadata": {},
   "source": [
    "The monad instance for `Writer w` would be:\n",
    "```haskell\n",
    "instance (Monoid w) => Monad (Writer w) where\n",
    "    return a             = Writer (a, mempty)\n",
    "    (Writer (a,w)) >>= f = let (a',w') = runWriter $ f a \n",
    "                           in Writer (a', w `mappend` w')\n",
    "```"
   ]
  },
  {
   "cell_type": "markdown",
   "metadata": {},
   "source": [
    "We also need to define the Functor and Applicative instances.\n",
    "```haskell\n",
    "instance Functor (Writer w) where\n",
    "fmap f (Writer (a,w)) = Writer (f a, w)\n",
    "\n",
    "instance (Monoid w) => Applicative (Writer w) where\n",
    "pure a = Writer (a, mempty)\n",
    "(Writer (f,w)) <*> (Writer (a,w')) =  \n",
    "    let b = f a\n",
    "    in Writer (b, w `mappend` w')\n",
    "```"
   ]
  },
  {
   "cell_type": "markdown",
   "metadata": {},
   "source": [
    "### Helper functions"
   ]
  },
  {
   "cell_type": "markdown",
   "metadata": {},
   "source": [
    "The **Control.Monad.Trans.Writer** module also defines some helper functions for the Writer moand. \n",
    "\n",
    "You have the option to import this module as a lazy or a strict module by appending **.Lazy** or **.Strict** to the module name."
   ]
  },
  {
   "cell_type": "markdown",
   "metadata": {},
   "source": [
    "The `tell` function appends data to the writer variable. It is used inside of the Writer monad.\n",
    "```haskell\n",
    "tell :: Monoid w => w -> Writer w ()\n",
    "tell msg = Writer ((),msg)\n",
    "```"
   ]
  },
  {
   "cell_type": "markdown",
   "metadata": {},
   "source": [
    "The `writer` function does the oposite as the `runWriter` function. It takes a tuple and creates a Writer monad.\n",
    "```haskell\n",
    "writer :: Monoid w => (a,w) -> Writer w a\n",
    "writer ~(a, w) = do\n",
    "    tell w\n",
    "    return a\n",
    "```"
   ]
  },
  {
   "cell_type": "markdown",
   "metadata": {},
   "source": [
    "The `listen` function retrieves the writer variable and the variable of type `a` from the Writer monad.\n",
    "```haskell\n",
    "listen :: Monoid w => Writer w a -> Writer w (a, w)\n",
    "listen (Writer (a,w)) = Writer ((a,w),w)\n",
    "```"
   ]
  },
  {
   "cell_type": "markdown",
   "metadata": {},
   "source": [
    "It can be used inside or outside of a Writer Monad. To get both variable you also need to use the `<-` oprator that takes variables out of the monadic context.\n",
    "```haskell\n",
    "(a,w) <- listen writerMonad\n",
    "```"
   ]
  },
  {
   "cell_type": "markdown",
   "metadata": {},
   "source": [
    "The `pass` function takes in a Writer monad that holds a function which then gets applied to the writer variable and the updated Writer monad is returned. \n",
    "```haskell\n",
    "pass :: Monoid w => Writer (a, w -> w) -> Writer w a\n",
    "pass (Writer ((a,f),w)) = Writer (a,f w)\n",
    "```"
   ]
  },
  {
   "cell_type": "markdown",
   "metadata": {},
   "source": [
    "It can be used inside our outside or a Writer monad. "
   ]
  },
  {
   "cell_type": "markdown",
   "metadata": {},
   "source": [
    "The `listens` function takes in a function and a writer monad. Then it applies the function to the writer variable and returns the updated writer monad.\n",
    "```haskell\n",
    "listens :: Monoid w => (w -> b) -> Writer w a -> Writer w (a, b)\n",
    "listens f writerMonad = do\n",
    "    ~(a, w) <- listen writerMonad\n",
    "    return (a, f w)\n",
    "```"
   ]
  },
  {
   "cell_type": "markdown",
   "metadata": {},
   "source": [
    "The tilde `~` sign in this expression means ... TODO"
   ]
  },
  {
   "cell_type": "markdown",
   "metadata": {},
   "source": [
    "The `censor` function takes in a function and a writer monad and applies this function to the writer variable to update the writer monad.\n",
    "```haskell\n",
    "censor :: Monoid w => (w -> w) -> Writer w a -> Writer w a\n",
    "censor f writerMonad = pass $ do\n",
    "    a <- writerMonad\n",
    "    return (a, f)\n",
    "```"
   ]
  },
  {
   "cell_type": "markdown",
   "metadata": {},
   "source": [
    "### MonadWriter type class"
   ]
  },
  {
   "cell_type": "markdown",
   "metadata": {},
   "source": [
    "The Writer monad and the helper functions presented in the previous two chapters can be also found in the **Control.Monad.Writer** module.\n",
    "\n",
    "This module is part of the **mtl** package that as said in the previous chapter is extending the **transformers** package."
   ]
  },
  {
   "cell_type": "markdown",
   "metadata": {},
   "source": [
    "The module defines the `MonadWriter` type class that contains the functions `writer`, `tell`, `listen` and `pass`.\n",
    "\n",
    "They are equivalent to the functions describer in the previous chapter."
   ]
  },
  {
   "cell_type": "markdown",
   "metadata": {},
   "source": [
    "```haskell\n",
    "class (Monoid w, Monad m) => MonadWriter w m | m -> w where\n",
    "    writer :: (a,w) -> m a\n",
    "    writer ~(a, w) = do\n",
    "      tell w\n",
    "      return a\n",
    "\n",
    "    tell   :: w -> m ()\n",
    "    tell w = writer ((),w)\n",
    "\n",
    "    listen :: m a -> m (a, w)\n",
    "\n",
    "    pass   :: m (a, w -> w) -> m a\n",
    "    {-# MINIMAL (writer | tell), listen, pass #-}\n",
    "```"
   ]
  },
  {
   "cell_type": "markdown",
   "metadata": {},
   "source": [
    "The minimal complete definition are the `listen`, `pass` and either `writer` or `tell` functions. \n",
    "\n",
    "Same as for the `MonadReader` type classes you need to use also here the *MultiParamTypeClasses* and *FunctionalDependencies* language pragma."
   ]
  },
  {
   "cell_type": "markdown",
   "metadata": {},
   "source": [
    "For our Writer monad we could write an instance of the `MonadWriter` type class as:\n",
    "```haskell\n",
    "instance (Monoid w) => MonadWriter w (Writer w) where\n",
    "    pass :: Monoid w => Writer w (a, w -> w) -> Writer w a\n",
    "    pass (Writer ((a,f),w)) = Writer (a,f w)\n",
    "\n",
    "    listen :: Monoid w => Writer w a -> Writer w (a, w)\n",
    "    listen (Writer (a,w)) = Writer ((a,w),w)\n",
    "    \n",
    "    tell :: Monoid w => w -> Writer w ()\n",
    "    tell msg = Writer ((),msg)\n",
    "```"
   ]
  },
  {
   "cell_type": "markdown",
   "metadata": {},
   "source": [
    "Also here you would need to include the language pragmas *FlexibleInstances* and *InstanceSigs*.\n",
    "\n",
    "What all four language pragmas do was already explained in the Reader monad lesson. "
   ]
  },
  {
   "cell_type": "markdown",
   "metadata": {},
   "source": [
    "### Simple example"
   ]
  },
  {
   "cell_type": "markdown",
   "metadata": {},
   "source": [
    "Here is a simple Writer monad example that uses the `tell` and `runWriter` functions."
   ]
  },
  {
   "cell_type": "code",
   "execution_count": null,
   "metadata": {},
   "outputs": [],
   "source": [
    "import Control.Monad.Writer\n",
    "\n",
    "logAge :: Int -> Writer [String] Int  \n",
    "logAge x = do\n",
    "    tell [\"Age is: \" ++ show x]\n",
    "    return x            \n",
    "      \n",
    "sumAge :: Writer [String] Int  \n",
    "sumAge = do  \n",
    "    a <- logAge 16  \n",
    "    b <- logAge 18\n",
    "    tell [\"Summed age is: \" ++ (show $ a + b)]\n",
    "    return (a + b)\n",
    "\n",
    "main :: IO ()\n",
    "main = do\n",
    "    let (age, messages) = runWriter sumAge\n",
    "    mapM_ putStrLn messages\n",
    "\n",
    "main"
   ]
  },
  {
   "cell_type": "markdown",
   "metadata": {},
   "source": [
    "We see that every time we use the `tell` function the value gets appended to the first parameter of the Writer monad. \n",
    "\n",
    "The type of the parameter which is in our case a list has to have an instance of the **Monoid** type class, which lists have."
   ]
  },
  {
   "cell_type": "markdown",
   "metadata": {},
   "source": [
    "## Writer monad examples"
   ]
  },
  {
   "cell_type": "markdown",
   "metadata": {},
   "source": [
    "Let's implement the example from the first chapter with the use of the Writer monad."
   ]
  },
  {
   "cell_type": "code",
   "execution_count": null,
   "metadata": {},
   "outputs": [],
   "source": [
    "instance Semigroup Int where\n",
    "  a <> b = a + b\n",
    "\n",
    "instance Monoid Int where\n",
    "  mempty = 0\n",
    "\n",
    "check1' :: String -> (Int, String)\n",
    "check1' input = if length input < 5\n",
    "  then swap $ runWriter $ do\n",
    "    tell 1\n",
    "    check2' $ input ++ \"_below5\"\n",
    "  else swap $ runWriter $ do\n",
    "    tell 1\n",
    "    check3' $ input ++ \"_above4\"\n",
    "  where swap (x,y) = (y,x)\n",
    "\n",
    "check2' :: String -> Writer Int String\n",
    "check2' input = if length input < 10\n",
    "  then do\n",
    "    return input\n",
    "  else do\n",
    "    tell 1\n",
    "    return $ input ++ \"_above9\"\n",
    "\n",
    "check3' :: String -> Writer Int String\n",
    "check3' input = if length input < 16\n",
    "  then do\n",
    "    tell 1\n",
    "    check2' $ removeFirst4 input\n",
    "  else do\n",
    "    tell 1\n",
    "    check4' $ input ++ \"_above15\"\n",
    "  where removeFirst4 xs = [(!! id) xs | id <- [3..((length xs) - 1)]]\n",
    "\n",
    "check4' :: String -> Writer Int String\n",
    "check4' input = if length input < 10\n",
    "  then do\n",
    "    tell 1\n",
    "    return $ input ++ \"_above29\"\n",
    "  else do\n",
    "    tell 1\n",
    "    return $ input ++ \"_below30\"\n",
    "\n",
    "main :: IO ()\n",
    "main = do\n",
    "  let (count1, result1) = check1' \"test\"\n",
    "  print \"Processing word: test\"\n",
    "  print $ \"Operations performed: \" ++ show count1\n",
    "  print $ \"Final result: \" ++ result1\n",
    "  print \"------------------------\"\n",
    "  let (count2, result2) = check1' \"testing\"\n",
    "  print \"Processing word: testing\"\n",
    "  print $ \"Operations performed: \" ++ show count2\n",
    "  print $ \"Final result: \" ++ result2\n",
    "\n",
    "main"
   ]
  },
  {
   "cell_type": "markdown",
   "metadata": {},
   "source": [
    "Since the type of the write parameter has to have an instance of Monoid we implement it in the begining for `Int`. \n",
    "\n",
    "After that we define the check functions similar as in the previous example where we use the `tell` function to keep track of the operations we have performed. "
   ]
  },
  {
   "cell_type": "markdown",
   "metadata": {},
   "source": [
    "Here is another example where we use also the `listen` function that enables us to retrieve the logs from the Writer monad."
   ]
  },
  {
   "cell_type": "code",
   "execution_count": null,
   "metadata": {},
   "outputs": [],
   "source": [
    "type Adding a = Writer [String] a\n",
    "\n",
    "logMsg :: String -> Adding ()\n",
    "logMsg msg = tell [msg]\n",
    "\n",
    "add1 :: Int -> Adding Int\n",
    "add1 x = do\n",
    "    logMsg \"Starting add1.\"\n",
    "    let y = x + 1\n",
    "    logMsg $ \"Computed result: \" ++ show y\n",
    "    return y\n",
    "\n",
    "start :: Int -> Adding Int\n",
    "start x = do\n",
    "    (n, logs) <- listen $ add1 x\n",
    "    let logLines = length logs\n",
    "    logMsg $ \"add1 logged \" ++ show logLines ++ \" lines\"\n",
    "    return $ n\n",
    "\n",
    "main :: IO ()\n",
    "main = do\n",
    "    print \"Input an integer number:\"\n",
    "    n <- (read <$> getLine) :: IO Int\n",
    "    let (result, logs) = runWriter $ start n\n",
    "    print $ \"Result is: \" ++ show result\n",
    "    putStrLn \"Logs are: \"\n",
    "    mapM_ print logs\n",
    "\n",
    "main"
   ]
  },
  {
   "cell_type": "markdown",
   "metadata": {},
   "source": [
    "In the final example we demonstrate how the `pass` function works. We use the code from the simple example chapter that we modify a bit."
   ]
  },
  {
   "cell_type": "code",
   "execution_count": null,
   "metadata": {},
   "outputs": [],
   "source": [
    "logAge :: Int -> Writer [String] Int  \n",
    "logAge x = do\n",
    "    tell [\"Age is: \" ++ show x]\n",
    "    return x            \n",
    "      \n",
    "sumAge :: Writer [String] (Int, [String] -> [String])\n",
    "sumAge = do  \n",
    "    a <- logAge 16  \n",
    "    b <- logAge 18\n",
    "    tell [\"Summed age is: \" ++ (show $ a + b)]\n",
    "    return (a + b,transform)\n",
    "\n",
    "process :: Writer [String] Int\n",
    "process = do\n",
    "    pass sumAge\n",
    "\n",
    "transform :: [String] -> [String]\n",
    "transform list = map (\"NOTE: \" ++) list\n",
    "\n",
    "main :: IO ()\n",
    "main = do\n",
    "    let (age, messages) = runWriter process\n",
    "    mapM_ putStrLn messages\n",
    "    \n",
    "main"
   ]
  },
  {
   "cell_type": "markdown",
   "metadata": {},
   "source": [
    "Note how we also had to change the type signature of the `sumAge` writer monad to include the `transform` functions type signature."
   ]
  },
  {
   "cell_type": "markdown",
   "metadata": {},
   "source": [
    "## Recap"
   ]
  },
  {
   "cell_type": "markdown",
   "metadata": {},
   "source": [
    "In this lesson we've discussed:\n",
    "\n",
    "- the motivation for introducing the Writer monad \n",
    "\n",
    "- the definition of the Writer monad type\n",
    "\n",
    "- helper functions that work with the Writer monad\n",
    "\n",
    "- examples that use the Writer monad type and its helper functions"
   ]
  }
 ],
 "metadata": {
  "kernelspec": {
   "display_name": "Haskell",
   "language": "haskell",
   "name": "haskell"
  },
  "language_info": {
   "codemirror_mode": "ihaskell",
   "file_extension": ".hs",
   "mimetype": "text/x-haskell",
   "name": "haskell",
   "pygments_lexer": "Haskell",
   "version": "8.10.7"
  }
 },
 "nbformat": 4,
 "nbformat_minor": 4
}
