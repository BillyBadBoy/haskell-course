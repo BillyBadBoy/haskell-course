{
 "cells": [
  {
   "cell_type": "markdown",
   "metadata": {},
   "source": [
    "# Basic I/O"
   ]
  },
  {
   "cell_type": "markdown",
   "metadata": {},
   "source": [
    "## Outline\n",
    "\n",
    "* Intro to impure functions\n",
    "\n",
    "* Basic IO actions\n",
    "  - Printing messages to the user\n",
    "\n",
    "  - Retrieving input data from the user\n",
    "\n",
    "  - Reading from the file system\n",
    "\n",
    "* Composing IO actions\n",
    "\n",
    "* The do block\n",
    "  - Nesting do-blocks\n",
    "\n",
    "* Recap"
   ]
  },
  {
   "cell_type": "markdown",
   "metadata": {},
   "source": [
    "## Pure functions"
   ]
  },
  {
   "cell_type": "markdown",
   "metadata": {},
   "source": [
    "So far, we've been working with pure functions. These functions have no side-efects and (see diagram) take all it's arguments as input and produce a value as an output that depends only on those arguments and the function's logic."
   ]
  },
  {
   "cell_type": "markdown",
   "metadata": {},
   "source": [
    "-- TODO: Diagram --"
   ]
  },
  {
   "cell_type": "markdown",
   "metadata": {},
   "source": [
    "What we mean by input, output, and side-effect is crucial here. A function's input can be only the values we provide as arguments, and a function's output is the value the function returns.\n",
    "\n",
    "For example:"
   ]
  },
  {
   "cell_type": "markdown",
   "metadata": {},
   "source": [
    "-- TODO: add 2 or 3 different functions with its inputs and outputs aligned with the Diagram above --"
   ]
  },
  {
   "cell_type": "markdown",
   "metadata": {},
   "source": [
    "But that begs the question, what if we want to make an interactive program? A website? A game? When we write our program, we have no idea of what the user will do with it. We can't know in advance if a player in our game will move to the left or right, or a user in our website will click in a specific button or not. Those are things that happen while running the program, so there's no way for the programmer to pass them as inputs of a function.\n",
    "\n",
    "I mean, we could, but imagine if we chose them beforehand. A game that always does the same and finishes in the same way without any way for the player to interact wih it. That's sounds more like a movie, still not bad. Until you realize that you can't even show the image on the screen, cause that would entail sending information and mantaining a connection with your computer's screen, that is outside our program. So, if you run this \"game\", you're basically using your comptuer as a very expensive heater.\n",
    "\n",
    "The only way to provide our program with the information and capabilities it needs, is to give it a way to interact with the real world.\n",
    "\n",
    "And for that, Haskell uses IO actions."
   ]
  },
  {
   "cell_type": "markdown",
   "metadata": {},
   "source": [
    "## Introduction to IO Actions"
   ]
  },
  {
   "cell_type": "markdown",
   "metadata": {},
   "source": [
    "Before starting, with IO actions, I'll address the elephant in the room. I just told you that everything we coded so far was pure and we couldn't interact with it, but we've been running our functions and passing arguments like it was nothing since lesson one! That's because we've been cheeting by using GHCi, that performs IO actions in the background without explicitly telling us. So, at the end of the day, if we want our program to interact with the real world, we still need IO actions."
   ]
  },
  {
   "cell_type": "markdown",
   "metadata": {},
   "source": [
    "In Haskell, when we want to do something that has a side effect, we use actions. There are many kinds of actions, but today we'll learn about IO actions, one of the most common and important ones.\n",
    "\n",
    "The name IO actions gives room for missinterpretation. When we talk about IO actions, we're not talking about the input and output of the function, we talk about the input and output between our program and the real world. IO actions can interact with and change the world outside our program. They might or might not actually have side effects, but they CAN. That's key. They are allowed to have side effects."
   ]
  },
  {
   "cell_type": "markdown",
   "metadata": {},
   "source": [
    "***IO action* (or just *action*/*computation*):** Are actions that can interact with and change the world outside our program. "
   ]
  },
  {
   "cell_type": "markdown",
   "metadata": {},
   "source": [
    "Let's see a few examples:"
   ]
  },
  {
   "cell_type": "markdown",
   "metadata": {},
   "source": [
    "- Obtain the result of what a person typed in the keyboard."
   ]
  },
  {
   "cell_type": "markdown",
   "metadata": {},
   "source": [
    "- Show some text, an image, or something on the screen"
   ]
  },
  {
   "cell_type": "markdown",
   "metadata": {},
   "source": [
    "- Save to, or get something from, a data base."
   ]
  },
  {
   "cell_type": "markdown",
   "metadata": {},
   "source": [
    "- Call an API (doesn't really matter what you do with the API)."
   ]
  },
  {
   "cell_type": "markdown",
   "metadata": {},
   "source": [
    "- CRUD a file/directory on a filesystem."
   ]
  },
  {
   "cell_type": "markdown",
   "metadata": {},
   "source": [
    "Ok, so, we are clear about what IO actions are. Now, how does Haskell handle IO actions?"
   ]
  },
  {
   "cell_type": "markdown",
   "metadata": {},
   "source": [
    "## IO actions under the hood"
   ]
  },
  {
   "cell_type": "markdown",
   "metadata": {},
   "source": [
    "Haskell allows for controled side-effects by explicitly tagging them in the type system.\n",
    "\n",
    "Now, I'm going to show you the definition of the type that alows us to safely interact with the real world using IO actions. I wasn't going to show you, but I know you'd go behind my back to see it, so I might aswell show it to you. A heads up, don't try to understand the code, we'll only use it to create a mental model of what's happening under the hood.\n",
    "\n",
    "Without further ado, here's the `IO` type:"
   ]
  },
  {
   "cell_type": "markdown",
   "metadata": {},
   "source": [
    "```haskell\n",
    "newtype IO a = IO (State# RealWorld -> (# State# RealWorld, a #))\n",
    "```"
   ]
  },
  {
   "cell_type": "markdown",
   "metadata": {},
   "source": [
    "As you can see, `IO` is a type constructor that takes one concrete type as parameter. Now, what hapens after the equal sign looks like magic, and it might aswell be, because that's completely outside the scope of this course. But we can still use it to create a mental model."
   ]
  },
  {
   "cell_type": "markdown",
   "metadata": {},
   "source": [
    "There's a single `IO` value constructor. It takes a function that takes the state of the whole real world, does something to it, and returns a tuple containing the state of the real world that may have changed, and a value of type `a` that was generated after whatever the action did.\n",
    "\n",
    "Aren't the designers of Haskell a bunch of smarty-pants? If you give a function the state of the whole real world, that function can do anything! Talk to databases, allow penguins to fly, fix world-wide catastrophes, anything!. We'll use it to print stuff in the screen, though.\n",
    "\n",
    "Of course, this is not what is really happening under this seamingly magical type, but is useful to see how we can put together the idea of functions that only operate with the inputs they get, and interacting with the real world. If the real world is the input, the idea we have about how a function works, holds."
   ]
  },
  {
   "cell_type": "markdown",
   "metadata": {},
   "source": [
    "Now, let's switch to the practical side. In practice, we don't care about the details of how the interaction with the real world is handled. We don't even care about how the `IO` type is defined! The only thing that we care is that, if we use it properly, the compiler will handle the details and we won't get any surprises when running our code. So let's learn how to properly use the `IO` type."
   ]
  },
  {
   "cell_type": "markdown",
   "metadata": {
    "slideshow": {
     "slide_type": "slide"
    }
   },
   "source": [
    "## IO actions in practice"
   ]
  },
  {
   "cell_type": "markdown",
   "metadata": {
    "slideshow": {
     "slide_type": "slide"
    }
   },
   "source": [
    "```haskell\n",
    "something :: IO a\n",
    "```"
   ]
  },
  {
   "cell_type": "markdown",
   "metadata": {
    "slideshow": {
     "slide_type": "notes"
    }
   },
   "source": [
    "The `IO a` type tells us that `something` is an IO action that, after interacting with the real world, returns a value of type `a`.\n",
    "\n",
    "For example:"
   ]
  },
  {
   "cell_type": "markdown",
   "metadata": {
    "slideshow": {
     "slide_type": "fragment"
    }
   },
   "source": [
    "```haskell\n",
    "action1 :: IO Bool             -- Performs IO action and returns a Bool afterwards\n",
    "\n",
    "action2 :: IO Int              -- Performs IO action and returns an Int afterwards\n",
    "\n",
    "action3 :: IO (Double -> Char) -- Performs IO action and returns a function afterwards\n",
    "\n",
    "action4 :: IO ()               -- Performs IO action and doesn't return anything important\n",
    "```"
   ]
  },
  {
   "cell_type": "markdown",
   "metadata": {
    "slideshow": {
     "slide_type": "notes"
    }
   },
   "source": [
    "There are two key things to note here:\n",
    "1. One is that, after performing the action, we get a value of the specified type that we can use in our code.\n",
    "2. The other is that, the action returns a value AFTER performaing the IO action. We CAN NOT get that value without interacting with the real world. You'll see how this affects how we use IO actions.\n",
    "3. And finally, we see a new type in the last action: The unit type."
   ]
  },
  {
   "cell_type": "markdown",
   "metadata": {
    "slideshow": {
     "slide_type": "notes"
    }
   },
   "source": [
    "### The unit type"
   ]
  },
  {
   "cell_type": "markdown",
   "metadata": {
    "slideshow": {
     "slide_type": "fragment"
    }
   },
   "source": [
    "```haskell\n",
    "data () = ()\n",
    "```"
   ]
  },
  {
   "cell_type": "markdown",
   "metadata": {
    "slideshow": {
     "slide_type": "notes"
    }
   },
   "source": [
    "This is the unit type. We see that it has only one value constructor that takes no parameters (also called nullary constructor). Also, like lists, the type and the value look the same. And we use it to represent a value with no information. It's similar but not quite like the \"void\" value of Java, C, and other languages.\n",
    "\n",
    "But, wait, why do we learn about this just now? Well, because, untill now, we've been working with pure functions. If the only thing a pure function does is to return `()`, why do you even bother to use that function? Just use the value directly! And if a function takes the unit value as parameter, why do you even bother in requiring that as paramter if it's always the same value? Just remove that parameter and use unit inside the function directly! \n",
    "\n",
    "So, when you think about it, the unit type can be completely removed from any pure function and you loose nothing. BUT! Now that we're dealing with actions and side effects, there are plenty of cases when we don't really care about what the action returns as a value but we care only about the side effect it performs. Like printing something on the screen, or deleting a file. We don't need a value in return, we care only about the side effect.\n",
    "\n",
    "That's why now it makes sense to have this type to represent a value that we don't care about.\n",
    "\n",
    "If it doesn't quite click, don't worry, we'll see a couple of real-life examples during this lesson. But before that, let's see real life examples of simple actions."
   ]
  },
  {
   "cell_type": "markdown",
   "metadata": {
    "slideshow": {
     "slide_type": "slide"
    }
   },
   "source": [
    "### Retrieving input data from the user"
   ]
  },
  {
   "cell_type": "markdown",
   "metadata": {},
   "source": [
    "The most basic IO action I can think of is `getChar`:"
   ]
  },
  {
   "cell_type": "code",
   "execution_count": 12,
   "metadata": {},
   "outputs": [
    {
     "ename": "",
     "evalue": "",
     "output_type": "error",
     "traceback": [
      "<stdin>: hGetChar: end of file"
     ]
    }
   ],
   "source": [
    "-- getChar :: IO Char\n",
    "getChar"
   ]
  },
  {
   "cell_type": "markdown",
   "metadata": {},
   "source": [
    "This function performs the IO action of asking the user to write a single character on the standard input. And the value of type `Char` it returns is the character the user wrote. We can run the function here to see how that looks."
   ]
  },
  {
   "cell_type": "markdown",
   "metadata": {},
   "source": [
    "As you can see, when we run this cell, a text area appears so we can input a character. There's still some magic going on because we're using this Jupyter cells that run GHCi under the hood, but we'll get rid of them soon enough. \n",
    "\n",
    "\n",
    "Now, there are cases when a single character is enough, but what about a whole phrase? For that, we can use another function that comes with the base library in Haskell. The `getLine` function:"
   ]
  },
  {
   "cell_type": "code",
   "execution_count": 4,
   "metadata": {
    "scrolled": true
   },
   "outputs": [
    {
     "ename": "",
     "evalue": "",
     "output_type": "error",
     "traceback": [
      "<stdin>: hGetLine: end of file"
     ]
    }
   ],
   "source": [
    "-- getLine :: IO String\n",
    "getLine"
   ]
  },
  {
   "cell_type": "markdown",
   "metadata": {},
   "source": [
    "This one performs the IO action of of asking the user to write a line on the standard input. And the value of type String it returns is the text the user wrote until it pressed Enter."
   ]
  },
  {
   "cell_type": "markdown",
   "metadata": {},
   "source": [
    "The `getChar` and `getLine` functions are great and all, but if we run a program with just these, it will prompt us for a character or string without any explanation. Like if you where minding your own business, and all of the sudden, someone stands in front of you with their hand out and silently stares at you. We need a way not only to get but to also send messages to the outside world, and for that, we have to use our first impure function."
   ]
  },
  {
   "cell_type": "markdown",
   "metadata": {
    "slideshow": {
     "slide_type": "slide"
    }
   },
   "source": [
    "### Actions VS Impure Functions  (printing messages to the user)"
   ]
  },
  {
   "cell_type": "markdown",
   "metadata": {},
   "source": [
    "Let me present you the `putStrLn` function:"
   ]
  },
  {
   "cell_type": "markdown",
   "metadata": {},
   "source": [
    "```haskell\n",
    "putStrLn :: String -> IO ()\n",
    "```"
   ]
  },
  {
   "cell_type": "markdown",
   "metadata": {},
   "source": [
    "`putStrLn` takes a string and returns an IO action that, after it's performed, returns a unit value, a value we don't care about. It has the `IO` type constructor in its type, but it is not an action. It's a function that takes one argument (a string) and returns an action of type `IO ()`. The distinction is subtle but important. IO actions will never require additional arguments, but we can have functions that perform actions (such as putStrLn). And those are what we call impure functions.\n",
    "\n",
    "So, what does the action of `putStrLn` do? It takes the string we pass as parameter and prints it in the standard output:"
   ]
  },
  {
   "cell_type": "code",
   "execution_count": 1,
   "metadata": {
    "scrolled": true
   },
   "outputs": [
    {
     "data": {
      "text/plain": [
       "Hello World from inside the program!"
      ]
     },
     "metadata": {},
     "output_type": "display_data"
    }
   ],
   "source": [
    "putStrLn \"Hello World from inside the program!\""
   ]
  },
  {
   "cell_type": "markdown",
   "metadata": {},
   "source": [
    "-- Diagram"
   ]
  },
  {
   "cell_type": "markdown",
   "metadata": {},
   "source": [
    "```haskell\n",
    "(putStrLn)      :: String -> IO ()\n",
    "\n",
    "(putStrLn \"Hi\") :: IO ()\n",
    "```"
   ]
  },
  {
   "cell_type": "markdown",
   "metadata": {},
   "source": [
    "What's happenning here, is that `putStrLn` is applied to the String and it returns an action of type IO (). Then, because we're using a Jupyter notebook that automatically performs the action of the top function and prints the result, we get the String in our standard output, below the cell. \n",
    "\n",
    "But check this out:"
   ]
  },
  {
   "cell_type": "code",
   "execution_count": 6,
   "metadata": {},
   "outputs": [
    {
     "data": {
      "text/html": [
       "<style>/* Styles used for the Hoogle display in the pager */\n",
       ".hoogle-doc {\n",
       "display: block;\n",
       "padding-bottom: 1.3em;\n",
       "padding-left: 0.4em;\n",
       "}\n",
       ".hoogle-code {\n",
       "display: block;\n",
       "font-family: monospace;\n",
       "white-space: pre;\n",
       "}\n",
       ".hoogle-text {\n",
       "display: block;\n",
       "}\n",
       ".hoogle-name {\n",
       "color: green;\n",
       "font-weight: bold;\n",
       "}\n",
       ".hoogle-head {\n",
       "font-weight: bold;\n",
       "}\n",
       ".hoogle-sub {\n",
       "display: block;\n",
       "margin-left: 0.4em;\n",
       "}\n",
       ".hoogle-package {\n",
       "font-weight: bold;\n",
       "font-style: italic;\n",
       "}\n",
       ".hoogle-module {\n",
       "font-weight: bold;\n",
       "}\n",
       ".hoogle-class {\n",
       "font-weight: bold;\n",
       "}\n",
       ".get-type {\n",
       "color: green;\n",
       "font-weight: bold;\n",
       "font-family: monospace;\n",
       "display: block;\n",
       "white-space: pre-wrap;\n",
       "}\n",
       ".show-type {\n",
       "color: green;\n",
       "font-weight: bold;\n",
       "font-family: monospace;\n",
       "margin-left: 1em;\n",
       "}\n",
       ".mono {\n",
       "font-family: monospace;\n",
       "display: block;\n",
       "}\n",
       ".err-msg {\n",
       "color: red;\n",
       "font-style: italic;\n",
       "font-family: monospace;\n",
       "white-space: pre;\n",
       "display: block;\n",
       "}\n",
       "#unshowable {\n",
       "color: red;\n",
       "font-weight: bold;\n",
       "}\n",
       ".err-msg.in.collapse {\n",
       "padding-top: 0.7em;\n",
       "}\n",
       ".highlight-code {\n",
       "white-space: pre;\n",
       "font-family: monospace;\n",
       "}\n",
       ".suggestion-warning { \n",
       "font-weight: bold;\n",
       "color: rgb(200, 130, 0);\n",
       "}\n",
       ".suggestion-error { \n",
       "font-weight: bold;\n",
       "color: red;\n",
       "}\n",
       ".suggestion-name {\n",
       "font-weight: bold;\n",
       "}\n",
       "</style><span class='get-type'>x :: IO ()</span>"
      ],
      "text/plain": [
       "x :: IO ()"
      ]
     },
     "metadata": {},
     "output_type": "display_data"
    }
   ],
   "source": [
    "x = putStrLn \"Hello World from inside the program!\"\n",
    "\n",
    ":t x"
   ]
  },
  {
   "cell_type": "markdown",
   "metadata": {},
   "source": [
    "As you can see, if we run that cell, we don't get the String in our standard output. That's because we didn't ask for the action to be performed. We just named it `x` and that's it. We never needed it, so we didn't perform it.\n",
    "\n",
    "And that's another property of actions, they are what in programming is called first-class values."
   ]
  },
  {
   "cell_type": "markdown",
   "metadata": {},
   "source": [
    "## Actions are first-class values"
   ]
  },
  {
   "cell_type": "markdown",
   "metadata": {},
   "source": [
    "This means that you can treat actions the same as any other value. For example:"
   ]
  },
  {
   "cell_type": "code",
   "execution_count": 32,
   "metadata": {},
   "outputs": [],
   "source": [
    "-- putStrLn is an example of a function that returns an action\n",
    "\n",
    "\n",
    "-- Bind to names\n",
    "x = putStrLn \"Hello World from inside the program!\"\n",
    "\n",
    "\n",
    "-- Put them inside lists or other data structures\n",
    "listOfActions :: [IO ()]\n",
    "listOfActions = [putStrLn \"a\", putStrLn \"b\"]\n",
    "\n",
    "\n",
    "-- Pass them as function parameters\n",
    "fakeLength :: [IO ()] -> Int\n",
    "fakeLength list = 1 + length listOfActions"
   ]
  },
  {
   "cell_type": "markdown",
   "metadata": {},
   "source": [
    "And, like it happened before, if we run the `fakeLenghth` function passing the `listOfActions` as parameters..."
   ]
  },
  {
   "cell_type": "code",
   "execution_count": 33,
   "metadata": {},
   "outputs": [
    {
     "data": {
      "text/plain": [
       "3"
      ]
     },
     "metadata": {},
     "output_type": "display_data"
    }
   ],
   "source": [
    "fakeLength listOfActions"
   ]
  },
  {
   "cell_type": "markdown",
   "metadata": {},
   "source": [
    "We don't get any of the messages in the standard ouput because none of the actions inside the list is performed! Why should they be performed? We just asked about the length of the list, not the values it contains. Remember that Haskell is lazier than a cat under the sun. It won't do anything unles it has to. \n",
    "\n",
    "So, how can we ask Haskell to perform a few different actions? By composing them with special operators."
   ]
  },
  {
   "cell_type": "markdown",
   "metadata": {},
   "source": [
    "## Composing IO actions (`>>` and `>>=` operators)"
   ]
  },
  {
   "cell_type": "markdown",
   "metadata": {},
   "source": [
    "To learn how to combine IO actions, we'll create a few bots."
   ]
  },
  {
   "cell_type": "markdown",
   "metadata": {},
   "source": [
    "### Rude bot"
   ]
  },
  {
   "cell_type": "markdown",
   "metadata": {},
   "source": [
    "The first one is a rude bot. As soon as you interact with it, it yells at you.\n",
    "\n",
    "We'll start with a single meesage:"
   ]
  },
  {
   "cell_type": "code",
   "execution_count": 8,
   "metadata": {},
   "outputs": [
    {
     "data": {
      "text/plain": [
       "Hey!"
      ]
     },
     "metadata": {},
     "output_type": "display_data"
    }
   ],
   "source": [
    "rudeBot :: IO ()\n",
    "rudeBot = putStrLn \"Hey!\"\n",
    "\n",
    "rudeBot"
   ]
  },
  {
   "cell_type": "markdown",
   "metadata": {},
   "source": [
    "The bot has to catch it's breath before yelling at you again, so we'll add the next phrase in a second action. To do that, we'll introduce the \"then\" operator:"
   ]
  },
  {
   "cell_type": "markdown",
   "metadata": {},
   "source": [
    "```haskell\n",
    "(>>) :: IO a -> IO b -> IO b\n",
    "```"
   ]
  },
  {
   "cell_type": "markdown",
   "metadata": {},
   "source": [
    "As you can see, this operator takes two actions IO a and IO b. It first executes IO a, ignores the result (a), and returns the IO b action.\n",
    "\n",
    "If this where a pure operator, the implementation would look like this:"
   ]
  },
  {
   "cell_type": "code",
   "execution_count": 28,
   "metadata": {},
   "outputs": [
    {
     "data": {
      "text/plain": [
       "5"
      ]
     },
     "metadata": {},
     "output_type": "display_data"
    }
   ],
   "source": [
    "pureThen :: a -> b -> b\n",
    "x `pureThen` y = y\n",
    "\n",
    "\n",
    "3 `pureThen` 5"
   ]
  },
  {
   "cell_type": "markdown",
   "metadata": {},
   "source": [
    "We'd be just throwing away the first value and returing the second.\n",
    "\n",
    "But, because we're dealing with IO actions, this operator has some secret sauce that allows it to perform the first IO action before returning the second one. More specifically:"
   ]
  },
  {
   "cell_type": "markdown",
   "metadata": {},
   "source": [
    "The `>>` operator sequentially composes two actions, discarding any value produced by the first."
   ]
  },
  {
   "cell_type": "markdown",
   "metadata": {},
   "source": [
    "For example:"
   ]
  },
  {
   "cell_type": "code",
   "execution_count": 35,
   "metadata": {
    "scrolled": true
   },
   "outputs": [
    {
     "data": {
      "text/plain": [
       "a\n",
       "b\n",
       "c"
      ]
     },
     "metadata": {},
     "output_type": "display_data"
    }
   ],
   "source": [
    "abc = putStrLn \"a\" >> putStrLn \"b\" >> putStrLn \"c\"\n",
    "\n",
    "abc"
   ]
  },
  {
   "cell_type": "markdown",
   "metadata": {},
   "source": [
    "The direction of the arrows of the operator tells us the direction of the sequence, so, we perform actions from left to right.\n",
    "\n",
    "Now, le'ts use this operator to finish the rude bot:"
   ]
  },
  {
   "cell_type": "code",
   "execution_count": 36,
   "metadata": {
    "scrolled": true
   },
   "outputs": [
    {
     "data": {
      "text/plain": [
       "Hey!\n",
       "Get out of my lawn!"
      ]
     },
     "metadata": {},
     "output_type": "display_data"
    }
   ],
   "source": [
    "rudeBot :: IO ()\n",
    "rudeBot = putStrLn \"Hey!\" >> putStrLn \"Get out of my lawn!\"\n",
    "\n",
    "rudeBot"
   ]
  },
  {
   "cell_type": "markdown",
   "metadata": {},
   "source": [
    "Exactly what we wanted!\n",
    "\n",
    "But I think we could make it even ruder."
   ]
  },
  {
   "cell_type": "markdown",
   "metadata": {},
   "source": [
    "### An even ruder bot"
   ]
  },
  {
   "cell_type": "markdown",
   "metadata": {},
   "source": [
    "How could we make this bot more anoying? Hmm.. I know! Let's make it seem interested and then yell at us! So it also wastes our time.\n",
    "\n",
    "So, we'll make the bot ask our name, completely ignore it, and then yell at us. All that with this simple code:"
   ]
  },
  {
   "cell_type": "code",
   "execution_count": 37,
   "metadata": {},
   "outputs": [
    {
     "ename": "",
     "evalue": "",
     "output_type": "error",
     "traceback": [
      "<stdin>: hGetLine: end of file"
     ]
    }
   ],
   "source": [
    "evenRuderBot :: IO ()\n",
    "evenRuderBot =\n",
    "  putStrLn \"What's your name?\"            -- IO ()\n",
    "    >> getLine                            -- IO String\n",
    "    >> putStrLn \"like I care! Get lost!\"  -- IO ()\n",
    "    \n",
    "evenRuderBot"
   ]
  },
  {
   "cell_type": "markdown",
   "metadata": {},
   "source": [
    "It's getting a bit too long, so we'll split it into several lines.\n",
    "\n",
    "Besides that, not much has changed. The only real change is that we added a `getLine` function inbetween the `putStrLn` ones. But if we run it now, we see that:\n",
    "\n",
    "1. First, it performs the side effect of asking for our name in the standard output.\n",
    "2. THEN, it waits for us to type it.\n",
    "3. And THEN, after that side effect finishes, it sends the final message."
   ]
  },
  {
   "cell_type": "markdown",
   "metadata": {},
   "source": [
    "We can see ins the types that the second action returned a string. But because we used the `>>` operator, we completely ignore it. Let's learn how to actually make use of this value by taking our rude bot to therapy."
   ]
  },
  {
   "cell_type": "markdown",
   "metadata": {},
   "source": [
    "### Rude bot  after theraphy"
   ]
  },
  {
   "cell_type": "markdown",
   "metadata": {},
   "source": [
    "After going to therapy, our bot feels way better and now wants to be friends with us. And for that, it has to use our name. We can't use the `>>` operator, cause that ignores it. So, we need another operator that does the same but that passes the result of the first action to the second one. And for that, we use the \"bind\" operator:"
   ]
  },
  {
   "cell_type": "markdown",
   "metadata": {},
   "source": [
    "```haskell\n",
    "(>>=) :: IO a -> (a -> IO b) -> IO b\n",
    "```"
   ]
  },
  {
   "cell_type": "markdown",
   "metadata": {},
   "source": [
    "It looks complicated, but it's not that different from the `>>` operator.\n",
    "\n",
    "This operator takes and action `IO a` and an impure function that takes a value of the same type `a` as the one produced by the first action and returns another action IO b. \n",
    "\n",
    "So, what this operator does is to execute `IO a` to get the value `a`, and then pass that value to the impure function to get the `IO b` action as result. \n",
    "\n",
    "If this where a pure operator, the implementation would look like this:"
   ]
  },
  {
   "cell_type": "code",
   "execution_count": 38,
   "metadata": {
    "scrolled": true
   },
   "outputs": [
    {
     "data": {
      "text/plain": [
       "8"
      ]
     },
     "metadata": {},
     "output_type": "display_data"
    }
   ],
   "source": [
    "pureBind :: a -> (a -> b) -> b\n",
    "x `pureBind` f = f x\n",
    "\n",
    "\n",
    "3 `pureBind` (5+)  -- Same as just doing (5+3)"
   ]
  },
  {
   "cell_type": "markdown",
   "metadata": {},
   "source": [
    "So it would be just taking a value and a function and aplying the function to the value. Pretty useless.\n",
    "\n",
    "But because we're dealing with side effects, we don't actually have the value `a` until we perform the action, so that's what this operator does:"
   ]
  },
  {
   "cell_type": "markdown",
   "metadata": {},
   "source": [
    "The `>>=` operator sequentially composes two actions, passing any value produced by the first as an argument to the second."
   ]
  },
  {
   "cell_type": "markdown",
   "metadata": {},
   "source": [
    "For example:"
   ]
  },
  {
   "cell_type": "code",
   "execution_count": 42,
   "metadata": {},
   "outputs": [
    {
     "data": {
      "text/plain": [
       "Hey!!!!!!"
      ]
     },
     "metadata": {},
     "output_type": "display_data"
    }
   ],
   "source": [
    "-- Remainders:\n",
    "-- (>>=) :: IO a  -> (a -> IO b)  -> IO b\n",
    "-- getLine :: IO String\n",
    "\n",
    "\n",
    "yellIt :: String -> IO ()\n",
    "yellIt str = putStrLn (str ++ \"!!!!!!\")\n",
    "\n",
    "yellItBack :: IO ()\n",
    "yellItBack = getLine >>= yellIt\n",
    "\n",
    "yellIt \"Hey\"\n",
    "--yellItBack"
   ]
  },
  {
   "cell_type": "markdown",
   "metadata": {},
   "source": [
    "As you can see, we have the `yellIt` function that takes a String and returns the action of printing that string with a bunch of exclamation marks. And in the `yellItBack` function, we perfor the acton of `getLine` that returns a String. But instead of throwing the string away, this time we  use the `>>=` operator to pass it as the paramerer of `yellIt`. Yell it returns that action, and because it's the last one, it gets evaluated too. Sending the outside world the same message but with more emphasis."
   ]
  },
  {
   "cell_type": "markdown",
   "metadata": {},
   "source": [
    "Now, le'ts use this operator on the—now nicer—bot:"
   ]
  },
  {
   "cell_type": "code",
   "execution_count": 45,
   "metadata": {},
   "outputs": [
    {
     "ename": "",
     "evalue": "",
     "output_type": "error",
     "traceback": [
      "<stdin>: hGetLine: end of file"
     ]
    }
   ],
   "source": [
    "rudeBotAfterTherapy :: IO ()\n",
    "rudeBotAfterTherapy =\n",
    "  putStrLn \"What's your name?\"\n",
    "    >> getLine\n",
    "    >>= (\\name -> putStrLn $ \"Nice to meet you, \" ++ name ++ \"!\")\n",
    "    \n",
    "\n",
    "rudeBotAfterTherapy"
   ]
  },
  {
   "cell_type": "markdown",
   "metadata": {},
   "source": [
    "As you can see, instead of defining a function and use it inside the bot, chose to use a lambda function. Why? Because I'm using this function only once. And creating a sepparate function, having to think about a name for it, and polluting the environment with a function I know I'll never use again, it's not a good idea. In those cases, we prefer lambda functions.\n",
    "\n",
    "So, now that ....*****"
   ]
  },
  {
   "cell_type": "markdown",
   "metadata": {},
   "source": [
    "### Now it's a chatty bot!"
   ]
  },
  {
   "cell_type": "markdown",
   "metadata": {},
   "source": [
    "Our bot is now fully ~~recovered~~ and, it turns out that it's a chatty bot! Let's add a few chatty features! \n",
    "\n",
    "For example, let's add another message that tells us the number of letters our name has:"
   ]
  },
  {
   "cell_type": "code",
   "execution_count": 46,
   "metadata": {},
   "outputs": [],
   "source": [
    "lettersInName :: String -> String\n",
    "lettersInName name =\n",
    "  \"Your name has \"\n",
    "    ++ show (length name)\n",
    "    ++ \" letters, in case you where wandering...\""
   ]
  },
  {
   "cell_type": "markdown",
   "metadata": {},
   "source": [
    "The `lettersInName` function is a pure function that takes a name and does a silly little comment on it. To add it to our chatty bot, we need to do it like this:"
   ]
  },
  {
   "cell_type": "code",
   "execution_count": 47,
   "metadata": {},
   "outputs": [],
   "source": [
    "chattyBot :: IO ()\n",
    "chattyBot =\n",
    "  putStrLn \"Hey! What's your name?\"\n",
    "    >> getLine\n",
    "    >>= ( \\name ->\n",
    "            putStrLn (\"Nice to meet you, \" ++ name ++ \"!\")\n",
    "              >> putStrLn (lettersInName name)\n",
    "        )"
   ]
  },
  {
   "cell_type": "markdown",
   "metadata": {},
   "source": [
    "We need the value `name` (provided as result of the second action) again, so we need to keep building our function inside that lambda function."
   ]
  },
  {
   "cell_type": "markdown",
   "metadata": {},
   "source": [
    "Now it's more of the same, we can keep adding more and more actions like that. This is something a bit more complicated:"
   ]
  },
  {
   "cell_type": "code",
   "execution_count": 48,
   "metadata": {},
   "outputs": [],
   "source": [
    "finalChattyBot :: IO ()\n",
    "finalChattyBot =\n",
    "  putStrLn \"Hey! What's your name?\"\n",
    "    >> getLine\n",
    "    >>= ( \\name ->\n",
    "            putStrLn (\"Nice to meet you, \" ++ name ++ \"!\")\n",
    "              >> putStrLn (lettersInName name)\n",
    "              >> putStrLn (\"So, \" ++ name ++ \", what do you do for fun?\")\n",
    "              >> getLine\n",
    "              >>= ( \\hobby ->\n",
    "                      putStrLn (\"Are you kidding, \" ++ name ++ \"! I love \" ++ hobby ++ \"!\")\n",
    "                  )\n",
    "        )\n",
    "    >> putStrLn \"OK, bye!\""
   ]
  },
  {
   "cell_type": "markdown",
   "metadata": {},
   "source": [
    "As you can see, if we keep increasing the interactions, we start to see a pattern. An uggly and hard to read pattern.\n",
    "\n",
    "Luckily, we're not the first ones to encounter this monstruosity, and the haskell gods did something about it. Enter, the \"Do Notation\""
   ]
  },
  {
   "cell_type": "markdown",
   "metadata": {},
   "source": [
    "## The `do` notation"
   ]
  },
  {
   "cell_type": "markdown",
   "metadata": {},
   "source": [
    "The `do` notation is just syntactic sugar for expressions composed by `>>` an `>>=` operators. Basically, a nicer way of combining actions.\n",
    "\n",
    "We're going to rewrite all the previous expression with do notation so we can see the difference. Starting with the rude bot:"
   ]
  },
  {
   "cell_type": "code",
   "execution_count": 52,
   "metadata": {},
   "outputs": [],
   "source": [
    "rudeBot :: IO ()\n",
    "rudeBot = putStrLn \"Hey!\"\n",
    "\n",
    "\n",
    "rudeBotDo :: IO ()\n",
    "rudeBotDo = do\n",
    "    putStrLn \"Hey!\""
   ]
  },
  {
   "cell_type": "markdown",
   "metadata": {},
   "source": [
    "As you can see, we write the keyword `do` after the equal sign, and then start a block with the actions. This one isn't particularly special. It's even more clear and sucinct to write it without do syntax!\n",
    "\n",
    "Let's see the the second version of rude bot:"
   ]
  },
  {
   "cell_type": "code",
   "execution_count": 53,
   "metadata": {
    "scrolled": true
   },
   "outputs": [
    {
     "data": {
      "text/plain": [
       "Hey!\n",
       "Get out of my lawn!"
      ]
     },
     "metadata": {},
     "output_type": "display_data"
    }
   ],
   "source": [
    "rudeBot :: IO ()\n",
    "rudeBot = putStrLn \"Hey!\" >> putStrLn \"Get out of my lawn!\"\n",
    "\n",
    "rudeBotDo :: IO ()\n",
    "rudeBotDo = do \n",
    "    putStrLn \"Hey!\"\n",
    "    putStrLn \"Get out of my lawn!\"\n",
    "\n",
    "rudeBotDo"
   ]
  },
  {
   "cell_type": "markdown",
   "metadata": {},
   "source": [
    "Now we start to see some improvement. It's not much, but we can see that each action is in a different line, making it easier to identify them. Before, the actions went from left to right, now, from top to bottom. \n",
    "\n",
    "And what about the even ruder bot?"
   ]
  },
  {
   "cell_type": "code",
   "execution_count": null,
   "metadata": {},
   "outputs": [
    {
     "ename": "",
     "evalue": "",
     "output_type": "error",
     "traceback": [
      "<stdin>: hGetLine: end of file"
     ]
    }
   ],
   "source": [
    "evenRuderBot :: IO ()\n",
    "evenRuderBot =\n",
    "  putStrLn \"What's your name?\"  \n",
    "    >> getLine  \n",
    "    >> putStrLn \"like I care! Get lost!\"\n",
    "    \n",
    "    \n",
    "evenRuderBotDo :: IO ()\n",
    "evenRuderBotDo = do\n",
    "  putStrLn \"What's your name?\"  \n",
    "  getLine  \n",
    "  putStrLn \"like I care! Get lost!\"\n",
    "    \n",
    "evenRuderBotDo"
   ]
  },
  {
   "cell_type": "markdown",
   "metadata": {},
   "source": [
    "Same as before, add the `do` keyword, remove the `>>` operators, and you're ready to go.\n",
    "\n",
    "Now is when the cool stuff starts. We have the rude bot after therapy:"
   ]
  },
  {
   "cell_type": "code",
   "execution_count": null,
   "metadata": {},
   "outputs": [],
   "source": [
    "rudeBotAfterTherapy :: IO ()\n",
    "rudeBotAfterTherapy =\n",
    "  putStrLn \"What's your name?\"\n",
    "    >> getLine\n",
    "    >>= (\\name -> putStrLn $ \"Nice to meet you, \" ++ name ++ \"!\")"
   ]
  },
  {
   "cell_type": "markdown",
   "metadata": {},
   "source": [
    "How do we handle the `name`? For that, we'll introduce the `<-` (left arrow, or bind):"
   ]
  },
  {
   "cell_type": "code",
   "execution_count": null,
   "metadata": {},
   "outputs": [],
   "source": [
    "rudeBotAfterTherapyDo :: IO ()\n",
    "rudeBotAfterTherapyDo = do\n",
    "  putStrLn \"What's your name?\"\n",
    "  name <- getLine -- (getline :: IO String) so (name :: Sring)\n",
    "  putStrLn $ \"Nice to meet you, \" ++ name"
   ]
  },
  {
   "cell_type": "markdown",
   "metadata": {},
   "source": [
    "This left arrow binds the result of running the `putStrLn` action to `name`. And once you have the `name` variable, you can use it anywhere after that action. \n",
    "\n",
    "Now let's see how we can use do notation for chatty bot:"
   ]
  },
  {
   "cell_type": "code",
   "execution_count": null,
   "metadata": {},
   "outputs": [],
   "source": [
    "chattyBot :: IO ()\n",
    "chattyBot =\n",
    "  putStrLn \"Hey! What's your name?\"\n",
    "    >> getLine\n",
    "    >>= ( \\name ->\n",
    "            putStrLn (\"Nice to meet you, \" ++ name ++ \"!\")\n",
    "              >> putStrLn (lettersInName name)\n",
    "        )\n",
    "\n",
    "\n",
    "chattyBotDo :: IO ()\n",
    "chattyBotDo = do\n",
    "  putStrLn \"Hey! What's your name?\"\n",
    "  name <- getLine\n",
    "  putStrLn (\"Nice to meet you, \" ++ name ++ \"!\")\n",
    "  putStrLn $ lettersInName name"
   ]
  },
  {
   "cell_type": "markdown",
   "metadata": {},
   "source": [
    "Now the differences starts to get big! You have to stop on `chattyBot` for a few seconds to grasp what it's doing, but `chattyBotDo` is really easy to follow! \n",
    "\n",
    "Finally, let's compare the most complicated one:"
   ]
  },
  {
   "cell_type": "code",
   "execution_count": null,
   "metadata": {},
   "outputs": [],
   "source": [
    "finalChattyBot :: IO ()\n",
    "finalChattyBot =\n",
    "  putStrLn \"Hey! What's your name?\"\n",
    "    >> getLine\n",
    "    >>= ( \\name ->\n",
    "            putStrLn (\"Nice to meet you, \" ++ name ++ \"!\")\n",
    "              >> putStrLn (lettersInName name)\n",
    "              >> putStrLn (\"So, \" ++ name ++ \", what do you do for fun?\")\n",
    "              >> getLine\n",
    "              >>= ( \\hobby ->\n",
    "                      putStrLn (\"Are you kidding, \" ++ name ++ \"! I love \" ++ hobby ++ \"!\")\n",
    "                  )\n",
    "        )\n",
    "    >> putStrLn \"OK, bye!\""
   ]
  },
  {
   "cell_type": "code",
   "execution_count": null,
   "metadata": {},
   "outputs": [],
   "source": [
    "finalChattyBotDo :: IO ()\n",
    "finalChattyBotDo = do\n",
    "  putStrLn \"Hey! What's your name?\"\n",
    "  name <- getLine\n",
    "  putStrLn (\"Nice to meet you, \" ++ name ++ \"!\")\n",
    "  putStrLn (lettersInName name)\n",
    "  putStrLn (\"So, \" ++ name ++ \", what do you do for fun?\")\n",
    "  hobby <- getLine\n",
    "  putStrLn (\"Are you kidding, \" ++ name ++ \"! I love \" ++ hobby ++ \"!\")\n",
    "  putStrLn \"OK, bye!\"\n",
    "  \n",
    "  \n",
    "finalChattyBot"
   ]
  },
  {
   "cell_type": "markdown",
   "metadata": {},
   "source": [
    "Notice that all the statemetns are aligned at the same indentation. Make sure to always keep them aligned if they belong to the same do block, to avoid confusing the compiler and having silly errors.\n",
    "\n",
    "As you can see, do notation is great! It allows for a more clean and concise code. But... waaaaait a minute! This code looks... really imperative! You're stating what to do step by step in sequence!\n",
    "\n",
    "This looks oddly non-declarative! What happened? Wasn't it that declarative code was so great? Did I lie to you when I compared declarative vs ...? There's a reason why we now use a series of statements instead of describing what we want. And that's because, now, we really care about what happens and in which order! Because side effects can cause all sorts of troubles!!! For example: functions with descriptive names in sequence that, if rearranged, could cause caos"
   ]
  },
  {
   "cell_type": "markdown",
   "metadata": {},
   "source": [
    "That's the do notation in essence. But there are a few other things that cover the practical aspect of using do notation that I'd like to cover. We'll drop the chatbot example cause it's starting to get borring.\n",
    "\n",
    "Let's start with using `let` inside the `do` notation:"
   ]
  },
  {
   "cell_type": "markdown",
   "metadata": {},
   "source": [
    "### using `let` inside the `do` notation"
   ]
  },
  {
   "cell_type": "markdown",
   "metadata": {},
   "source": [
    "We can use the `let` keyword inside a `do` block like this:"
   ]
  },
  {
   "cell_type": "code",
   "execution_count": null,
   "metadata": {},
   "outputs": [],
   "source": [
    "code"
   ]
  },
  {
   "cell_type": "markdown",
   "metadata": {},
   "source": [
    "There are a few details to keep in mind:\n",
    "- The constructs binded with the `let` keyword are lazy. So, even though they occupy a line in the do block, they aren't evaluated unless needed somewhere else.\n",
    "- We don't need the `in` kewowrd like we do outside `do` notation. It's assumed that .."
   ]
  },
  {
   "cell_type": "markdown",
   "metadata": {},
   "source": [
    "### Nesting `do` blocks"
   ]
  },
  {
   "cell_type": "markdown",
   "metadata": {},
   "source": [
    "We can nest do blocks as much as we want. For example:"
   ]
  },
  {
   "cell_type": "code",
   "execution_count": null,
   "metadata": {},
   "outputs": [],
   "source": [
    "code"
   ]
  },
  {
   "cell_type": "markdown",
   "metadata": {},
   "source": [
    "### Escaping `IO` and the `return` keyword"
   ]
  },
  {
   "cell_type": "markdown",
   "metadata": {},
   "source": [
    "**`return` DOES NOT WORK LIKE IN OTHER PROGRAMMING LANGUAGES! ITS A DIFFERENT THING!**"
   ]
  },
  {
   "cell_type": "markdown",
   "metadata": {},
   "source": [
    "If you don't konw any other programming languages, don't worry about it. But you likely do, so I wanted to open with that to avoid confusion or in case you where about to skip this section."
   ]
  },
  {
   "cell_type": "code",
   "execution_count": null,
   "metadata": {},
   "outputs": [],
   "source": [
    "joinStrings :: IO String\n",
    "joinStrings = do\n",
    "  putStrLn \"Please, provide your name\"\n",
    "  n <- getLine\n",
    "  putStrLn \"Please, provide your lastname\"\n",
    "  ln <- getLine\n",
    "  return (n ++ ln)"
   ]
  },
  {
   "cell_type": "markdown",
   "metadata": {},
   "source": [
    "-------------------------------------------------------------------------------"
   ]
  },
  {
   "cell_type": "markdown",
   "metadata": {},
   "source": [
    "-------------------------------------------------------------------------------"
   ]
  },
  {
   "cell_type": "markdown",
   "metadata": {},
   "source": [
    "-------------------------------------------------------------------------------"
   ]
  },
  {
   "cell_type": "markdown",
   "metadata": {},
   "source": [
    "-------------------------------------------------------------------------------"
   ]
  },
  {
   "cell_type": "code",
   "execution_count": null,
   "metadata": {},
   "outputs": [],
   "source": [
    "-- A pure function that prepends the string \"Hello \" to another string\n",
    "addHello :: String -> String\n",
    "addHello = (\"Hello \" ++)\n",
    "\n",
    "-- Applying the putStrLn function to an expression that evaluates to a String\n",
    "putStrLn (addHello \"John\")"
   ]
  },
  {
   "cell_type": "markdown",
   "metadata": {},
   "source": [
    "Here, `putStrLn` needs the result of evaluating the expression inside the paranthesis, so Haskell applies `addHello` to `\"John\"` and then applies `putStrLn` to the result.  "
   ]
  },
  {
   "cell_type": "markdown",
   "metadata": {},
   "source": [
    "Now that we can use actions to do useful side effects outside our program, we would like to be able to compose two IO actions.\n",
    "\n",
    "We could try to use another `IO a` as an input to get a function of type `IO a -> IO b`. "
   ]
  },
  {
   "cell_type": "code",
   "execution_count": null,
   "metadata": {},
   "outputs": [],
   "source": [
    "-- An IO action that perform the action of printing \"Hello\". \n",
    "someIOType :: IO ()\n",
    "someIOType = putStrLn \"Hello\"\n",
    "\n",
    "-- A naive and wrong function that can combine two IO () actions\n",
    "combineIO :: IO () -> IO ()\n",
    "combineIO io = putStrLn \"world\"\n",
    "\n",
    "combineIO someIOType"
   ]
  },
  {
   "cell_type": "markdown",
   "metadata": {},
   "source": [
    "This program works, but it does not print the *Hello* string. The `someIOType` action is not being performed.\n",
    "\n",
    "This is because the input `IO ()` is not being used in the body of the function, so it is not being evaluated. "
   ]
  },
  {
   "cell_type": "markdown",
   "metadata": {},
   "source": [
    "But how can we call this IO action on the right side? To solve this, we introduce two new operators: \n",
    "- the **then** or also called **sequence** operator given by `>>`\n",
    "\n",
    "- the **bind** operator given by `>>=`"
   ]
  },
  {
   "cell_type": "markdown",
   "metadata": {},
   "source": [
    "These operators allow for the composition of IO actions. Their properties are: \n",
    "\n",
    "| `>>` | `>>=` |\n",
    "| --- | --- |\n",
    "| Composes two IO actions | Composes two IO actions |\n",
    "| Does not forward the return type | Forwards the return type |"
   ]
  },
  {
   "cell_type": "markdown",
   "metadata": {},
   "source": [
    "We first look at an example of how the `>>` operator works."
   ]
  },
  {
   "cell_type": "code",
   "execution_count": null,
   "metadata": {},
   "outputs": [],
   "source": [
    "-- A new expression that is of type IO ()\n",
    "printHello :: IO ()\n",
    "printHello = putStrLn \"Hello \" \n",
    "\n",
    "-- A new expression that is of type IO ()\n",
    "printWorld :: IO ()\n",
    "printWorld = putStrLn \"World\"\n",
    "\n",
    "--Combining the above IO actions\n",
    "chaining :: IO ()\n",
    "chaining = printHello >> printWorld\n",
    "\n",
    "chaining"
   ]
  },
  {
   "cell_type": "markdown",
   "metadata": {},
   "source": [
    "Here, the `printHello` first performs some side effect and then the `printWorld` action performs its side effect. \n",
    "\n",
    "The arrows of the operator `>>` indicate the flow of the action that is in which order they are performed. "
   ]
  },
  {
   "cell_type": "markdown",
   "metadata": {},
   "source": [
    "We could say the type signature for the sequence operator is:\n",
    "```haskell\n",
    "(>>) :: IO a -> IO b -> IO b\n",
    "```\n",
    "It takes two IO actions, performs both, and returns the result of the second one."
   ]
  },
  {
   "cell_type": "markdown",
   "metadata": {},
   "source": [
    "But the actual type signature is:\n",
    "```haskell\n",
    "(>>) :: m a -> m b -> m b\n",
    "```\n",
    "where `m` has an instance of the monad type class, which `IO` has. We will talk about this type class in lesson 20."
   ]
  },
  {
   "cell_type": "markdown",
   "metadata": {},
   "source": [
    "Next, we look at an example of the `>>=` operator works."
   ]
  },
  {
   "cell_type": "code",
   "execution_count": null,
   "metadata": {},
   "outputs": [],
   "source": [
    "printHelloName :: String -> IO ()\n",
    "printHelloName name = putStrLn (\"Hello \" ++ name)\n",
    "\n",
    "chainingWithBind :: IO ()\n",
    "chainingWithBind = getLine >>= printHelloName"
   ]
  },
  {
   "cell_type": "markdown",
   "metadata": {},
   "source": [
    "We see how we get the input string with the `getLine` function and then pass it on to the `printHelloName` function.\n",
    "\n",
    "The important thing here is that the bind operator removes the `IO` context from the `IO String` variable and passes on only a variable of type `String` forward."
   ]
  },
  {
   "cell_type": "markdown",
   "metadata": {},
   "source": [
    "Here we could say the type signature for the bind operator is:\n",
    "```haskell\n",
    "(>>=) :: IO a -> (a -> IO b) -> IO b\n",
    "```\n",
    "It takes in an IO action that it performs and hands the result without the IO context to a function that produces another IO action."
   ]
  },
  {
   "cell_type": "markdown",
   "metadata": {},
   "source": [
    "The actual type signature is:\n",
    "```haskell\n",
    "(>>=) :: m a -> (a -> m b) -> m b\n",
    "```\n",
    "and also here `m` has an instance of the monad type class."
   ]
  },
  {
   "cell_type": "markdown",
   "metadata": {},
   "source": [
    "Another example of the bind operator can be seen below."
   ]
  },
  {
   "cell_type": "code",
   "execution_count": null,
   "metadata": {},
   "outputs": [],
   "source": [
    "import System.Directory (listDirectory)\n",
    "\n",
    "-- A new expression that is of type IO ()\n",
    "getFiles :: IO [FilePath]\n",
    "getFiles = listDirectory \".\" \n",
    "\n",
    "-- A new expression that is of type IO ()\n",
    "printFirstFile :: [FilePath] -> IO ()\n",
    "printFirstFile = print . head \n",
    "\n",
    "--Combining the above IO actions with forwarding the\n",
    "chainingWithBind :: IO ()\n",
    "chainingWithBind = getFiles >>= printFirstFile\n",
    "\n",
    "chainingWithBind"
   ]
  },
  {
   "cell_type": "markdown",
   "metadata": {},
   "source": [
    "Here we used `print` IO action instead of `putStrLn` to show the first element of the list of file paths. \n",
    "```haskell\n",
    "print :: Show a => a -> IO ()\n",
    "```\n",
    "This action automatically converts a type to a string and sends it to StOut, which can save us writing syntax."
   ]
  },
  {
   "cell_type": "markdown",
   "metadata": {},
   "source": [
    "### Reading from the file system"
   ]
  },
  {
   "cell_type": "markdown",
   "metadata": {},
   "source": [
    "The last example we will show here is the `listDirectory` which is located in the module `System.Directory`. \n",
    "```haskell\n",
    "listDirectory :: FilePath -> IO [FilePath]\n",
    "\n",
    "type FilePath = String\n",
    "```\n",
    "It takes in a string that represents the file path to a folder and returns an IO list of strings that are the files and folders contained in the input folder. "
   ]
  },
  {
   "cell_type": "markdown",
   "metadata": {},
   "source": [
    "Modules are bundles of Haskell functions that are not available by default unless we import them. We will talk more about this in lesson 12.\n",
    "\n",
    "Here we show a simple example of how to import this function from its module and use it. "
   ]
  },
  {
   "cell_type": "code",
   "execution_count": null,
   "metadata": {},
   "outputs": [],
   "source": [
    "import System.Directory (listDirectory)\n",
    "\n",
    "-- The \".\" input refers to the current jupyter working directory (week02)\n",
    "listedDirectories :: IO [String]\n",
    "listedDirectories = listDirectory \".\"\n",
    "\n",
    "listedDirectories"
   ]
  },
  {
   "cell_type": "markdown",
   "metadata": {},
   "source": [
    "## The do block"
   ]
  },
  {
   "cell_type": "markdown",
   "metadata": {},
   "source": [
    "Now that we know how to compose actions, we are going to generalize this with the so called **do block**. \n",
    "\n",
    "To introduce the necessity and reasons behind this useful syntax, we look at a few examples. "
   ]
  },
  {
   "cell_type": "markdown",
   "metadata": {},
   "source": [
    "First, consider the composition of many actions via the then operator `>>`."
   ]
  },
  {
   "cell_type": "code",
   "execution_count": null,
   "metadata": {},
   "outputs": [],
   "source": [
    "--  IO ()              IO String           IO ()\n",
    "putStrLn \"Action one\" >> getLine >> putStrLn \"Action three\""
   ]
  },
  {
   "cell_type": "markdown",
   "metadata": {},
   "source": [
    "Here each action is **sequentially** performed, the first and last concatenated actions print “Action one” and “Action three” respectively. \n",
    "\n",
    "The middle action asks for input, which performs no output to the console at all."
   ]
  },
  {
   "cell_type": "markdown",
   "metadata": {},
   "source": [
    "Let's look at how this pattern would work for the bind operator `>>=`."
   ]
  },
  {
   "cell_type": "code",
   "execution_count": null,
   "metadata": {},
   "outputs": [],
   "source": [
    "import System.Directory (listDirectory)\n",
    "\n",
    "-- A new expression that is of type IO ()\n",
    "getFiles :: IO [FilePath]\n",
    "getFiles = listDirectory \".\" \n",
    "\n",
    "-- A new expression that is of type IO ()\n",
    "printFirstFile :: [FilePath] -> IO ()\n",
    "printFirstFile = print . head \n",
    "\n",
    "-- A new expression that is of type IO ()\n",
    "printLastFile :: [FilePath] -> IO ()\n",
    "printLastFile = print . last \n",
    "\n",
    "longerChain :: IO ()\n",
    "longerChain = getFiles >>= printFirstFile >>= printLastFile\n",
    "\n",
    "longerChain"
   ]
  },
  {
   "cell_type": "markdown",
   "metadata": {},
   "source": [
    "The compiler gives an error since we are incorrectly matching the types of the functions used! \n",
    "\n",
    "The function `printFirstFile` returns a `()` while the `printLastFile` function expects a `[FilePath]`."
   ]
  },
  {
   "cell_type": "markdown",
   "metadata": {},
   "source": [
    "Somehow we need to manage how inputs and outputs of these functions are used. \n",
    "\n",
    "Ideally, we would like the `printLastFile` function to use the output of the `getFiles` function. "
   ]
  },
  {
   "cell_type": "markdown",
   "metadata": {},
   "source": [
    "Achieving this can be done with lambda functions, that we saw in lesson 5. As a small recap, they take the form"
   ]
  },
  {
   "cell_type": "code",
   "execution_count": null,
   "metadata": {},
   "outputs": [],
   "source": [
    "(\\x -> 2*x + 1) 1 -- Here the lambda function (\\x -> 2*x + 1) is applied to the argument 1"
   ]
  },
  {
   "cell_type": "markdown",
   "metadata": {},
   "source": [
    "Using this, we can combine the action while making the inputs **progressively** available to the other actions inline. \n",
    "\n",
    "We do this by adding the actions in order to a lambda function. The following example achieves what we wanted:"
   ]
  },
  {
   "cell_type": "code",
   "execution_count": null,
   "metadata": {},
   "outputs": [],
   "source": [
    "import System.Directory (listDirectory)\n",
    "\n",
    "-- A new expression that is of type IO ()\n",
    "getFiles :: IO [FilePath]\n",
    "getFiles = listDirectory \".\" \n",
    "\n",
    "-- A new expression that is of type IO ()\n",
    "printFirstFile :: [FilePath] -> IO ()\n",
    "printFirstFile = print . head \n",
    "\n",
    "-- A new expression that is of type IO ()\n",
    "printLastFile :: [FilePath] -> IO ()\n",
    "printLastFile = print . last \n",
    "\n",
    "chainingWithLambda :: IO ()\n",
    "chainingWithLambda = getFiles >>= (\\x1 -> printFirstFile x1 >> printLastFile x1)\n",
    "\n",
    "chainingWithLambda"
   ]
  },
  {
   "cell_type": "markdown",
   "metadata": {},
   "source": [
    "Here we first forward the output of the `grabFiles` action denoted by `x1` into a lambda function. \n",
    "\n",
    "Then in the lambda function, we call `printFirstFile` and `printLastFile` and chain them together with `>>`."
   ]
  },
  {
   "cell_type": "markdown",
   "metadata": {},
   "source": [
    "Notice that with this construction, all inputs become available to functions that need to use them. \n",
    "\n",
    "Now, clearly this construction is very cumbersome and not practical in real life coding!"
   ]
  },
  {
   "cell_type": "markdown",
   "metadata": {},
   "source": [
    "To make it easier this whole construction can be done by a **do block** which is just syntactic sugar for code that uses the previous approach. \n",
    "\n",
    "The do-block looks just like an imperative way of programming, but in its core it is still functional by using lambda functions.  "
   ]
  },
  {
   "cell_type": "markdown",
   "metadata": {},
   "source": [
    "Let's re-write the previous main function in a do block:"
   ]
  },
  {
   "cell_type": "code",
   "execution_count": null,
   "metadata": {},
   "outputs": [],
   "source": [
    "-- The introduction of the do block\n",
    "usingDoBlock :: IO ()\n",
    "usingDoBlock = do\n",
    "   x1 <- getFiles\n",
    "   printFirstFile x1\n",
    "   printLastFile x1\n",
    "\n",
    "usingDoBlock"
   ]
  },
  {
   "cell_type": "markdown",
   "metadata": {},
   "source": [
    "The do-block always starts with the `do` keyword. In a do-block, each line can perform some action. \n",
    "\n",
    "First we perform the `getFiles` action. After that its output is stored in the variable `x1` using the syntactic arrow `<-`. \n",
    "\n",
    "The `x1` variable is now of type `String` because in the background the `>>=` operator is being used. "
   ]
  },
  {
   "cell_type": "markdown",
   "metadata": {},
   "source": [
    "Then the next action `printFirstFile` is performed, that takes `x1` as it's input. \n",
    "\n",
    "Lastly, the action `printLastFile` is called, that also takes `x1` as it's input."
   ]
  },
  {
   "cell_type": "markdown",
   "metadata": {},
   "source": [
    "This do block  is fundamentally the same as the previous example that used a lambda function. \n",
    "\n",
    "With these do blocks, we can write clearly structured code that performs multiple side effect. "
   ]
  },
  {
   "cell_type": "markdown",
   "metadata": {},
   "source": [
    "This looks oddly non-declarative! What happened? Wasn't it that declarative code was so great? Did I lie to you when I said that declarative code is awesome?\n",
    "\n",
    "There's a reason why we now use a series of statements instead of describing what we want. And that's because, now, we care about what happens and in which order, because side effects can cause all sorts of troubles!!! For example: *functions with descriptive names in sequence that, if rearranged, could cause caos*"
   ]
  },
  {
   "cell_type": "markdown",
   "metadata": {},
   "source": [
    "Inside a do block, you can also define let-statements that define variables in the block."
   ]
  },
  {
   "cell_type": "code",
   "execution_count": null,
   "metadata": {},
   "outputs": [],
   "source": [
    "usingDoBlock :: IO ()\n",
    "usingDoBlock = do fileList <- getFiles\n",
    "                  let elemOne = fileList !! 1 -- take the 2nd elemet from the list\n",
    "                  print elemOne\n",
    "\n",
    "usingDoBlock "
   ]
  },
  {
   "cell_type": "markdown",
   "metadata": {},
   "source": [
    "For the `let` keyword, lambda functions are used in the de-sugared code:"
   ]
  },
  {
   "cell_type": "code",
   "execution_count": null,
   "metadata": {},
   "outputs": [],
   "source": [
    "desured :: IO ()\n",
    "desured = getFiles >>= (\\x1 -> (\\x2 -> print x2) (x1 !! 1))\n",
    "\n",
    "desured"
   ]
  },
  {
   "cell_type": "markdown",
   "metadata": {},
   "source": [
    "The `let` keyword allows you also to define functions beside variables. The previous example can be re-written to:"
   ]
  },
  {
   "cell_type": "code",
   "execution_count": null,
   "metadata": {},
   "outputs": [],
   "source": [
    "letWithFunction :: IO ()\n",
    "letWithFunction = do fileList <- getFiles\n",
    "                     let elemOne xs = xs !! 1 -- elemOne is now a function\n",
    "                     print $ elemOne fileList\n",
    "\n",
    "letWithFunction "
   ]
  },
  {
   "cell_type": "markdown",
   "metadata": {},
   "source": [
    "### Nesting do-blocks"
   ]
  },
  {
   "cell_type": "markdown",
   "metadata": {},
   "source": [
    "It may not appear obvious, but do-blocks can be nested. Here is an example:"
   ]
  },
  {
   "cell_type": "code",
   "execution_count": null,
   "metadata": {},
   "outputs": [],
   "source": [
    "import Data.Char ( isDigit )\n",
    "\n",
    "nesting :: IO ()\n",
    "nesting = do\n",
    "    putStrLn \"What is your age:\"\n",
    "    ageString <- getLine\n",
    "    let validAge = all isDigit ageString\n",
    "    if validAge\n",
    "    then do\n",
    "        let age = read ageString :: Int\n",
    "            msg = \"Int 10 years you will be \" ++ show (age + 10) ++ \" years old.\"\n",
    "        putStrLn msg \n",
    "    else do\n",
    "        putStrLn \"Your age should contain only digits from 0-9.\"\n",
    "        nesting"
   ]
  },
  {
   "cell_type": "markdown",
   "metadata": {},
   "source": [
    "We import the `isDigit` function that checks whether a character is a number or not.\n",
    "```haskell\n",
    "isDigit :: Char -> Bool\n",
    "```"
   ]
  },
  {
   "cell_type": "markdown",
   "metadata": {},
   "source": [
    "Then we ask the user to input his age and after that define an if-statement which contains two different do-blocks.\n",
    "\n",
    "If the input string contains only numbers, we print a message how much will be the user's age in 10 years.\n",
    "\n",
    "If it does not contain only numbers, then we notify the user and start the program from the beginning. "
   ]
  },
  {
   "cell_type": "markdown",
   "metadata": {},
   "source": [
    "Also you may notice in the `then` do-block we define two variable but use the `let` keyword only once.\n",
    "\n",
    "This is allowed in Haskell if the variable names have the same indentation and follow one after each other. \n",
    "\n",
    "Then you need to write `let` only for the first variable."
   ]
  },
  {
   "cell_type": "markdown",
   "metadata": {},
   "source": [
    "## Recap"
   ]
  },
  {
   "cell_type": "markdown",
   "metadata": {},
   "source": [
    "In this section, we have introduced the concepts of IO actions. \n",
    "\n",
    "- Haskell knows two types of functions, pure and impure function, where the latter are called IO actions.\n",
    "\n",
    "- The types of impure functions are wrapped and marked by `IO` and which indicates that the functions may perform useful side effects. \n",
    "\n",
    "- Once you use a function or variable type that is wrapped in IO, the function inside which you use it has to be wrapped in IO. \n",
    "\n",
    "- IO actions can be composed using two operators, the then or sequence operator denoted by `>>` and the bind operator denoted by `>>=`.\n",
    "\n",
    "- The do-blocks let you easily compose multiple actions and they can be nested."
   ]
  },
  {
   "cell_type": "markdown",
   "metadata": {},
   "source": [
    "- TODO: Why? Why this way and not another? Laziness VS side-effects.\n",
    "\n",
    "- TODO: What happens with all those advantages we had with pure functions?"
   ]
  },
  {
   "cell_type": "markdown",
   "metadata": {},
   "source": [
    "## Intro to impure functions"
   ]
  },
  {
   "cell_type": "markdown",
   "metadata": {},
   "source": [
    "Functions with side effects are called **impure fuunctions**. As a recap:\n",
    "\n",
    "| Pure | Impure |\n",
    "| --- | --- |\n",
    "| Always produces the same result when given the same parameters | May produce different results for the same parameters |\n",
    "| Never has side effect | May have side effects |\n",
    "| Never alters state | May alter the global state of the program, system, or world |\n",
    "| Doesn't have `IO` anywhere | Has `IO` somewhwere |"
   ]
  },
  {
   "cell_type": "markdown",
   "metadata": {},
   "source": [
    "Haskell strictly separates pure code from the impure interactions with things outside the program. \n",
    "\n",
    "Because we would still like our Haskell programs to alter the world outside our program, we can do this via **IO actions** denoted by `IO a`."
   ]
  },
  {
   "cell_type": "markdown",
   "metadata": {},
   "source": [
    "Because also **IO actions** can take in arguments as pure functions, we sometimes call them **IO functions** or **impure functions**. \n",
    "\n",
    "But strictly speaking, all functions in Haskell are pure functions and the rest are IO actions."
   ]
  },
  {
   "cell_type": "markdown",
   "metadata": {},
   "source": [
    "All these impure functions include a type that is marked with the `IO` wrapper followed by a type parameter `a`. \n",
    "\n",
    "This tells us that the impure function may first perform some computation with possible side effects and then return something of type `a` wrapped in the `IO` context."
   ]
  },
  {
   "cell_type": "markdown",
   "metadata": {},
   "source": [
    "Inside IO actions, it is possible to call pure functions and/or other IO actions. But you can never call an IO action inside a pure function."
   ]
  }
 ],
 "metadata": {
  "celltoolbar": "Slideshow",
  "kernelspec": {
   "display_name": "Haskell",
   "language": "haskell",
   "name": "haskell"
  },
  "language_info": {
   "codemirror_mode": "ihaskell",
   "file_extension": ".hs",
   "mimetype": "text/x-haskell",
   "name": "haskell",
   "pygments_lexer": "Haskell",
   "version": "9.0.2"
  }
 },
 "nbformat": 4,
 "nbformat_minor": 4
}
