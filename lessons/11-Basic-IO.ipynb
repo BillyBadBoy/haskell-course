{
 "cells": [
  {
   "cell_type": "markdown",
   "metadata": {},
   "source": [
    "# Basic I/O"
   ]
  },
  {
   "cell_type": "markdown",
   "metadata": {},
   "source": [
    "## Outline\n",
    "\n",
    "* Intro to impure functions\n",
    "* Basic IO actions\n",
    "* Composing IO actions\n",
    "* The do block\n",
    "* Recap"
   ]
  },
  {
   "cell_type": "markdown",
   "metadata": {},
   "source": [
    "## Intro to impure functions\n",
    "As we saw in lesson 1, Haskell is a purely functional language. This means that for every function, **only** its arguments determine what the outcome will be."
   ]
  },
  {
   "cell_type": "markdown",
   "metadata": {},
   "source": [
    "But this is quite limiting for a program, in the real world we want an application to process data from outside the program and provide results back. We want programs to be interactive, and they should definitely change things outside the scope of the program."
   ]
  },
  {
   "cell_type": "markdown",
   "metadata": {},
   "source": [
    "The interactions and changes outside the scope of a function are called **side effects**. Say we have a function that fetches the time and logs it into a file. Each time we call this function we give it no inputs and get no outputs back, we only observe the side effect of the file that is changed. So, this function is called **impure**. As a recap,\n",
    "\n",
    "| Pure | Impure |\n",
    "| --- | --- |\n",
    "| Always produces the same result when given the same parameter | May produce different results for the same parameter |\n",
    "| Never has side effect | May have side effects |\n",
    "| Never alters state | May alter the global state of the program, system, or world |"
   ]
  },
  {
   "cell_type": "markdown",
   "metadata": {},
   "source": [
    "## Basic IO actions"
   ]
  },
  {
   "cell_type": "markdown",
   "metadata": {},
   "source": [
    "Haskell strictly separates pure code from the impure world. But we would still like our Haskell programs to alter the world outside our program, it can do this via **IO actions** denoted by `IO a`."
   ]
  },
  {
   "cell_type": "markdown",
   "metadata": {},
   "source": [
    "All these impure functions include a type that is marked with the `IO` wrapper followed by some type `a`. This marks that it first performs some computation with possible some side effects, then it returns something of type `a`."
   ]
  },
  {
   "cell_type": "markdown",
   "metadata": {},
   "source": [
    "As a first example, we have the `putStrLn` function, which has as input a string and returns a type `()`. Together, the resulting return type is of `IO ()`. The `()` type here is the empty tuple, since it has zero elements it can only be one thing, namely nothing."
   ]
  },
  {
   "cell_type": "code",
   "execution_count": null,
   "metadata": {},
   "outputs": [],
   "source": [
    ":t putStrLn --(takes some string and writes it to StdOut)\n",
    "\n",
    "-- An IO action that perform the action of printing \"Hello World\".\n",
    "main :: IO ()\n",
    "main = putStrLn \"Hello World\"\n",
    "main"
   ]
  },
  {
   "cell_type": "markdown",
   "metadata": {},
   "source": [
    "The `IO a` wrapped function are still functions, and so they can be composed with other functions, just keep in mind that the type signatures you are using are matching. "
   ]
  },
  {
   "cell_type": "markdown",
   "metadata": {},
   "source": [
    "Since a combination of an impure function and a pure function still has side effects, the composed function also is an impure function that must use the wrapped marked `IO` as well. "
   ]
  },
  {
   "cell_type": "markdown",
   "metadata": {},
   "source": [
    "We see that we can **never** escape the `IO` wrapper once we used it."
   ]
  },
  {
   "cell_type": "code",
   "execution_count": null,
   "metadata": {},
   "outputs": [],
   "source": [
    "-- A pure function that prepends the string \"Hello \" to another string\n",
    "addHello :: String -> String\n",
    "addHello string = \"Hello \" ++ string\n",
    "\n",
    "-- Using the putStrLn function in the definition of an IO action.\n",
    "newPutStrLn :: String -> IO ()\n",
    "newPutStrLn name = putStrLn (addHello name)\n",
    "newPutStrLn \"John\""
   ]
  },
  {
   "cell_type": "markdown",
   "metadata": {},
   "source": [
    "Another useful example is the `getLine` action. This will ask for input from the user."
   ]
  },
  {
   "cell_type": "code",
   "execution_count": null,
   "metadata": {},
   "outputs": [],
   "source": [
    ":t getLine --(takes some StdIn and returns a string)\n",
    "\n",
    "main :: IO ()\n",
    "main = do\n",
    "    variable <- getLine --stores the user input to variable\n",
    "    print variable -- prints the variable value\n",
    "main"
   ]
  },
  {
   "cell_type": "markdown",
   "metadata": {},
   "source": [
    "The last example we will show here is the `listDirectory` which is located in the module `System.Directory`."
   ]
  },
  {
   "cell_type": "code",
   "execution_count": null,
   "metadata": {},
   "outputs": [],
   "source": [
    "import System.Directory (listDirectory) -- Importing some library for the listDirectory function\n",
    "\n",
    "-- this IO action will list the content of the directory it is given in a list. The \".\" input refers to the current jupyter working directory (week02)\n",
    ":t listDirectory\n",
    "listDirectory \".\""
   ]
  },
  {
   "cell_type": "markdown",
   "metadata": {},
   "source": [
    "## Composing IO actions\n",
    "Now that we can use actions to do useful side effects outside our program, we would like to be able to compose two actions, just like with pure functions. "
   ]
  },
  {
   "cell_type": "markdown",
   "metadata": {},
   "source": [
    "This should not be hard, just use another `IO a` as an input as before to get a function of type `IO a -> IO b`. But this construction is not so obvious, this is highlighted in the below example."
   ]
  },
  {
   "cell_type": "code",
   "execution_count": null,
   "metadata": {},
   "outputs": [],
   "source": [
    "-- An IO action that perform the action of printing \"Hello\". \n",
    "someIOType :: IO ()\n",
    "someIOType = putStrLn \"Hello\"\n",
    "\n",
    "-- A naive and wrong function that can combine two IO () actions\n",
    "combineIO :: IO () -> IO ()    -- A naive and wrong way of composing IO actions\n",
    "combineIO io = putStrLn \"world\"\n",
    "combineIO someIOType"
   ]
  },
  {
   "cell_type": "markdown",
   "metadata": {},
   "source": [
    "Here, the `someIOType` which perform the action of writing “Hello” is not being performed. This is because the input `IO ()` is not being used in the body of the function, so it is not being evaluated. "
   ]
  },
  {
   "cell_type": "markdown",
   "metadata": {},
   "source": [
    "But how can we call this IO action on the right side? To solve this, we introduce the **then** operator given by `>>` and the **bind** operator given by `>>=`. "
   ]
  },
  {
   "cell_type": "markdown",
   "metadata": {},
   "source": [
    "These operators allow for the composition of IO actions. The difference between the two is that the then operator `>>` does not forward the return value of its first action, while the bind operator `>>=` does. So as an overview,\n",
    "\n",
    "| `>>` | `>>=` |\n",
    "| --- | --- |\n",
    "| Composes two IO actions | Composes two IO actions |\n",
    "| Does not forward the return type | Forwards the return type |\n",
    "\n",
    "As an example, we first have a look at how the `>>` operator"
   ]
  },
  {
   "cell_type": "code",
   "execution_count": null,
   "metadata": {},
   "outputs": [],
   "source": [
    "import System.Directory (listDirectory)\n",
    "\n",
    "-- A new expression that is of type IO ()\n",
    "printHello :: IO ()\n",
    "printHello = putStrLn \"Hello \" \n",
    "\n",
    "-- A new expression that is of type IO ()\n",
    "printWorld :: IO ()\n",
    "printWorld = putStrLn \"World\"\n",
    "\n",
    "--Combining the above IO actions\n",
    "printHello >> printWorld"
   ]
  },
  {
   "cell_type": "markdown",
   "metadata": {},
   "source": [
    "Here, the `printHello` first performs some side effect and then the `printWorld` action performs its side effect. The arrows of the operator `>>` indicate the flow of the action and in which order they are performed. "
   ]
  },
  {
   "cell_type": "markdown",
   "metadata": {},
   "source": [
    "Now for an example of the `>>=` operator"
   ]
  },
  {
   "cell_type": "code",
   "execution_count": null,
   "metadata": {},
   "outputs": [],
   "source": [
    "import System.Directory (listDirectory)\n",
    "\n",
    "-- A new expression that is of type IO ()\n",
    "getFiles :: IO [FilePath]\n",
    "getFiles = listDirectory \".\" \n",
    "\n",
    "-- A new expression that is of type IO ()\n",
    "printFirstFile :: [FilePath] -> IO ()\n",
    "printFirstFile = print . head \n",
    "\n",
    "--Combining the above IO actions with forwarding the \n",
    "getFiles >>= printFirstFile"
   ]
  },
  {
   "cell_type": "markdown",
   "metadata": {},
   "source": [
    "Here we used `print` which is also an IO action instead of `putStrLn` to show the first element of the list of file paths. This function automatically converts a type to a string and shows it, it saves in syntax."
   ]
  },
  {
   "cell_type": "markdown",
   "metadata": {},
   "source": [
    "## The do block"
   ]
  },
  {
   "cell_type": "markdown",
   "metadata": {},
   "source": [
    "Now that we know how to compose actions, we are going to generalize this with the so called **do block**. To introduce the necessity and reasons behind this useful syntax, we look at a few examples. "
   ]
  },
  {
   "cell_type": "markdown",
   "metadata": {},
   "source": [
    "First, consider the composition of many actions via the then operator `>>`."
   ]
  },
  {
   "cell_type": "code",
   "execution_count": null,
   "metadata": {},
   "outputs": [],
   "source": [
    "--  IO ()              IO String           IO ()\n",
    "putStrLn \"Action one\" >> getLine >> putStrLn \"Action three\""
   ]
  },
  {
   "cell_type": "markdown",
   "metadata": {},
   "source": [
    "Here each action is **sequentially** performed, the first and last concatenated actions print “Action one” and “Action three” respectively. The middle action asks for input, which performs no output to the console at all."
   ]
  },
  {
   "cell_type": "markdown",
   "metadata": {},
   "source": [
    "Let's look at how this pattern would work for the bind operator `>>=`."
   ]
  },
  {
   "cell_type": "code",
   "execution_count": null,
   "metadata": {},
   "outputs": [],
   "source": [
    "import System.Directory (listDirectory)\n",
    "\n",
    "-- A new expression that is of type IO ()\n",
    "getFiles :: IO [FilePath]\n",
    "getFiles = listDirectory \".\" \n",
    "\n",
    "-- A new expression that is of type IO ()\n",
    "printFirstFile :: [FilePath] -> IO ()\n",
    "printFirstFile = print . head \n",
    "\n",
    "-- A new expression that is of type IO ()\n",
    "printLastFile :: [FilePath] -> IO ()\n",
    "printLastFile = print . last \n",
    "\n",
    "getFiles >>= printFirstFile >>= printLastFile\n"
   ]
  },
  {
   "cell_type": "markdown",
   "metadata": {},
   "source": [
    "The compiler gives an error since we are incorrectly matching the types of the functions used! "
   ]
  },
  {
   "cell_type": "markdown",
   "metadata": {},
   "source": [
    "The function `printFirstFile` returns a `()` while the `printLastFile` function expects a `[FilePath]`."
   ]
  },
  {
   "cell_type": "markdown",
   "metadata": {},
   "source": [
    "Somehow we need to manage how inputs and outputs of these functions are used, ideally we would like the `printLastFile` function to use the output of the `getFiles` function. "
   ]
  },
  {
   "cell_type": "markdown",
   "metadata": {},
   "source": [
    "Achieving this can be done with lambda functions, that we saw in lesson 5. As a small recap, they take the form"
   ]
  },
  {
   "cell_type": "code",
   "execution_count": null,
   "metadata": {},
   "outputs": [],
   "source": [
    "(\\x -> 2*x + 1) 1 -- Here the lambda function (\\x -> 2*x + 1) is applied to the argument 1"
   ]
  },
  {
   "cell_type": "markdown",
   "metadata": {},
   "source": [
    "Using this, we can combine the action while making the inputs **progressively** available to the other actions inline. We do this by adding the actions in order to a lambda function. The following example achieves what we wanted,"
   ]
  },
  {
   "cell_type": "code",
   "execution_count": null,
   "metadata": {},
   "outputs": [],
   "source": [
    "import System.Directory (listDirectory)\n",
    "\n",
    "-- A new expression that is of type IO ()\n",
    "getFiles :: IO [FilePath]\n",
    "getFiles = listDirectory \".\" \n",
    "\n",
    "-- A new expression that is of type IO ()\n",
    "printFirstFile :: [FilePath] -> IO ()\n",
    "printFirstFile = print . head \n",
    "\n",
    "-- A new expression that is of type IO ()\n",
    "printLastFile :: [FilePath] -> IO ()\n",
    "printLastFile = print . last \n",
    "\n",
    "getFiles >>= (\\x1 -> printFirstFile x1 >>= (\\x2 -> printLastFile x1))"
   ]
  },
  {
   "cell_type": "markdown",
   "metadata": {},
   "source": [
    "Here we first forward the output of the `grabFiles` action denoted by `x1` into a lambda function. "
   ]
  },
  {
   "cell_type": "markdown",
   "metadata": {},
   "source": [
    "In this lambda function, the action `printFirstFile x1` is performed, and its output is forwarded to another lambda function that does not use this output. "
   ]
  },
  {
   "cell_type": "markdown",
   "metadata": {},
   "source": [
    "Instead, it performs the `printLastFile` action with the input `x1`. "
   ]
  },
  {
   "cell_type": "markdown",
   "metadata": {},
   "source": [
    "Notice that with this construction, all inputs gradually become available to the last function. Now, clearly this construction is very cumbersome and not practical in real life coding!"
   ]
  },
  {
   "cell_type": "markdown",
   "metadata": {},
   "source": [
    "That's why to make it easier this whole construction is done by a **do block**. This is just some syntactic sugar that does the above construction. "
   ]
  },
  {
   "cell_type": "markdown",
   "metadata": {},
   "source": [
    "This block looks just like an imperative way of programming, but in its core it is still functional by using lambda functions. "
   ]
  },
  {
   "cell_type": "markdown",
   "metadata": {},
   "source": [
    "An example, the above composition of actions in a do block becomes,"
   ]
  },
  {
   "cell_type": "code",
   "execution_count": null,
   "metadata": {},
   "outputs": [],
   "source": [
    "import System.Directory (listDirectory)\n",
    "\n",
    "-- A new expression that is of type IO ()\n",
    "getFiles :: IO [FilePath]\n",
    "getFiles = listDirectory \".\" \n",
    "\n",
    "-- A new expression that is of type IO ()\n",
    "printFirstFile :: [FilePath] -> IO ()\n",
    "printFirstFile = print . head \n",
    "\n",
    "-- A new expression that is of type IO ()\n",
    "printLastFile :: [FilePath] -> IO ()\n",
    "printLastFile = print . last \n",
    "\n",
    "-- The introduction of the do block\n",
    "do x1 <- getFiles\n",
    "   printFirstFile x1\n",
    "   printLastFile x1"
   ]
  },
  {
   "cell_type": "markdown",
   "metadata": {},
   "source": [
    "Again, in a do block, each line can perform some action. In the above example, the do block is called by `do` followed by the first action `getFiles`. This action is performed, and its output is stored in the variable `x1` using the syntactic arrow `<-`. "
   ]
  },
  {
   "cell_type": "markdown",
   "metadata": {},
   "source": [
    "Then the next action `printFirstFile` is performed with as input the variable `x1`. "
   ]
  },
  {
   "cell_type": "markdown",
   "metadata": {},
   "source": [
    "Lastly, the action `printLastFile` is called with also as input `x1`. "
   ]
  },
  {
   "cell_type": "markdown",
   "metadata": {},
   "source": [
    "This do block  is fundamentally the same as the previous example that used a lambda function. With these do blocks, we can write clearly structured code that performs multiple side effect. "
   ]
  },
  {
   "cell_type": "markdown",
   "metadata": {},
   "source": [
    "Inside a do block, you can also define let and where bindings define variables in the block. "
   ]
  },
  {
   "cell_type": "code",
   "execution_count": null,
   "metadata": {},
   "outputs": [],
   "source": [
    "main :: IO ()\n",
    "main = do fileList <- getFiles\n",
    "          let elemOne = fileList !! 1 -- take the 2nd elemet from the list\n",
    "          print elemOne\n",
    "main  "
   ]
  },
  {
   "cell_type": "markdown",
   "metadata": {},
   "source": [
    "## Recap"
   ]
  },
  {
   "cell_type": "markdown",
   "metadata": {},
   "source": [
    "In this section, we have introduced the concepts of IO actions. \n",
    "\n",
    "- Haskell knows two types of functions, pure and impure function, the latter are called IO actions. \n",
    "- These types of impure function are wrapped and marked by `IO` and may perform useful side effects. \n",
    "- Once a type is wrapped in an IO action, it can never shed this wrapper. \n",
    "- IO action can be composed using two operators, the then operator denoted by `>>` and the bind operator denoted by `>>=`.\n",
    "- The do block let you easily compose multiple action."
   ]
  }
 ],
 "metadata": {
  "kernelspec": {
   "display_name": "Haskell",
   "language": "haskell",
   "name": "haskell"
  },
  "language_info": {
   "codemirror_mode": "ihaskell",
   "file_extension": ".hs",
   "mimetype": "text/x-haskell",
   "name": "haskell",
   "pygments_lexer": "Haskell",
   "version": "8.10.7"
  }
 },
 "nbformat": 4,
 "nbformat_minor": 4
}
