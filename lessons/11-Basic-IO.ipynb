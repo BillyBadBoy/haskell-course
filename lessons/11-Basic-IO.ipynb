{
 "cells": [
  {
   "cell_type": "markdown",
   "metadata": {},
   "source": [
    "# Basic I/O"
   ]
  },
  {
   "cell_type": "markdown",
   "metadata": {},
   "source": [
    "## Outline\n",
    "\n",
    "* Intro to impure functions\n",
    "\n",
    "* Basic IO actions\n",
    "  - Printing messages to the user\n",
    "\n",
    "  - Retrieving input data from the user\n",
    "\n",
    "  - Reading from the file system\n",
    "\n",
    "* Composing IO actions\n",
    "\n",
    "* The do block\n",
    "  - Nesting do-blocks\n",
    "\n",
    "* Recap"
   ]
  },
  {
   "cell_type": "markdown",
   "metadata": {},
   "source": [
    "## Pure functions"
   ]
  },
  {
   "cell_type": "markdown",
   "metadata": {},
   "source": [
    "So far, we've been working with pure functions. These functions have no side-efects and (see diagram) take all it's arguments as input and produce a value as an output that depends only on those arguments and the function's logic."
   ]
  },
  {
   "cell_type": "markdown",
   "metadata": {},
   "source": [
    "-- TODO: Diagram --"
   ]
  },
  {
   "cell_type": "markdown",
   "metadata": {},
   "source": [
    "What we mean by input, output, and side-effect is crucial here. A function's input can be only the values we provide as arguments, and a function's output is the value the function returns.\n",
    "\n",
    "For example:"
   ]
  },
  {
   "cell_type": "markdown",
   "metadata": {},
   "source": [
    "-- TODO: add 2 or 3 different functions with its inputs and outputs aligned with the Diagram above --"
   ]
  },
  {
   "cell_type": "markdown",
   "metadata": {},
   "source": [
    "But that begs the question, what if we want to make an interactive program? A website? A game? When we write our program, we have no idea of what the user will do with it. We can't know in advance if a player in our game will move to the left or right, or a user in our website will click in a specific button or not. Those are things that happen while running the program, so there's no way for the programmer to pass them as inputs of a function.\n",
    "\n",
    "I mean, we could, but imagine if we chose them beforehand. A game that always does the same and finishes in the same way without any way for the player to interact wih it. That's sounds more like a movie, still not bad. Until you realize that you can't even show the image on the screen, cause that would entail sending information and mantaining a connection with your computer's screen, that is outside our program. So, if you run this \"game\", you're basically using your comptuer as a very expensive heater.\n",
    "\n",
    "The only way to provide our program with the information and capabilities it needs, is to give it a way to interact with the real world.\n",
    "\n",
    "And for that, Haskell uses IO actions."
   ]
  },
  {
   "cell_type": "markdown",
   "metadata": {},
   "source": [
    "## Introduction to IO Actions"
   ]
  },
  {
   "cell_type": "markdown",
   "metadata": {},
   "source": [
    "Before starting, with IO actions, I'll address the elephant in the room. I just told you that everything we coded so far was pure and we couldn't interact with it, but we've been running our functions and passing arguments like it was nothing since lesson one! That's because we've been cheeting by using GHCi, that performs IO actions in the background without explicitly telling us. So, at the end of the day, if we want our program to interact with the real world, we still need IO actions."
   ]
  },
  {
   "cell_type": "markdown",
   "metadata": {},
   "source": [
    "In Haskell, when we want to do something that has a side effect, we use actions. There are many kinds of actions, but today we'll learn about IO actions, one of the most common and important ones.\n",
    "\n",
    "The name IO actions gives room for missinterpretation. When we talk about IO actions, we're not talking about the input and output of the function, we talk about the input and output between our program and the real world. IO actions can interact with and change the world outside our program. They might or might not actually have side effects, but they CAN. That's key. They are allowed to have side effects."
   ]
  },
  {
   "cell_type": "markdown",
   "metadata": {},
   "source": [
    "***IO action* (or just *action*/*computation*):** Are  that can interact with and change the world outside our program. "
   ]
  },
  {
   "cell_type": "markdown",
   "metadata": {},
   "source": [
    "Let's see a few examples:"
   ]
  },
  {
   "cell_type": "markdown",
   "metadata": {},
   "source": [
    "- Obtain the result of what a person typed in the keyboard."
   ]
  },
  {
   "cell_type": "markdown",
   "metadata": {},
   "source": [
    "- Show some text, an image, or something on the screen"
   ]
  },
  {
   "cell_type": "markdown",
   "metadata": {},
   "source": [
    "- Save to, or get something from, a data base."
   ]
  },
  {
   "cell_type": "markdown",
   "metadata": {},
   "source": [
    "- Call an API (doesn't really matter what you do with the API)."
   ]
  },
  {
   "cell_type": "markdown",
   "metadata": {},
   "source": [
    "- CRUD a file/directory on a filesystem."
   ]
  },
  {
   "cell_type": "markdown",
   "metadata": {},
   "source": [
    "Ok, so, we are clear about what IO actions are. Now, how does Haskell handle IO actions?"
   ]
  },
  {
   "cell_type": "markdown",
   "metadata": {},
   "source": [
    "## IO actions under the hood"
   ]
  },
  {
   "cell_type": "markdown",
   "metadata": {},
   "source": [
    "Haskell allows for controled side-effects by explicitly tagging them in the type system.\n",
    "\n",
    "Now, I'm going to show you the definition of the type that alows us to safely interact with the real world using IO actions. I wasn't going to show you, but I know you'd go behind my back to see it, so I might aswell show it to you. A heads up, don't try to understand the code, we'll only use it to create a mental model of what's happening under the hood.\n",
    "\n",
    "Without further ado, here's the `IO` type:"
   ]
  },
  {
   "cell_type": "markdown",
   "metadata": {},
   "source": [
    "```haskell\n",
    "newtype IO a = IO (State# RealWorld -> (# State# RealWorld, a #))\n",
    "```"
   ]
  },
  {
   "cell_type": "markdown",
   "metadata": {},
   "source": [
    "As you can see, `IO` is a type constructor that takes one concrete type as parameter. Now, what hapens after the equal sign looks like magic, and it might aswell be, because that's completely outside the scope of this course. But we can still use it to create a mental model."
   ]
  },
  {
   "cell_type": "markdown",
   "metadata": {},
   "source": [
    "There's a single `IO` value constructor. It takes a function that takes the state of the whole real world, does something to it, and returns a tuple containing the state of the real world that may have changed, and a value of type `a` that was generated after whatever the action did.\n",
    "\n",
    "Aren't the designers of Haskell a bunch of smarty-pants? If you give a function the state of the whole real world, that function can do anything! Talk to databases, allow penguins to fly, fix world-wide catastrophes, anything!. We'll use it to print stuff in the screen, though.\n",
    "\n",
    "Of course, this is not what is really happening under this seamingly magical type, but is useful to see how we can put together the idea of functions that only operate with the inputs they get, and interacting with the real world. If the real world is the input, the idea we have about how a function works, holds."
   ]
  },
  {
   "cell_type": "markdown",
   "metadata": {},
   "source": [
    "Now, let's switch to the practical side. In practice, we don't care about the details of how the interaction with the real world is handled. We don't even care about how the `IO` type is defined! The only thing that we care is that, if we use it properly, the compiler will handle the details and we won't get any surprises when running our code. So let's learn how to properly use the `IO` type."
   ]
  },
  {
   "cell_type": "markdown",
   "metadata": {
    "slideshow": {
     "slide_type": "slide"
    }
   },
   "source": [
    "## IO actions in practice"
   ]
  },
  {
   "cell_type": "markdown",
   "metadata": {
    "slideshow": {
     "slide_type": "slide"
    }
   },
   "source": [
    "```haskell\n",
    "something :: IO a\n",
    "```"
   ]
  },
  {
   "cell_type": "markdown",
   "metadata": {
    "slideshow": {
     "slide_type": "notes"
    }
   },
   "source": [
    "The `IO a` type tells us that `something` is an IO action that, after interacting with the real world, returns a value of type `a`.\n",
    "\n",
    "For example:"
   ]
  },
  {
   "cell_type": "markdown",
   "metadata": {
    "slideshow": {
     "slide_type": "fragment"
    }
   },
   "source": [
    "```haskell\n",
    "action1 :: IO Bool             -- Performs IO action and returns a Bool afterwards\n",
    "\n",
    "action2 :: IO Int              -- Performs IO action and returns an Int afterwards\n",
    "\n",
    "action3 :: IO (Double -> Char) -- Performs IO action and returns a function afterwards\n",
    "\n",
    "action4 :: IO ()               -- Performs IO action and doesn't return anything important\n",
    "```"
   ]
  },
  {
   "cell_type": "markdown",
   "metadata": {
    "slideshow": {
     "slide_type": "notes"
    }
   },
   "source": [
    "There are two key things to note here:\n",
    "1. One is that, after performing the action, we get a value of the specified type that we can use in our code.\n",
    "2. The other is that, the action returns a value AFTER performaing the IO action. We CAN NOT get that value without interacting with the real world. You'll see how this affects how we use IO actions.\n",
    "3. And finally, we see a new type in the last action: The unit type."
   ]
  },
  {
   "cell_type": "markdown",
   "metadata": {
    "slideshow": {
     "slide_type": "notes"
    }
   },
   "source": [
    "### The unit type"
   ]
  },
  {
   "cell_type": "markdown",
   "metadata": {
    "slideshow": {
     "slide_type": "fragment"
    }
   },
   "source": [
    "```haskell\n",
    "data () = ()\n",
    "```"
   ]
  },
  {
   "cell_type": "markdown",
   "metadata": {
    "slideshow": {
     "slide_type": "notes"
    }
   },
   "source": [
    "This is the unit type. We see that it has only one value constructor that takes no parameters (also called nullary constructor). Also, like lists, the type and the value look the same. And we use it to represent a value with no information. It's similar but not quite like the \"void\" value of Java, C, and other languages.\n",
    "\n",
    "But, wait, why do we learn about this just now? Well, because, untill now, we've been working with pure functions. If the only thing a pure function does is to return `()`, why do you even bother to use that function? Just use the value directly! And if a function takes the unit value as parameter, why do you even bother in requiring that as paramter if it's always the same value? Just remove that parameter and use unit inside the function directly! \n",
    "\n",
    "So, when you think about it, the unit type can be completely removed from any pure function and you loose nothing. BUT! Now that we're dealing with actions and side effects, there are plenty of cases when we don't really care about what the action returns as a value but we care only about the side effect it performs. Like printing something on the screen, or deleting a file. We don't need a value in return, we care only about the side effect.\n",
    "\n",
    "That's why now it makes sense to have this type to represent a value that we don't care about.\n",
    "\n",
    "If it doesn't quite click, don't worry, we'll see a couple of real-life examples during this lesson. But before that, let's see real life examples of simple actions."
   ]
  },
  {
   "cell_type": "markdown",
   "metadata": {
    "slideshow": {
     "slide_type": "slide"
    }
   },
   "source": [
    "### Retrieving input data from the user"
   ]
  },
  {
   "cell_type": "markdown",
   "metadata": {},
   "source": [
    "The most basic IO action I can think of is `getChar`:"
   ]
  },
  {
   "cell_type": "code",
   "execution_count": 12,
   "metadata": {},
   "outputs": [
    {
     "ename": "",
     "evalue": "",
     "output_type": "error",
     "traceback": [
      "<stdin>: hGetChar: end of file"
     ]
    }
   ],
   "source": [
    "-- getChar :: IO Char\n",
    "getChar"
   ]
  },
  {
   "cell_type": "markdown",
   "metadata": {},
   "source": [
    "This function performs the IO action of asking the user to write a single character on the standard input. And the value of type `Char` it returns is the character the user wrote. We can run the function here to see how that looks."
   ]
  },
  {
   "cell_type": "markdown",
   "metadata": {},
   "source": [
    "As you can see, when we run this cell, a text area appears so we can input a character. There's still some magic going on because we're using this Jupyter cells that run GHCi under the hood, but we'll get rid of them soon enough. \n",
    "\n",
    "\n",
    "Now, there are cases when a single character is enough, but what about a whole phrase? For that, we can use another function that comes with the base library in Haskell. The `getLine` function:"
   ]
  },
  {
   "cell_type": "code",
   "execution_count": 4,
   "metadata": {
    "scrolled": true
   },
   "outputs": [
    {
     "ename": "",
     "evalue": "",
     "output_type": "error",
     "traceback": [
      "<stdin>: hGetLine: end of file"
     ]
    }
   ],
   "source": [
    "-- getLine :: IO String\n",
    "getLine"
   ]
  },
  {
   "cell_type": "markdown",
   "metadata": {},
   "source": [
    "This one performs the IO action of of asking the user to write a line on the standard input. And the value of type String it returns is the text the user wrote until it pressed Enter."
   ]
  },
  {
   "cell_type": "markdown",
   "metadata": {},
   "source": [
    "The `getChar` and `getLine` functions are great and all, but if we run a program with just these, it will prompt us for a character or string without any explanation. Like if you where minding your own business, and all of the sudden, someone stands in front of you with their hand out and silently stares at you. We need a way not only to get but to also send messages to the outside world, and for that, we have to use our first impure function."
   ]
  },
  {
   "cell_type": "markdown",
   "metadata": {
    "slideshow": {
     "slide_type": "slide"
    }
   },
   "source": [
    "### Actions VS Impure Functions  (printing messages to the user)"
   ]
  },
  {
   "cell_type": "markdown",
   "metadata": {},
   "source": [
    "Let me present you the `putStrLn` function:"
   ]
  },
  {
   "cell_type": "markdown",
   "metadata": {},
   "source": [
    "```haskell\n",
    "putStrLn :: String -> IO ()\n",
    "```"
   ]
  },
  {
   "cell_type": "markdown",
   "metadata": {},
   "source": [
    "`putStrLn` takes a string and returns an IO action that, after it's performed, returns a unit value, a value we don't care about. It has the `IO` type constructor in its type, but it is not an action. It's a function that takes one argument (a string) and returns an action of type `IO ()`. The distinction is subtle but important. IO actions will never require additional arguments, but we can have functions that perform actions (such as putStrLn). And those are what we call impure functions.\n",
    "\n",
    "So, what does the action of `putStrLn` do? It takes the string we pass as parameter and prints it in the standard output:"
   ]
  },
  {
   "cell_type": "code",
   "execution_count": 1,
   "metadata": {
    "scrolled": true
   },
   "outputs": [
    {
     "data": {
      "text/plain": [
       "Hello World from inside the program!"
      ]
     },
     "metadata": {},
     "output_type": "display_data"
    }
   ],
   "source": [
    "putStrLn \"Hello World from inside the program!\""
   ]
  },
  {
   "cell_type": "markdown",
   "metadata": {},
   "source": [
    "-- Diagram"
   ]
  },
  {
   "cell_type": "markdown",
   "metadata": {},
   "source": [
    "```haskell\n",
    "(putStrLn)      :: String -> IO ()\n",
    "\n",
    "(putStrLn \"Hi\") :: IO ()\n",
    "```"
   ]
  },
  {
   "cell_type": "markdown",
   "metadata": {},
   "source": [
    "What's happenning here, is that `putStrLn` is applied to the String and it returns an action of type IO (). Then, because we're using a Jupyter notebook that automatically performs the action of the top function and prints the result, we get the String in our standard output, below the cell. \n",
    "\n",
    "So, as a recap:"
   ]
  },
  {
   "cell_type": "markdown",
   "metadata": {},
   "source": [
    "| Pure | Impure |\n",
    "| --- | --- |\n",
    "| Always produces the same result when given the same parameters | May produce different results for the same parameters |\n",
    "| Never has side effect | May have side effects |\n",
    "| Never alters state | May alter the global state of the program, system, or world |\n",
    "| Doesn't have `IO` anywhere | Has `IO` somewhwere |"
   ]
  },
  {
   "cell_type": "markdown",
   "metadata": {},
   "source": [
    "But check this out:"
   ]
  },
  {
   "cell_type": "code",
   "execution_count": 6,
   "metadata": {},
   "outputs": [
    {
     "data": {
      "text/html": [
       "<style>/* Styles used for the Hoogle display in the pager */\n",
       ".hoogle-doc {\n",
       "display: block;\n",
       "padding-bottom: 1.3em;\n",
       "padding-left: 0.4em;\n",
       "}\n",
       ".hoogle-code {\n",
       "display: block;\n",
       "font-family: monospace;\n",
       "white-space: pre;\n",
       "}\n",
       ".hoogle-text {\n",
       "display: block;\n",
       "}\n",
       ".hoogle-name {\n",
       "color: green;\n",
       "font-weight: bold;\n",
       "}\n",
       ".hoogle-head {\n",
       "font-weight: bold;\n",
       "}\n",
       ".hoogle-sub {\n",
       "display: block;\n",
       "margin-left: 0.4em;\n",
       "}\n",
       ".hoogle-package {\n",
       "font-weight: bold;\n",
       "font-style: italic;\n",
       "}\n",
       ".hoogle-module {\n",
       "font-weight: bold;\n",
       "}\n",
       ".hoogle-class {\n",
       "font-weight: bold;\n",
       "}\n",
       ".get-type {\n",
       "color: green;\n",
       "font-weight: bold;\n",
       "font-family: monospace;\n",
       "display: block;\n",
       "white-space: pre-wrap;\n",
       "}\n",
       ".show-type {\n",
       "color: green;\n",
       "font-weight: bold;\n",
       "font-family: monospace;\n",
       "margin-left: 1em;\n",
       "}\n",
       ".mono {\n",
       "font-family: monospace;\n",
       "display: block;\n",
       "}\n",
       ".err-msg {\n",
       "color: red;\n",
       "font-style: italic;\n",
       "font-family: monospace;\n",
       "white-space: pre;\n",
       "display: block;\n",
       "}\n",
       "#unshowable {\n",
       "color: red;\n",
       "font-weight: bold;\n",
       "}\n",
       ".err-msg.in.collapse {\n",
       "padding-top: 0.7em;\n",
       "}\n",
       ".highlight-code {\n",
       "white-space: pre;\n",
       "font-family: monospace;\n",
       "}\n",
       ".suggestion-warning { \n",
       "font-weight: bold;\n",
       "color: rgb(200, 130, 0);\n",
       "}\n",
       ".suggestion-error { \n",
       "font-weight: bold;\n",
       "color: red;\n",
       "}\n",
       ".suggestion-name {\n",
       "font-weight: bold;\n",
       "}\n",
       "</style><span class='get-type'>x :: IO ()</span>"
      ],
      "text/plain": [
       "x :: IO ()"
      ]
     },
     "metadata": {},
     "output_type": "display_data"
    }
   ],
   "source": [
    "x = putStrLn \"Hello World from inside the program!\"\n",
    "\n",
    ":t x"
   ]
  },
  {
   "cell_type": "markdown",
   "metadata": {},
   "source": [
    "As you can see, if we run that cell, we don't get the String in our standard output. That's because we didn't ask for the action to be performed. We just named it `x` and that's it. We never needed it, so we didn't perform it.\n",
    "\n",
    "And that's another property of actions, they are what in programming is called first-class values."
   ]
  },
  {
   "cell_type": "markdown",
   "metadata": {},
   "source": [
    "## Actions are first-class values"
   ]
  },
  {
   "cell_type": "markdown",
   "metadata": {},
   "source": [
    "This means that you can treat actions the same as any other value. For example:"
   ]
  },
  {
   "cell_type": "code",
   "execution_count": 32,
   "metadata": {},
   "outputs": [],
   "source": [
    "-- putStrLn is an example of a function that returns an action\n",
    "\n",
    "\n",
    "-- Bind to names\n",
    "x = putStrLn \"Hello World from inside the program!\"\n",
    "\n",
    "\n",
    "-- Put them inside lists or other data structures\n",
    "listOfActions :: [IO ()]\n",
    "listOfActions = [putStrLn \"a\", putStrLn \"b\"]\n",
    "\n",
    "\n",
    "-- Pass them as function parameters\n",
    "fakeLength :: [IO ()] -> Int\n",
    "fakeLength list = 1 + length listOfActions"
   ]
  },
  {
   "cell_type": "markdown",
   "metadata": {},
   "source": [
    "And, like it happened before, if we run the `fakeLenghth` function passing the `listOfActions` as parameters..."
   ]
  },
  {
   "cell_type": "code",
   "execution_count": 33,
   "metadata": {},
   "outputs": [
    {
     "data": {
      "text/plain": [
       "3"
      ]
     },
     "metadata": {},
     "output_type": "display_data"
    }
   ],
   "source": [
    "fakeLength listOfActions"
   ]
  },
  {
   "cell_type": "markdown",
   "metadata": {},
   "source": [
    "We don't get any of the messages in the standard ouput because none of the actions inside the list is performed! Why should they be performed? We just asked about the length of the list, not the values it contains. Remember that Haskell is lazier than a cat sunbathing. It won't do anything unles it has to. \n",
    "\n",
    "And this is important to note, not only because you can move arround actions like any other  value, but because it shows that actions are just plans to do something. The `putStrLn` function is a plan that, as soon it's performed, will print a string to the console. But it's not actually performed until we need it. It's like when you plan to go to the GYM starting this year. That's the action. But, until you perform that action, you won't get the result of it, that is, being fit. So, we can do all the planning we want, we can put all the plans together in a list, reorder them, move them around. But we won't get the result until we perform them.\n",
    "\n",
    "\n",
    "So, until then, an IO action is just a plan to do something, a program to be runed, or an action to be performed. However it makes more intuitive sense to you.\n",
    "\n",
    "Because the side effects aren't performed while evaluating all those expressions, this allows us to keep resoning about our code like used to. And only care for the actual side effects when we ask Haskell to perform them.\n",
    "\n",
    "\n",
    "So, how can we ask Haskell to perform a few different actions? By composing them with special operators."
   ]
  },
  {
   "cell_type": "markdown",
   "metadata": {},
   "source": [
    "## Composing IO actions (`>>` and `>>=` operators)"
   ]
  },
  {
   "cell_type": "markdown",
   "metadata": {},
   "source": [
    "To learn how to combine IO actions, we'll create a few bots."
   ]
  },
  {
   "cell_type": "markdown",
   "metadata": {},
   "source": [
    "### Rude bot"
   ]
  },
  {
   "cell_type": "markdown",
   "metadata": {},
   "source": [
    "The first one is a rude bot. As soon as you interact with it, it yells at you.\n",
    "\n",
    "We'll start with a single meesage:"
   ]
  },
  {
   "cell_type": "code",
   "execution_count": 8,
   "metadata": {},
   "outputs": [
    {
     "data": {
      "text/plain": [
       "Hey!"
      ]
     },
     "metadata": {},
     "output_type": "display_data"
    }
   ],
   "source": [
    "rudeBot :: IO ()\n",
    "rudeBot = putStrLn \"Hey!\"\n",
    "\n",
    "rudeBot"
   ]
  },
  {
   "cell_type": "markdown",
   "metadata": {},
   "source": [
    "The bot has to catch it's breath before yelling at you again, so we'll add the next phrase in a second action. To do that, we'll introduce the \"then\" operator:"
   ]
  },
  {
   "cell_type": "markdown",
   "metadata": {},
   "source": [
    "```haskell\n",
    "(>>) :: IO a -> IO b -> IO b\n",
    "```"
   ]
  },
  {
   "cell_type": "markdown",
   "metadata": {},
   "source": [
    "As you can see, this operator takes two actions IO a and IO b. It first executes IO a, ignores the result (a), and returns the IO b action.\n",
    "\n",
    "If this where a pure operator, the implementation would look like this:"
   ]
  },
  {
   "cell_type": "code",
   "execution_count": 28,
   "metadata": {},
   "outputs": [
    {
     "data": {
      "text/plain": [
       "5"
      ]
     },
     "metadata": {},
     "output_type": "display_data"
    }
   ],
   "source": [
    "pureThen :: a -> b -> b\n",
    "x `pureThen` y = y\n",
    "\n",
    "\n",
    "3 `pureThen` 5"
   ]
  },
  {
   "cell_type": "markdown",
   "metadata": {},
   "source": [
    "We'd be just throwing away the first value and returing the second.\n",
    "\n",
    "But, because we're dealing with IO actions, this operator has some secret sauce that allows it to perform the first IO action before returning the second one. More specifically:"
   ]
  },
  {
   "cell_type": "markdown",
   "metadata": {},
   "source": [
    "The `>>` operator sequentially composes two actions, discarding any value produced by the first."
   ]
  },
  {
   "cell_type": "markdown",
   "metadata": {},
   "source": [
    "For example:"
   ]
  },
  {
   "cell_type": "code",
   "execution_count": 35,
   "metadata": {
    "scrolled": true
   },
   "outputs": [
    {
     "data": {
      "text/plain": [
       "a\n",
       "b\n",
       "c"
      ]
     },
     "metadata": {},
     "output_type": "display_data"
    }
   ],
   "source": [
    "abc = putStrLn \"a\" >> putStrLn \"b\" >> putStrLn \"c\"\n",
    "\n",
    "abc"
   ]
  },
  {
   "cell_type": "markdown",
   "metadata": {},
   "source": [
    "The direction of the arrows of the operator tells us the direction of the sequence, so, we perform actions from left to right.\n",
    "\n",
    "Now, le'ts use this operator to finish the rude bot:"
   ]
  },
  {
   "cell_type": "code",
   "execution_count": 36,
   "metadata": {
    "scrolled": true
   },
   "outputs": [
    {
     "data": {
      "text/plain": [
       "Hey!\n",
       "Get out of my lawn!"
      ]
     },
     "metadata": {},
     "output_type": "display_data"
    }
   ],
   "source": [
    "rudeBot :: IO ()\n",
    "rudeBot = putStrLn \"Hey!\" >> putStrLn \"Get out of my lawn!\"\n",
    "\n",
    "rudeBot"
   ]
  },
  {
   "cell_type": "markdown",
   "metadata": {},
   "source": [
    "Exactly what we wanted!\n",
    "\n",
    "But I think we could make it even ruder."
   ]
  },
  {
   "cell_type": "markdown",
   "metadata": {},
   "source": [
    "### An even ruder bot"
   ]
  },
  {
   "cell_type": "markdown",
   "metadata": {},
   "source": [
    "How could we make this bot more anoying? Hmm.. I know! Let's make it seem interested and then yell at us! So it also wastes our time.\n",
    "\n",
    "So, we'll make the bot ask our name, completely ignore it, and then yell at us. All that with this simple code:"
   ]
  },
  {
   "cell_type": "code",
   "execution_count": 37,
   "metadata": {},
   "outputs": [
    {
     "ename": "",
     "evalue": "",
     "output_type": "error",
     "traceback": [
      "<stdin>: hGetLine: end of file"
     ]
    }
   ],
   "source": [
    "evenRuderBot :: IO ()\n",
    "evenRuderBot =\n",
    "  putStrLn \"What's your name?\"            -- IO ()\n",
    "    >> getLine                            -- IO String\n",
    "    >> putStrLn \"like I care! Get lost!\"  -- IO ()\n",
    "    \n",
    "evenRuderBot"
   ]
  },
  {
   "cell_type": "markdown",
   "metadata": {},
   "source": [
    "It's getting a bit too long, so we'll split it into several lines.\n",
    "\n",
    "Besides that, not much has changed. The only real change is that we added a `getLine` function inbetween the `putStrLn` ones. But if we run it now, we see that:\n",
    "\n",
    "1. First, it performs the side effect of asking for our name in the standard output.\n",
    "2. THEN, it waits for us to type it.\n",
    "3. And THEN, after that side effect finishes, it sends the final message."
   ]
  },
  {
   "cell_type": "markdown",
   "metadata": {},
   "source": [
    "We can see ins the types that the second action returned a string. But because we used the `>>` operator, we completely ignore it. Let's learn how to actually make use of this value by taking our rude bot to therapy."
   ]
  },
  {
   "cell_type": "markdown",
   "metadata": {},
   "source": [
    "### Rude bot  after theraphy"
   ]
  },
  {
   "cell_type": "markdown",
   "metadata": {},
   "source": [
    "After going to therapy, our bot feels way better and now wants to be friends with us. And for that, it has to use our name. We can't use the `>>` operator, cause that ignores it. So, we need another operator that does the same but that passes the result of the first action to the second one. And for that, we use the \"bind\" operator:"
   ]
  },
  {
   "cell_type": "markdown",
   "metadata": {},
   "source": [
    "```haskell\n",
    "(>>=) :: IO a -> (a -> IO b) -> IO b\n",
    "```"
   ]
  },
  {
   "cell_type": "markdown",
   "metadata": {},
   "source": [
    "It looks complicated, but it's not that different from the `>>` operator.\n",
    "\n",
    "This operator takes and action `IO a` and an impure function that takes a value of the same type `a` as the one produced by the first action and returns another action IO b. \n",
    "\n",
    "So, what this operator does is to execute `IO a` to get the value `a`, and then pass that value to the impure function to get the `IO b` action as result. \n",
    "\n",
    "If this where a pure operator, the implementation would look like this:"
   ]
  },
  {
   "cell_type": "code",
   "execution_count": 38,
   "metadata": {
    "scrolled": true
   },
   "outputs": [
    {
     "data": {
      "text/plain": [
       "8"
      ]
     },
     "metadata": {},
     "output_type": "display_data"
    }
   ],
   "source": [
    "pureBind :: a -> (a -> b) -> b\n",
    "x `pureBind` f = f x\n",
    "\n",
    "\n",
    "3 `pureBind` (5+)  -- Same as just doing (5+3)"
   ]
  },
  {
   "cell_type": "markdown",
   "metadata": {},
   "source": [
    "So it would be just taking a value and a function and aplying the function to the value. Pretty useless.\n",
    "\n",
    "But because we're dealing with side effects, we don't actually have the value `a` until we perform the action, so that's what this operator does:"
   ]
  },
  {
   "cell_type": "markdown",
   "metadata": {},
   "source": [
    "The `>>=` operator sequentially composes two actions, passing any value produced by the first as an argument to the second."
   ]
  },
  {
   "cell_type": "markdown",
   "metadata": {},
   "source": [
    "For example:"
   ]
  },
  {
   "cell_type": "code",
   "execution_count": 42,
   "metadata": {},
   "outputs": [
    {
     "data": {
      "text/plain": [
       "Hey!!!!!!"
      ]
     },
     "metadata": {},
     "output_type": "display_data"
    }
   ],
   "source": [
    "-- Remainders:\n",
    "-- (>>=) :: IO a  -> (a -> IO b)  -> IO b\n",
    "-- getLine :: IO String\n",
    "\n",
    "\n",
    "yellIt :: String -> IO ()\n",
    "yellIt str = putStrLn (str ++ \"!!!!!!\")\n",
    "\n",
    "yellItBack :: IO ()\n",
    "yellItBack = getLine >>= yellIt\n",
    "\n",
    "yellIt \"Hey\"\n",
    "--yellItBack"
   ]
  },
  {
   "cell_type": "markdown",
   "metadata": {},
   "source": [
    "As you can see, we have the `yellIt` function that takes a String and returns the action of printing that string with a bunch of exclamation marks. And in the `yellItBack` function, we perfor the acton of `getLine` that returns a String. But instead of throwing the string away, this time we  use the `>>=` operator to pass it as the paramerer of `yellIt`. Yell it returns that action, and because it's the last one, it gets evaluated too. Sending the outside world the same message but with more emphasis."
   ]
  },
  {
   "cell_type": "markdown",
   "metadata": {},
   "source": [
    "Now, le'ts use this operator on the—now nicer—bot:"
   ]
  },
  {
   "cell_type": "code",
   "execution_count": 45,
   "metadata": {},
   "outputs": [
    {
     "ename": "",
     "evalue": "",
     "output_type": "error",
     "traceback": [
      "<stdin>: hGetLine: end of file"
     ]
    }
   ],
   "source": [
    "rudeBotAfterTherapy :: IO ()\n",
    "rudeBotAfterTherapy =\n",
    "  putStrLn \"What's your name?\"\n",
    "    >> getLine\n",
    "    >>= (\\name -> putStrLn $ \"Nice to meet you, \" ++ name ++ \"!\")\n",
    "    \n",
    "\n",
    "rudeBotAfterTherapy"
   ]
  },
  {
   "cell_type": "markdown",
   "metadata": {},
   "source": [
    "As you can see, instead of defining a function and use it inside the bot, chose to use a lambda function. Why? Because I'm using this function only once. And creating a sepparate function, having to think about a name for it, and polluting the environment with a function I know I'll never use again, it's not a good idea. In those cases, we prefer lambda functions.\n",
    "\n",
    "So, now that ....*****"
   ]
  },
  {
   "cell_type": "markdown",
   "metadata": {},
   "source": [
    "### Now it's a chatty bot!"
   ]
  },
  {
   "cell_type": "markdown",
   "metadata": {},
   "source": [
    "Our bot is now fully ~~recovered~~ and, it turns out that it's a chatty bot! Let's add a few chatty features! \n",
    "\n",
    "For example, let's add another message that tells us the number of letters our name has:"
   ]
  },
  {
   "cell_type": "code",
   "execution_count": 46,
   "metadata": {},
   "outputs": [],
   "source": [
    "lettersInName :: String -> String\n",
    "lettersInName name =\n",
    "  \"Your name has \"\n",
    "    ++ show (length name)\n",
    "    ++ \" letters, in case you where wandering...\""
   ]
  },
  {
   "cell_type": "markdown",
   "metadata": {},
   "source": [
    "The `lettersInName` function is a pure function that takes a name and does a silly little comment on it. To add it to our chatty bot, we need to do it like this:"
   ]
  },
  {
   "cell_type": "code",
   "execution_count": 47,
   "metadata": {},
   "outputs": [],
   "source": [
    "chattyBot :: IO ()\n",
    "chattyBot =\n",
    "  putStrLn \"Hey! What's your name?\"\n",
    "    >> getLine\n",
    "    >>= ( \\name ->\n",
    "            putStrLn (\"Nice to meet you, \" ++ name ++ \"!\")\n",
    "              >> putStrLn (lettersInName name)\n",
    "        )"
   ]
  },
  {
   "cell_type": "markdown",
   "metadata": {},
   "source": [
    "We need the value `name` (provided as result of the second action) again, so we need to keep building our function inside that lambda function."
   ]
  },
  {
   "cell_type": "markdown",
   "metadata": {},
   "source": [
    "Now it's more of the same, we can keep adding more and more actions like that. This is something a bit more complicated:"
   ]
  },
  {
   "cell_type": "code",
   "execution_count": 48,
   "metadata": {},
   "outputs": [],
   "source": [
    "finalChattyBot :: IO ()\n",
    "finalChattyBot =\n",
    "  putStrLn \"Hey! What's your name?\"\n",
    "    >> getLine\n",
    "    >>= ( \\name ->\n",
    "            putStrLn (\"Nice to meet you, \" ++ name ++ \"!\")\n",
    "              >> putStrLn (lettersInName name)\n",
    "              >> putStrLn (\"So, \" ++ name ++ \", what do you do for fun?\")\n",
    "              >> getLine\n",
    "              >>= ( \\hobby ->\n",
    "                      putStrLn (\"Are you kidding, \" ++ name ++ \"! I love \" ++ hobby ++ \"!\")\n",
    "                  )\n",
    "        )\n",
    "    >> putStrLn \"OK, bye!\""
   ]
  },
  {
   "cell_type": "markdown",
   "metadata": {},
   "source": [
    "As you can see, if we keep increasing the interactions, we start to see a pattern. An uggly and hard to read pattern.\n",
    "\n",
    "Luckily, we're not the first ones to encounter this monstruosity, and the haskell gods did something about it. Enter, the \"Do Notation\""
   ]
  },
  {
   "cell_type": "markdown",
   "metadata": {},
   "source": [
    "## The `do` notation"
   ]
  },
  {
   "cell_type": "markdown",
   "metadata": {},
   "source": [
    "The `do` notation is just syntactic sugar for expressions composed by `>>` an `>>=` operators. Basically, a nicer way of combining actions.\n",
    "\n",
    "We're going to rewrite all the previous expression with do notation so we can see the difference. Starting with the rude bot:"
   ]
  },
  {
   "cell_type": "code",
   "execution_count": 52,
   "metadata": {},
   "outputs": [],
   "source": [
    "rudeBot :: IO ()\n",
    "rudeBot = putStrLn \"Hey!\"\n",
    "\n",
    "\n",
    "rudeBotDo :: IO ()\n",
    "rudeBotDo = do\n",
    "    putStrLn \"Hey!\""
   ]
  },
  {
   "cell_type": "markdown",
   "metadata": {},
   "source": [
    "As you can see, we write the keyword `do` after the equal sign, and then start a block with the actions. This one isn't particularly special. It's even more clear and sucinct to write it without do syntax!\n",
    "\n",
    "Let's see the the second version of rude bot:"
   ]
  },
  {
   "cell_type": "code",
   "execution_count": 53,
   "metadata": {
    "scrolled": true
   },
   "outputs": [
    {
     "data": {
      "text/plain": [
       "Hey!\n",
       "Get out of my lawn!"
      ]
     },
     "metadata": {},
     "output_type": "display_data"
    }
   ],
   "source": [
    "rudeBot :: IO ()\n",
    "rudeBot = putStrLn \"Hey!\" >> putStrLn \"Get out of my lawn!\"\n",
    "\n",
    "rudeBotDo :: IO ()\n",
    "rudeBotDo = do \n",
    "    putStrLn \"Hey!\"\n",
    "    putStrLn \"Get out of my lawn!\"\n",
    "\n",
    "rudeBotDo"
   ]
  },
  {
   "cell_type": "markdown",
   "metadata": {},
   "source": [
    "Now we start to see some improvement. It's not much, but we can see that each action is in a different line, making it easier to identify them. Before, the actions went from left to right, now, from top to bottom. \n",
    "\n",
    "And what about the even ruder bot?"
   ]
  },
  {
   "cell_type": "code",
   "execution_count": null,
   "metadata": {},
   "outputs": [
    {
     "ename": "",
     "evalue": "",
     "output_type": "error",
     "traceback": [
      "<stdin>: hGetLine: end of file"
     ]
    }
   ],
   "source": [
    "evenRuderBot :: IO ()\n",
    "evenRuderBot =\n",
    "  putStrLn \"What's your name?\"  \n",
    "    >> getLine  \n",
    "    >> putStrLn \"like I care! Get lost!\"\n",
    "    \n",
    "    \n",
    "evenRuderBotDo :: IO ()\n",
    "evenRuderBotDo = do\n",
    "  putStrLn \"What's your name?\"  \n",
    "  getLine  \n",
    "  putStrLn \"like I care! Get lost!\"\n",
    "    \n",
    "evenRuderBotDo"
   ]
  },
  {
   "cell_type": "markdown",
   "metadata": {},
   "source": [
    "Same as before, add the `do` keyword, remove the `>>` operators, and you're ready to go.\n",
    "\n",
    "Now is when the cool stuff starts. We have the rude bot after therapy:"
   ]
  },
  {
   "cell_type": "code",
   "execution_count": null,
   "metadata": {},
   "outputs": [],
   "source": [
    "rudeBotAfterTherapy :: IO ()\n",
    "rudeBotAfterTherapy =\n",
    "  putStrLn \"What's your name?\"\n",
    "    >> getLine\n",
    "    >>= (\\name -> putStrLn $ \"Nice to meet you, \" ++ name ++ \"!\")"
   ]
  },
  {
   "cell_type": "markdown",
   "metadata": {},
   "source": [
    "How do we handle the `name`? For that, we'll introduce the `<-` (left arrow, or bind):"
   ]
  },
  {
   "cell_type": "code",
   "execution_count": null,
   "metadata": {},
   "outputs": [],
   "source": [
    "rudeBotAfterTherapyDo :: IO ()\n",
    "rudeBotAfterTherapyDo = do\n",
    "  putStrLn \"What's your name?\"\n",
    "  name <- getLine -- (getline :: IO String) so (name :: Sring)\n",
    "  putStrLn $ \"Nice to meet you, \" ++ name"
   ]
  },
  {
   "cell_type": "markdown",
   "metadata": {},
   "source": [
    "This left arrow binds the result of running the `putStrLn` action to `name`. And once you have the `name` variable, you can use it anywhere after that action, like any other string. \n",
    "\n",
    "Now let's see how we can use do notation for chatty bot:"
   ]
  },
  {
   "cell_type": "code",
   "execution_count": null,
   "metadata": {},
   "outputs": [],
   "source": [
    "chattyBot :: IO ()\n",
    "chattyBot =\n",
    "  putStrLn \"Hey! What's your name?\"\n",
    "    >> getLine\n",
    "    >>= ( \\name ->\n",
    "            putStrLn (\"Nice to meet you, \" ++ name ++ \"!\")\n",
    "              >> putStrLn (lettersInName name)\n",
    "        )\n",
    "\n",
    "\n",
    "chattyBotDo :: IO ()\n",
    "chattyBotDo = do\n",
    "  putStrLn \"Hey! What's your name?\"\n",
    "  name <- getLine\n",
    "  putStrLn (\"Nice to meet you, \" ++ name ++ \"!\")\n",
    "  putStrLn $ lettersInName name"
   ]
  },
  {
   "cell_type": "markdown",
   "metadata": {},
   "source": [
    "Now the differences starts to get big! You have to stop on `chattyBot` for a few seconds to grasp what it's doing, but `chattyBotDo` is really easy to follow! \n",
    "\n",
    "Finally, let's compare the most complicated one:"
   ]
  },
  {
   "cell_type": "code",
   "execution_count": null,
   "metadata": {},
   "outputs": [],
   "source": [
    "finalChattyBot :: IO ()\n",
    "finalChattyBot =\n",
    "  putStrLn \"Hey! What's your name?\"\n",
    "    >> getLine\n",
    "    >>= ( \\name ->\n",
    "            putStrLn (\"Nice to meet you, \" ++ name ++ \"!\")\n",
    "              >> putStrLn (lettersInName name)\n",
    "              >> putStrLn (\"So, \" ++ name ++ \", what do you do for fun?\")\n",
    "              >> getLine\n",
    "              >>= ( \\hobby ->\n",
    "                      putStrLn (\"Are you kidding, \" ++ name ++ \"! I love \" ++ hobby ++ \"!\")\n",
    "                  )\n",
    "        )\n",
    "    >> putStrLn \"OK, bye!\""
   ]
  },
  {
   "cell_type": "code",
   "execution_count": null,
   "metadata": {},
   "outputs": [],
   "source": [
    "finalChattyBotDo :: IO ()\n",
    "finalChattyBotDo = do\n",
    "  putStrLn \"Hey! What's your name?\"\n",
    "  name <- getLine\n",
    "  putStrLn (\"Nice to meet you, \" ++ name ++ \"!\")\n",
    "  putStrLn (lettersInName name)\n",
    "  putStrLn (\"So, \" ++ name ++ \", what do you do for fun?\")\n",
    "  hobby <- getLine\n",
    "  putStrLn (\"Are you kidding, \" ++ name ++ \"! I love \" ++ hobby ++ \"!\")\n",
    "  putStrLn \"OK, bye!\"\n",
    "  \n",
    "  \n",
    "finalChattyBot"
   ]
  },
  {
   "cell_type": "markdown",
   "metadata": {},
   "source": [
    "Notice that all the statemetns are aligned at the same indentation. Make sure to always keep them aligned if they belong to the same do block, to avoid confusing the compiler and having silly errors.\n",
    "\n",
    "As you can see, do notation is great! It allows for a more clean and concise code. But... waaaaait a minute! This code looks... oddly imperative! We're stating what to do step by step in sequence! Wasn't it that declarative code was so great? \n",
    "\n",
    "Up untill now, all the functions we wrote could be evaluated to its final value in any order (while respecting the fixity), and we would always get the same result. Because they were pure, like mathematical functions.\n",
    "\n",
    "Well, now that we have side effects, suddely, the order in which things happen matters. We don't want to run the side effect of getting the name before the one that prints the \"What's your name?\" question. That's why we adopt a more imperative style with the do notation."
   ]
  },
  {
   "cell_type": "markdown",
   "metadata": {},
   "source": [
    "That's the do notation in essence. But there are a few other things that cover the practical aspect of using do notation that I'd like to cover. It gets a bit more complicated, but not much. We'll drop the chatbot example cause it's starting to get borring.\n",
    "\n",
    "Let's start with using `let` inside the `do` notation:"
   ]
  },
  {
   "cell_type": "markdown",
   "metadata": {},
   "source": [
    "### Using `let` inside the `do` notation"
   ]
  },
  {
   "cell_type": "markdown",
   "metadata": {},
   "source": [
    "We can use the `let` keyword inside a `do` block like this:"
   ]
  },
  {
   "cell_type": "code",
   "execution_count": null,
   "metadata": {},
   "outputs": [],
   "source": [
    "code"
   ]
  },
  {
   "cell_type": "markdown",
   "metadata": {},
   "source": [
    "There are a few details to keep in mind:\n",
    "- The constructs binded with the `let` keyword are lazy. So, even though they occupy a line in the do block, they aren't evaluated unless needed somewhere else. Remember that we're still using Haskell, and Haskell is lazy.\n",
    "- We don't need the `in` kewowrd like we do outside `do` notation. It's assumed that .."
   ]
  },
  {
   "cell_type": "markdown",
   "metadata": {},
   "source": [
    "### Nesting `do` blocks"
   ]
  },
  {
   "cell_type": "markdown",
   "metadata": {},
   "source": [
    "We can nest do blocks as much as we want. For example:"
   ]
  },
  {
   "cell_type": "code",
   "execution_count": null,
   "metadata": {},
   "outputs": [],
   "source": [
    "code"
   ]
  },
  {
   "cell_type": "markdown",
   "metadata": {},
   "source": [
    "It may not appear obvious, but do-blocks can be nested. Here is an example:"
   ]
  },
  {
   "cell_type": "code",
   "execution_count": null,
   "metadata": {},
   "outputs": [],
   "source": [
    "import Data.Char ( isDigit )\n",
    "\n",
    "nesting :: IO ()\n",
    "nesting = do\n",
    "    putStrLn \"What is your age:\"\n",
    "    ageString <- getLine\n",
    "    let validAge = all isDigit ageString\n",
    "    if validAge\n",
    "    then do\n",
    "        let age = read ageString :: Int\n",
    "            msg = \"Int 10 years you will be \" ++ show (age + 10) ++ \" years old.\"\n",
    "        putStrLn msg \n",
    "    else do\n",
    "        putStrLn \"Your age should contain only digits from 0-9.\"\n",
    "        nesting"
   ]
  },
  {
   "cell_type": "markdown",
   "metadata": {},
   "source": [
    "We import the `isDigit` function that checks whether a character is a number or not.\n",
    "```haskell\n",
    "isDigit :: Char -> Bool\n",
    "```"
   ]
  },
  {
   "cell_type": "markdown",
   "metadata": {},
   "source": [
    "Then we ask the user to input his age and after that define an if-statement which contains two different do-blocks.\n",
    "\n",
    "If the input string contains only numbers, we print a message how much will be the user's age in 10 years.\n",
    "\n",
    "If it does not contain only numbers, then we notify the user and start the program from the beginning. "
   ]
  },
  {
   "cell_type": "markdown",
   "metadata": {},
   "source": [
    "Also you may notice in the `then` do-block we define two variable but use the `let` keyword only once.\n",
    "\n",
    "This is allowed in Haskell if the variable names have the same indentation and follow one after each other. \n",
    "\n",
    "Then you need to write `let` only for the first variable.\n",
    "\n",
    "Notice one last thing:"
   ]
  },
  {
   "cell_type": "markdown",
   "metadata": {},
   "source": [
    "The last statement in a do block has to be an expresson that returns the value of the type indicated by its signature."
   ]
  },
  {
   "cell_type": "markdown",
   "metadata": {},
   "source": [
    "If we take a look at how the `nesting` function ends, we have two possible cases depending if `valudAge` is `True` or `False`.\n",
    "\n",
    "Inside the `then`, we see that there's a do block that ends with a `putStrLn` applied to a string, so it's of type `IO ()` like we indicated at the `nesting` signature.\n",
    "\n",
    "Inside the `else`, we see that there's a do block that ends with a recursive call of the `nesting` function, so it's of type `IO ()`.\n",
    "\n",
    "\n",
    "So, we can't do something like this:"
   ]
  },
  {
   "cell_type": "code",
   "execution_count": null,
   "metadata": {},
   "outputs": [],
   "source": [
    "twice :: IO String\n",
    "twice = do\n",
    "  str <- getLine\n",
    "  let tw = str ++ str"
   ]
  },
  {
   "cell_type": "markdown",
   "metadata": {},
   "source": [
    "Why, well, let's take a look at this code without all the sugary syntax:"
   ]
  },
  {
   "cell_type": "code",
   "execution_count": null,
   "metadata": {},
   "outputs": [],
   "source": [
    "twice :: IO String\n",
    "twice =\n",
    "  getLine >>= \\str -> \n",
    "    let tw = str ++ str in"
   ]
  },
  {
   "cell_type": "markdown",
   "metadata": {},
   "source": [
    "That's right, if we take a peek under the hood, we see that the `let` binding expands to a full `let` expression. And the problem is evident, it's an incomplete expresson! Let `tw` in what?\n",
    "\n",
    "And that's when the brilliant idea that we all have when first learning Haskell comes to mind. What if I return the `String` like this?"
   ]
  },
  {
   "cell_type": "code",
   "execution_count": null,
   "metadata": {},
   "outputs": [],
   "source": [
    "twice :: IO String\n",
    "twice =\n",
    "  getLine >>= \\str -> \n",
    "    let tw = str ++ str in tw"
   ]
  },
  {
   "cell_type": "markdown",
   "metadata": {},
   "source": [
    "The let expression is complete. But now we get an error because we have to return an `IO String` and we're returning a pure `String`. Easy fix! We can change the type of `twice` to `String`, since that's what we're returning:"
   ]
  },
  {
   "cell_type": "code",
   "execution_count": null,
   "metadata": {},
   "outputs": [],
   "source": [
    "twice :: IO String\n",
    "twice =\n",
    "  getLine >>= \\str -> \n",
    "    let tw = str ++ str in tw"
   ]
  },
  {
   "cell_type": "markdown",
   "metadata": {},
   "source": [
    "And, just for completeness, here's the equivalent code with do notation:"
   ]
  },
  {
   "cell_type": "code",
   "execution_count": null,
   "metadata": {},
   "outputs": [],
   "source": [
    "twice :: String\n",
    "twice = do\n",
    "  str <- getLine\n",
    "  let tw = str ++ str\n",
    "  tw"
   ]
  },
  {
   "cell_type": "markdown",
   "metadata": {},
   "source": [
    "If we run this code, we'll get a type error. But... we said that the type is `String`, and we're returning a `String`, what's the problem? The problem is that, once you go impure, you can't go back. You can't ask for forgiveness and be pure again. In other words, you can't escape IO."
   ]
  },
  {
   "cell_type": "markdown",
   "metadata": {},
   "source": [
    "### Escaping `IO` and the `return` keyword"
   ]
  },
  {
   "cell_type": "markdown",
   "metadata": {},
   "source": [
    "Just to make sure there's no confusion:"
   ]
  },
  {
   "cell_type": "markdown",
   "metadata": {},
   "source": [
    "**`return` DOES NOT WORK LIKE IN OTHER PROGRAMMING LANGUAGES! ITS A DIFFERENT THING!**"
   ]
  },
  {
   "cell_type": "markdown",
   "metadata": {},
   "source": [
    "If you don't know any other programming languages, don't worry about it. But you likely do, so I wanted to open with that to avoid confusion or in case you where about to skip this section."
   ]
  },
  {
   "cell_type": "markdown",
   "metadata": {},
   "source": [
    "Ok, so, let's go back to the problem at hand, why this code doesn't compile?:"
   ]
  },
  {
   "cell_type": "code",
   "execution_count": null,
   "metadata": {},
   "outputs": [],
   "source": [
    "twice :: String\n",
    "twice = do\n",
    "  str <- getLine\n",
    "  let tw = str ++ str\n",
    "  tw"
   ]
  },
  {
   "cell_type": "markdown",
   "metadata": {},
   "source": [
    "Because if we would allow that, for the one that uses the `twice` function, it would look like it's using a pure function! Pure and impure functions would be able to mix together without any way of differentiate them, and we'd never be sure if our code is pure which means that we'd never know if our functions behave nicely like we think they do. So, the absense of this marker means that we can be confident our code is pure and \n",
    "\n",
    "So, to make sure we have pure and impure clearly defined, once we use ay kind of side effect, we will never be able to escape impurity. We can perform IO actions to get the value and work with it, as long as we do it inside another IO context. And the compiler enforces this by checking that we carry out the impure context (the `IO` type, in this case) whenever the value obtained using side effects goes."
   ]
  },
  {
   "cell_type": "markdown",
   "metadata": {},
   "source": [
    "```haskell\n",
    "twice :: IO ... -- IO of something because of getLine\n",
    "twice = do\n",
    "  str <- getLine -- getLine :: IO String\n",
    "  let tw = str ++ str\n",
    "  -- ... We have to do something else\n",
    "```"
   ]
  },
  {
   "cell_type": "markdown",
   "metadata": {},
   "source": [
    "So, because we used `getLine` inside `twice`, now `twice` is tainted with the `IO` in its type:\n",
    "\n",
    "It doesn't matter the type of the value that the action returns, it could be `IO Bool`, `IO Int`, `IO Whatever`. As long as we don't drop the `IO`, the compiler will allow us to keep working.\n",
    "\n",
    "We also say that:"
   ]
  },
  {
   "cell_type": "markdown",
   "metadata": {},
   "source": [
    "There's no<sup>(that you should ever know of)</sup> function of type:\n",
    "\n",
    "```haskell\n",
    "IO a -> a\n",
    "```"
   ]
  },
  {
   "cell_type": "markdown",
   "metadata": {},
   "source": [
    "Because there's no way to escape impurity."
   ]
  },
  {
   "cell_type": "markdown",
   "metadata": {},
   "source": [
    "Ok, so, we want to return a value of type `IO String`, but we have a value of type `String`. What can we do now? That's when the `return` function comes in handy:"
   ]
  },
  {
   "cell_type": "markdown",
   "metadata": {},
   "source": [
    "```haskell\n",
    "return :: a -> IO a\n",
    "```"
   ]
  },
  {
   "cell_type": "markdown",
   "metadata": {},
   "source": [
    "The `return` function injects a value inside an `IO` action that does nothing.\n",
    "\n",
    "Remember when we presented the idea of IO actions that we say that they MAY interact with the real world? Well, in this case, they don't. The action returned by the `return` function is a dummy action that doesn't produce any side effects and returns the value.\n",
    "\n",
    "This is perfect for our usecase. We need a value wrapped in an IO action but we don't need to perform any action. So, using our new function, we obtain the final version of the `twice` function:"
   ]
  },
  {
   "cell_type": "code",
   "execution_count": null,
   "metadata": {},
   "outputs": [],
   "source": [
    "twice :: IO String\n",
    "twice = do\n",
    "  str <- getLine\n",
    "  let tw = str ++ str\n",
    "  return tw"
   ]
  },
  {
   "cell_type": "markdown",
   "metadata": {},
   "source": [
    "Which, without sugar, looks like this:"
   ]
  },
  {
   "cell_type": "code",
   "execution_count": null,
   "metadata": {},
   "outputs": [],
   "source": [
    "twice' :: IO String\n",
    "twice' =\n",
    "  getLine >>= \\str ->\n",
    "    let tw = str ++ str in return tw"
   ]
  },
  {
   "cell_type": "markdown",
   "metadata": {},
   "source": [
    "And that's how you work with side effects."
   ]
  },
  {
   "cell_type": "markdown",
   "metadata": {},
   "source": [
    "So, I'm sure that many of you are thinking... But, if we have to carry that IO type, where does it end?\n",
    "\n",
    "Like many other programming languages, Haskells has what it's known as an \"entry point\"."
   ]
  },
  {
   "cell_type": "markdown",
   "metadata": {},
   "source": [
    "## The `main` function"
   ]
  },
  {
   "cell_type": "markdown",
   "metadata": {},
   "source": [
    "An entry point is the place in a program where the execution of it begins."
   ]
  },
  {
   "cell_type": "markdown",
   "metadata": {},
   "source": [
    "Many programming languages have entry points, and in almost all cases the entry point is named `main`. Sometimes its a function, others a static method. Rust, Java, C, C++, all those and many more have it. And, of course, Haskell has it. In Haskells case its a function—of course—called `main`:"
   ]
  },
  {
   "cell_type": "markdown",
   "metadata": {},
   "source": [
    "```haskell\n",
    "main :: IO ()\n",
    "```"
   ]
  },
  {
   "cell_type": "markdown",
   "metadata": {},
   "source": [
    "This function is the one that gets executed when we run a program written in Haskell. And it always has type `IO ()`. Always. So, when you interact with the outside world and have to carry out the `IO` type, that's the last place you have to take it.\n",
    "\n",
    "And if you want a function or action to be evaluated or performed when running your progam, it has to be—directy or indirecty—inside the `main` function."
   ]
  },
  {
   "cell_type": "markdown",
   "metadata": {},
   "source": [
    "Why do we hear about this just now? Because we've been using GHCi and a JupyterNotebook that handles this behind the scences. But, starting this lesson, we'll start to work with real programs. We will also keep using GHCi and Jupyter, but now we'll also work with "
   ]
  },
  {
   "cell_type": "markdown",
   "metadata": {},
   "source": [
    "One of shortest programs you could write in Haskell:"
   ]
  },
  {
   "cell_type": "code",
   "execution_count": null,
   "metadata": {},
   "outputs": [],
   "source": [
    "main :: IO ()\n",
    "main = putStrLn \"Hello world!\""
   ]
  },
  {
   "cell_type": "markdown",
   "metadata": {},
   "source": [
    "Haskell programs in the real world usually have a small `main` function that has a couple of actions and a couple of pure functions. And inside those pure functions is where the real code lives. That way, you minimize the interaction with side effects and most of your code is pure and easy to deal with."
   ]
  },
  {
   "cell_type": "markdown",
   "metadata": {},
   "source": [
    "## Syntax recap"
   ]
  },
  {
   "cell_type": "markdown",
   "metadata": {},
   "source": [
    "These operators allow for the composition of IO actions. Their properties are: \n",
    "\n",
    "|  Symbol  | Meaning |\n",
    "| ---  | ---|\n",
    "| `>>` | Composes two IO actions throwing away the value |\n",
    "|`>>=` | Composes two IO actions Forwards the return type |\n",
    "| `return` | a |\n",
    "| `do` | a |\n",
    "| `<-` | a |\n",
    "| `let` | a |\n",
    "| `main` | a |"
   ]
  },
  {
   "cell_type": "markdown",
   "metadata": {},
   "source": [
    "Time for a few simple examples:"
   ]
  },
  {
   "cell_type": "markdown",
   "metadata": {},
   "source": [
    "### add examples with listDirectory?"
   ]
  },
  {
   "cell_type": "markdown",
   "metadata": {},
   "source": [
    "OK, and that's it for today! If you're curious about how is the deal with the `main` function, and creating your own programs, don't worry. Next lesson we'll learn about how to setup your own local development environment, how to use common tools to manage haskell projects, and remove all training weels. We'll still provide everything in online jupyter notebooks and online development environments, but you'll have the knowledge needed to manage your own projects without all that.\n",
    "\n",
    "But before that, make sure to complete your homework and I'll see you in the next one!"
   ]
  },
  {
   "cell_type": "markdown",
   "metadata": {},
   "source": [
    "# That's it for today!"
   ]
  },
  {
   "cell_type": "markdown",
   "metadata": {},
   "source": [
    "-------------------------------------------------------------------------------"
   ]
  },
  {
   "cell_type": "markdown",
   "metadata": {},
   "source": [
    "## Recap?"
   ]
  },
  {
   "cell_type": "markdown",
   "metadata": {},
   "source": [
    "In this section, we have introduced the concepts of IO actions. \n",
    "\n",
    "- Haskell knows two types of functions, pure and impure function, where the latter are called IO actions.\n",
    "\n",
    "- The types of impure functions are wrapped and marked by `IO` and which indicates that the functions may perform useful side effects. \n",
    "\n",
    "- Once you use a function or variable type that is wrapped in IO, the function inside which you use it has to be wrapped in IO. \n",
    "\n",
    "- IO actions can be composed using two operators, the then or sequence operator denoted by `>>` and the bind operator denoted by `>>=`.\n",
    "\n",
    "- The do-blocks let you easily compose multiple actions and they can be nested."
   ]
  }
 ],
 "metadata": {
  "celltoolbar": "Slideshow",
  "kernelspec": {
   "display_name": "Haskell",
   "language": "haskell",
   "name": "haskell"
  },
  "language_info": {
   "codemirror_mode": "ihaskell",
   "file_extension": ".hs",
   "mimetype": "text/x-haskell",
   "name": "haskell",
   "pygments_lexer": "Haskell",
   "version": "9.0.2"
  }
 },
 "nbformat": 4,
 "nbformat_minor": 4
}
