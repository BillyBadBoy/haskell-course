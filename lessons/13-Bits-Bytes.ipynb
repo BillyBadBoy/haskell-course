{
 "cells": [
  {
   "cell_type": "markdown",
   "id": "f8e0a496-df69-4ef8-b9c1-22c3cba2ca71",
   "metadata": {
    "tags": []
   },
   "source": [
    "# Haskell and Bytes"
   ]
  },
  {
   "cell_type": "markdown",
   "id": "3a62640e-4a5d-4be4-9857-c02fc12936bb",
   "metadata": {
    "tags": []
   },
   "source": [
    "## Outline\n",
    "\n",
    "* Grouping bits and bytes\n",
    "* Haskell and bytes\n",
    "* Lazy and strict byte strings\n",
    "* Example\n",
    "\n",
    "In this lesson we will highlight a fundamental type that is frequently used in Haskell, the Byte String type. The lesson will have the above structure and will work towards an example on why we like to use byte strings."
   ]
  },
  {
   "cell_type": "markdown",
   "id": "548ee5a7-09c2-4c62-92a5-d0a7f5b08719",
   "metadata": {},
   "source": [
    "## Grouping bits and bytes\n",
    "At its core computers only handle the binary object 1 and 0, this unit is also known as a **bit**. To make sense of these bits and extract context from them, different kinds of grouping have been made over the years to represent structure, for an extensive list see [(1)](https://en.wikipedia.org/wiki/Binary-to-text_encoding). These groupings are called **encodings** and map the grouping of bits to a more meaningful/readable form. Another advantage of this mapping is that the length of a list of bits can be reduced significantly to be readable. Below we will look at two of them.\n",
    "\n",
    "One useful binary conversion is the hexadecimal encoding of bits, also abbreviated to hex. This changes the number of symbols from base 2 (binary) to base 16. So, the conversion will group 4 bits together to one symbol. Each symbol in the hex system thus has 16 possibilities, these are in the range of 0-9 and A - F.  This results in the conversion table. \n",
    "\n",
    "| Binary | Hex | Binary| Hex |  \n",
    "|--------|---|--------| - |\n",
    "| `0000` | 0 | `1000` | 8 |\n",
    "| `0001` | 1 | `1001` | 9 |\n",
    "| `0010` | 2 | `1010` | A |\n",
    "| `0011` | 3 | `1011` | B |\n",
    "| `0100` | 4 | `1100` | C | \n",
    "| `0101` | 5 | `1101` | D |\n",
    "| `0110` | 6 | `1110` | E |\n",
    "| `0111` | 7 | `1111` | F |"
   ]
  },
  {
   "cell_type": "markdown",
   "id": "5833e6e3-8b3e-4da6-9be5-6f03cd0890e3",
   "metadata": {},
   "source": [
    "In its turn, the hexadecimal encoded bits often get grouped together in pairs to represent 8 bits. The grouping of 8 bits is also called a **byte** and is more commonly used than bits. The result is that the range of these two grouped hex symbols are between `00000000` and `11111111` in binary. In total, these represent the decimal number from 0 to 255. Below is an example how to use hex and binary from the decimal system. We can use it to check the table above."
   ]
  },
  {
   "cell_type": "code",
   "execution_count": 1,
   "id": "3ff27de0-fee4-4c06-a93d-ba6ea9dab90f",
   "metadata": {},
   "outputs": [
    {
     "data": {
      "text/plain": [
       "a"
      ]
     },
     "metadata": {},
     "output_type": "display_data"
    },
    {
     "data": {
      "text/plain": [
       "1010"
      ]
     },
     "metadata": {},
     "output_type": "display_data"
    }
   ],
   "source": [
    "import Numeric (showHex, showIntAtBase)\n",
    "import Data.Char (intToDigit)\n",
    "\n",
    "printHex n = Prelude.putStrLn $ showHex n \"\"\n",
    "printBaseTwo n = Prelude.putStrLn $ showIntAtBase 2 intToDigit n \"\" \n",
    "\n",
    "printHex 10 \n",
    "printBaseTwo 10"
   ]
  },
  {
   "cell_type": "markdown",
   "id": "e6b90487-3d2b-4dcb-baef-2bfbec406b86",
   "metadata": {},
   "source": [
    "Another important encoding that connects computer bits with text and is widely used, is the 8-bit Unicode Transformation Format (UTF-8). This standard represents Unicode characters in 1 to 4 bytes, depending on the character. The reason why this encoding uses a variable length of bytes to represent its characters, is because not every character is used that often. To optimize for data transmissions times and storage space, only the most used characters are represented with one byte. The next most used characters are then represented with 2 bytes etc."
   ]
  },
  {
   "cell_type": "markdown",
   "id": "92cb7a7d-c936-4937-93c6-e05e2f65ef6a",
   "metadata": {},
   "source": [
    "## Haskell, bytes and encodings\n",
    "In Haskell, we have several types that capture the encoding of characters and their representation as bytes. We will introduce a few below that are of importance. We start with the lowest structure that has no encoding, the type `ByteString`. This is a list of bytes that, given context, can be viewed as multiple things. We will look at two common ways, \n",
    "\n",
    "|a ByteString as  |info|\n",
    "|---|----|\n",
    "| a list of type `Word8`| This type is the standard way of representing a byte in Haskell. It offers no extra structure to the byte string.|\n",
    "| a list of type `Char` | This type tries to decode the list of bytes as 1 byte Unicode character.\n",
    "\n",
    "To convert a string to a byte string, we can use the function `pack` in the `Data.ByteString` module. As an example, consider the two ways of representing a byte string above and how they are printed to standard output. First, we convert a string to a byte string using the `pack` function. Then we `unpack` this byte string as two things, as a list of bytes, and as a list of characters with `unpack` from the `Char8` module. Lastly, we print the object of these lists to the output. We explicitly imported both modules with an alias because both contain clashing named functions, like the two `unpack` functions used. This is also the reason why we import the modules `qualified`, this force us to specify from which module we pick which function. We will talk more about qualified imports in lesson Pragmas, Modules and Cabal."
   ]
  },
  {
   "cell_type": "code",
   "execution_count": 2,
   "id": "9c205566-6bd4-4e99-83bf-ee1da177534c",
   "metadata": {},
   "outputs": [
    {
     "data": {
      "text/plain": [
       "[72,101,108,108,111,32,119,111,114,108,100]\n",
       "\"Hello world\""
      ]
     },
     "metadata": {},
     "output_type": "display_data"
    }
   ],
   "source": [
    "import qualified Data.ByteString as BS\n",
    "import qualified Data.ByteString.Char8 as BC\n",
    "\n",
    "bytestring = BC.pack \"Hello world\" -- Is of type ByteString\n",
    "\n",
    "asBytes = BS.unpack bytestring -- Is of type [Word8] \n",
    "asChars = BC.unpack bytestring -- Is of type [Char]\n",
    "\n",
    "print asBytes\n",
    "print asChars"
   ]
  },
  {
   "cell_type": "markdown",
   "id": "e0d7383c-8498-49e2-966e-0659cfdb79f2",
   "metadata": {},
   "source": [
    "Interpreting each byte of a byte string as an `Char` means that not all possible Unicode encoded text in a byte string is correctly interpreted. We mentioned that Unicode can encode characters in up to 4 bytes, so characters with two bytes or more will not be correctly displayed this way. To highlight this, we encode the character \"ǿ\", which is encoded into the two bytes `[199,191]`. For a more general way of Unicode encoding, we use the  module `Data.Text.Encoding`. This module implements the general encoding of Unicode in Haskell."
   ]
  },
  {
   "cell_type": "code",
   "execution_count": 37,
   "id": "d76a939b-f31c-4ec7-9560-5195d0511597",
   "metadata": {},
   "outputs": [
    {
     "data": {
      "text/plain": [
       "[199,191]"
      ]
     },
     "metadata": {},
     "output_type": "display_data"
    },
    {
     "data": {
      "text/plain": [
       "\"\\199\""
      ]
     },
     "metadata": {},
     "output_type": "display_data"
    }
   ],
   "source": [
    "import qualified Data.Text as Text\n",
    "import qualified Data.Text.Encoding as Text\n",
    "import qualified Data.ByteString as BS\n",
    "import qualified Data.ByteString.Char8 as BC\n",
    "\n",
    "bytestring :: BS.ByteString\n",
    "bytestring = Text.encodeUtf8 $ Text.pack \"ǿ\"\n",
    "\n",
    "print $ BS.unpack bytestring\n",
    "\n",
    "(print . BC.unpack . BS.singleton . BS.head) bytestring -- this takes the first byte of the encoded character \"ǿ\" and tries to view it as a Char type."
   ]
  },
  {
   "cell_type": "markdown",
   "id": "3e1c623e-5aba-43ab-a927-842d4632383b",
   "metadata": {},
   "source": [
    "Here the function `Text.pack` converts the string into the type `Text` and the function `encodeUtf8` correctly converts this into the corresponding `ByteString`. When we try to view this byte string as a list of types `Char`, we see that it print the single byte as a character. This because there is no Unicode character which corresponds to the first byte `[199]`. This module also has a `decodeUtf8` function.\n",
    "\n",
    "So as a conclusion, most common characters are only encoded by one byte in Unicode, here the `Data.ByteString.Char8` module suffices. But if more characters are involved, consider using the `Data.Text` and `Data.Text.Encoding` module."
   ]
  },
  {
   "cell_type": "markdown",
   "id": "33e3f7ff-4890-49d4-aba8-978596b03ea4",
   "metadata": {},
   "source": [
    "## Lazy byte strings\n",
    "Besides the module `Data.ByteStrings` Haskell also has a lazy variant of byte strings. These kinds of byte strings work the same, but have the advantage that they are only evaluated if they are used. This is especially useful when processing large amounts of data that does not need to be read into memory all at once. The module that contains these lazy byte strings is `Data.ByteString.Lazy`, similarly as before this is used as"
   ]
  },
  {
   "cell_type": "code",
   "execution_count": 36,
   "id": "f4a2de62-9a17-40f2-87cb-38ffbaa195f3",
   "metadata": {},
   "outputs": [
    {
     "data": {
      "text/plain": [
       "72\n",
       "'H'"
      ]
     },
     "metadata": {},
     "output_type": "display_data"
    }
   ],
   "source": [
    "import qualified Data.ByteString.Lazy as BL\n",
    "import qualified Data.ByteString.Lazy.Char8 as BLC\n",
    "\n",
    "bytestring = BLC.pack \"Hello world\"\n",
    "\n",
    "asBytes = BL.unpack bytestring -- Is of type [Word8] \n",
    "asChars = BLC.unpack bytestring -- Is of type [Char]\n",
    "\n",
    "print $ Prelude.head asBytes\n",
    "print $ Prelude.head asChars"
   ]
  },
  {
   "cell_type": "markdown",
   "id": "9dc79265-8677-4053-b31a-229335b47703",
   "metadata": {},
   "source": [
    "Haskell also lets you switch between lazy and strict byte strings."
   ]
  },
  {
   "cell_type": "code",
   "execution_count": 35,
   "id": "aa364fea-f4d9-4239-b218-1bf093112380",
   "metadata": {},
   "outputs": [
    {
     "data": {
      "text/plain": [
       "Hello world"
      ]
     },
     "metadata": {},
     "output_type": "display_data"
    },
    {
     "data": {
      "text/plain": [
       "Hello world"
      ]
     },
     "metadata": {},
     "output_type": "display_data"
    }
   ],
   "source": [
    "import qualified Data.ByteString as BS\n",
    "import qualified Data.ByteString.Char8 as BC\n",
    "\n",
    "import qualified Data.ByteString.Lazy as BL\n",
    "import qualified Data.ByteString.Lazy.Char8 as BLC\n",
    "\n",
    "lazyByteString = BLC.pack \"Hello world\"\n",
    "strictByteString = BL.toStrict lazyByteString\n",
    "lazyByteStringAgain = BL.fromStrict strictByteString\n",
    "\n",
    "BC.putStrLn strictByteString\n",
    "BLC.putStrLn lazyByteStringAgain"
   ]
  },
  {
   "cell_type": "markdown",
   "id": "055d5f1e-cce8-4681-b9db-c9a540bf98b3",
   "metadata": {},
   "source": [
    "Here, we first create a lazy byte string with encoded text `Hello world`. Then we convert this lazy byte string to a strictly evaluated byte string using the function `toStrict` from the lazy module. Lastly, we convert that strict byte string back again to a different lazy byte string."
   ]
  },
  {
   "cell_type": "markdown",
   "id": "a40d6e84-98c8-4ee0-a8a5-fef3cf063d4f",
   "metadata": {},
   "source": [
    "## Example\n",
    "\n",
    "In this section will compare the use of byte strings opposed to strings and their impact on computational time. We time the calculations by fetching the CPU time before and after the computation is performed. This is captured in the `time` function below that can time a general IO action. To highlight the performance gain if byte strings are used, we will make use of a sizable file (16mb) that is available if you run this notebook in a binder with the Haskell kernel enabled. This file will be read as a string and as a byte string, then the last line of the file will be printed. First, we will read it as a string with the function `readFile :: FilePath -> IO String`,"
   ]
  },
  {
   "cell_type": "code",
   "execution_count": 7,
   "id": "700c4206-b157-4739-893c-40e715bce61f",
   "metadata": {},
   "outputs": [
    {
     "data": {
      "text/plain": [
       "}\n",
       "Computation time: 5.522 sec"
      ]
     },
     "metadata": {},
     "output_type": "display_data"
    }
   ],
   "source": [
    "import System.IO   \n",
    "import System.CPUTime\n",
    "import Text.Printf \n",
    "\n",
    "time :: IO t -> IO t\n",
    "time a = do\n",
    "    start <- getCPUTime\n",
    "    v <- a\n",
    "    end   <- getCPUTime\n",
    "    let diff = fromIntegral (end - start) / (10^12)\n",
    "    printf \"Computation time: %0.3f sec\\n\" (diff :: Double)\n",
    "    return v\n",
    "\n",
    "main = readFile \"/home/jovyan/ihaskell_examples/ihaskell-hvega/hvega-frames-and-gaia.ipynb\" >>= putStrLn . Prelude.last . Prelude.lines\n",
    "time main"
   ]
  },
  {
   "cell_type": "markdown",
   "id": "b2f65d21-d8ee-48e3-98c8-ecc79a610034",
   "metadata": {},
   "source": [
    "Now we will read the same file, but as a byte string with `BS.readFile :: FilePath -> IO ByteString`. We will see an big improvement in the calculated time. "
   ]
  },
  {
   "cell_type": "code",
   "execution_count": 8,
   "id": "46fa0058-0bc3-47fc-afe5-2fc0e7bb1138",
   "metadata": {},
   "outputs": [
    {
     "data": {
      "text/plain": [
       "}Computation time: 0.009 sec"
      ]
     },
     "metadata": {},
     "output_type": "display_data"
    }
   ],
   "source": [
    "import qualified Data.ByteString as BS      \n",
    "import qualified Data.ByteString.Char8 as BC  \n",
    "import System.IO      \n",
    "import System.CPUTime\n",
    "\n",
    "time :: IO t -> IO t\n",
    "time a = do\n",
    "    start <- getCPUTime\n",
    "    v <- a\n",
    "    end   <- getCPUTime\n",
    "    let diff = fromIntegral (end - start) / (10^12)\n",
    "    printf \"Computation time: %0.3f sec\\n\" (diff :: Double)\n",
    "    return v\n",
    "\n",
    "main = BS.readFile \"/home/jovyan/ihaskell_examples/ihaskell-hvega/hvega-frames-and-gaia.ipynb\" >>= BC.putStr . Prelude.last . BC.lines\n",
    "time main"
   ]
  },
  {
   "cell_type": "markdown",
   "id": "17183973-66cb-4eb1-99ca-a7c052b92cf9",
   "metadata": {},
   "source": []
  }
 ],
 "metadata": {
  "kernelspec": {
   "display_name": "Haskell",
   "language": "haskell",
   "name": "haskell"
  },
  "language_info": {
   "codemirror_mode": "ihaskell",
   "file_extension": ".hs",
   "mimetype": "text/x-haskell",
   "name": "haskell",
   "pygments_lexer": "Haskell",
   "version": "8.10.7"
  }
 },
 "nbformat": 4,
 "nbformat_minor": 5
}
