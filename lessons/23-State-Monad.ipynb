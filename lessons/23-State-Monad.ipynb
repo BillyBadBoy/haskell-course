{
 "cells": [
  {
   "cell_type": "markdown",
   "metadata": {},
   "source": [
    "# State Monad"
   ]
  },
  {
   "cell_type": "markdown",
   "metadata": {},
   "source": [
    "## Outline\n",
    "\n",
    "* Incentive for the State monad\n",
    "\n",
    "* The State monad\n",
    "  - Definition of the State monad\n",
    "\n",
    "  - MonadState type class\n",
    "  \n",
    "  - Simple example\n",
    "  \n",
    "* State monad examples\n",
    "  - State monad with IO actions\n",
    "\n",
    "In this lesson, we will learn about the State monad type and how you can use it."
   ]
  },
  {
   "cell_type": "markdown",
   "metadata": {},
   "source": [
    "## Incentive for State monad"
   ]
  },
  {
   "cell_type": "markdown",
   "metadata": {},
   "source": [
    "We talked in the previous two lectures how you can use the Reader and Writer Monad if you have to read from a environment variable or write to it.\n",
    "\n",
    "If you need to perform both operations you can use the State Monad. Let's first look at an example where we perform read and write operations without the State monad.\n",
    "\n",
    "We will create the Tic-Tac-Toe game [(1)](https://en.wikipedia.org/wiki/Tic-tac-toe) that will use the **System.Random** module to randomly pick the X and O choices."
   ]
  },
  {
   "cell_type": "code",
   "execution_count": null,
   "metadata": {},
   "outputs": [],
   "source": [
    "import System.Random (mkStdGen, Random(randomR), StdGen)\n",
    "\n",
    "data Player = XPlayer | OPlayer deriving Eq\n",
    "data Choice = Empty | X | O deriving Eq\n",
    "\n",
    "data GameState = GameState\n",
    "  { currentBoard :: [Choice]\n",
    "  , currentPlayer :: Player\n",
    "  , generator :: StdGen\n",
    "  }\n",
    "\n",
    "main :: IO ()\n",
    "main = do\n",
    "    putStrLn \"Game results:\"\n",
    "    let gen = mkStdGen 1\n",
    "        initState = GameState\n",
    "                      [Empty | boardInd <- [1..9]]\n",
    "                      XPlayer\n",
    "                      gen\n",
    "    playGame initState\n",
    "    \n",
    "playGame :: GameState -> IO ()\n",
    "playGame gs = do\n",
    "    let freeFields = getFreeFields gs\n",
    "    if length freeFields /= 0\n",
    "    then do\n",
    "        let player = currentPlayer gs\n",
    "            board = currentBoard gs\n",
    "            gen = generator gs\n",
    "            (choiceInd, gen') = randomR (0, length freeFields - 1) gen\n",
    "            choice = (freeFields !! choiceInd) + 1\n",
    "            newGameState = GameState\n",
    "                            (if player == XPlayer\n",
    "                            then [if ind /= choice then board !! (ind-1) else X | ind <- [1..9]]\n",
    "                            else [if ind /= choice then board !! (ind-1) else O | ind <- [1..9]])\n",
    "                            (nextPlayer player)\n",
    "                            gen'\n",
    "        playGame newGameState\n",
    "    else do\n",
    "        printBoard gs\n",
    "\n",
    "getFreeFields :: GameState -> [Int]\n",
    "getFreeFields gs = [ind | ind <- [0..8], board !! ind == Empty]\n",
    "    where board = currentBoard gs\n",
    "\n",
    "nextPlayer :: Player -> Player\n",
    "nextPlayer XPlayer = OPlayer\n",
    "nextPlayer OPlayer = XPlayer\n",
    "\n",
    "printBoard :: GameState -> IO ()\n",
    "printBoard gs = do\n",
    "    let board = currentBoard gs\n",
    "    let stateToString st = case st of\n",
    "                             Empty -> \"-\"\n",
    "                             X -> \"X\"\n",
    "                             O -> \"O\"\n",
    "        printInd ind = stateToString $ board !! ind\n",
    "    mapPutStr [printInd 0,\"|\", printInd 1,\"|\", printInd 2, \"\\n\"]\n",
    "    putStrLn \"-----\"\n",
    "    mapPutStr [printInd 3,\"|\", printInd 4,\"|\", printInd 5, \"\\n\"]\n",
    "    putStrLn \"-----\"\n",
    "    mapPutStr [printInd 6,\"|\", printInd 7,\"|\", printInd 8, \"\\n\"]\n",
    "\n",
    "mapPutStr :: [String] -> IO ()\n",
    "mapPutStr [] = return ()\n",
    "mapPutStr [x] = putStr x\n",
    "mapPutStr (x:xs) = putStr x >> mapPutStr xs\n",
    "\n",
    "main"
   ]
  },
  {
   "cell_type": "markdown",
   "metadata": {},
   "source": [
    "In the code above we define the **GameState** variable that holds data for the current state of the game. In the **main** function we created the initial state.\n",
    "\n",
    "In the **playGame** function we use the **GameState** variable to create a new move and update the variable before we recursivly call this function again or print the game results."
   ]
  },
  {
   "cell_type": "markdown",
   "metadata": {},
   "source": [
    "This is a simple game but if it would become more complex you would need to pass around a lot of data. This is where the **State monad** can help you out. "
   ]
  },
  {
   "cell_type": "markdown",
   "metadata": {},
   "source": [
    "## The State monad"
   ]
  },
  {
   "cell_type": "markdown",
   "metadata": {},
   "source": [
    "### Definition of the State monad"
   ]
  },
  {
   "cell_type": "markdown",
   "metadata": {},
   "source": [
    "The Haskell2010 definition of the `State` type is defined in terms of the `StateT` monad transformer:\n",
    "```haskell\n",
    "type State s = StateT s Identity\n",
    "```\n",
    "We will learn about Monad transformers in lesson 25."
   ]
  },
  {
   "cell_type": "markdown",
   "metadata": {},
   "source": [
    "You can also define the State monad without using a monad transformer that works equally as the one above. We will chose this aproach in this lesson. \n",
    "\n",
    "Let's first look at the definition of the **State** type:\n",
    "```haskell\n",
    "newtype State s a = State { runState :: s -> (a, s) }\n",
    "```"
   ]
  },
  {
   "cell_type": "markdown",
   "metadata": {},
   "source": [
    "We see that the `State` data constructor holds a function that can be accessed with the name `runState`.\n",
    "\n",
    "It takes in a state and returns a tuple that contains a variable of type `a` and another state variable."
   ]
  },
  {
   "cell_type": "markdown",
   "metadata": {},
   "source": [
    "We can now create a Monad instance for `State s` and not just `State`.\n",
    "\n",
    "This means the type of our state will remain the same as we compose our function with `(>>=)`.\n",
    "```haskell\n",
    "(>>=) :: State s a        ->\n",
    "         (a -> State s b) ->\n",
    "         State s b\n",
    "```"
   ]
  },
  {
   "cell_type": "markdown",
   "metadata": {},
   "source": [
    "The monad instance for `State s` would be defined as:\n",
    "```haskell\n",
    "instance Monad (State s) where\n",
    "    return a = State $ \\st -> (a, st)\n",
    "    stMonad >>= f = State $ \\st1 -> \n",
    "        let (a, st2) = runState stMonad st1\n",
    "        in runState (f a) st2\n",
    "```"
   ]
  },
  {
   "cell_type": "markdown",
   "metadata": {},
   "source": [
    "You could then define the Functor and Applicative instances with the help of the `ap` and `liftM` function from the **Control.Monad** module.\n",
    "\n",
    "Here we will define the Functor and Applicative instances without the help of these monadic functions.\n",
    "```haskell\n",
    "instance Functor (State s) where\n",
    "fmap f stFunctor = State $ \\st1 ->\n",
    "    let (a, st2) = runState stFunctor st1\n",
    "    in (f a, st2)\n",
    "\n",
    "instance Applicative (State s) where\n",
    "pure a = State $ \\st -> (a, st)\n",
    "f <*> g = State $ \\st1 ->\n",
    "    let (h, st2) = runState f st1\n",
    "        (a, st3) = runState g st2\n",
    "    in (h a, st3)\n",
    "```"
   ]
  },
  {
   "cell_type": "markdown",
   "metadata": {},
   "source": [
    "### Helper functions"
   ]
  },
  {
   "cell_type": "markdown",
   "metadata": {},
   "source": [
    "The **Control.Monad.Trans.State** module defines some helper functions for the State moand. \n",
    "\n",
    "You have the option to import this module as a lazy or a strict module by prepending **.Lazy** or **.Strict**."
   ]
  },
  {
   "cell_type": "markdown",
   "metadata": {},
   "source": [
    "Commonly used helper functions are `get` and `put` that are used inside a State monad. \n",
    "```haskell\n",
    "get :: (Monad m) => State s s\n",
    "get = state $ \\s -> (s, s)\n",
    "\n",
    "put :: (Monad m) => s -> State s ()\n",
    "put s = state $ \\_ -> ((), s)\n",
    "```"
   ]
  },
  {
   "cell_type": "markdown",
   "metadata": {},
   "source": [
    "The `get` function gets the state variable of the State monad. And the `put` function sets the state variable of the State monad. "
   ]
  },
  {
   "cell_type": "markdown",
   "metadata": {},
   "source": [
    "Then there are the `evalState` and `execState` helper functions.\n",
    "```haskell\n",
    "evalState :: State s a -> s -> a\n",
    "evalState stateAction initialState =\n",
    "    fst $ runState stateAction initialState\n",
    "\n",
    "execState :: State s a -> s -> s\n",
    "execState stateAction initialState =\n",
    "    snd $ runState stateAction initialState\n",
    "```"
   ]
  },
  {
   "cell_type": "markdown",
   "metadata": {},
   "source": [
    "The difference to the functions `get` and `put` is that they are used outside of a state monad.\n",
    "\n",
    "The `evalState` function returns the result variable of the State monad. The `execState` function returns the state variable of the State monad.  "
   ]
  },
  {
   "cell_type": "markdown",
   "metadata": {},
   "source": [
    "Two other helper functions that this module also contains are the `modify` and `gets` functions.\n",
    "```haskell\n",
    "modify :: MonadState s m => (s -> s) -> m ()\n",
    "modify f = state (\\st -> ((), f st))\n",
    "\n",
    "gets :: MonadState s m => (s -> a) -> m a\n",
    "gets f = do\n",
    "    st <- get\n",
    "    return (f st)\n",
    "```"
   ]
  },
  {
   "cell_type": "markdown",
   "metadata": {},
   "source": [
    "The `modify` function takes in a function and updates the state monad such that is applies the function to the state variable.\n",
    "\n",
    "The `gets` function takes in a function, applies it to the state variable and writes the result in the type `a` variable of the state monad."
   ]
  },
  {
   "cell_type": "markdown",
   "metadata": {},
   "source": [
    "### MonadState type class"
   ]
  },
  {
   "cell_type": "markdown",
   "metadata": {},
   "source": [
    "The `MonadState` type class is defined in the **Control.Monad.State.Class** module which is part of the **mtl** package.\n",
    "\n",
    "This type class defines the `get` and `put` functions and the module defines also the previously mentioned helper functions. \n",
    "\n",
    "We look at the definition of the `MonadState` type class to learn a new way how to define type classes and class instances."
   ]
  },
  {
   "cell_type": "markdown",
   "metadata": {},
   "source": [
    "The `MonadState` type class definition is:\n",
    "```haskell\n",
    "class Monad m => MonadState s m | m -> s where\n",
    "    get :: m s\n",
    "    get = state (\\s -> (s, s))\n",
    "\n",
    "    put :: s -> m ()\n",
    "    put s = state (\\_ -> ((), s))\n",
    "\n",
    "    state :: (s -> (a, s)) -> m a\n",
    "    state f = do\n",
    "      s <- get\n",
    "      let ~(a, s') = f s\n",
    "      put s'\n",
    "      return a\n",
    "    {-# MINIMAL state | get, put #-}\n",
    "```"
   ]
  },
  {
   "cell_type": "markdown",
   "metadata": {},
   "source": [
    "The minimal complete definition are the `get` and `put` functions which can get or set the state variable of the state moand.\n",
    "\n",
    "You can also alternativly define the `state` function that takes in a function and returns a state monad. "
   ]
  },
  {
   "cell_type": "markdown",
   "metadata": {},
   "source": [
    "To be able to declare a type class with two types you need to use the *MultiParamTypeClasses* language pragma.\n",
    "\n",
    "If the type `m` which in reality for us will be `(State s)`, is encapsulating the type `s` we can state this dependency with the `| m -> s` statement.\n",
    "\n",
    "To be able to use such dependency statements in type class declarations we need to include the *FunctionalDependencies* language pragma."
   ]
  },
  {
   "cell_type": "markdown",
   "metadata": {},
   "source": [
    "For our State monad we could write an instance of the `MonadState` type class as:\n",
    "```haskell\n",
    "instance MonadState s (State s) where\n",
    "    put :: s -> State s ()\n",
    "    put st = State $ \\_ -> ((), st)\n",
    "\n",
    "    get :: State s s\n",
    "    get = State $ \\st -> (st, st)\n",
    "```"
   ]
  },
  {
   "cell_type": "markdown",
   "metadata": {},
   "source": [
    "To be able to do this we would also need to include the language pragmas *FlexibleInstances* and *InstanceSigs*.\n",
    "\n",
    "The first let's you work with concrete types when creating an type class instances. For example if you want to create an instance for `Maybe Int` instead of `Maybe a` you can do this.\n",
    "\n",
    "The second enables to also write our type signatures as part of typeclass instance declarations. "
   ]
  },
  {
   "cell_type": "markdown",
   "metadata": {},
   "source": [
    "### Simple example"
   ]
  },
  {
   "cell_type": "markdown",
   "metadata": {},
   "source": [
    "In practical Haskell code we do not define functions, types and type classes from the previous chapters on our own. \n",
    "\n",
    "We can import them from the **Control.Monad.State** module."
   ]
  },
  {
   "cell_type": "markdown",
   "metadata": {},
   "source": [
    "Let's write an example of a State monad that helps us compute the first n fibonacci numbers."
   ]
  },
  {
   "cell_type": "code",
   "execution_count": null,
   "metadata": {},
   "outputs": [],
   "source": [
    "import Control.Monad.State (MonadState(put, get), runState, State)\n",
    "\n",
    "type FibNums = [Int]\n",
    "\n",
    "printFibonacci :: IO ()\n",
    "printFibonacci = do\n",
    "    putStrLn \"How many fibonacci numbers do you want to see:\"\n",
    "    n <- (read <$> getLine) :: IO Int\n",
    "    let initialState = [n,0,1]\n",
    "    process initialState\n",
    "\n",
    "process :: FibNums -> IO ()\n",
    "process st = do\n",
    "    let (finished, newSt) = runState addFib st\n",
    "    if finished \n",
    "    then do\n",
    "      putStrLn \"Fibonacci numbers are:\"\n",
    "      print $ tail newSt\n",
    "    else process newSt\n",
    "\n",
    "addFib :: State FibNums Bool\n",
    "addFib = do\n",
    "    st <- get\n",
    "    let newSt = st ++ [last st + last (init st)]\n",
    "        finished = length (tail newSt) == head newSt \n",
    "    put newSt\n",
    "    return finished\n",
    "\n",
    "printFibonacci"
   ]
  },
  {
   "cell_type": "markdown",
   "metadata": {},
   "source": [
    "First ask the user for a number and then run the **process** function that we provide with the initial state.\n",
    "\n",
    "Out initial state is a list that hold the number of fibonacci elements we want and the first two fibonacci numbers."
   ]
  },
  {
   "cell_type": "markdown",
   "metadata": {},
   "source": [
    "In the **process** function we start the State monad **addFib** with the provided state and then check if the list is complete. If not we recursively call **process** again. \n",
    "\n",
    "The **addFib** State monad function first gets the state, then it updates the state and returns a Bool that inidicates if we computed the desired length."
   ]
  },
  {
   "cell_type": "markdown",
   "metadata": {},
   "source": [
    "## State monad examples"
   ]
  },
  {
   "cell_type": "markdown",
   "metadata": {},
   "source": [
    "Let's now look at the previous fibonacci example where we rewrite the `addFib` state monad such that we use the `modify` and `gets` functions."
   ]
  },
  {
   "cell_type": "code",
   "execution_count": null,
   "metadata": {},
   "outputs": [],
   "source": [
    "addFib :: State FibNums Bool\n",
    "addFib = do\n",
    "    let updateSt st = st ++ [last st + last (init st)]\n",
    "        isFinished st = length (tail st) == head st\n",
    "    modify updateSt\n",
    "    gets isFinished\n",
    "\n",
    "printFibonacci"
   ]
  },
  {
   "cell_type": "markdown",
   "metadata": {},
   "source": [
    "If we use this version with the previous code it works the same. We see there is no need to use the `get` and `set` functions in this example.\n",
    "\n",
    "Instead we define functions that take in a state and use them to update the current state and the return variable of the state monad."
   ]
  },
  {
   "cell_type": "markdown",
   "metadata": {},
   "source": [
    "Next we write a game that takes in a string radomly composed of the characters `a`, `b` and `c`.\n",
    "\n",
    "The game works like this: \n",
    "- we start with the intial state where the count is 0 and the game is OFF\n",
    "- the caracter `c` switches the state of the game from OFF to ON or vice versa\n",
    "- the caracter `a` adds +1 to the count if the game is ON\n",
    "- the caracter `b` adds -1 to the count if the game is ON "
   ]
  },
  {
   "cell_type": "markdown",
   "metadata": {},
   "source": [
    "In the end the final count of the game is printed. We use the state monad to implement this game and also the `evalState` function."
   ]
  },
  {
   "cell_type": "code",
   "execution_count": null,
   "metadata": {},
   "outputs": [],
   "source": [
    "import Control.Monad.State ( evalState, MonadState(put, get), State )\n",
    "\n",
    "type GameValue = String\n",
    "type GameState = (Bool, Int)\n",
    "\n",
    "playGame :: String -> State GameState GameValue\n",
    "playGame [] = do\n",
    "    (_, score) <- get\n",
    "    return $ \"Final score is: \" ++ show score\n",
    "playGame (x : xs) = do\n",
    "    (on, score) <- get\n",
    "    case x of\n",
    "        'a' | on -> put (on, score + 1)\n",
    "        'b' | on -> put (on, score - 1)\n",
    "        'c' -> put (not on, score)\n",
    "        _ -> put (on, score)\n",
    "    playGame xs\n",
    "\n",
    "main :: IO ()\n",
    "main = do\n",
    "    let startState = (False, 0::Int)\n",
    "    putStrLn $ evalState (playGame \"acaaabcbbcbaa\") startState"
   ]
  },
  {
   "cell_type": "markdown",
   "metadata": {},
   "source": [
    "In our last example we look at our initial Tic-Tac-Toe example and how we can re-write it with the use of the State monad.\n",
    "\n",
    "Just to have an overview we will write out all also the code that is duplicated form the initial example."
   ]
  },
  {
   "cell_type": "code",
   "execution_count": null,
   "metadata": {},
   "outputs": [],
   "source": [
    "import Control.Monad.State (MonadState(get, put), runState, State)\n",
    "import System.Random (mkStdGen, Random(randomR), StdGen)\n",
    "\n",
    "data Player = XPlayer | OPlayer deriving Eq\n",
    "data Choice = Empty | X | O deriving Eq\n",
    "\n",
    "data GameState = GameState\n",
    "  { currentBoard :: [Choice]\n",
    "  , currentPlayer :: Player\n",
    "  , generator :: StdGen\n",
    "  }\n",
    "\n",
    "main :: IO ()\n",
    "main = do\n",
    "  let gen = mkStdGen 1\n",
    "      initState = GameState\n",
    "                  [Empty | boardInd <- [1..9]]\n",
    "                  XPlayer\n",
    "                  gen\n",
    "  playGame initState\n",
    "\n",
    "playGame :: GameState -> IO ()\n",
    "playGame gs = do\n",
    "  let (gameFinished, newGS) = runState resolveTurn gs\n",
    "  if gameFinished \n",
    "  then do\n",
    "    putStrLn \"Game results:\"\n",
    "    printBoard newGS\n",
    "  else playGame newGS\n",
    "\n",
    "resolveTurn :: State GameState Bool\n",
    "resolveTurn = do\n",
    "  choice <- chooseRandomMove\n",
    "  applyMove choice\n",
    "  isGameDone\n",
    "\n",
    "chooseRandomMove :: State GameState Int\n",
    "chooseRandomMove = do\n",
    "  gs <- get\n",
    "  let board = currentBoard gs\n",
    "      openSpots = [ind | ind <- [0..8], board !! ind == Empty]\n",
    "      gen = generator gs\n",
    "  let (i, gen') = randomR (0, length openSpots - 1) gen\n",
    "  put $ gs { generator = gen' }\n",
    "  return $ (openSpots !! i) + 1\n",
    "\n",
    "applyMove :: Int -> State GameState ()\n",
    "applyMove choice = do\n",
    "  gs <- get\n",
    "  let player = currentPlayer gs\n",
    "      board = currentBoard gs\n",
    "      newBoard = if player == XPlayer\n",
    "                 then [if ind /= choice then board !! (ind-1) else X | ind <- [1..9]]\n",
    "                 else [if ind /= choice then board !! (ind-1) else O | ind <- [1..9]]\n",
    "  put $ gs { currentPlayer = nextPlayer player, currentBoard = newBoard }\n",
    "\n",
    "nextPlayer :: Player -> Player\n",
    "nextPlayer XPlayer = OPlayer\n",
    "nextPlayer OPlayer = XPlayer\n",
    "\n",
    "isGameDone :: State GameState Bool\n",
    "isGameDone = do\n",
    "  gs <- get\n",
    "  let board = currentBoard gs\n",
    "      openSpots = [ind | ind <- [0..8], board !! ind == Empty]\n",
    "  return $ length openSpots == 0\n",
    "\n",
    "printBoard :: GameState -> IO ()\n",
    "printBoard gs = do\n",
    "    let board = currentBoard gs\n",
    "    let stateToString st = case st of\n",
    "                             Empty -> \"-\"\n",
    "                             X -> \"X\"\n",
    "                             O -> \"O\"\n",
    "        printInd ind = stateToString $ board !! ind\n",
    "    mapPutStr [printInd 0,\"|\", printInd 1,\"|\", printInd 2, \"\\n\"]\n",
    "    putStrLn \"-----\"\n",
    "    mapPutStr [printInd 3,\"|\", printInd 4,\"|\", printInd 5, \"\\n\"]\n",
    "    putStrLn \"-----\"\n",
    "    mapPutStr [printInd 6,\"|\", printInd 7,\"|\", printInd 8, \"\\n\"]\n",
    "\n",
    "mapPutStr :: [String] -> IO ()\n",
    "mapPutStr [] = return ()\n",
    "mapPutStr [x] = putStr x\n",
    "mapPutStr (x:xs) = putStr x >> mapPutStr xs\n",
    "\n",
    "main"
   ]
  },
  {
   "cell_type": "markdown",
   "metadata": {},
   "source": [
    "Here we use the same **GameState** variable as before that now represents the state of our State monad.\n",
    "\n",
    "In the **playGame** function we start the **resolveTurn** State monad and provide it the initial state.\n",
    "\n",
    "This monad calls then three other State monads that update the state accordingly and the final return parameter tells us weather the game is finished."
   ]
  },
  {
   "cell_type": "markdown",
   "metadata": {},
   "source": [
    "## Recap"
   ]
  },
  {
   "cell_type": "markdown",
   "metadata": {},
   "source": [
    "In this lesson we've discussed:\n",
    "\n",
    "- the motivation for introducing the State monad type \n",
    "\n",
    "- the definition of the State monad type\n",
    "\n",
    "- helper functions that work with the State monad\n",
    "\n",
    "- examples that use the State monad type and functions that work with it"
   ]
  }
 ],
 "metadata": {
  "kernelspec": {
   "display_name": "Haskell",
   "language": "haskell",
   "name": "haskell"
  },
  "language_info": {
   "codemirror_mode": "ihaskell",
   "file_extension": ".hs",
   "mimetype": "text/x-haskell",
   "name": "haskell",
   "pygments_lexer": "Haskell",
   "version": "8.10.7"
  }
 },
 "nbformat": 4,
 "nbformat_minor": 4
}
