{
 "cells": [
  {
   "cell_type": "markdown",
   "metadata": {},
   "source": [
    "# Creating Types"
   ]
  },
  {
   "cell_type": "markdown",
   "metadata": {},
   "source": [
    "## Outline\n",
    "* Type synonyms\n",
    "\t* How\n",
    "\t* Why\n",
    "\t* Type Parameters \n",
    "* New types with `data`\n",
    "\t* Creating types\n",
    "\t* Using types\n",
    "\t* Value Parameters\n",
    "* New types with Record syntax\n",
    "* Type Parameters\n",
    "\t* Prameteryzing type synonyms\n",
    "\t* Prameteryzing `data` types\n",
    "* The `newType` keyword\n",
    "* Kinds\n",
    "* Recap"
   ]
  },
  {
   "cell_type": "markdown",
   "metadata": {},
   "source": [
    "## Type Synonyms"
   ]
  },
  {
   "cell_type": "markdown",
   "metadata": {},
   "source": [
    "Early on, when learning about `Strings` in Haskell, you found out that `String` is syntactic sugar for `[Char]`. This means that `String` and `[Char]` are *equivalent* and you can use them *interchangeably*."
   ]
  },
  {
   "cell_type": "markdown",
   "metadata": {},
   "source": [
    "That's because `String` is a type synonym for `[Char]`."
   ]
  },
  {
   "cell_type": "markdown",
   "metadata": {},
   "source": [
    "### How to define Type Synonyms"
   ]
  },
  {
   "cell_type": "markdown",
   "metadata": {},
   "source": [
    "To define a type synonym, you use the `type` keyword, followed by the new name for the type and to which pre-existent type is equal to."
   ]
  },
  {
   "cell_type": "markdown",
   "metadata": {},
   "source": [
    "```haskell\n",
    "type String = [Char]\n",
    "```"
   ]
  },
  {
   "cell_type": "markdown",
   "metadata": {},
   "source": [
    "You can name the type synonym however you want, as long as it starts with a capital letter."
   ]
  },
  {
   "cell_type": "markdown",
   "metadata": {},
   "source": [
    "<div class=\"alert alert-block alert-warning\">\n",
    "When you define a type synonym, you're not creating a new type! You're telling Haskell that an existing type can be referred with a different name (a synonym)!\n",
    "</div>"
   ]
  },
  {
   "cell_type": "markdown",
   "metadata": {},
   "source": [
    "### Why use Type Synonyms\n",
    "\n",
    "Why would you add more complexity without adding more functionality?"
   ]
  },
  {
   "cell_type": "markdown",
   "metadata": {},
   "source": [
    "Because type synonyms allow us to convey more information! Let's see an example."
   ]
  },
  {
   "cell_type": "markdown",
   "metadata": {},
   "source": [
    "Imagine you started working with a library that allows you to create monetary transactions.\n",
    "\n",
    "You want to create a new transaction, so you take a look at the type signature of the function that you need to use:\n",
    "\n",
    "```haskell\n",
    "generateTx :: String -> String -> Int -> String \n",
    "```"
   ]
  },
  {
   "cell_type": "markdown",
   "metadata": {},
   "source": [
    "Not an extremely useful signature. You could infer that the `Int` is the value to transfer, but what are those `Strings`? And what does that `String` that it returns contain?"
   ]
  },
  {
   "cell_type": "markdown",
   "metadata": {},
   "source": [
    "Now, compare that type signature with this one:"
   ]
  },
  {
   "cell_type": "markdown",
   "metadata": {},
   "source": [
    "```haskell\n",
    "generateTx :: Address -> Address -> Value -> Id\n",
    "```"
   ]
  },
  {
   "cell_type": "markdown",
   "metadata": {},
   "source": [
    "Clearly, the second signature transmits the context way better!\n",
    "The first two parameters are addresses, the third one is the value of the transaction, and it looks like it returns the id of the transaction. \n",
    "\n",
    "All that just from the type signature. The difference? Just a few type synonyms."
   ]
  },
  {
   "cell_type": "markdown",
   "metadata": {},
   "source": [
    "Let's see what we did to improvie the context so much. Starting by recreating the function called `generateTx` that will take the addresses and value of a transaction and generates a id for it:"
   ]
  },
  {
   "cell_type": "code",
   "execution_count": null,
   "metadata": {
    "vscode": {
     "languageId": "plaintext"
    }
   },
   "outputs": [],
   "source": [
    "generateTx :: String -> String -> Int -> String \n",
    "generateTx from to value = from ++ to ++ show value"
   ]
  },
  {
   "cell_type": "markdown",
   "metadata": {},
   "source": [
    "Now, we just need to add some type synonyms and sustitute them in the signature:"
   ]
  },
  {
   "cell_type": "code",
   "execution_count": null,
   "metadata": {
    "vscode": {
     "languageId": "plaintext"
    }
   },
   "outputs": [],
   "source": [
    "type Address = String\n",
    "type Value = Int\n",
    "type Id = String\n",
    "\n",
    "generateTx :: Address -> Address -> Value -> Id\n",
    "generateTx from to value = from ++ to ++ show value"
   ]
  },
  {
   "cell_type": "markdown",
   "metadata": {},
   "source": [
    "Super easy! And if you want to check what does the `Address`, `Value`, or `Id` types are, you can open GHCi, load the file, and check its info:"
   ]
  },
  {
   "cell_type": "code",
   "execution_count": null,
   "metadata": {
    "vscode": {
     "languageId": "plaintext"
    }
   },
   "outputs": [],
   "source": [
    ":i Address \n",
    ":i Value\n",
    ":i Id"
   ]
  },
  {
   "cell_type": "markdown",
   "metadata": {},
   "source": [
    "And, of course, we can build on top of previous type synonyms to create more complex types. Here's an example:"
   ]
  },
  {
   "cell_type": "code",
   "execution_count": null,
   "metadata": {
    "vscode": {
     "languageId": "plaintext"
    }
   },
   "outputs": [],
   "source": [
    "type Name = String\n",
    "type Address = (String, Int)\n",
    "type Person = (Name, Address)\n",
    "\n",
    "bob = (\"Bob Smith\", (\"Main St.\", 555)) :: Person\n",
    ":t bob\n",
    ":t fst bob"
   ]
  },
  {
   "cell_type": "markdown",
   "metadata": {},
   "source": [
    "Having type synonyms is cool and all, but they are just different names for the same thing. What if we need to create a brand new type? `data` to the rescue!"
   ]
  },
  {
   "cell_type": "markdown",
   "metadata": {},
   "source": [
    "## Defining new types with `data`"
   ]
  },
  {
   "cell_type": "markdown",
   "metadata": {},
   "source": [
    "We can create new types like this:"
   ]
  },
  {
   "cell_type": "code",
   "execution_count": null,
   "metadata": {
    "vscode": {
     "languageId": "plaintext"
    }
   },
   "outputs": [],
   "source": [
    "data PaymentMethod = Cash | Card | Cryptocurrency\n",
    "\n",
    "data Color = Red | Green | Blue\n",
    "\n",
    "data Bool = True | False      -- Real definition of Bool\n",
    "\n",
    "data Ordering = LT | EQ | GT  -- Real definition of Ordering"
   ]
  },
  {
   "cell_type": "markdown",
   "metadata": {},
   "source": [
    "We start with the `data` keyword. Then, the part before the equal sign is our new type name and the part after the equal sign are **value constructors**.\n",
    "\n",
    "Value constructors specify the different **values** that the type can have."
   ]
  },
  {
   "cell_type": "markdown",
   "metadata": {},
   "source": [
    "In this context, the `|` (pipe sign) is read as \"or\". So we can read the firs type as:\n",
    "\n",
    "> The type `PaymentMethod` can have a value of `Cash`, `Card`, or `Cryptocurrency`."
   ]
  },
  {
   "cell_type": "markdown",
   "metadata": {},
   "source": [
    "<div class=\"alert alert-block alert-warning\">\n",
    "<b>Warning:</b> The type name and the value constructors must start with an uppercase letter!\n",
    "</div>"
   ]
  },
  {
   "cell_type": "markdown",
   "metadata": {},
   "source": [
    "## Using our new type"
   ]
  },
  {
   "cell_type": "markdown",
   "metadata": {},
   "source": [
    "And now, how can we use this new type?"
   ]
  },
  {
   "cell_type": "markdown",
   "metadata": {},
   "source": [
    "By using its values! For example, let's add a payment method to our person:"
   ]
  },
  {
   "cell_type": "code",
   "execution_count": null,
   "metadata": {
    "vscode": {
     "languageId": "plaintext"
    }
   },
   "outputs": [],
   "source": [
    "type Name = String\n",
    "type Address = (String, Int)\n",
    "\n",
    "data PaymentMethod = Cash | Card | Cryptocurrency deriving (Show)\n",
    "\n",
    "type Person = (Name, Address, PaymentMethod)\n",
    "\n",
    "bob = (\"Bob Smith\", (\"Main St.\", 555), Cash) :: Person\n",
    "bob"
   ]
  },
  {
   "cell_type": "markdown",
   "metadata": {},
   "source": [
    "<div class=\"alert alert-block alert-info\">\n",
    "<p>We'll be adding <code>deriving (Show)</code> at the end of our data declarations.</p>\n",
    "<p>By adding this, Haskell will automatically make that type an instance of the <code>Show</code> type class. Allowing us to print them on the terminal.</p>\n",
    "<p>We'll explain how this works in detail in the \"Creating type classes and Instances\" lesson.</p>\n",
    "</div>"
   ]
  },
  {
   "cell_type": "markdown",
   "metadata": {},
   "source": [
    "And, of course, we can check its properties using the `:i` command in ghci:"
   ]
  },
  {
   "cell_type": "code",
   "execution_count": null,
   "metadata": {},
   "outputs": [],
   "source": [
    ":i PaymentMethod"
   ]
  },
  {
   "cell_type": "markdown",
   "metadata": {},
   "source": [
    "We can pattern match for its values:"
   ]
  },
  {
   "cell_type": "code",
   "execution_count": null,
   "metadata": {
    "vscode": {
     "languageId": "plaintext"
    }
   },
   "outputs": [],
   "source": [
    "howItPays :: Person -> String\n",
    "howItPays (_, _, Cash) = \"Pays in cash\"\n",
    "howItPays (_, _, Card) = \"Pays with card\"\n",
    "howItPays (_, _, Cryptocurrency) = \"Pays with cryptocurrency\"\n",
    "\n",
    "howItPays bob"
   ]
  },
  {
   "cell_type": "markdown",
   "metadata": {},
   "source": [
    "And use it like any other type."
   ]
  },
  {
   "cell_type": "markdown",
   "metadata": {},
   "source": [
    "But that's just the tip of the iceberg. What should we do if we need more than a few values?\n",
    "\n",
    "What if, for example, I want a type to represent a shape that could be any circle or any rectangle?"
   ]
  },
  {
   "cell_type": "markdown",
   "metadata": {},
   "source": [
    "We could start by defining something like:"
   ]
  },
  {
   "cell_type": "code",
   "execution_count": null,
   "metadata": {
    "vscode": {
     "languageId": "plaintext"
    }
   },
   "outputs": [],
   "source": [
    "data Shape = Circle | Rectangle"
   ]
  },
  {
   "cell_type": "markdown",
   "metadata": {},
   "source": [
    "But the thing is, this isn't of much use.\n",
    "\n",
    "I want to be able to do stuff with these values, like calculating perimeters and areas. And I can't do that without the actual properties of the shape!\n",
    "\n",
    "No problem at all! We can just pass some parameters to the constructors!"
   ]
  },
  {
   "cell_type": "markdown",
   "metadata": {},
   "source": [
    "### Value Parameters"
   ]
  },
  {
   "cell_type": "markdown",
   "metadata": {},
   "source": [
    "Let's think about what do we need to represent any circle or rectangle:\n",
    "* To define a circle, we need its radius. So just one numeric value.\n",
    "* To define a rectangle, we need the length of its two sides. So two numeric values."
   ]
  },
  {
   "cell_type": "markdown",
   "metadata": {},
   "source": [
    "To translate those requirements to code, the only thing we need to do is to add other types as arguments for our value constructor when defining the type, like this:"
   ]
  },
  {
   "cell_type": "code",
   "execution_count": null,
   "metadata": {
    "vscode": {
     "languageId": "plaintext"
    }
   },
   "outputs": [],
   "source": [
    "data Shape = Circle Float | Rectangle Float Float"
   ]
  },
  {
   "cell_type": "markdown",
   "metadata": {},
   "source": [
    "And this is an example of the famous **algebraic data types** everyone talks about. One of the many properties of Haskell.\n",
    "\n",
    "They are called \"Algebraic\" because we can create new types by combining previous ones either by alternation (`A | B`, meaning `A` or `B` but not both) or by combination (`A B`, meaning `A` and `B` together)."
   ]
  },
  {
   "cell_type": "markdown",
   "metadata": {},
   "source": [
    "And how does this combination works? If we check the type of the `Circle` constructor:"
   ]
  },
  {
   "cell_type": "code",
   "execution_count": null,
   "metadata": {
    "vscode": {
     "languageId": "plaintext"
    }
   },
   "outputs": [],
   "source": [
    ":t Circle"
   ]
  },
  {
   "cell_type": "markdown",
   "metadata": {},
   "source": [
    "We see that **`Circle` is a function!!** A function that takes a value of type `Float` and returns a value of type `Shape`! So, to obtain a value of type `Shape`, all we have to do is pass its radius:"
   ]
  },
  {
   "cell_type": "code",
   "execution_count": null,
   "metadata": {
    "vscode": {
     "languageId": "plaintext"
    }
   },
   "outputs": [],
   "source": [
    "smallCircle = Circle 3\n",
    "\n",
    "hugeCircle = Circle 100\n",
    "\n",
    ":t smallCircle"
   ]
  },
  {
   "cell_type": "markdown",
   "metadata": {},
   "source": [
    "And it's the same for `Rectangle` values:"
   ]
  },
  {
   "cell_type": "markdown",
   "metadata": {},
   "source": [
    ":t Rectangle"
   ]
  },
  {
   "cell_type": "markdown",
   "metadata": {},
   "source": [
    "`Rectangle` is a function that takes two values of type `Float` and returns a value of type `Shape`. So, to obtain a rectangle of type `Shape`, all we have to do is pass the lengths of its sides:"
   ]
  },
  {
   "cell_type": "code",
   "execution_count": null,
   "metadata": {
    "vscode": {
     "languageId": "plaintext"
    }
   },
   "outputs": [],
   "source": [
    "rect1 = Rectangle 10 5\n",
    "\n",
    "rect2 = Rectangle 256 128\n",
    "\n",
    ":t rect1"
   ]
  },
  {
   "cell_type": "markdown",
   "metadata": {},
   "source": [
    "That's it! We created some values of our new `Shape` type. Now let's use them!"
   ]
  },
  {
   "cell_type": "markdown",
   "metadata": {},
   "source": [
    "We can define a function that calculates the area of any value of type `Shape` like this:"
   ]
  },
  {
   "cell_type": "code",
   "execution_count": null,
   "metadata": {
    "vscode": {
     "languageId": "plaintext"
    }
   },
   "outputs": [],
   "source": [
    "area :: Shape -> Float\n",
    "area (Circle r) = pi * r^2        -- We pattern match on value constructors\n",
    "area (Rectangle l1 l2) = l1 * l2\n",
    "\n",
    "\n",
    "area smallCircle\n",
    "area rect2"
   ]
  },
  {
   "cell_type": "markdown",
   "metadata": {},
   "source": [
    "Now we're talking! We just created a really useful type!"
   ]
  },
  {
   "cell_type": "markdown",
   "metadata": {},
   "source": [
    "But I'm not done with these shapes yet. I want more! I want to add colors! And points in 2D space that tell you the position of the center of the shape!"
   ]
  },
  {
   "cell_type": "markdown",
   "metadata": {},
   "source": [
    "For that, we could do something like this monstrosity:"
   ]
  },
  {
   "cell_type": "code",
   "execution_count": null,
   "metadata": {
    "vscode": {
     "languageId": "plaintext"
    }
   },
   "outputs": [],
   "source": [
    "data Shape = Circle (Float, Float) Float String | Rectangle (Float, Float) Float Float String"
   ]
  },
  {
   "cell_type": "markdown",
   "metadata": {},
   "source": [
    "Where we add the points in space as tuples of `Float` values and colors as a `String` value."
   ]
  },
  {
   "cell_type": "markdown",
   "metadata": {},
   "source": [
    "We could easily redefine the `area` function for this new type like this:"
   ]
  },
  {
   "cell_type": "code",
   "execution_count": null,
   "metadata": {
    "vscode": {
     "languageId": "plaintext"
    }
   },
   "outputs": [],
   "source": [
    "area :: Shape -> Float\n",
    "area (Circle _ r _) = pi * r^2\n",
    "area (Rectangle _ l1 l2 _) = l1 * l2"
   ]
  },
  {
   "cell_type": "markdown",
   "metadata": {},
   "source": [
    "But then, if we want to extract specific fields of the `Shape` type, we have to create a custom function for each and every one of them:"
   ]
  },
  {
   "cell_type": "code",
   "execution_count": null,
   "metadata": {
    "vscode": {
     "languageId": "plaintext"
    }
   },
   "outputs": [],
   "source": [
    "color :: Shape -> String\n",
    "color (Circle _ _ c) = c\n",
    "color (Rectangle _ _ _ c) = c\n",
    "\n",
    "\n",
    "point :: Shape -> (Float, Float)\n",
    "point (Circle p _ _) = p\n",
    "point (Rectangle p _ _ _) = p\n",
    "\n",
    "\n",
    "--- Etc..."
   ]
  },
  {
   "cell_type": "markdown",
   "metadata": {},
   "source": [
    "It works, but **it's just horrible!**:\n",
    "* Hard to read\n",
    "* Hard to use\n",
    "* Hard to extract the values from inside\n",
    "* If we add more properties to the type, we need to change all our functions to correctly pattern-match (taking into account the new fields)!"
   ]
  },
  {
   "cell_type": "markdown",
   "metadata": {},
   "source": [
    "So many inconveniences!\n",
    "\n",
    "And with what we know so far, I'm sure you're aware that we could add some type synonyms to improve, at least, the reading of the type:"
   ]
  },
  {
   "cell_type": "code",
   "execution_count": null,
   "metadata": {
    "vscode": {
     "languageId": "plaintext"
    }
   },
   "outputs": [],
   "source": [
    "type Point = (Float,Float)\n",
    "type Radius = Float\n",
    "type Width = Float\n",
    "type Height = Float\n",
    "type Color = String\n",
    "\n",
    "data Shape = Circle Point Radius Color | Rectangle Point Width Height Color"
   ]
  },
  {
   "cell_type": "markdown",
   "metadata": {},
   "source": [
    "The actual type is way more readable. I'll give you that.\n",
    "\n",
    "But that's a lot of type synonyms to improve the understanding of the signature. And on top of that, it doesn't solve the other—more pressing—issues!"
   ]
  },
  {
   "cell_type": "markdown",
   "metadata": {},
   "source": [
    "But don't worry, Haskell has our backs! Enter the record syntax!"
   ]
  },
  {
   "cell_type": "markdown",
   "metadata": {},
   "source": [
    "## Record Syntax"
   ]
  },
  {
   "cell_type": "markdown",
   "metadata": {},
   "source": [
    "***Record syntax* is an alternative way of defining data types that comes with a few perks.**"
   ]
  },
  {
   "cell_type": "markdown",
   "metadata": {},
   "source": [
    "We'll start with an easier example, and then we will fix our `Shape` type."
   ]
  },
  {
   "cell_type": "markdown",
   "metadata": {},
   "source": [
    "Let's say we want to create an `Employee` data type that contains the employee's name, position, and years of experience."
   ]
  },
  {
   "cell_type": "markdown",
   "metadata": {},
   "source": [
    "Without *record syntax*, we would create it like this:"
   ]
  },
  {
   "cell_type": "code",
   "execution_count": null,
   "metadata": {
    "vscode": {
     "languageId": "plaintext"
    }
   },
   "outputs": [],
   "source": [
    "data Employee = Employee String String Float"
   ]
  },
  {
   "cell_type": "markdown",
   "metadata": {},
   "source": [
    "<div class=\"alert alert-block alert-info\">\n",
    "In this case, because the type has only one value constructor, it's usual to use the same name as the name of the type. It's not like there's anything special about it.\n",
    "</div>"
   ]
  },
  {
   "cell_type": "markdown",
   "metadata": {},
   "source": [
    "But with *record syntax*, we can create it like this:"
   ]
  },
  {
   "cell_type": "code",
   "execution_count": null,
   "metadata": {
    "vscode": {
     "languageId": "plaintext"
    }
   },
   "outputs": [],
   "source": [
    "data Employee = Employee { name :: String , position :: String , experienceInYears :: Float } deriving (Show)"
   ]
  },
  {
   "cell_type": "markdown",
   "metadata": {},
   "source": [
    "* Record syntax value constructors have their fields surrounded by curly brackets.\n",
    "* Each field has a name that starts with a lowercase letter followed by its type.\n",
    "* The fields are separated by commas."
   ]
  },
  {
   "cell_type": "markdown",
   "metadata": {},
   "source": [
    "To use this type, we have to indicate the values of the fields like this:"
   ]
  },
  {
   "cell_type": "code",
   "execution_count": null,
   "metadata": {
    "vscode": {
     "languageId": "plaintext"
    }
   },
   "outputs": [],
   "source": [
    "richard = Employee { name = \"Richard\", position = \"Software Engineer\" , experienceInYears = 7.5 }\n",
    "\n",
    "richard\n",
    ":t richard"
   ]
  },
  {
   "cell_type": "markdown",
   "metadata": {},
   "source": [
    "We provide the constructor, and between its curly brackets, we specify the name of the field with its corresponding value."
   ]
  },
  {
   "cell_type": "markdown",
   "metadata": {},
   "source": [
    "Right off the bat, the resulting data type is exactly the same but easier to understand. And the `Show` instance is more clear when we print it. But more perks come with record syntax. For example, **it automatically generates functions to look up fields in the data type!**"
   ]
  },
  {
   "cell_type": "code",
   "execution_count": null,
   "metadata": {
    "vscode": {
     "languageId": "plaintext"
    }
   },
   "outputs": [],
   "source": [
    "-- These funcitons are autogenerated when creating the Employee data type:\n",
    "\n",
    ":t name\n",
    "name richard\n",
    "\n",
    ":t experience\n",
    "experienceInYears richard"
   ]
  },
  {
   "cell_type": "markdown",
   "metadata": {},
   "source": [
    "As you can see, the auto-generated functions take a value of type `Employee` and return the value of the field that has the same name as the function."
   ]
  },
  {
   "cell_type": "markdown",
   "metadata": {},
   "source": [
    "That's record syntax for you!"
   ]
  },
  {
   "cell_type": "markdown",
   "metadata": {},
   "source": [
    "Now, let's redefine the `Shape` type but using record syntax:"
   ]
  },
  {
   "cell_type": "code",
   "execution_count": null,
   "metadata": {
    "vscode": {
     "languageId": "plaintext"
    }
   },
   "outputs": [],
   "source": [
    "data Shape = Circle { position :: (Float, Float)\n",
    "                    , radius :: Float\n",
    "                    , color :: String\n",
    "                    } | Rectangle {\n",
    "                      position :: (Float, Float)\n",
    "                    , width :: Float\n",
    "                    , height :: Float\n",
    "                    , color :: String\n",
    "                    } deriving (Show)"
   ]
  },
  {
   "cell_type": "markdown",
   "metadata": {},
   "source": [
    "As you can see, the only thing we needed to do is to replace the constructor's parameters wit record fields. And we can use the data type same as we did with the `Employee` type:"
   ]
  },
  {
   "cell_type": "code",
   "execution_count": null,
   "metadata": {
    "vscode": {
     "languageId": "plaintext"
    }
   },
   "outputs": [],
   "source": [
    "circ = Circle { position = (1,2), radius = 6, color = \"Green\"}\n",
    ":t circ\n",
    "circ\n",
    "\n",
    "rect = Rectangle {position = (9,3), width = 7, height = 3, color = \"Yellow\"}\n",
    ":t rect\n",
    "rect"
   ]
  },
  {
   "cell_type": "markdown",
   "metadata": {},
   "source": [
    "We can easily extract the values:"
   ]
  },
  {
   "cell_type": "code",
   "execution_count": null,
   "metadata": {
    "vscode": {
     "languageId": "plaintext"
    }
   },
   "outputs": [],
   "source": [
    "position circ\n",
    "\n",
    "color rect"
   ]
  },
  {
   "cell_type": "markdown",
   "metadata": {},
   "source": [
    "And we can also pattern match!:"
   ]
  },
  {
   "cell_type": "code",
   "execution_count": null,
   "metadata": {
    "vscode": {
     "languageId": "plaintext"
    }
   },
   "outputs": [],
   "source": [
    "area :: Shape -> Float\n",
    "area (Circle {radius=r}) = pi * r^2\n",
    "area (Rectangle {width=w,height=h}) = w * h\n",
    "\n",
    "area circ\n",
    "area rect"
   ]
  },
  {
   "cell_type": "markdown",
   "metadata": {},
   "source": [
    "We pattern match by writing the value constructor with only the fields we need to use and binding them to a variable on the right side of the field's equal sign."
   ]
  },
  {
   "cell_type": "markdown",
   "metadata": {},
   "source": [
    "Another awesome perk of record syntax is that, if now we add another field to the data type, we don't need to change any of our previous functions! Because we don't take into account unused fields in our pattern matching!"
   ]
  },
  {
   "cell_type": "markdown",
   "metadata": {},
   "source": [
    "Ok. So far, we've defined several types. Both with values and value constructors (functions that take some parameters and produce a value)."
   ]
  },
  {
   "cell_type": "markdown",
   "metadata": {},
   "source": [
    "But we can construct more than values. **We can construct types!**"
   ]
  },
  {
   "cell_type": "markdown",
   "metadata": {},
   "source": [
    "## Paremeterizing Types"
   ]
  },
  {
   "cell_type": "markdown",
   "metadata": {},
   "source": [
    "A **value** constructor **takes values** as parameters and **produces a value**.\n",
    "\n",
    "                            |\n",
    "                            v\n",
    "\n",
    "A **type** constrctor **takes types** as parameters and **produces a type**."
   ]
  },
  {
   "cell_type": "markdown",
   "metadata": {},
   "source": [
    "We can use type constructors with both type synonyms and new types."
   ]
  },
  {
   "cell_type": "markdown",
   "metadata": {},
   "source": [
    "### Parameterizing Type Synonyms"
   ]
  },
  {
   "cell_type": "markdown",
   "metadata": {},
   "source": [
    "Going back to our last type synonym:"
   ]
  },
  {
   "cell_type": "code",
   "execution_count": null,
   "metadata": {
    "vscode": {
     "languageId": "plaintext"
    }
   },
   "outputs": [],
   "source": [
    "type Name = String\n",
    "type Address = (String, Int)\n",
    "type Person = (Name, Address)\n",
    "\n",
    "bob = (\"Bob Smith\", (\"Main St.\", 555)) :: Person"
   ]
  },
  {
   "cell_type": "markdown",
   "metadata": {},
   "source": [
    "Imagine that after using it for a while, we find out that we also have to identify companies by their numeric id and providers by their alphanumeric id.\n",
    "\n",
    "We could do something like:"
   ]
  },
  {
   "cell_type": "code",
   "execution_count": null,
   "metadata": {
    "vscode": {
     "languageId": "plaintext"
    }
   },
   "outputs": [],
   "source": [
    "type Name = String\n",
    "type Address = (String, Int)\n",
    "type Person = (Name , Address)\n",
    "\n",
    "type CompanyId = Int\n",
    "type Company = (CompanyId, Address)\n",
    "\n",
    "type ProviderId = String\n",
    "type Provider = (ProviderId, Address)\n",
    "\n",
    "bob = (\"Bob Smith\", (\"Main St.\", 555)) :: Person\n",
    "io = (584264, (\"Cardano St.\", 999)) :: Company\n",
    "google = (\"Google LLC\", (\"Amphitheatre Parkway\", 1600)) :: Provider"
   ]
  },
  {
   "cell_type": "markdown",
   "metadata": {},
   "source": [
    "But if we do that, we repeat the same structure three times (`Person`, `Company`, and `Provider`). A different aproach would be to define a parametric type synonym."
   ]
  },
  {
   "cell_type": "markdown",
   "metadata": {},
   "source": [
    "We add a parameter to the type synonym definition—same as with functions—and we can create different types for different situations!:"
   ]
  },
  {
   "cell_type": "code",
   "execution_count": null,
   "metadata": {
    "vscode": {
     "languageId": "plaintext"
    }
   },
   "outputs": [],
   "source": [
    "type Name = String\n",
    "type Address = (String, Int)\n",
    "type CompanyId = Int\n",
    "type ProviderId = String\n",
    "\n",
    "type Entity a = (a, Address)\n",
    "\n",
    "bob = (\"Bob Smith\", (\"Main St.\", 555)) :: Entity Name \n",
    "io = (584264, (\"Cardano St.\", 999)) :: Entity CompanyId\n",
    "google = (\"Google LLC\", (\"Amphitheatre Parkway\", 1600)) :: Entity ProviderId\n",
    "other = (True, (\"Some street\", 0),) :: Entity Bool"
   ]
  },
  {
   "cell_type": "markdown",
   "metadata": {},
   "source": [
    "Notice that:"
   ]
  },
  {
   "cell_type": "markdown",
   "metadata": {},
   "source": [
    "* `Entity` by itself is a type constructor, not a type, so **no value can have a type of just `Entity`**."
   ]
  },
  {
   "cell_type": "markdown",
   "metadata": {},
   "source": [
    "* `Entity Name`, `Entity CompanyId`, `Entity ProviderId`, and `Entity Bool` are completely different types!"
   ]
  },
  {
   "cell_type": "markdown",
   "metadata": {},
   "source": [
    "For another example, we'll see how we can use type constructors when declaring new types."
   ]
  },
  {
   "cell_type": "markdown",
   "metadata": {},
   "source": [
    "### Parameterizing data types"
   ]
  },
  {
   "cell_type": "markdown",
   "metadata": {},
   "source": [
    "To add type parameters while defining new types, you just do the same as with function and parameterized type synonyms:"
   ]
  },
  {
   "cell_type": "markdown",
   "metadata": {},
   "source": [
    "Add the parameter to the left of the `=` sign, and (optionally) use it on the right:"
   ]
  },
  {
   "cell_type": "code",
   "execution_count": null,
   "metadata": {
    "vscode": {
     "languageId": "plaintext"
    }
   },
   "outputs": [],
   "source": [
    "data Box a = Empty | Has a deriving (Show)"
   ]
  },
  {
   "cell_type": "markdown",
   "metadata": {},
   "source": [
    "And to use the type:"
   ]
  },
  {
   "cell_type": "code",
   "execution_count": null,
   "metadata": {
    "vscode": {
     "languageId": "plaintext"
    }
   },
   "outputs": [],
   "source": [
    "box1 = Has (1 :: Int)\n",
    ":t box1\n",
    "\n",
    "box2 = Has \"Hello!\"\n",
    ":t box2\n",
    "\n",
    "box3 = Empty\n",
    ":t box3"
   ]
  },
  {
   "cell_type": "markdown",
   "metadata": {},
   "source": [
    "We can also modify the values inside the boxes:"
   ]
  },
  {
   "cell_type": "code",
   "execution_count": null,
   "metadata": {
    "vscode": {
     "languageId": "plaintext"
    }
   },
   "outputs": [],
   "source": [
    "add :: Num a => a -> Box a -> Box a\n",
    "add _ Empty = Empty\n",
    "add n (Has a) = Has (a + n)\n",
    "\n",
    "box4 = add 3 box1\n",
    "box4"
   ]
  },
  {
   "cell_type": "markdown",
   "metadata": {},
   "source": [
    "We can also use type constructors with record syntax:"
   ]
  },
  {
   "cell_type": "code",
   "execution_count": null,
   "metadata": {
    "vscode": {
     "languageId": "plaintext"
    }
   },
   "outputs": [],
   "source": [
    "data Shape a = Circle { position :: (Float, Float)\n",
    "                      , radius :: Float\n",
    "                      , color :: a\n",
    "                      } | Rectangle {\n",
    "                        position :: (Float, Float)\n",
    "                      , width :: Float\n",
    "                      , height :: Float\n",
    "                      , color :: a\n",
    "                      } deriving (Show)"
   ]
  },
  {
   "cell_type": "code",
   "execution_count": null,
   "metadata": {
    "vscode": {
     "languageId": "plaintext"
    }
   },
   "outputs": [],
   "source": [
    "circleS = Circle { position = (1,2), radius = 6, color = \"Green\"}\n",
    ":t circleS\n",
    "\n",
    "circleRGB = Circle { position = (1,2), radius = 6, color = (0, 128, 0)}\n",
    ":t circleRGB"
   ]
  },
  {
   "cell_type": "markdown",
   "metadata": {},
   "source": [
    "## Recursive data types"
   ]
  },
  {
   "cell_type": "markdown",
   "metadata": {},
   "source": [
    "We can use type synonyms inside other type synonyms, but, for technical reasons, we cannot define recursive type synonyms. We can though, define new recursive data types."
   ]
  },
  {
   "cell_type": "markdown",
   "metadata": {},
   "source": [
    "### Defining a sequence of nodes / List"
   ]
  },
  {
   "cell_type": "markdown",
   "metadata": {},
   "source": [
    "### Defining a tree of nodes (Bynary search tree maybe?)"
   ]
  },
  {
   "cell_type": "markdown",
   "metadata": {},
   "source": [
    "Tree-like data types are extremely useful"
   ]
  },
  {
   "cell_type": "markdown",
   "metadata": {},
   "source": [
    "### The shape of the data type directs how you write functions with it."
   ]
  },
  {
   "cell_type": "markdown",
   "metadata": {},
   "source": [
    "In genereal, you have one equation per value constructor and if a constructor is recursive (one or N times), the equation will be recursive (one or N times).\n",
    "**Add examples**"
   ]
  },
  {
   "cell_type": "markdown",
   "metadata": {},
   "source": [
    "### Defining a recursive JSON-like type? (or leave it to lesson 16?)"
   ]
  },
  {
   "cell_type": "code",
   "execution_count": null,
   "metadata": {},
   "outputs": [],
   "source": [
    "data User = None | U"
   ]
  },
  {
   "cell_type": "markdown",
   "metadata": {},
   "source": [
    "**Examples of type constructors in Haskell's standard library:**"
   ]
  },
  {
   "cell_type": "markdown",
   "metadata": {},
   "source": [
    "\n",
    "The `Maybe` type constructor:\n",
    "\n",
    "```haskell\n",
    "data Maybe a = Nothing | Just a\n",
    "```"
   ]
  },
  {
   "cell_type": "markdown",
   "metadata": {},
   "source": [
    "The list type constructor:\n",
    "\n",
    "```haskell\n",
    "data [] a = [] | a : [a]\n",
    "```"
   ]
  },
  {
   "cell_type": "markdown",
   "metadata": {},
   "source": [
    "We'll learn more about `Maybe` in future lessons."
   ]
  },
  {
   "cell_type": "markdown",
   "metadata": {},
   "source": [
    "And that's it! Now you can create any type you want!"
   ]
  },
  {
   "cell_type": "markdown",
   "metadata": {},
   "source": [
    "## The `newType` keyword"
   ]
  },
  {
   "cell_type": "markdown",
   "metadata": {},
   "source": [
    "There's another way to create brand new types, and that's the `newType` keyword."
   ]
  },
  {
   "cell_type": "markdown",
   "metadata": {},
   "source": [
    "`newType` works esentially the same as `data`, except for an important caveat:"
   ]
  },
  {
   "cell_type": "markdown",
   "metadata": {},
   "source": [
    "Types created with `newType` need to have exactly one constructor with exactly one field.\n"
   ]
  },
  {
   "cell_type": "code",
   "execution_count": null,
   "metadata": {
    "vscode": {
     "languageId": "plaintext"
    }
   },
   "outputs": [],
   "source": [
    "-- Like this:\n",
    "newtype Color a = Color a deriving (Show)\n",
    "-- And this:\n",
    "newtype Product a = Product { getProduct :: a } deriving (Show)"
   ]
  },
  {
   "cell_type": "markdown",
   "metadata": {},
   "source": [
    "But, you can do all that with `data`. So, why use `newType`? "
   ]
  },
  {
   "cell_type": "markdown",
   "metadata": {},
   "source": [
    "Short verion: **Performance reasons.**"
   ]
  },
  {
   "cell_type": "markdown",
   "metadata": {},
   "source": [
    "Because you could (theoretically) code your entire Haskell carreer without using `newType`, we won't use much for the rest of this course. But feel free to read more [here](https://wiki.haskell.org/Newtype) and [here](https://www.haskell.org/tutorial/moretypes.html), if you're interested."
   ]
  },
  {
   "cell_type": "markdown",
   "metadata": {},
   "source": [
    "Now, for the final section of the lesson: *Kinds*"
   ]
  },
  {
   "cell_type": "markdown",
   "metadata": {},
   "source": [
    "## Kinds"
   ]
  },
  {
   "cell_type": "markdown",
   "metadata": {},
   "source": [
    "As you can see, there's so much going on with types, value constructors, type constructors, etc. That it's hard to keep track of things. But Haskell has a trick up its sleeve: **Kinds**! "
   ]
  },
  {
   "cell_type": "markdown",
   "metadata": {},
   "source": [
    "If you have a function, let's say:"
   ]
  },
  {
   "cell_type": "code",
   "execution_count": null,
   "metadata": {
    "vscode": {
     "languageId": "plaintext"
    }
   },
   "outputs": [],
   "source": [
    "volumeOfACylinder r h = pi * r^2 * h"
   ]
  },
  {
   "cell_type": "markdown",
   "metadata": {},
   "source": [
    "You can check its type signature to know the quantity and type of its parameters."
   ]
  },
  {
   "cell_type": "code",
   "execution_count": null,
   "metadata": {
    "vscode": {
     "languageId": "plaintext"
    }
   },
   "outputs": [],
   "source": [
    ":t volumeOfACylinder"
   ]
  },
  {
   "cell_type": "markdown",
   "metadata": {},
   "source": [
    "Well, you can do the same for the types themselves by using `:k` (`:kind`)! Like this:"
   ]
  },
  {
   "cell_type": "code",
   "execution_count": null,
   "metadata": {
    "vscode": {
     "languageId": "plaintext"
    }
   },
   "outputs": [],
   "source": [
    ":k Int"
   ]
  },
  {
   "cell_type": "markdown",
   "metadata": {},
   "source": [
    "We won't get into much detail, but the short and sweet version is that:"
   ]
  },
  {
   "cell_type": "markdown",
   "metadata": {},
   "source": [
    "**A kind is like the type of a type**"
   ]
  },
  {
   "cell_type": "markdown",
   "metadata": {},
   "source": [
    "* `*` means: **\"concrete type\"** (a type that doesn't take any parameters)\n",
    "* `* -> *` means: **\"type constructor that takes a single concrete type and returns another concrete type\"**\n",
    "* `* -> (* -> *) -> *` means: **\"type constructor that takes one concrete type, and one single-paramter type constructor, and returns a concrete type\"**\n",
    "* And so on..."
   ]
  },
  {
   "cell_type": "markdown",
   "metadata": {},
   "source": [
    "Examples:"
   ]
  },
  {
   "cell_type": "markdown",
   "metadata": {},
   "source": [
    "`Int`, `String`, and other like them are concrete types."
   ]
  },
  {
   "cell_type": "code",
   "execution_count": null,
   "metadata": {
    "vscode": {
     "languageId": "plaintext"
    }
   },
   "outputs": [],
   "source": [
    ":k Int -- Concrete type"
   ]
  },
  {
   "cell_type": "markdown",
   "metadata": {},
   "source": [
    "`Box`, `Entity`, and `[]` (lists) all take a concrete type (`String`, `Int`, doesn't matter), and return a concrete type (`Box Int`, `Entity String`, `[Float]`)."
   ]
  },
  {
   "cell_type": "code",
   "execution_count": null,
   "metadata": {
    "vscode": {
     "languageId": "plaintext"
    }
   },
   "outputs": [],
   "source": [
    ":k Box -- Type constructor with one concrete type as parameter"
   ]
  },
  {
   "cell_type": "markdown",
   "metadata": {},
   "source": [
    "Notice that as soon as a type constructor gets all its parameters, it becomes a concrete type:"
   ]
  },
  {
   "cell_type": "code",
   "execution_count": null,
   "metadata": {
    "vscode": {
     "languageId": "plaintext"
    }
   },
   "outputs": [],
   "source": [
    ":k Box String"
   ]
  },
  {
   "cell_type": "markdown",
   "metadata": {},
   "source": [
    "And that you can also partially-apply type constructors same as with functions!:"
   ]
  },
  {
   "cell_type": "code",
   "execution_count": null,
   "metadata": {
    "vscode": {
     "languageId": "plaintext"
    }
   },
   "outputs": [],
   "source": [
    "data DoubleBox a b = Empty | Has a b deriving (Show)\n",
    "\n",
    ":k DoubleBox\n",
    ":k DoubleBox String\n",
    ":k DoubleBox String Int"
   ]
  },
  {
   "cell_type": "markdown",
   "metadata": {},
   "source": [
    "So, next time you need to know a bit more about a type, check its kind!"
   ]
  },
  {
   "cell_type": "markdown",
   "metadata": {},
   "source": [
    "And that's it! Let's do a quick recap:"
   ]
  },
  {
   "cell_type": "markdown",
   "metadata": {},
   "source": [
    "## Recap"
   ]
  },
  {
   "cell_type": "markdown",
   "metadata": {},
   "source": [
    "* "
   ]
  },
  {
   "cell_type": "markdown",
   "metadata": {},
   "source": [
    "* "
   ]
  },
  {
   "cell_type": "markdown",
   "metadata": {},
   "source": [
    "* "
   ]
  },
  {
   "cell_type": "markdown",
   "metadata": {},
   "source": [
    "* "
   ]
  },
  {
   "cell_type": "markdown",
   "metadata": {},
   "source": [
    "* "
   ]
  },
  {
   "cell_type": "markdown",
   "metadata": {},
   "source": [
    "* "
   ]
  }
 ],
 "metadata": {
  "kernelspec": {
   "display_name": "Haskell",
   "language": "haskell",
   "name": "haskell"
  },
  "language_info": {
   "codemirror_mode": "ihaskell",
   "file_extension": ".hs",
   "mimetype": "text/x-haskell",
   "name": "haskell",
   "pygments_lexer": "Haskell",
   "version": "8.10.7"
  }
 },
 "nbformat": 4,
 "nbformat_minor": 4
}
