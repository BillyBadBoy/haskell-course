{
 "cells": [
  {
   "cell_type": "markdown",
   "metadata": {},
   "source": [
    "# Basic I/O"
   ]
  },
  {
   "cell_type": "markdown",
   "metadata": {},
   "source": [
    "## Outline\n",
    "\n",
    "* Intro to impure functions\n",
    "\n",
    "* Basic IO actions\n",
    "\n",
    "* Composing IO actions\n",
    "\n",
    "* The do block\n",
    "\n",
    "* Recap"
   ]
  },
  {
   "cell_type": "markdown",
   "metadata": {},
   "source": [
    "## Intro to impure functions"
   ]
  },
  {
   "cell_type": "markdown",
   "metadata": {},
   "source": [
    "As we saw in lesson 1, Haskell is a purely functional language. This means that for every function, **only** its arguments determine what the outcome will be.\n",
    "\n",
    "But this is quite limiting for a program in the real world where we want an application to process data from outside the program and provide results back. "
   ]
  },
  {
   "cell_type": "markdown",
   "metadata": {},
   "source": [
    "The reason why we can not access data from outside the program in pure functions is that the final result may not be determined only by the function arguments but also the outside data.\n",
    "\n",
    "Still we want programs to be interactive, and they should definitely change things outside the scope of the program.\n",
    "\n",
    "The interactions and changes outside the scope of a function are called **side effects**. "
   ]
  },
  {
   "cell_type": "markdown",
   "metadata": {},
   "source": [
    "Say we have a function that fetches the time and logs it into a file. \n",
    "\n",
    "Each time we call this function we give it no inputs and get no outputs back. \n",
    "\n",
    "We only observe the side effect of the file that is changed. "
   ]
  },
  {
   "cell_type": "markdown",
   "metadata": {},
   "source": [
    "This function is called **impure**. As a recap:\n",
    "\n",
    "| Pure | Impure |\n",
    "| --- | --- |\n",
    "| Always produces the same result when given the same parameters | May produce different results for the same parameters |\n",
    "| Never has side effect | May have side effects |\n",
    "| Never alters state | May alter the global state of the program, system, or world |"
   ]
  },
  {
   "cell_type": "markdown",
   "metadata": {},
   "source": [
    "## Basic IO actions"
   ]
  },
  {
   "cell_type": "markdown",
   "metadata": {},
   "source": [
    "Haskell strictly separates pure code from the impure interactions with things outside the program. \n",
    "\n",
    "Because we would still like our Haskell programs to alter the world outside our program, we can do this via **IO actions** denoted by `IO a`."
   ]
  },
  {
   "cell_type": "markdown",
   "metadata": {},
   "source": [
    "Because also **IO actions** can take in arguments as pure functions we sometimes call them **IO functions** or **impure functions**. \n",
    "\n",
    "But strictly speaking all functions in Haskell are pure functions and the rest are IO actions."
   ]
  },
  {
   "cell_type": "markdown",
   "metadata": {},
   "source": [
    "All these impure functions include a type that is marked with the `IO` wrapper followed by a type parameter `a`. \n",
    "\n",
    "This tells us that the impure function may first performs some computation with possible side effects and then return something of type `a` wrapped in the `IO` context."
   ]
  },
  {
   "cell_type": "markdown",
   "metadata": {},
   "source": [
    "Inside IO actions it is possible to call pure functions and/or other IO actions. But you can never call an IO action inside of a pure function."
   ]
  },
  {
   "cell_type": "markdown",
   "metadata": {},
   "source": [
    "### Printing messages to the user"
   ]
  },
  {
   "cell_type": "markdown",
   "metadata": {},
   "source": [
    "Let's first look at the `putStrLn` function, which takes as input a string and writes it to StdOut (standard output), that gets displyed in a terminal if we run the code from there.\n",
    "```haskell\n",
    "putStrLn :: String -> IO ()\n",
    "```\n",
    "This function returns a IO type variable parameterized by `()`. "
   ]
  },
  {
   "cell_type": "markdown",
   "metadata": {},
   "source": [
    "The `()` variable here is an empty tuple. Since it has zero elements it can only be one thing, namely nothing.\n",
    "\n",
    "This indicates that the IO action does not return any meanigful result and is performing only side effects."
   ]
  },
  {
   "cell_type": "markdown",
   "metadata": {},
   "source": [
    "If you want to use this function in a compiled Haskell program you have to call it from a IO action. In jupyter cells that behave like the Haskell REPL it works also calling it directly.\n",
    "\n",
    "We ussually have a function called main in our Haskell programs that is of type `IO ()`. Inside of it wa can call the `putStrLn` function."
   ]
  },
  {
   "cell_type": "code",
   "execution_count": null,
   "metadata": {},
   "outputs": [],
   "source": [
    "-- An IO action that perform the action of printing \"Hello World\".\n",
    "main :: IO ()\n",
    "main = putStrLn \"Hello World\"\n",
    "main"
   ]
  },
  {
   "cell_type": "markdown",
   "metadata": {},
   "source": [
    "If you load a Haskell file in GHCi with the `:l` command the file does not have to contain the `main` function.\n",
    "\n",
    "If you would try to compile a single Haskell file that does not contain the `main` function you would get a compilation error.\n",
    "\n",
    "The main function is by default the one which gets started when you run a compiled program."
   ]
  },
  {
   "cell_type": "markdown",
   "metadata": {},
   "source": [
    "Below is an example of when we call a pure function inside an IO action that also takes in a parameter."
   ]
  },
  {
   "cell_type": "code",
   "execution_count": null,
   "metadata": {},
   "outputs": [],
   "source": [
    "-- A pure function that prepends the string \"Hello \" to another string\n",
    "addHello :: String -> String\n",
    "addHello string = \"Hello \" ++ string\n",
    "\n",
    "-- Using the putStrLn function in the definition of an IO action.\n",
    "newPutStrLn :: String -> IO ()\n",
    "newPutStrLn name = putStrLn (addHello name)\n",
    "\n",
    "newPutStrLn \"John\""
   ]
  },
  {
   "cell_type": "markdown",
   "metadata": {},
   "source": [
    "Since we used the IO action `putStrLn` inside the function `newPutStrLn` is has to be labeled as an IO action, which is indicated by the type of the return variable.\n",
    "\n",
    "We see that we can **never** escape the `IO` wrapper once we used it inside of a function."
   ]
  },
  {
   "cell_type": "markdown",
   "metadata": {},
   "source": [
    "### Retrieving input data from the user"
   ]
  },
  {
   "cell_type": "markdown",
   "metadata": {},
   "source": [
    "We can retrieve some data from the user with the `getLine` action.\n",
    "```haskell\n",
    "getLine :: IO String\n",
    "```\n",
    "It asks for input from the user by taking some StdIn (standard input) and returns a string."
   ]
  },
  {
   "cell_type": "markdown",
   "metadata": {},
   "source": [
    "In the code below we see how the programm asks the user for some input."
   ]
  },
  {
   "cell_type": "code",
   "execution_count": null,
   "metadata": {},
   "outputs": [],
   "source": [
    "main :: IO String\n",
    "main = getLine\n",
    "\n",
    "main"
   ]
  },
  {
   "cell_type": "markdown",
   "metadata": {},
   "source": [
    "### Reading from the file system"
   ]
  },
  {
   "cell_type": "markdown",
   "metadata": {},
   "source": [
    "The last example we will show here is the `listDirectory` which is located in the module `System.Directory`. \n",
    "```haskell\n",
    "listDirectory :: FilePath -> IO [FilePath]\n",
    "type FilePath = String\n",
    "```\n",
    "It takes in a string that represents the file path to a folder and returns an IO list of strings that are the files and folders contained in the input folder. "
   ]
  },
  {
   "cell_type": "markdown",
   "metadata": {},
   "source": [
    "Modules are boundles of Haskell functions that are not avaiable by default unless we import them. We will talk more about this in lesson 11.\n",
    "\n",
    "Here we show a simple example of how to import this function from its module and use it. "
   ]
  },
  {
   "cell_type": "code",
   "execution_count": null,
   "metadata": {},
   "outputs": [],
   "source": [
    "import System.Directory (listDirectory)\n",
    "\n",
    "-- The \".\" input refers to the current jupyter working directory (week02)\n",
    "main :: IO [String]\n",
    "main = listDirectory \".\"\n",
    "\n",
    "main"
   ]
  },
  {
   "cell_type": "markdown",
   "metadata": {},
   "source": [
    "## Composing IO actions"
   ]
  },
  {
   "cell_type": "markdown",
   "metadata": {},
   "source": [
    "Now that we can use actions to do useful side effects outside our program, we would like to be able to compose two IO actions.\n",
    "\n",
    "We could try to use another `IO a` as an input to get a function of type `IO a -> IO b`. "
   ]
  },
  {
   "cell_type": "code",
   "execution_count": null,
   "metadata": {},
   "outputs": [],
   "source": [
    "-- An IO action that perform the action of printing \"Hello\". \n",
    "someIOType :: IO ()\n",
    "someIOType = putStrLn \"Hello\"\n",
    "\n",
    "-- A naive and wrong function that can combine two IO () actions\n",
    "combineIO :: IO () -> IO ()\n",
    "combineIO io = putStrLn \"world\"\n",
    "\n",
    "combineIO someIOType"
   ]
  },
  {
   "cell_type": "markdown",
   "metadata": {},
   "source": [
    "This program works but it does not print the *Hello* string. The `someIOType` action is not being performed.\n",
    "\n",
    "This is because the input `IO ()` is not being used in the body of the function, so it is not being evaluated. "
   ]
  },
  {
   "cell_type": "markdown",
   "metadata": {},
   "source": [
    "But how can we call this IO action on the right side? To solve this, we introduce two new operators: \n",
    "- the **sequence** operator given by `>>`\n",
    "\n",
    "- the **bind** operator given by `>>=`"
   ]
  },
  {
   "cell_type": "markdown",
   "metadata": {},
   "source": [
    "These operators allow for the composition of IO actions. Their properties are: \n",
    "\n",
    "| `>>` | `>>=` |\n",
    "| --- | --- |\n",
    "| Composes two IO actions | Composes two IO actions |\n",
    "| Does not forward the return type | Forwards the return type |"
   ]
  },
  {
   "cell_type": "markdown",
   "metadata": {},
   "source": [
    "We first look at an example how the `>>` operator works."
   ]
  },
  {
   "cell_type": "code",
   "execution_count": null,
   "metadata": {},
   "outputs": [],
   "source": [
    "-- A new expression that is of type IO ()\n",
    "printHello :: IO ()\n",
    "printHello = putStrLn \"Hello \" \n",
    "\n",
    "-- A new expression that is of type IO ()\n",
    "printWorld :: IO ()\n",
    "printWorld = putStrLn \"World\"\n",
    "\n",
    "--Combining the above IO actions\n",
    "main :: IO ()\n",
    "main = printHello >> printWorld\n",
    "\n",
    "main"
   ]
  },
  {
   "cell_type": "markdown",
   "metadata": {},
   "source": [
    "Here, the `printHello` first performs some side effect and then the `printWorld` action performs its side effect. \n",
    "\n",
    "The arrows of the operator `>>` indicate the flow of the action that is in which order they are performed. "
   ]
  },
  {
   "cell_type": "markdown",
   "metadata": {},
   "source": [
    "We could say the type signature for the sequence operator is:\n",
    "```haskell\n",
    "(>>) :: IO a -> IO b -> IO b\n",
    "```\n",
    "It takes two IO actions, performs both and returns the result of the second one."
   ]
  },
  {
   "cell_type": "markdown",
   "metadata": {},
   "source": [
    "But the actual type signature is:\n",
    "```haskell\n",
    "(>>) :: m a -> m b -> m b\n",
    "```\n",
    "where `m` represents the monad type class, which IO has an instance of. We will talk about this type class in lesson 19."
   ]
  },
  {
   "cell_type": "markdown",
   "metadata": {},
   "source": [
    "Next we look at an example of the `>>=` operator works."
   ]
  },
  {
   "cell_type": "code",
   "execution_count": null,
   "metadata": {},
   "outputs": [],
   "source": [
    "printHelloName :: String -> IO ()\n",
    "printHelloName name = putStrLn (\"Hello \" ++ name)\n",
    "\n",
    "main :: IO ()\n",
    "main = getLine >>= printHelloName"
   ]
  },
  {
   "cell_type": "markdown",
   "metadata": {},
   "source": [
    "We see how we get the input string with the `getLine` function and then pass it on to the `printHelloName` function.\n",
    "\n",
    "**IMPORTANT:** The bind operator also removes the `IO` context from the `IO String` variable and passes ony a variable of type `String` forward."
   ]
  },
  {
   "cell_type": "markdown",
   "metadata": {},
   "source": [
    "Also here we could say the type signature for the bind operator is:\n",
    "```haskell\n",
    "(>>=) :: IO a -> (a -> IO b) -> IO b\n",
    "```\n",
    "It takes in an IO action that it performs and hands the result without the IO context to a function that produces another IO action."
   ]
  },
  {
   "cell_type": "markdown",
   "metadata": {},
   "source": [
    "The actual type signature is:\n",
    "```haskell\n",
    "(>>=) :: m a -> (a -> m b) -> m b\n",
    "```\n",
    "and also here `m` represents the monad type class."
   ]
  },
  {
   "cell_type": "markdown",
   "metadata": {},
   "source": [
    "Another example of the bind operator can be seen below."
   ]
  },
  {
   "cell_type": "code",
   "execution_count": null,
   "metadata": {},
   "outputs": [],
   "source": [
    "import System.Directory (listDirectory)\n",
    "\n",
    "-- A new expression that is of type IO ()\n",
    "getFiles :: IO [FilePath]\n",
    "getFiles = listDirectory \".\" \n",
    "\n",
    "-- A new expression that is of type IO ()\n",
    "printFirstFile :: [FilePath] -> IO ()\n",
    "printFirstFile = print . head \n",
    "\n",
    "--Combining the above IO actions with forwarding the\n",
    "main :: IO ()\n",
    "main = getFiles >>= printFirstFile\n",
    "\n",
    "main"
   ]
  },
  {
   "cell_type": "markdown",
   "metadata": {},
   "source": [
    "Here we used `print` which is also an IO action instead of `putStrLn` to show the first element of the list of file paths. \n",
    "```haskell\n",
    "print :: Show a => a -> IO ()\n",
    "```\n",
    "This function automatically converts a type to a string and sends it to StOut, which can save us writing syntax."
   ]
  },
  {
   "cell_type": "markdown",
   "metadata": {},
   "source": [
    "## The do block"
   ]
  },
  {
   "cell_type": "markdown",
   "metadata": {},
   "source": [
    "Now that we know how to compose actions, we are going to generalize this with the so called **do block**. \n",
    "\n",
    "To introduce the necessity and reasons behind this useful syntax, we look at a few examples. "
   ]
  },
  {
   "cell_type": "markdown",
   "metadata": {},
   "source": [
    "First, consider the composition of many actions via the then operator `>>`."
   ]
  },
  {
   "cell_type": "code",
   "execution_count": null,
   "metadata": {},
   "outputs": [],
   "source": [
    "--  IO ()              IO String           IO ()\n",
    "putStrLn \"Action one\" >> getLine >> putStrLn \"Action three\""
   ]
  },
  {
   "cell_type": "markdown",
   "metadata": {},
   "source": [
    "Here each action is **sequentially** performed, the first and last concatenated actions print “Action one” and “Action three” respectively. \n",
    "\n",
    "The middle action asks for input, which performs no output to the console at all."
   ]
  },
  {
   "cell_type": "markdown",
   "metadata": {},
   "source": [
    "Let's look at how this pattern would work for the bind operator `>>=`."
   ]
  },
  {
   "cell_type": "code",
   "execution_count": null,
   "metadata": {},
   "outputs": [],
   "source": [
    "import System.Directory (listDirectory)\n",
    "\n",
    "-- A new expression that is of type IO ()\n",
    "getFiles :: IO [FilePath]\n",
    "getFiles = listDirectory \".\" \n",
    "\n",
    "-- A new expression that is of type IO ()\n",
    "printFirstFile :: [FilePath] -> IO ()\n",
    "printFirstFile = print . head \n",
    "\n",
    "-- A new expression that is of type IO ()\n",
    "printLastFile :: [FilePath] -> IO ()\n",
    "printLastFile = print . last \n",
    "\n",
    "main :: IO ()\n",
    "main = getFiles >>= printFirstFile >>= printLastFile\n",
    "\n",
    "main"
   ]
  },
  {
   "cell_type": "markdown",
   "metadata": {},
   "source": [
    "The compiler gives an error since we are incorrectly matching the types of the functions used! \n",
    "\n",
    "The function `printFirstFile` returns a `()` while the `printLastFile` function expects a `[FilePath]`."
   ]
  },
  {
   "cell_type": "markdown",
   "metadata": {},
   "source": [
    "Somehow we need to manage how inputs and outputs of these functions are used. \n",
    "\n",
    "Ideally we would like the `printLastFile` function to use the output of the `getFiles` function. "
   ]
  },
  {
   "cell_type": "markdown",
   "metadata": {},
   "source": [
    "Achieving this can be done with lambda functions, that we saw in lesson 5. As a small recap, they take the form"
   ]
  },
  {
   "cell_type": "code",
   "execution_count": null,
   "metadata": {},
   "outputs": [],
   "source": [
    "(\\x -> 2*x + 1) 1 -- Here the lambda function (\\x -> 2*x + 1) is applied to the argument 1"
   ]
  },
  {
   "cell_type": "markdown",
   "metadata": {},
   "source": [
    "Using this, we can combine the action while making the inputs **progressively** available to the other actions inline. \n",
    "\n",
    "We do this by adding the actions in order to a lambda function. The following example achieves what we wanted:"
   ]
  },
  {
   "cell_type": "code",
   "execution_count": null,
   "metadata": {},
   "outputs": [],
   "source": [
    "import System.Directory (listDirectory)\n",
    "\n",
    "-- A new expression that is of type IO ()\n",
    "getFiles :: IO [FilePath]\n",
    "getFiles = listDirectory \".\" \n",
    "\n",
    "-- A new expression that is of type IO ()\n",
    "printFirstFile :: [FilePath] -> IO ()\n",
    "printFirstFile = print . head \n",
    "\n",
    "-- A new expression that is of type IO ()\n",
    "printLastFile :: [FilePath] -> IO ()\n",
    "printLastFile = print . last \n",
    "\n",
    "main :: IO ()\n",
    "main = getFiles >>= (\\x1 -> printFirstFile x1 >> printLastFile x1)\n",
    "\n",
    "main"
   ]
  },
  {
   "cell_type": "markdown",
   "metadata": {},
   "source": [
    "Here we first forward the output of the `grabFiles` action denoted by `x1` into a lambda function. \n",
    "\n",
    "Then in the lambda function we call `printFirstFile` and `printLastFile` and chain them together with `>>`."
   ]
  },
  {
   "cell_type": "markdown",
   "metadata": {},
   "source": [
    "Notice that with this construction, all inputs become available to functions that need to use them. \n",
    "\n",
    "Now, clearly this construction is very cumbersome and not practical in real life coding!"
   ]
  },
  {
   "cell_type": "markdown",
   "metadata": {},
   "source": [
    "That's why to make it easier this whole construction is done by a **do block**. This is just some syntactic sugar that does the above construction. \n",
    "\n",
    "This block looks just like an imperative way of programming, but in its core it is still functional by using lambda functions. "
   ]
  },
  {
   "cell_type": "markdown",
   "metadata": {},
   "source": [
    "Let's re-write the previous main function in a do block:"
   ]
  },
  {
   "cell_type": "code",
   "execution_count": null,
   "metadata": {},
   "outputs": [],
   "source": [
    "-- The introduction of the do block\n",
    "main :: IO ()\n",
    "main = do\n",
    "   x1 <- getFiles\n",
    "   printFirstFile x1\n",
    "   printLastFile x1\n",
    "\n",
    "main"
   ]
  },
  {
   "cell_type": "markdown",
   "metadata": {},
   "source": [
    "In a do block, each line can perform some action. In the above example, the do block is called by `do` followed by the first action `getFiles`. \n",
    "\n",
    "This action is performed, and its output is stored in the variable `x1` using the syntactic arrow `<-`. "
   ]
  },
  {
   "cell_type": "markdown",
   "metadata": {},
   "source": [
    "Then the next action `printFirstFile` is performed with as input the variable `x1`. \n",
    "\n",
    "Lastly, the action `printLastFile` is called with also as input `x1`. "
   ]
  },
  {
   "cell_type": "markdown",
   "metadata": {},
   "source": [
    "This do block  is fundamentally the same as the previous example that used a lambda function. \n",
    "\n",
    "With these do blocks, we can write clearly structured code that performs multiple side effect. "
   ]
  },
  {
   "cell_type": "markdown",
   "metadata": {},
   "source": [
    "Inside a do block, you can also define let and where bindings define variables in the block."
   ]
  },
  {
   "cell_type": "code",
   "execution_count": null,
   "metadata": {},
   "outputs": [],
   "source": [
    "main :: IO ()\n",
    "main = do fileList <- getFiles\n",
    "          let elemOne = fileList !! 1 -- take the 2nd elemet from the list\n",
    "          print elemOne\n",
    "\n",
    "main "
   ]
  },
  {
   "cell_type": "markdown",
   "metadata": {},
   "source": [
    "Also for the `let` keyword lambda functions are used in the de-sugared code:"
   ]
  },
  {
   "cell_type": "code",
   "execution_count": null,
   "metadata": {},
   "outputs": [],
   "source": [
    "main :: IO ()\n",
    "main = getFiles >>= (\\x1 -> (\\x2 -> print x2) (x1 !! 1))\n",
    "\n",
    "main"
   ]
  },
  {
   "cell_type": "markdown",
   "metadata": {},
   "source": [
    "The `let` keyword allows you also to define functions beside variable. The previous example can be re-written to:"
   ]
  },
  {
   "cell_type": "code",
   "execution_count": null,
   "metadata": {},
   "outputs": [],
   "source": [
    "main :: IO ()\n",
    "main = do fileList <- getFiles\n",
    "          let elemOne xs = xs !! 1 -- elemOne is now a function\n",
    "          print $ elemOne fileList\n",
    "\n",
    "main "
   ]
  },
  {
   "cell_type": "markdown",
   "metadata": {},
   "source": [
    "### Nesting do-blocks"
   ]
  },
  {
   "cell_type": "markdown",
   "metadata": {},
   "source": [
    "It may not apear obvious but do-blocks can be nested. Here is an example:"
   ]
  },
  {
   "cell_type": "code",
   "execution_count": null,
   "metadata": {},
   "outputs": [],
   "source": [
    "import Data.Char ( isDigit )\n",
    "\n",
    "main :: IO ()\n",
    "main = do\n",
    "    putStrLn \"What is your age:\"\n",
    "    ageString <- getLine\n",
    "    let validAge = all isDigit ageString\n",
    "    if validAge\n",
    "    then do\n",
    "        let age = read ageString :: Int\n",
    "            msg = \"Int 10 years you will be \" ++ show (age + 10) ++ \" years old.\"\n",
    "        putStrLn msg \n",
    "    else do\n",
    "        putStrLn \"Your age should contain only digits from 0-9.\"\n",
    "        main"
   ]
  },
  {
   "cell_type": "markdown",
   "metadata": {},
   "source": [
    "We import the `isDigit` function that checks weather a character is a number or not.\n",
    "```haskell\n",
    "isDigit :: Char -> Bool\n",
    "```"
   ]
  },
  {
   "cell_type": "markdown",
   "metadata": {},
   "source": [
    "The we ask the user to input his age and after that define an if-statement which contains two different do-blocks.\n",
    "\n",
    "If the input string contains only numbers we print a message how much will be the users age in 10 years.\n",
    "\n",
    "If it does not contain only numbers then we notify the user and start the program from the beginning. "
   ]
  },
  {
   "cell_type": "markdown",
   "metadata": {},
   "source": [
    "Also you may noticed in the `then` do-block we define two variable but use the `let` keyword only once.\n",
    "\n",
    "This is allowed in Haskell if they have same indentation and follow one after each other. Then you need to write `let` only for the first variable."
   ]
  },
  {
   "cell_type": "markdown",
   "metadata": {},
   "source": [
    "## Recap"
   ]
  },
  {
   "cell_type": "markdown",
   "metadata": {},
   "source": [
    "In this section, we have introduced the concepts of IO actions. \n",
    "\n",
    "- Haskell knows two types of functions, pure and impure function, the latter are called IO actions.\n",
    "\n",
    "- These types of impure function are wrapped and marked by `IO` and may perform useful side effects. \n",
    "\n",
    "- Once you use a function or variable type that is wrapped in IO, the function inside of which you use it has to be wrapped in IO. \n",
    "\n",
    "- IO actions can be composed using two operators, the sequence operator denoted by `>>` and the bind operator denoted by `>>=`.\n",
    "\n",
    "- The do block let you easily compose multiple actions and can be nested."
   ]
  }
 ],
 "metadata": {
  "kernelspec": {
   "display_name": "Haskell",
   "language": "haskell",
   "name": "haskell"
  },
  "language_info": {
   "codemirror_mode": "ihaskell",
   "file_extension": ".hs",
   "mimetype": "text/x-haskell",
   "name": "haskell",
   "pygments_lexer": "Haskell",
   "version": "8.10.7"
  }
 },
 "nbformat": 4,
 "nbformat_minor": 4
}
